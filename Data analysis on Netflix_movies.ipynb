{
 "cells": [
  {
   "cell_type": "code",
   "execution_count": 42,
   "metadata": {},
   "outputs": [],
   "source": [
    "import pandas as pd\n",
    "import matplotlib.pyplot as plt\n",
    "import seaborn as sns\n",
    "import plotly.express as px"
   ]
  },
  {
   "cell_type": "code",
   "execution_count": 18,
   "metadata": {},
   "outputs": [
    {
     "data": {
      "text/html": [
       "<div>\n",
       "<style scoped>\n",
       "    .dataframe tbody tr th:only-of-type {\n",
       "        vertical-align: middle;\n",
       "    }\n",
       "\n",
       "    .dataframe tbody tr th {\n",
       "        vertical-align: top;\n",
       "    }\n",
       "\n",
       "    .dataframe thead th {\n",
       "        text-align: right;\n",
       "    }\n",
       "</style>\n",
       "<table border=\"1\" class=\"dataframe\">\n",
       "  <thead>\n",
       "    <tr style=\"text-align: right;\">\n",
       "      <th></th>\n",
       "      <th>Title</th>\n",
       "      <th>Genre</th>\n",
       "      <th>Premiere</th>\n",
       "      <th>Runtime</th>\n",
       "      <th>IMDB Score</th>\n",
       "      <th>Language</th>\n",
       "    </tr>\n",
       "  </thead>\n",
       "  <tbody>\n",
       "    <tr>\n",
       "      <th>0</th>\n",
       "      <td>Enter the Anime</td>\n",
       "      <td>Documentary</td>\n",
       "      <td>5-Aug-19</td>\n",
       "      <td>58</td>\n",
       "      <td>2.5</td>\n",
       "      <td>English/Japanese</td>\n",
       "    </tr>\n",
       "    <tr>\n",
       "      <th>1</th>\n",
       "      <td>Dark Forces</td>\n",
       "      <td>Thriller</td>\n",
       "      <td>21-Aug-20</td>\n",
       "      <td>81</td>\n",
       "      <td>2.6</td>\n",
       "      <td>Spanish</td>\n",
       "    </tr>\n",
       "    <tr>\n",
       "      <th>2</th>\n",
       "      <td>The App</td>\n",
       "      <td>Science fiction/Drama</td>\n",
       "      <td>26-Dec-19</td>\n",
       "      <td>79</td>\n",
       "      <td>2.6</td>\n",
       "      <td>Italian</td>\n",
       "    </tr>\n",
       "    <tr>\n",
       "      <th>3</th>\n",
       "      <td>The Open House</td>\n",
       "      <td>Horror thriller</td>\n",
       "      <td>19-Jan-18</td>\n",
       "      <td>94</td>\n",
       "      <td>3.2</td>\n",
       "      <td>English</td>\n",
       "    </tr>\n",
       "    <tr>\n",
       "      <th>4</th>\n",
       "      <td>Kaali Khuhi</td>\n",
       "      <td>Mystery</td>\n",
       "      <td>30-Oct-20</td>\n",
       "      <td>90</td>\n",
       "      <td>3.4</td>\n",
       "      <td>Hindi</td>\n",
       "    </tr>\n",
       "    <tr>\n",
       "      <th>...</th>\n",
       "      <td>...</td>\n",
       "      <td>...</td>\n",
       "      <td>...</td>\n",
       "      <td>...</td>\n",
       "      <td>...</td>\n",
       "      <td>...</td>\n",
       "    </tr>\n",
       "    <tr>\n",
       "      <th>579</th>\n",
       "      <td>Taylor Swift: Reputation Stadium Tour</td>\n",
       "      <td>Concert Film</td>\n",
       "      <td>31-Dec-18</td>\n",
       "      <td>125</td>\n",
       "      <td>8.4</td>\n",
       "      <td>English</td>\n",
       "    </tr>\n",
       "    <tr>\n",
       "      <th>580</th>\n",
       "      <td>Winter on Fire: Ukraine's Fight for Freedom</td>\n",
       "      <td>Documentary</td>\n",
       "      <td>9-Oct-15</td>\n",
       "      <td>91</td>\n",
       "      <td>8.4</td>\n",
       "      <td>English/Ukranian/Russian</td>\n",
       "    </tr>\n",
       "    <tr>\n",
       "      <th>581</th>\n",
       "      <td>Springsteen on Broadway</td>\n",
       "      <td>One-man show</td>\n",
       "      <td>16-Dec-18</td>\n",
       "      <td>153</td>\n",
       "      <td>8.5</td>\n",
       "      <td>English</td>\n",
       "    </tr>\n",
       "    <tr>\n",
       "      <th>582</th>\n",
       "      <td>Emicida: AmarElo - It's All For Yesterday</td>\n",
       "      <td>Documentary</td>\n",
       "      <td>8-Dec-20</td>\n",
       "      <td>89</td>\n",
       "      <td>8.6</td>\n",
       "      <td>Portuguese</td>\n",
       "    </tr>\n",
       "    <tr>\n",
       "      <th>583</th>\n",
       "      <td>David Attenborough: A Life on Our Planet</td>\n",
       "      <td>Documentary</td>\n",
       "      <td>4-Oct-20</td>\n",
       "      <td>83</td>\n",
       "      <td>9.0</td>\n",
       "      <td>English</td>\n",
       "    </tr>\n",
       "  </tbody>\n",
       "</table>\n",
       "<p>584 rows × 6 columns</p>\n",
       "</div>"
      ],
      "text/plain": [
       "                                           Title                  Genre  \\\n",
       "0                                Enter the Anime            Documentary   \n",
       "1                                    Dark Forces               Thriller   \n",
       "2                                        The App  Science fiction/Drama   \n",
       "3                                 The Open House        Horror thriller   \n",
       "4                                    Kaali Khuhi                Mystery   \n",
       "..                                           ...                    ...   \n",
       "579        Taylor Swift: Reputation Stadium Tour           Concert Film   \n",
       "580  Winter on Fire: Ukraine's Fight for Freedom            Documentary   \n",
       "581                      Springsteen on Broadway           One-man show   \n",
       "582    Emicida: AmarElo - It's All For Yesterday            Documentary   \n",
       "583     David Attenborough: A Life on Our Planet            Documentary   \n",
       "\n",
       "      Premiere  Runtime  IMDB Score                  Language  \n",
       "0     5-Aug-19       58         2.5          English/Japanese  \n",
       "1    21-Aug-20       81         2.6                   Spanish  \n",
       "2    26-Dec-19       79         2.6                   Italian  \n",
       "3    19-Jan-18       94         3.2                   English  \n",
       "4    30-Oct-20       90         3.4                     Hindi  \n",
       "..         ...      ...         ...                       ...  \n",
       "579  31-Dec-18      125         8.4                   English  \n",
       "580   9-Oct-15       91         8.4  English/Ukranian/Russian  \n",
       "581  16-Dec-18      153         8.5                   English  \n",
       "582   8-Dec-20       89         8.6                Portuguese  \n",
       "583   4-Oct-20       83         9.0                   English  \n",
       "\n",
       "[584 rows x 6 columns]"
      ]
     },
     "execution_count": 18,
     "metadata": {},
     "output_type": "execute_result"
    }
   ],
   "source": [
    "netflix_orginal_df = pd.read_csv(\"NetflixOriginals.csv\",encoding = \"ISO-8859-1\")\n",
    "netflix_orginal_df"
   ]
  },
  {
   "cell_type": "code",
   "execution_count": 19,
   "metadata": {},
   "outputs": [
    {
     "data": {
      "text/html": [
       "<div>\n",
       "<style scoped>\n",
       "    .dataframe tbody tr th:only-of-type {\n",
       "        vertical-align: middle;\n",
       "    }\n",
       "\n",
       "    .dataframe tbody tr th {\n",
       "        vertical-align: top;\n",
       "    }\n",
       "\n",
       "    .dataframe thead th {\n",
       "        text-align: right;\n",
       "    }\n",
       "</style>\n",
       "<table border=\"1\" class=\"dataframe\">\n",
       "  <thead>\n",
       "    <tr style=\"text-align: right;\">\n",
       "      <th></th>\n",
       "      <th>Runtime</th>\n",
       "      <th>IMDB Score</th>\n",
       "    </tr>\n",
       "  </thead>\n",
       "  <tbody>\n",
       "    <tr>\n",
       "      <th>count</th>\n",
       "      <td>584.000000</td>\n",
       "      <td>584.000000</td>\n",
       "    </tr>\n",
       "    <tr>\n",
       "      <th>mean</th>\n",
       "      <td>93.577055</td>\n",
       "      <td>6.271747</td>\n",
       "    </tr>\n",
       "    <tr>\n",
       "      <th>std</th>\n",
       "      <td>27.761683</td>\n",
       "      <td>0.979256</td>\n",
       "    </tr>\n",
       "    <tr>\n",
       "      <th>min</th>\n",
       "      <td>4.000000</td>\n",
       "      <td>2.500000</td>\n",
       "    </tr>\n",
       "    <tr>\n",
       "      <th>25%</th>\n",
       "      <td>86.000000</td>\n",
       "      <td>5.700000</td>\n",
       "    </tr>\n",
       "    <tr>\n",
       "      <th>50%</th>\n",
       "      <td>97.000000</td>\n",
       "      <td>6.350000</td>\n",
       "    </tr>\n",
       "    <tr>\n",
       "      <th>75%</th>\n",
       "      <td>108.000000</td>\n",
       "      <td>7.000000</td>\n",
       "    </tr>\n",
       "    <tr>\n",
       "      <th>max</th>\n",
       "      <td>209.000000</td>\n",
       "      <td>9.000000</td>\n",
       "    </tr>\n",
       "  </tbody>\n",
       "</table>\n",
       "</div>"
      ],
      "text/plain": [
       "          Runtime  IMDB Score\n",
       "count  584.000000  584.000000\n",
       "mean    93.577055    6.271747\n",
       "std     27.761683    0.979256\n",
       "min      4.000000    2.500000\n",
       "25%     86.000000    5.700000\n",
       "50%     97.000000    6.350000\n",
       "75%    108.000000    7.000000\n",
       "max    209.000000    9.000000"
      ]
     },
     "execution_count": 19,
     "metadata": {},
     "output_type": "execute_result"
    }
   ],
   "source": [
    "netflix_orginal_df.describe()"
   ]
  },
  {
   "cell_type": "code",
   "execution_count": 20,
   "metadata": {},
   "outputs": [
    {
     "data": {
      "text/plain": [
       "Title         0\n",
       "Genre         0\n",
       "Premiere      0\n",
       "Runtime       0\n",
       "IMDB Score    0\n",
       "Language      0\n",
       "dtype: int64"
      ]
     },
     "execution_count": 20,
     "metadata": {},
     "output_type": "execute_result"
    }
   ],
   "source": [
    "netflix_orginal_df.isnull().sum()"
   ]
  },
  {
   "cell_type": "code",
   "execution_count": 21,
   "metadata": {},
   "outputs": [
    {
     "data": {
      "text/html": [
       "<div>\n",
       "<style scoped>\n",
       "    .dataframe tbody tr th:only-of-type {\n",
       "        vertical-align: middle;\n",
       "    }\n",
       "\n",
       "    .dataframe tbody tr th {\n",
       "        vertical-align: top;\n",
       "    }\n",
       "\n",
       "    .dataframe thead th {\n",
       "        text-align: right;\n",
       "    }\n",
       "</style>\n",
       "<table border=\"1\" class=\"dataframe\">\n",
       "  <thead>\n",
       "    <tr style=\"text-align: right;\">\n",
       "      <th></th>\n",
       "      <th>Title</th>\n",
       "      <th>Genre</th>\n",
       "      <th>Premiere</th>\n",
       "      <th>Runtime</th>\n",
       "      <th>IMDB Score</th>\n",
       "      <th>Language</th>\n",
       "      <th>year</th>\n",
       "      <th>month</th>\n",
       "      <th>weekday</th>\n",
       "    </tr>\n",
       "  </thead>\n",
       "  <tbody>\n",
       "    <tr>\n",
       "      <th>0</th>\n",
       "      <td>Enter the Anime</td>\n",
       "      <td>Documentary</td>\n",
       "      <td>2019-08-05</td>\n",
       "      <td>58</td>\n",
       "      <td>2.5</td>\n",
       "      <td>English/Japanese</td>\n",
       "      <td>2019</td>\n",
       "      <td>August</td>\n",
       "      <td>Monday</td>\n",
       "    </tr>\n",
       "    <tr>\n",
       "      <th>1</th>\n",
       "      <td>Dark Forces</td>\n",
       "      <td>Thriller</td>\n",
       "      <td>2020-08-21</td>\n",
       "      <td>81</td>\n",
       "      <td>2.6</td>\n",
       "      <td>Spanish</td>\n",
       "      <td>2020</td>\n",
       "      <td>August</td>\n",
       "      <td>Friday</td>\n",
       "    </tr>\n",
       "    <tr>\n",
       "      <th>2</th>\n",
       "      <td>The App</td>\n",
       "      <td>Science fiction/Drama</td>\n",
       "      <td>2019-12-26</td>\n",
       "      <td>79</td>\n",
       "      <td>2.6</td>\n",
       "      <td>Italian</td>\n",
       "      <td>2019</td>\n",
       "      <td>December</td>\n",
       "      <td>Thursday</td>\n",
       "    </tr>\n",
       "    <tr>\n",
       "      <th>3</th>\n",
       "      <td>The Open House</td>\n",
       "      <td>Horror thriller</td>\n",
       "      <td>2018-01-19</td>\n",
       "      <td>94</td>\n",
       "      <td>3.2</td>\n",
       "      <td>English</td>\n",
       "      <td>2018</td>\n",
       "      <td>January</td>\n",
       "      <td>Friday</td>\n",
       "    </tr>\n",
       "    <tr>\n",
       "      <th>4</th>\n",
       "      <td>Kaali Khuhi</td>\n",
       "      <td>Mystery</td>\n",
       "      <td>2020-10-30</td>\n",
       "      <td>90</td>\n",
       "      <td>3.4</td>\n",
       "      <td>Hindi</td>\n",
       "      <td>2020</td>\n",
       "      <td>October</td>\n",
       "      <td>Friday</td>\n",
       "    </tr>\n",
       "  </tbody>\n",
       "</table>\n",
       "</div>"
      ],
      "text/plain": [
       "             Title                  Genre   Premiere  Runtime  IMDB Score  \\\n",
       "0  Enter the Anime            Documentary 2019-08-05       58         2.5   \n",
       "1      Dark Forces               Thriller 2020-08-21       81         2.6   \n",
       "2          The App  Science fiction/Drama 2019-12-26       79         2.6   \n",
       "3   The Open House        Horror thriller 2018-01-19       94         3.2   \n",
       "4      Kaali Khuhi                Mystery 2020-10-30       90         3.4   \n",
       "\n",
       "           Language  year     month   weekday  \n",
       "0  English/Japanese  2019    August    Monday  \n",
       "1           Spanish  2020    August    Friday  \n",
       "2           Italian  2019  December  Thursday  \n",
       "3           English  2018   January    Friday  \n",
       "4             Hindi  2020   October    Friday  "
      ]
     },
     "execution_count": 21,
     "metadata": {},
     "output_type": "execute_result"
    }
   ],
   "source": [
    "netflix_orginal_df['Premiere'] = pd.to_datetime(netflix_orginal_df['Premiere'])\n",
    "# columns year, month and weekday\n",
    "netflix_orginal_df['year'] = netflix_orginal_df['Premiere'].dt.year\n",
    "netflix_orginal_df['month'] = netflix_orginal_df['Premiere'].dt.month_name()\n",
    "netflix_orginal_df['weekday'] = netflix_orginal_df['Premiere'].dt.day_name()\n",
    "netflix_orginal_df.head()"
   ]
  },
  {
   "cell_type": "markdown",
   "metadata": {},
   "source": [
    "# 1. Based on dataset , In which language were created long-runing films ."
   ]
  },
  {
   "cell_type": "code",
   "execution_count": 22,
   "metadata": {},
   "outputs": [
    {
     "data": {
      "text/html": [
       "<div>\n",
       "<style scoped>\n",
       "    .dataframe tbody tr th:only-of-type {\n",
       "        vertical-align: middle;\n",
       "    }\n",
       "\n",
       "    .dataframe tbody tr th {\n",
       "        vertical-align: top;\n",
       "    }\n",
       "\n",
       "    .dataframe thead th {\n",
       "        text-align: right;\n",
       "    }\n",
       "</style>\n",
       "<table border=\"1\" class=\"dataframe\">\n",
       "  <thead>\n",
       "    <tr style=\"text-align: right;\">\n",
       "      <th></th>\n",
       "      <th>Runtime</th>\n",
       "      <th>Title</th>\n",
       "      <th>Language</th>\n",
       "    </tr>\n",
       "  </thead>\n",
       "  <tbody>\n",
       "    <tr>\n",
       "      <th>0</th>\n",
       "      <td>209</td>\n",
       "      <td>The Irishman</td>\n",
       "      <td>English</td>\n",
       "    </tr>\n",
       "    <tr>\n",
       "      <th>1</th>\n",
       "      <td>155</td>\n",
       "      <td>Da 5 Bloods</td>\n",
       "      <td>English</td>\n",
       "    </tr>\n",
       "    <tr>\n",
       "      <th>2</th>\n",
       "      <td>153</td>\n",
       "      <td>Springsteen on Broadway</td>\n",
       "      <td>English</td>\n",
       "    </tr>\n",
       "    <tr>\n",
       "      <th>3</th>\n",
       "      <td>151</td>\n",
       "      <td>The Forest of Love</td>\n",
       "      <td>Japanese</td>\n",
       "    </tr>\n",
       "    <tr>\n",
       "      <th>4</th>\n",
       "      <td>151</td>\n",
       "      <td>Citation</td>\n",
       "      <td>English</td>\n",
       "    </tr>\n",
       "    <tr>\n",
       "      <th>...</th>\n",
       "      <td>...</td>\n",
       "      <td>...</td>\n",
       "      <td>...</td>\n",
       "    </tr>\n",
       "    <tr>\n",
       "      <th>579</th>\n",
       "      <td>11</td>\n",
       "      <td>Zion</td>\n",
       "      <td>English</td>\n",
       "    </tr>\n",
       "    <tr>\n",
       "      <th>580</th>\n",
       "      <td>10</td>\n",
       "      <td>American Factory: A Conversation with the Obamas</td>\n",
       "      <td>English</td>\n",
       "    </tr>\n",
       "    <tr>\n",
       "      <th>581</th>\n",
       "      <td>9</td>\n",
       "      <td>Canvas</td>\n",
       "      <td>English</td>\n",
       "    </tr>\n",
       "    <tr>\n",
       "      <th>582</th>\n",
       "      <td>7</td>\n",
       "      <td>Cops and Robbers</td>\n",
       "      <td>English</td>\n",
       "    </tr>\n",
       "    <tr>\n",
       "      <th>583</th>\n",
       "      <td>4</td>\n",
       "      <td>Sol Levante</td>\n",
       "      <td>English</td>\n",
       "    </tr>\n",
       "  </tbody>\n",
       "</table>\n",
       "<p>584 rows × 3 columns</p>\n",
       "</div>"
      ],
      "text/plain": [
       "     Runtime                                              Title  Language\n",
       "0        209                                       The Irishman   English\n",
       "1        155                                        Da 5 Bloods   English\n",
       "2        153                            Springsteen on Broadway   English\n",
       "3        151                                 The Forest of Love  Japanese\n",
       "4        151                                           Citation   English\n",
       "..       ...                                                ...       ...\n",
       "579       11                                              Zion    English\n",
       "580       10  American Factory: A Conversation with the Obamas    English\n",
       "581        9                                            Canvas    English\n",
       "582        7                                   Cops and Robbers   English\n",
       "583        4                                        Sol Levante   English\n",
       "\n",
       "[584 rows x 3 columns]"
      ]
     },
     "execution_count": 22,
     "metadata": {},
     "output_type": "execute_result"
    }
   ],
   "source": [
    "netflix_orginal_df_temp = netflix_orginal_df.groupby(['Runtime', 'Title', 'Language']).mean().sort_values(by='Runtime', ascending=False).reset_index().iloc[:,:3]\n",
    "netflix_orginal_df_temp"
   ]
  },
  {
   "cell_type": "code",
   "execution_count": 23,
   "metadata": {},
   "outputs": [
    {
     "data": {
      "application/vnd.plotly.v1+json": {
       "config": {
        "plotlyServerURL": "https://plot.ly"
       },
       "data": [
        {
         "alignmentgroup": "True",
         "customdata": [
          [
           "Enter the Anime",
           "English/Japanese"
          ],
          [
           "Dark Forces",
           "Spanish"
          ],
          [
           "The App",
           "Italian"
          ],
          [
           "The Open House",
           "English"
          ],
          [
           "Kaali Khuhi",
           "Hindi"
          ],
          [
           "Drive",
           "Hindi"
          ],
          [
           "Leyla Everlasting",
           "Turkish"
          ],
          [
           "The Last Days of American Crime",
           "English"
          ],
          [
           "Paradox",
           "English"
          ],
          [
           "Sardar Ka Grandson",
           "Hindi"
          ],
          [
           "Searching for Sheela",
           "English"
          ],
          [
           "The Call",
           "Korean"
          ],
          [
           "Whipped",
           "Indonesian"
          ],
          [
           "All Because of You",
           "Malay"
          ],
          [
           "Mercy",
           "English"
          ],
          [
           "After the Raid",
           "Spanish"
          ],
          [
           "Ghost Stories",
           "Hindi"
          ],
          [
           "The Last Thing He Wanted",
           "English"
          ],
          [
           "What Happened to Mr. Cha?",
           "Korean"
          ],
          [
           "Death Note",
           "English"
          ],
          [
           "Hello Privilege. It's Me, Chelsea",
           "English"
          ],
          [
           "Secret Obsession",
           "English"
          ],
          [
           "Sextuplets",
           "English"
          ],
          [
           "The Girl on the Train",
           "Hindi"
          ],
          [
           "Thunder Force",
           "English"
          ],
          [
           "Fatal Affair",
           "English"
          ],
          [
           "Just Say Yes",
           "Dutch"
          ],
          [
           "Seriously Single",
           "English"
          ],
          [
           "The Misadventures of Hedi and Cokeman",
           "French"
          ],
          [
           "5 Star Christmas",
           "Italian"
          ],
          [
           "After Maria",
           "English/Spanish"
          ],
          [
           "I Am the Pretty Thing That Lives in the House",
           "English"
          ],
          [
           "Paris Is Us",
           "French"
          ],
          [
           "Porta dos Fundos: The First Temptation of Christ",
           "Portuguese"
          ],
          [
           "Rattlesnake",
           "English"
          ],
          [
           "The Players",
           "Italian"
          ],
          [
           "We Are One",
           "French"
          ],
          [
           "Finding Agnes",
           "Filipino"
          ],
          [
           "IO",
           "English"
          ],
          [
           "Sentinelle",
           "French"
          ],
          [
           "Sol Levante",
           "English"
          ],
          [
           "The Binding",
           "Italian"
          ],
          [
           "We Can Be Heroes",
           "English"
          ],
          [
           "Christmas Crossfire",
           "German"
          ],
          [
           "Coin Heist",
           "English"
          ],
          [
           "Mrs. Serial Killer",
           "Hindi"
          ],
          [
           "Nobody Sleeps in the Woods Tonight",
           "Polish"
          ],
          [
           "Take the 10",
           "English"
          ],
          [
           "The Main Event",
           "English"
          ],
          [
           "The Ridiculous 6",
           "English"
          ],
          [
           "Earth and Blood",
           "French"
          ],
          [
           "Fearless",
           "English"
          ],
          [
           "Holiday Rush",
           "English"
          ],
          [
           "The Day of the Lord",
           "Spanish"
          ],
          [
           "Airplane Mode",
           "Portuguese"
          ],
          [
           "How It Ends",
           "English"
          ],
          [
           "Love Like the Falling Rain",
           "Indonesian"
          ],
          [
           "Rebirth",
           "English"
          ],
          [
           "Squared Love",
           "Polish"
          ],
          [
           "Cadaver",
           "Norwegian"
          ],
          [
           "Clinical",
           "English"
          ],
          [
           "Coffee & Kareem",
           "English"
          ],
          [
           "Dude",
           "English"
          ],
          [
           "Geez & Ann",
           "Indonesian"
          ],
          [
           "The Larva Island Movie",
           "English"
          ],
          [
           "#REALITYHIGH",
           "English"
          ],
          [
           "American Factory: A Conversation with the Obamas ",
           "English"
          ],
          [
           "Desperados",
           "English"
          ],
          [
           "Dolly Parton's Christmas on the Square",
           "English"
          ],
          [
           "Father of the Year",
           "English"
          ],
          [
           "Firebrand",
           "Marathi"
          ],
          [
           "Ghost Lab",
           "Thai"
          ],
          [
           "Girlfriend's Day",
           "English"
          ],
          [
           "Handsome: A Netflix Mystery Movie",
           "English"
          ],
          [
           "Hubie Halloween",
           "English"
          ],
          [
           "Ibiza",
           "English"
          ],
          [
           "Rim of the World",
           "English"
          ],
          [
           "Sandy Wexler",
           "English"
          ],
          [
           "See You Yesterday",
           "English"
          ],
          [
           "Still Laugh-In: The Stars Celebrate",
           "English"
          ],
          [
           "Strip Down, Rise Up",
           "English"
          ],
          [
           "Tall Girl",
           "English"
          ],
          [
           "The Beast",
           "Italian"
          ],
          [
           "The Week Of",
           "English"
          ],
          [
           "A Christmas Prince: The Royal Wedding",
           "English"
          ],
          [
           "Back to School",
           "French"
          ],
          [
           "Dangerous Lies",
           "English"
          ],
          [
           "Gunjan Saxena: The Kargil Girl",
           "Hindi"
          ],
          [
           "Intuition",
           "Spanish"
          ],
          [
           "The Most Assassinated Woman in the World",
           "French"
          ],
          [
           "Things Heard & Seen",
           "English"
          ],
          [
           "To Each, Her Own",
           "French"
          ],
          [
           "Who Would You Take to a Deserted Island?",
           "Spanish"
          ],
          [
           "XOXO",
           "English"
          ],
          [
           "A Babysitter's Guide to Monster Hunting",
           "English"
          ],
          [
           "A Christmas Prince: The Royal Baby",
           "English"
          ],
          [
           "Despite Everything",
           "Spanish"
          ],
          [
           "Dolly Kitty and Those Twinkling Stars",
           "Hindi"
          ],
          [
           "Freaks: You're One of Us",
           "German"
          ],
          [
           "Game Over, Man!",
           "English"
          ],
          [
           "Guilty",
           "Hindi"
          ],
          [
           "In the Tall Grass",
           "English"
          ],
          [
           "Madame Claude",
           "French"
          ],
          [
           "Naked",
           "English"
          ],
          [
           "Outside the Wire",
           "English"
          ],
          [
           "The Princess Switch: Switched Again",
           "English"
          ],
          [
           "Under the Riccione Sun",
           "Italian"
          ],
          [
           "A Very Murray Christmas",
           "English"
          ],
          [
           "Been So Long",
           "English"
          ],
          [
           "Dead Kids",
           "Filipino"
          ],
          [
           "Get the Grift",
           "Portuguese"
          ],
          [
           "Ghosts of Sugar Land",
           "English"
          ],
          [
           "House Arrest",
           "Hindi"
          ],
          [
           "Kevin Hart's Guide to Black History",
           "English"
          ],
          [
           "Love Wedding Repeat",
           "English"
          ],
          [
           "Mute",
           "English"
          ],
          [
           "Òlòt?ré",
           "English"
          ],
          [
           "Red Dot",
           "Swedish"
          ],
          [
           "Ride or Die",
           "Japanese"
          ],
          [
           "Step Sisters",
           "English"
          ],
          [
           "The Cloverfield Paradox",
           "English"
          ],
          [
           "The Knight Before Christmas",
           "English"
          ],
          [
           "The Legacy of a Whitetail Deer Hunter",
           "English"
          ],
          [
           "The Package",
           "English"
          ],
          [
           "Unicorn Store",
           "English"
          ],
          [
           "Wine Country",
           "English"
          ],
          [
           "Bomb Scared",
           "Spanish/Basque"
          ],
          [
           "Brahman Naman",
           "English"
          ],
          [
           "Double Dad",
           "Portuguese"
          ],
          [
           "Falling Inn Love",
           "English"
          ],
          [
           "Hold the Dark",
           "English"
          ],
          [
           "Love, Guaranteed",
           "English"
          ],
          [
           "One-Way to Tomorrow",
           "Turkish"
          ],
          [
           "Sarah Cooper: Everything's Fine",
           "English"
          ],
          [
           "The Last Laugh",
           "English"
          ],
          [
           "The Last Paradiso",
           "Italian"
          ],
          [
           "The Midnight Sky",
           "English"
          ],
          [
           "The Paramedic",
           "Spanish"
          ],
          [
           "The Sleepover",
           "English"
          ],
          [
           "Vampires vs. the Bronx",
           "English"
          ],
          [
           "Why Did You Kill Me?",
           "English"
          ],
          [
           "A Week Away",
           "English"
          ],
          [
           "Caught by a Wave",
           "Italian"
          ],
          [
           "Christmas Inheritance",
           "English"
          ],
          [
           "Dad Wanted",
           "Spanish"
          ],
          [
           "El Camino Christmas",
           "English"
          ],
          [
           "Eli",
           "English"
          ],
          [
           "Ginny Weds Sunny",
           "Hindi"
          ],
          [
           "Good Sam",
           "English"
          ],
          [
           "Lionheart",
           "English"
          ],
          [
           "Little Evil",
           "English"
          ],
          [
           "One Take",
           "Thai"
          ],
          [
           "Out of Many, One",
           "English"
          ],
          [
           "Point Blank",
           "English"
          ],
          [
           "Prime Time",
           "Polish"
          ],
          [
           "The Do-Over",
           "English"
          ],
          [
           "The Holiday Calendar",
           "English"
          ],
          [
           "The Woman in the Window",
           "English"
          ],
          [
           "The Wrong Missy",
           "English"
          ],
          [
           "Velvet Buzzsaw",
           "English"
          ],
          [
           "Yes Day",
           "English"
          ],
          [
           "15-Aug",
           "Marathi"
          ],
          [
           "A California Christmas",
           "English"
          ],
          [
           "A Christmas Prince",
           "English"
          ],
          [
           "All Day and a Night",
           "English"
          ],
          [
           "American Son",
           "English"
          ],
          [
           "Barry",
           "English"
          ],
          [
           "Candy Jar",
           "English"
          ],
          [
           "Choked: Paisa Bolta Hai",
           "Hindi"
          ],
          [
           "Class of '83",
           "Hindi"
          ],
          [
           "Extinction",
           "English"
          ],
          [
           "Happy Anniversary",
           "English"
          ],
          [
           "I Am All Girls",
           "English"
          ],
          [
           "Let It Snow",
           "English"
          ],
          [
           "Mascots",
           "English"
          ],
          [
           "Operation Christmas Drop",
           "English"
          ],
          [
           "Rajma Chawal",
           "Hindi"
          ],
          [
           "Rich in Love",
           "Portuguese"
          ],
          [
           "Rising High",
           "German"
          ],
          [
           "Rodney King",
           "English"
          ],
          [
           "Sierra Burgess Is a Loser",
           "English"
          ],
          [
           "Small Crimes",
           "English"
          ],
          [
           "Special Correspondents",
           "English"
          ],
          [
           "TAU",
           "English"
          ],
          [
           "The After Party",
           "English"
          ],
          [
           "The Babysitter: Killer Queen",
           "English"
          ],
          [
           "The Claus Family",
           "Dutch"
          ],
          [
           "The Kissing Booth 2",
           "English"
          ],
          [
           "The Perfect Date",
           "English"
          ],
          [
           "What We Wanted",
           "German"
          ],
          [
           "You've Got This",
           "Spanish"
          ],
          [
           "6 Balloons",
           "English"
          ],
          [
           "A Fall from Grace",
           "English"
          ],
          [
           "Amateur",
           "English"
          ],
          [
           "Army of the Dead",
           "English"
          ],
          [
           "Cam",
           "English"
          ],
          [
           "Earthquake Bird",
           "English"
          ],
          [
           "Frankenstein's Monster's Monster, Frankenstein",
           "English"
          ],
          [
           "Horse Girl",
           "English"
          ],
          [
           "Notes from Dunblane: Lesson from a School Shooting",
           "English"
          ],
          [
           "Maska",
           "Hindi"
          ],
          [
           "The Decline",
           "French"
          ],
          [
           "The Minimalists: Less Is Now",
           "English"
          ],
          [
           "The Polka King",
           "English"
          ],
          [
           "The Prom",
           "English"
          ],
          [
           "True Memoirs of an International Assassin",
           "English"
          ],
          [
           "Ultras",
           "Italian"
          ],
          [
           "Come Sunday",
           "English"
          ],
          [
           "Forgive Us Our Debts",
           "Italian"
          ],
          [
           "iBoy",
           "English"
          ],
          [
           "Lovefucked",
           "Hindi"
          ],
          [
           "Juanita",
           "English"
          ],
          [
           "Murder Mystery",
           "English"
          ],
          [
           "Project Power",
           "English"
          ],
          [
           "Rebecca",
           "English"
          ],
          [
           "The Christmas Chronicles: Part Two",
           "English"
          ],
          [
           "The Kissing Booth",
           "English"
          ],
          [
           "The Princess Switch",
           "English"
          ],
          [
           "To All the Boys: P.S. I Still Love You",
           "English"
          ],
          [
           "War Machine",
           "English"
          ],
          [
           "6 Underground",
           "English"
          ],
          [
           "Between Two Ferns: The Movie",
           "English"
          ],
          [
           "Burning Sands",
           "English"
          ],
          [
           "Casting JonBenet",
           "English"
          ],
          [
           "Deidra & Laney Rob a Train",
           "English"
          ],
          [
           "Finding 'Ohana",
           "English"
          ],
          [
           "Holidate",
           "English"
          ],
          [
           "Holiday in the Wild",
           "English"
          ],
          [
           "Hot Girls Wanted",
           "English"
          ],
          [
           "Like Father",
           "English"
          ],
          [
           "Lost Girls",
           "English"
          ],
          [
           "Otherhood",
           "English"
          ],
          [
           "Pee-wee's Big Holiday",
           "English"
          ],
          [
           "Rogue City",
           "French"
          ],
          [
           "Sergio",
           "English"
          ],
          [
           "Stuck Apart",
           "Turkish"
          ],
          [
           "Tersanjung the Movie",
           "Indonesian"
          ],
          [
           "The Killer",
           "Portuguese"
          ],
          [
           "The Lovebirds",
           "English"
          ],
          [
           "The Most Hated Woman in America",
           "English"
          ],
          [
           "The Perfection",
           "English"
          ],
          [
           "Tribhanga  Tedhi Medhi Crazy",
           "Hindi"
          ],
          [
           "Unknown Origins",
           "Spanish"
          ],
          [
           "Work It",
           "English"
          ],
          [
           "Alien Xmas",
           "English"
          ],
          [
           "Baggio: The Divine Ponytail",
           "Italian"
          ],
          [
           "Below Zero",
           "Spanish"
          ],
          [
           "Citation",
           "English"
          ],
          [
           "Crazy Awesome Teachers",
           "Indonesian"
          ],
          [
           "Have You Ever Seen Fireflies?",
           "Turkish"
          ],
          [
           "High Flying Bird",
           "English"
          ],
          [
           "In the Shadow of the Moon",
           "English"
          ],
          [
           "Lost Bullet",
           "French"
          ],
          [
           "Octonauts & the Caves of Sac Actun",
           "English"
          ],
          [
           "Offering to the Storm",
           "Spanish"
          ],
          [
           "Roxanne Roxanne",
           "English"
          ],
          [
           "Someone Great",
           "English"
          ],
          [
           "Spenser Confidential",
           "English"
          ],
          [
           "The Land of Steady Habits",
           "English"
          ],
          [
           "The Rachel Divide",
           "English"
          ],
          [
           "Voyuer ",
           "English"
          ],
          [
           "Win It All",
           "English"
          ],
          [
           "1922",
           "English"
          ],
          [
           "A Tale of Two Kitchens",
           "English/Spanish"
          ],
          [
           "Alex Strangelove",
           "English"
          ],
          [
           "Apostle",
           "English"
          ],
          [
           "Benji",
           "English"
          ],
          [
           "Bright",
           "English"
          ],
          [
           "Cargo",
           "English"
          ],
          [
           "Concrete Cowboy",
           "English"
          ],
          [
           "Feel the Beat",
           "English"
          ],
          [
           "Get the Goat",
           "Portuguese"
          ],
          [
           "I Am Not an Easy Man",
           "French"
          ],
          [
           "June & Kopi",
           "Indonesian"
          ],
          [
           "Music Teacher",
           "Hindi"
          ],
          [
           "Nail Bomber: Manhunt",
           "English"
          ],
          [
           "Notes for My Son",
           "Spanish"
          ],
          [
           "Polar",
           "English"
          ],
          [
           "Porta dos Fundos: The Last Hangover",
           "Portuguese"
          ],
          [
           "Sand Castle",
           "English"
          ],
          [
           "Shimmer Lake",
           "English"
          ],
          [
           "Spectral",
           "English"
          ],
          [
           "The Babysitter",
           "English"
          ],
          [
           "The Discovery",
           "English"
          ],
          [
           "The Forest of Love",
           "Japanese"
          ],
          [
           "The Laundromat",
           "English"
          ],
          [
           "The Legend of Cocaine Island",
           "English"
          ],
          [
           "The Outsider",
           "English/Japanese"
          ],
          [
           "Time to Hunt",
           "Korean"
          ],
          [
           "To All the Boys: Always and Forever",
           "English"
          ],
          [
           "Travis Scott: Look Mom I Can Fly",
           "English"
          ],
          [
           "Uncorked",
           "English"
          ],
          [
           "Anelka: Misunderstood",
           "French"
          ],
          [
           "Ariana Grande: Excuse Me, I Love You",
           "English"
          ],
          [
           "ARQ",
           "English"
          ],
          [
           "Birders",
           "English/Spanish"
          ],
          [
           "Como Caído del Cielo",
           "Spanish"
          ],
          [
           "First Match",
           "English"
          ],
          [
           "Fractured",
           "English"
          ],
          [
           "Irreplaceable You",
           "English"
          ],
          [
           "Isi & Ossi",
           "German"
          ],
          [
           "John Was Trying to Contact Aliens",
           "English"
          ],
          [
           "Layla Majnun",
           "Indonesian"
          ],
          [
           "Murder to Mercy: The Cyntoia Brown Story",
           "English"
          ],
          [
           "My Own Man",
           "English"
          ],
          [
           "Nappily Ever After",
           "English"
          ],
          [
           "Over the Moon",
           "English"
          ],
          [
           "Street Flow",
           "French"
          ],
          [
           "Strong Island",
           "English"
          ],
          [
           "Sturgill Simpson Presents: Sound & Fury",
           "English"
          ],
          [
           "Take Your Pills",
           "English"
          ],
          [
           "The Heartbreak Club",
           "Indonesian"
          ],
          [
           "The Mars Generation",
           "English"
          ],
          [
           "The Occupant",
           "Spanish"
          ],
          [
           "The Willoughbys",
           "English"
          ],
          [
           "Triple Frontier",
           "English"
          ],
          [
           "Two Catalonias",
           "Spanish/Catalan"
          ],
          [
           "Walk. Ride. Rodeo.",
           "English"
          ],
          [
           "Wheelman",
           "English"
          ],
          [
           "When We First Met",
           "English"
          ],
          [
           "A 3 Minute Hug",
           "English/Spanish"
          ],
          [
           "All the Bright Places",
           "English"
          ],
          [
           "All Together Now",
           "English"
          ],
          [
           "Altered Carbon: Resleeved",
           "Japanese"
          ],
          [
           "Antoine Griezmann: The Making of a Legend",
           "French"
          ],
          [
           "Canvas ",
           "English"
          ],
          [
           "Chadwick Boseman: Portrait of an Artist",
           "English"
          ],
          [
           "Chopsticks",
           "Hindi"
          ],
          [
           "Da 5 Bloods",
           "English"
          ],
          [
           "Dolly Parton: A MusiCares Tribute",
           "English"
          ],
          [
           "Eurovision Song Contest: The Story of Fire Saga",
           "English"
          ],
          [
           "Gerald's Game",
           "English"
          ],
          [
           "His House",
           "English"
          ],
          [
           "Jingle Jangle: A Christmas Journey",
           "English"
          ],
          [
           "Life Overtakes Me",
           "English/Swedish"
          ],
          [
           "Lust Stories",
           "Hindi"
          ],
          [
           "Monster",
           "English"
          ],
          [
           "Mowgli: Legend of the Jungle",
           "English"
          ],
          [
           "Nobody Knows I'm Here",
           "Spanish"
          ],
          [
           "Nobody Speak: Trials of the Free Press",
           "English"
          ],
          [
           "Oxygen",
           "French"
          ],
          [
           "Set It Up",
           "English"
          ],
          [
           "The Incredible Jessica James",
           "English"
          ],
          [
           "Tigertail",
           "English/Taiwanese/Mandarin"
          ],
          [
           "Tramps",
           "English"
          ],
          [
           "What Did Jack Do?",
           "English"
          ],
          [
           "Bad Trip",
           "English"
          ],
          [
           "Bird Box",
           "English"
          ],
          [
           "Bulbbul",
           "Hindi"
          ],
          [
           "Crazy About Her",
           "Spanish"
          ],
          [
           "Elisa & Marcela",
           "Spanish"
          ],
          [
           "I'll Sleep When I'm Dead",
           "English"
          ],
          [
           "I'm Thinking of Ending Things",
           "English"
          ],
          [
           "It Takes a Lunatic",
           "English"
          ],
          [
           "Milestone",
           "Hindi"
          ],
          [
           "Recovery Boys",
           "English"
          ],
          [
           "ReMastered: Who Killed Jam Master Jay?",
           "English"
          ],
          [
           "Shawn Mendes: In Wonder",
           "English"
          ],
          [
           "Space Sweepers",
           "Korean"
          ],
          [
           "The American Meme",
           "English"
          ],
          [
           "The Angel",
           "English"
          ],
          [
           "The Crimes That Bind",
           "Spanish"
          ],
          [
           "The Red Sea Diving Resort",
           "English"
          ],
          [
           "What Would Sophia Loren Do?",
           "English"
          ],
          [
           "A Whisker Away",
           "Japanese"
          ],
          [
           "Ajeeb Daastaans",
           "Hindi"
          ],
          [
           "Arlo the Alligator Boy",
           "English"
          ],
          [
           "Bikram: Yogi, Guru, Predator",
           "English"
          ],
          [
           "Blame!",
           "Japanese"
          ],
          [
           "Blue Miracle",
           "English"
          ],
          [
           "CounterPunch ",
           "English"
          ],
          [
           "Crack: Cocaine, Corruption & Conspiracy",
           "English"
          ],
          [
           "Extraction",
           "English"
          ],
          [
           "Giving Voice",
           "English"
          ],
          [
           "Hillbilly Elegy",
           "English"
          ],
          [
           "Hope Frozen: A Quest to Live Twice",
           "Thia/English"
          ],
          [
           "Imperial Dreams",
           "English"
          ],
          [
           "Just Another Christmas",
           "Portuguese"
          ],
          [
           "Little Miss Sumo",
           "Japanese"
          ],
          [
           "Malcolm & Marie",
           "English"
          ],
          [
           "Michael Bolton's Big, Sexy, Valentine's Day Special",
           "English"
          ],
          [
           "Moxie",
           "English"
          ],
          [
           "Night in Paradise",
           "Korean"
          ],
          [
           "Paper Lives",
           "Turkish"
          ],
          [
           "Parchis: The Documentary",
           "Spanish"
          ],
          [
           "Tallulah",
           "English"
          ],
          [
           "The Old Guard",
           "English"
          ],
          [
           "Tony Robbins: I Am Not Your Guru",
           "English"
          ],
          [
           "Upstarts",
           "Hindi"
          ],
          [
           "22-Jul",
           "English"
          ],
          [
           "7 años",
           "Spanish"
          ],
          [
           "A Futile and Stupid Gesture",
           "English"
          ],
          [
           "A Life of Speed: The Juan Manuel Fangio Story",
           "Spanish"
          ],
          [
           "A Love Song for Latasha",
           "English"
          ],
          [
           "All in My Family",
           "English/Mandarin"
          ],
          [
           "Always Be My Maybe",
           "English"
          ],
          [
           "Becoming",
           "English"
          ],
          [
           "Long Live Brij Mohan",
           "Hindi"
          ],
          [
           "Calibre",
           "English"
          ],
          [
           "Death to 2020",
           "English"
          ],
          [
           "GIMS: On the Record",
           "French"
          ],
          [
           "Have a Good Trip: Adventures in Psychedelics",
           "English"
          ],
          [
           "Heroin(e) ",
           "English"
          ],
          [
           "Mercury 13",
           "English"
          ],
          [
           "Saving Capitalism",
           "English"
          ],
          [
           "Serious Men",
           "Hindi"
          ],
          [
           "The Boys in the Band",
           "English"
          ],
          [
           "The Boys in the Band: Something Personal",
           "English"
          ],
          [
           "The Life Ahead",
           "Italian"
          ],
          [
           "The Other Side of the Wind",
           "English"
          ],
          [
           "The Trader",
           "Georgian"
          ],
          [
           "To the Bone",
           "English"
          ],
          [
           "Tony Parker: The Final Shot",
           "French"
          ],
          [
           "AK vs AK",
           "Hindi"
          ],
          [
           "Amanda Knox",
           "English"
          ],
          [
           "Bigflo & Oil: Hip Hop Frenzy",
           "French"
          ],
          [
           "Biggie: I Got a Story to Tell",
           "English"
          ],
          [
           "Cops and Robbers",
           "English"
          ],
          [
           "I Don't Feel at Home in This World Anymore",
           "English"
          ],
          [
           "Laerte-se",
           "Portuguese"
          ],
          [
           "Mank",
           "English"
          ],
          [
           "Our Souls at Night",
           "English"
          ],
          [
           "Outlaw King",
           "English"
          ],
          [
           "Pagglait",
           "Hindi"
          ],
          [
           "ReMastered: Who Shot the Sheriff?",
           "English"
          ],
          [
           "Seeing Allred",
           "English"
          ],
          [
           "Spelling the Dream",
           "English"
          ],
          [
           "The Claudia Kishi Club",
           "English"
          ],
          [
           "The Half of It",
           "English"
          ],
          [
           "The Highwaymen",
           "English"
          ],
          [
           "The Lonely Island Presents: The Unauthorized Bash Brothers Experience",
           "English"
          ],
          [
           "The Meyerowitz Stories (New and Selected)",
           "English"
          ],
          [
           "Feminists: What Were They Thinking?",
           "English"
          ],
          [
           "Gaga: Five Foot Two",
           "English"
          ],
          [
           "I'm No Longer Here: A Discussion with Guillermo del Toro and Alfonso Cuaron",
           "English"
          ],
          [
           "Kingdom of Us",
           "English"
          ],
          [
           "Lorena, Light-Footed Woman",
           "Spanish"
          ],
          [
           "Los Tigres del Norte at Folsom Prison",
           "Spanish"
          ],
          [
           "Ma Rainey's Black Bottom",
           "English"
          ],
          [
           "Ma Rainey's Black Bottom: A Legacy Brought to Screen",
           "English"
          ],
          [
           "Operation Varsity Blues: The College Admissions Scandal",
           "English"
          ],
          [
           "Pele",
           "English"
          ],
          [
           "ReMastered: Devil at the Crossroads",
           "English"
          ],
          [
           "ReMastered: The Lion's Share",
           "English"
          ],
          [
           "ReMastered: The Miami Showband Massacre",
           "English"
          ],
          [
           "Resurface",
           "English"
          ],
          [
           "Rocko's Modern Life: Static Cling",
           "English"
          ],
          [
           "Rose Island",
           "Italian"
          ],
          [
           "The Christmas Chronicles",
           "English"
          ],
          [
           "The Dirt",
           "English"
          ],
          [
           "The Night Comes for Us",
           "Indonesian"
          ],
          [
           "13th: A Conversation with Oprah Winfrey & Ava DuVernay",
           "English"
          ],
          [
           "Angela's Christmas",
           "English"
          ],
          [
           "Angela's Christmas Wish",
           "English"
          ],
          [
           "Beats",
           "English"
          ],
          [
           "Circus of Books",
           "English"
          ],
          [
           "Dance Dreams: Hot Chocolate Nutcracker",
           "English"
          ],
          [
           "Derren Brown: Sacrifice",
           "English"
          ],
          [
           "El Pepe: A Supreme Life",
           "Spanish"
          ],
          [
           "End Game",
           "English"
          ],
          [
           "Evelyn",
           "English"
          ],
          [
           "Ferry",
           "Dutch"
          ],
          [
           "Grass Is Greener",
           "English"
          ],
          [
           "Guillermo Vilas: Settling the Score",
           "Spanish"
          ],
          [
           "Joshua: Teenager vs. Superpower",
           "English"
          ],
          [
           "Keith Richards: Under the Influence",
           "English"
          ],
          [
           "Knock Down the House",
           "English"
          ],
          [
           "Loudon Wainwright III: Surviving Twin",
           "English"
          ],
          [
           "My Beautiful Broken Brain",
           "English"
          ],
          [
           "One of Us",
           "English"
          ],
          [
           "Pieces of a Woman",
           "English"
          ],
          [
           "Ram Dass, Going Home",
           "English"
          ],
          [
           "ReMastered: Tricky Dick & the Man in Black",
           "English"
          ],
          [
           "Rooting for Roona",
           "Bengali"
          ],
          [
           "The Devil All the Time",
           "English"
          ],
          [
           "The Dig",
           "English"
          ],
          [
           "The Great Hack",
           "English"
          ],
          [
           "The White Tiger",
           "English"
          ],
          [
           "To All the Boys I've Loved Before",
           "English"
          ],
          [
           "American Murder: The Family Next Door",
           "English"
          ],
          [
           "Audrie & Daisy",
           "English"
          ],
          [
           "First They Killed My Father",
           "Khmer/English/French"
          ],
          [
           "Fyre: The Greatest Party That Never Happened",
           "English"
          ],
          [
           "Into the Inferno",
           "English"
          ],
          [
           "LA Originals",
           "English"
          ],
          [
           "Ladies First",
           "English/Hindi"
          ],
          [
           "Love per Square Foot",
           "Hindi"
          ],
          [
           "Paddleton",
           "English"
          ],
          [
           "Private Life",
           "English"
          ],
          [
           "Seventeen",
           "Spanish"
          ],
          [
           "Sometimes",
           "Tamil"
          ],
          [
           "Soni",
           "Hindi"
          ],
          [
           "The 40-Year-Old Version",
           "English"
          ],
          [
           "The Disciple",
           "Marathi"
          ],
          [
           "The Edge of Democracy",
           "Portuguese"
          ],
          [
           "The King",
           "English"
          ],
          [
           "The Road to El Camino: A Breaking Bad Movie",
           "English"
          ],
          [
           "The Siege of Jadotville",
           "English"
          ],
          [
           "Zion ",
           "English"
          ],
          [
           "Dolemite Is My Name",
           "English"
          ],
          [
           "El Camino: A Breaking Bad Movie",
           "English"
          ],
          [
           "Extremis",
           "English"
          ],
          [
           "Father Soldier Son",
           "English"
          ],
          [
           "Get Me Roger Stone",
           "English"
          ],
          [
           "I'm No Longer Here",
           "Spanish"
          ],
          [
           "Mucho Mucho Amor: The Legend of Walter Mercado ",
           "Spanish/English"
          ],
          [
           "Octonauts & the Great Barrier Reef",
           "English"
          ],
          [
           "Okja",
           "English/Korean"
          ],
          [
           "On My Skin",
           "Italian"
          ],
          [
           "Raat Akeli Hai",
           "Hindi"
          ],
          [
           "ReMastered: Massacre at the Stadium",
           "English/Spanish"
          ],
          [
           "ReMastered: The Two Killings of Sam Cooke",
           "English"
          ],
          [
           "Secrets of the Saqqara Tomb",
           "English/Arabic"
          ],
          [
           "Sitara: Let Girls Dream",
           "English"
          ],
          [
           "Sky Ladder: The Art of Cai Guo-Qiang",
           "English/Mandarin"
          ],
          [
           "Team Foxcatcher",
           "English/Russian"
          ],
          [
           "The Ballad of Buster Scruggs",
           "English"
          ],
          [
           "The Death and Life of Marsha P. Johnson",
           "English"
          ],
          [
           "The Fundamentals of Caring",
           "English"
          ],
          [
           "The Other One: The Long Strange Trip of Bob Weir",
           "English"
          ],
          [
           "American Factory",
           "English"
          ],
          [
           "Fire in Paradise",
           "English"
          ],
          [
           "Long Shot",
           "English"
          ],
          [
           "Miss Americana",
           "English"
          ],
          [
           "Period. End of Sentence.",
           "English/Hindi"
          ],
          [
           "Shawn Mendes: Live in Concert",
           "English"
          ],
          [
           "Shirkers",
           "English"
          ],
          [
           "The Black Godfather",
           "English"
          ],
          [
           "The Irishman: In Conversation",
           "English"
          ],
          [
           "The Speed Cubers",
           "English"
          ],
          [
           "They'll Love Me When I'm Dead",
           "English"
          ],
          [
           "Tig",
           "English"
          ],
          [
           "Barbra: The Music, The Mem'ries, The Magic!",
           "English"
          ],
          [
           "Blackpink: Light Up the Sky",
           "Korean"
          ],
          [
           "City of Joy",
           "English"
          ],
          [
           "Dick Johnson Is Dead",
           "English"
          ],
          [
           "Homecoming: A Film by Beyonce ",
           "English"
          ],
          [
           "Invader Zim: Enter the Florpus",
           "English"
          ],
          [
           "Joan Didion: The Center Will Not Hold",
           "English"
          ],
          [
           "John Mulaney & the Sack Lunch Bunch",
           "English"
          ],
          [
           "Reversing Roe",
           "English"
          ],
          [
           "The White Helmets",
           "English"
          ],
          [
           "Athlete A",
           "English"
          ],
          [
           "Ludo",
           "Hindi"
          ],
          [
           "Quincy",
           "English"
          ],
          [
           "Rolling Thunder Revue: A bob Dylan Story by Martin Scorsere",
           "English"
          ],
          [
           "Tell Me Who I Am",
           "English"
          ],
          [
           "The Bleeding Edge",
           "English"
          ],
          [
           "The Social Dilemma",
           "English"
          ],
          [
           "The Two Popes",
           "English"
          ],
          [
           "What Happened, Miss Simone?",
           "English"
          ],
          [
           "Yeh Ballet",
           "Hindi"
          ],
          [
           "Anima",
           "English"
          ],
          [
           "Beasts of No Nation",
           "English/Akan"
          ],
          [
           "Brene Brown: The Call to Courage",
           "English"
          ],
          [
           "Crip Camp: A Disability Revolution",
           "English"
          ],
          [
           "Jim & Andy: The Great Beyond - Featuring a Very Special, Contractually Obligated Mention of Tony Cliffton ",
           "English"
          ],
          [
           "Justin Timberlake + The Tennessee Kids",
           "English"
          ],
          [
           "Road to Roma",
           "Spanish"
          ],
          [
           "Roma",
           "Spanish"
          ],
          [
           "If Anything Happens I Love You",
           "English"
          ],
          [
           "The Irishman",
           "English"
          ],
          [
           "The Trial of the Chicago 7",
           "English"
          ],
          [
           "A Secret Love",
           "English"
          ],
          [
           "Icarus",
           "English"
          ],
          [
           "Marriage Story",
           "English"
          ],
          [
           "The Ivory Game",
           "English"
          ],
          [
           "Struggle: The Life and Lost Art of Szukaiski",
           "English"
          ],
          [
           "Chasing Coral ",
           "English"
          ],
          [
           "My Octopus Teacher",
           "English"
          ],
          [
           "Rising Phoenix",
           "English"
          ],
          [
           "13th",
           "English"
          ],
          [
           "Disclosure: Trans Lives on Screen",
           "English"
          ],
          [
           "Klaus",
           "English"
          ],
          [
           "Seaspiracy",
           "English"
          ],
          [
           "The Three Deaths of Marisela Escobedo",
           "Spanish"
          ],
          [
           "Cuba and the Cameraman ",
           "English"
          ],
          [
           "Dancing with the Birds",
           "English"
          ],
          [
           "Ben Platt: Live from Radio City Music Hall",
           "English"
          ],
          [
           "Taylor Swift: Reputation Stadium Tour",
           "English"
          ],
          [
           "Winter on Fire: Ukraine's Fight for Freedom",
           "English/Ukranian/Russian"
          ],
          [
           "Springsteen on Broadway",
           "English"
          ],
          [
           "Emicida: AmarElo - It's All For Yesterday",
           "Portuguese"
          ],
          [
           "David Attenborough: A Life on Our Planet",
           "English"
          ]
         ],
         "hovertemplate": "Runtime=%{x}<br>Title=%{customdata[0]}<br>Language=%{customdata[1]}<extra></extra>",
         "legendgroup": "",
         "marker": {
          "color": "#636efa"
         },
         "name": "",
         "notched": false,
         "offsetgroup": "",
         "orientation": "h",
         "quartilemethod": "inclusive",
         "showlegend": false,
         "type": "box",
         "x": [
          58,
          81,
          79,
          94,
          90,
          147,
          112,
          149,
          73,
          139,
          58,
          112,
          97,
          101,
          90,
          25,
          144,
          115,
          102,
          100,
          64,
          97,
          99,
          120,
          105,
          89,
          97,
          107,
          99,
          95,
          37,
          89,
          83,
          46,
          85,
          88,
          86,
          105,
          95,
          80,
          4,
          93,
          100,
          106,
          97,
          106,
          103,
          80,
          101,
          119,
          80,
          89,
          94,
          93,
          96,
          113,
          86,
          100,
          102,
          86,
          104,
          88,
          97,
          105,
          90,
          99,
          10,
          106,
          98,
          94,
          112,
          117,
          70,
          81,
          103,
          94,
          98,
          131,
          87,
          60,
          112,
          102,
          99,
          116,
          92,
          83,
          97,
          112,
          116,
          102,
          121,
          95,
          93,
          92,
          98,
          85,
          78,
          120,
          92,
          101,
          119,
          101,
          112,
          96,
          114,
          97,
          101,
          56,
          100,
          94,
          94,
          21,
          104,
          63,
          100,
          126,
          106,
          86,
          142,
          108,
          102,
          92,
          83,
          94,
          92,
          103,
          89,
          95,
          103,
          97,
          125,
          91,
          90,
          49,
          98,
          107,
          118,
          94,
          103,
          86,
          83,
          97,
          99,
          104,
          102,
          89,
          98,
          125,
          89,
          94,
          94,
          85,
          34,
          86,
          91,
          108,
          95,
          100,
          90,
          112,
          86,
          124,
          107,
          92,
          121,
          90,
          104,
          92,
          114,
          98,
          95,
          78,
          107,
          92,
          95,
          96,
          118,
          105,
          94,
          52,
          105,
          95,
          100,
          97,
          89,
          102,
          96,
          131,
          89,
          93,
          111,
          75,
          120,
          96,
          148,
          94,
          107,
          32,
          104,
          23,
          111,
          83,
          53,
          95,
          132,
          98,
          108,
          106,
          104,
          90,
          106,
          90,
          97,
          113,
          123,
          115,
          105,
          101,
          102,
          122,
          128,
          82,
          102,
          80,
          94,
          123,
          104,
          85,
          84,
          103,
          95,
          100,
          89,
          116,
          118,
          96,
          114,
          99,
          87,
          92,
          90,
          95,
          96,
          93,
          42,
          92,
          106,
          151,
          101,
          114,
          90,
          115,
          92,
          72,
          139,
          98,
          92,
          111,
          98,
          104,
          95,
          88,
          102,
          30,
          99,
          129,
          87,
          117,
          104,
          111,
          107,
          97,
          98,
          90,
          101,
          72,
          83,
          118,
          44,
          113,
          86,
          108,
          85,
          102,
          151,
          98,
          87,
          120,
          134,
          109,
          85,
          103,
          94,
          97,
          88,
          37,
          112,
          102,
          100,
          96,
          113,
          16,
          119,
          97,
          81,
          98,
          95,
          96,
          107,
          41,
          87,
          101,
          97,
          103,
          90,
          125,
          116,
          99,
          82,
          97,
          28,
          108,
          93,
          74,
          60,
          9,
          21,
          100,
          155,
          55,
          123,
          103,
          93,
          119,
          40,
          120,
          98,
          104,
          91,
          95,
          101,
          105,
          83,
          91,
          83,
          17,
          86,
          124,
          94,
          102,
          118,
          79,
          134,
          126,
          98,
          89,
          58,
          83,
          136,
          98,
          114,
          99,
          130,
          32,
          104,
          142,
          92,
          86,
          106,
          95,
          91,
          89,
          117,
          90,
          117,
          80,
          87,
          101,
          19,
          106,
          54,
          111,
          132,
          97,
          106,
          111,
          124,
          116,
          112,
          144,
          76,
          101,
          92,
          19,
          39,
          102,
          89,
          105,
          101,
          70,
          96,
          85,
          39,
          79,
          73,
          114,
          121,
          28,
          95,
          122,
          23,
          107,
          98,
          108,
          92,
          100,
          97,
          7,
          96,
          100,
          132,
          103,
          121,
          114,
          57,
          95,
          83,
          17,
          105,
          131,
          30,
          112,
          86,
          100,
          14,
          109,
          28,
          64,
          94,
          31,
          99,
          108,
          48,
          84,
          70,
          27,
          45,
          117,
          104,
          108,
          121,
          36,
          30,
          47,
          110,
          92,
          80,
          49,
          73,
          40,
          96,
          106,
          97,
          94,
          78,
          81,
          87,
          91,
          91,
          95,
          126,
          31,
          58,
          41,
          138,
          112,
          114,
          125,
          99,
          82,
          98,
          136,
          97,
          107,
          92,
          39,
          133,
          89,
          124,
          99,
          101,
          97,
          124,
          129,
          121,
          140,
          13,
          108,
          11,
          118,
          121,
          24,
          100,
          101,
          105,
          96,
          47,
          121,
          100,
          149,
          64,
          64,
          114,
          15,
          79,
          90,
          132,
          105,
          97,
          83,
          110,
          39,
          40,
          85,
          26,
          87,
          97,
          118,
          23,
          40,
          98,
          80,
          108,
          79,
          74,
          90,
          137,
          71,
          98,
          70,
          99,
          40,
          104,
          149,
          124,
          144,
          85,
          100,
          94,
          125,
          84,
          117,
          15,
          136,
          76,
          108,
          94,
          90,
          72,
          135,
          12,
          209,
          130,
          82,
          120,
          136,
          112,
          105,
          89,
          85,
          106,
          100,
          107,
          97,
          89,
          109,
          114,
          51,
          85,
          125,
          91,
          153,
          89,
          83
         ],
         "x0": " ",
         "xaxis": "x",
         "y0": " ",
         "yaxis": "y"
        }
       ],
       "layout": {
        "boxmode": "group",
        "legend": {
         "tracegroupgap": 0
        },
        "margin": {
         "t": 60
        },
        "template": {
         "data": {
          "bar": [
           {
            "error_x": {
             "color": "#2a3f5f"
            },
            "error_y": {
             "color": "#2a3f5f"
            },
            "marker": {
             "line": {
              "color": "#E5ECF6",
              "width": 0.5
             }
            },
            "type": "bar"
           }
          ],
          "barpolar": [
           {
            "marker": {
             "line": {
              "color": "#E5ECF6",
              "width": 0.5
             }
            },
            "type": "barpolar"
           }
          ],
          "carpet": [
           {
            "aaxis": {
             "endlinecolor": "#2a3f5f",
             "gridcolor": "white",
             "linecolor": "white",
             "minorgridcolor": "white",
             "startlinecolor": "#2a3f5f"
            },
            "baxis": {
             "endlinecolor": "#2a3f5f",
             "gridcolor": "white",
             "linecolor": "white",
             "minorgridcolor": "white",
             "startlinecolor": "#2a3f5f"
            },
            "type": "carpet"
           }
          ],
          "choropleth": [
           {
            "colorbar": {
             "outlinewidth": 0,
             "ticks": ""
            },
            "type": "choropleth"
           }
          ],
          "contour": [
           {
            "colorbar": {
             "outlinewidth": 0,
             "ticks": ""
            },
            "colorscale": [
             [
              0,
              "#0d0887"
             ],
             [
              0.1111111111111111,
              "#46039f"
             ],
             [
              0.2222222222222222,
              "#7201a8"
             ],
             [
              0.3333333333333333,
              "#9c179e"
             ],
             [
              0.4444444444444444,
              "#bd3786"
             ],
             [
              0.5555555555555556,
              "#d8576b"
             ],
             [
              0.6666666666666666,
              "#ed7953"
             ],
             [
              0.7777777777777778,
              "#fb9f3a"
             ],
             [
              0.8888888888888888,
              "#fdca26"
             ],
             [
              1,
              "#f0f921"
             ]
            ],
            "type": "contour"
           }
          ],
          "contourcarpet": [
           {
            "colorbar": {
             "outlinewidth": 0,
             "ticks": ""
            },
            "type": "contourcarpet"
           }
          ],
          "heatmap": [
           {
            "colorbar": {
             "outlinewidth": 0,
             "ticks": ""
            },
            "colorscale": [
             [
              0,
              "#0d0887"
             ],
             [
              0.1111111111111111,
              "#46039f"
             ],
             [
              0.2222222222222222,
              "#7201a8"
             ],
             [
              0.3333333333333333,
              "#9c179e"
             ],
             [
              0.4444444444444444,
              "#bd3786"
             ],
             [
              0.5555555555555556,
              "#d8576b"
             ],
             [
              0.6666666666666666,
              "#ed7953"
             ],
             [
              0.7777777777777778,
              "#fb9f3a"
             ],
             [
              0.8888888888888888,
              "#fdca26"
             ],
             [
              1,
              "#f0f921"
             ]
            ],
            "type": "heatmap"
           }
          ],
          "heatmapgl": [
           {
            "colorbar": {
             "outlinewidth": 0,
             "ticks": ""
            },
            "colorscale": [
             [
              0,
              "#0d0887"
             ],
             [
              0.1111111111111111,
              "#46039f"
             ],
             [
              0.2222222222222222,
              "#7201a8"
             ],
             [
              0.3333333333333333,
              "#9c179e"
             ],
             [
              0.4444444444444444,
              "#bd3786"
             ],
             [
              0.5555555555555556,
              "#d8576b"
             ],
             [
              0.6666666666666666,
              "#ed7953"
             ],
             [
              0.7777777777777778,
              "#fb9f3a"
             ],
             [
              0.8888888888888888,
              "#fdca26"
             ],
             [
              1,
              "#f0f921"
             ]
            ],
            "type": "heatmapgl"
           }
          ],
          "histogram": [
           {
            "marker": {
             "colorbar": {
              "outlinewidth": 0,
              "ticks": ""
             }
            },
            "type": "histogram"
           }
          ],
          "histogram2d": [
           {
            "colorbar": {
             "outlinewidth": 0,
             "ticks": ""
            },
            "colorscale": [
             [
              0,
              "#0d0887"
             ],
             [
              0.1111111111111111,
              "#46039f"
             ],
             [
              0.2222222222222222,
              "#7201a8"
             ],
             [
              0.3333333333333333,
              "#9c179e"
             ],
             [
              0.4444444444444444,
              "#bd3786"
             ],
             [
              0.5555555555555556,
              "#d8576b"
             ],
             [
              0.6666666666666666,
              "#ed7953"
             ],
             [
              0.7777777777777778,
              "#fb9f3a"
             ],
             [
              0.8888888888888888,
              "#fdca26"
             ],
             [
              1,
              "#f0f921"
             ]
            ],
            "type": "histogram2d"
           }
          ],
          "histogram2dcontour": [
           {
            "colorbar": {
             "outlinewidth": 0,
             "ticks": ""
            },
            "colorscale": [
             [
              0,
              "#0d0887"
             ],
             [
              0.1111111111111111,
              "#46039f"
             ],
             [
              0.2222222222222222,
              "#7201a8"
             ],
             [
              0.3333333333333333,
              "#9c179e"
             ],
             [
              0.4444444444444444,
              "#bd3786"
             ],
             [
              0.5555555555555556,
              "#d8576b"
             ],
             [
              0.6666666666666666,
              "#ed7953"
             ],
             [
              0.7777777777777778,
              "#fb9f3a"
             ],
             [
              0.8888888888888888,
              "#fdca26"
             ],
             [
              1,
              "#f0f921"
             ]
            ],
            "type": "histogram2dcontour"
           }
          ],
          "mesh3d": [
           {
            "colorbar": {
             "outlinewidth": 0,
             "ticks": ""
            },
            "type": "mesh3d"
           }
          ],
          "parcoords": [
           {
            "line": {
             "colorbar": {
              "outlinewidth": 0,
              "ticks": ""
             }
            },
            "type": "parcoords"
           }
          ],
          "pie": [
           {
            "automargin": true,
            "type": "pie"
           }
          ],
          "scatter": [
           {
            "marker": {
             "colorbar": {
              "outlinewidth": 0,
              "ticks": ""
             }
            },
            "type": "scatter"
           }
          ],
          "scatter3d": [
           {
            "line": {
             "colorbar": {
              "outlinewidth": 0,
              "ticks": ""
             }
            },
            "marker": {
             "colorbar": {
              "outlinewidth": 0,
              "ticks": ""
             }
            },
            "type": "scatter3d"
           }
          ],
          "scattercarpet": [
           {
            "marker": {
             "colorbar": {
              "outlinewidth": 0,
              "ticks": ""
             }
            },
            "type": "scattercarpet"
           }
          ],
          "scattergeo": [
           {
            "marker": {
             "colorbar": {
              "outlinewidth": 0,
              "ticks": ""
             }
            },
            "type": "scattergeo"
           }
          ],
          "scattergl": [
           {
            "marker": {
             "colorbar": {
              "outlinewidth": 0,
              "ticks": ""
             }
            },
            "type": "scattergl"
           }
          ],
          "scattermapbox": [
           {
            "marker": {
             "colorbar": {
              "outlinewidth": 0,
              "ticks": ""
             }
            },
            "type": "scattermapbox"
           }
          ],
          "scatterpolar": [
           {
            "marker": {
             "colorbar": {
              "outlinewidth": 0,
              "ticks": ""
             }
            },
            "type": "scatterpolar"
           }
          ],
          "scatterpolargl": [
           {
            "marker": {
             "colorbar": {
              "outlinewidth": 0,
              "ticks": ""
             }
            },
            "type": "scatterpolargl"
           }
          ],
          "scatterternary": [
           {
            "marker": {
             "colorbar": {
              "outlinewidth": 0,
              "ticks": ""
             }
            },
            "type": "scatterternary"
           }
          ],
          "surface": [
           {
            "colorbar": {
             "outlinewidth": 0,
             "ticks": ""
            },
            "colorscale": [
             [
              0,
              "#0d0887"
             ],
             [
              0.1111111111111111,
              "#46039f"
             ],
             [
              0.2222222222222222,
              "#7201a8"
             ],
             [
              0.3333333333333333,
              "#9c179e"
             ],
             [
              0.4444444444444444,
              "#bd3786"
             ],
             [
              0.5555555555555556,
              "#d8576b"
             ],
             [
              0.6666666666666666,
              "#ed7953"
             ],
             [
              0.7777777777777778,
              "#fb9f3a"
             ],
             [
              0.8888888888888888,
              "#fdca26"
             ],
             [
              1,
              "#f0f921"
             ]
            ],
            "type": "surface"
           }
          ],
          "table": [
           {
            "cells": {
             "fill": {
              "color": "#EBF0F8"
             },
             "line": {
              "color": "white"
             }
            },
            "header": {
             "fill": {
              "color": "#C8D4E3"
             },
             "line": {
              "color": "white"
             }
            },
            "type": "table"
           }
          ]
         },
         "layout": {
          "annotationdefaults": {
           "arrowcolor": "#2a3f5f",
           "arrowhead": 0,
           "arrowwidth": 1
          },
          "autotypenumbers": "strict",
          "coloraxis": {
           "colorbar": {
            "outlinewidth": 0,
            "ticks": ""
           }
          },
          "colorscale": {
           "diverging": [
            [
             0,
             "#8e0152"
            ],
            [
             0.1,
             "#c51b7d"
            ],
            [
             0.2,
             "#de77ae"
            ],
            [
             0.3,
             "#f1b6da"
            ],
            [
             0.4,
             "#fde0ef"
            ],
            [
             0.5,
             "#f7f7f7"
            ],
            [
             0.6,
             "#e6f5d0"
            ],
            [
             0.7,
             "#b8e186"
            ],
            [
             0.8,
             "#7fbc41"
            ],
            [
             0.9,
             "#4d9221"
            ],
            [
             1,
             "#276419"
            ]
           ],
           "sequential": [
            [
             0,
             "#0d0887"
            ],
            [
             0.1111111111111111,
             "#46039f"
            ],
            [
             0.2222222222222222,
             "#7201a8"
            ],
            [
             0.3333333333333333,
             "#9c179e"
            ],
            [
             0.4444444444444444,
             "#bd3786"
            ],
            [
             0.5555555555555556,
             "#d8576b"
            ],
            [
             0.6666666666666666,
             "#ed7953"
            ],
            [
             0.7777777777777778,
             "#fb9f3a"
            ],
            [
             0.8888888888888888,
             "#fdca26"
            ],
            [
             1,
             "#f0f921"
            ]
           ],
           "sequentialminus": [
            [
             0,
             "#0d0887"
            ],
            [
             0.1111111111111111,
             "#46039f"
            ],
            [
             0.2222222222222222,
             "#7201a8"
            ],
            [
             0.3333333333333333,
             "#9c179e"
            ],
            [
             0.4444444444444444,
             "#bd3786"
            ],
            [
             0.5555555555555556,
             "#d8576b"
            ],
            [
             0.6666666666666666,
             "#ed7953"
            ],
            [
             0.7777777777777778,
             "#fb9f3a"
            ],
            [
             0.8888888888888888,
             "#fdca26"
            ],
            [
             1,
             "#f0f921"
            ]
           ]
          },
          "colorway": [
           "#636efa",
           "#EF553B",
           "#00cc96",
           "#ab63fa",
           "#FFA15A",
           "#19d3f3",
           "#FF6692",
           "#B6E880",
           "#FF97FF",
           "#FECB52"
          ],
          "font": {
           "color": "#2a3f5f"
          },
          "geo": {
           "bgcolor": "white",
           "lakecolor": "white",
           "landcolor": "#E5ECF6",
           "showlakes": true,
           "showland": true,
           "subunitcolor": "white"
          },
          "hoverlabel": {
           "align": "left"
          },
          "hovermode": "closest",
          "mapbox": {
           "style": "light"
          },
          "paper_bgcolor": "white",
          "plot_bgcolor": "#E5ECF6",
          "polar": {
           "angularaxis": {
            "gridcolor": "white",
            "linecolor": "white",
            "ticks": ""
           },
           "bgcolor": "#E5ECF6",
           "radialaxis": {
            "gridcolor": "white",
            "linecolor": "white",
            "ticks": ""
           }
          },
          "scene": {
           "xaxis": {
            "backgroundcolor": "#E5ECF6",
            "gridcolor": "white",
            "gridwidth": 2,
            "linecolor": "white",
            "showbackground": true,
            "ticks": "",
            "zerolinecolor": "white"
           },
           "yaxis": {
            "backgroundcolor": "#E5ECF6",
            "gridcolor": "white",
            "gridwidth": 2,
            "linecolor": "white",
            "showbackground": true,
            "ticks": "",
            "zerolinecolor": "white"
           },
           "zaxis": {
            "backgroundcolor": "#E5ECF6",
            "gridcolor": "white",
            "gridwidth": 2,
            "linecolor": "white",
            "showbackground": true,
            "ticks": "",
            "zerolinecolor": "white"
           }
          },
          "shapedefaults": {
           "line": {
            "color": "#2a3f5f"
           }
          },
          "ternary": {
           "aaxis": {
            "gridcolor": "white",
            "linecolor": "white",
            "ticks": ""
           },
           "baxis": {
            "gridcolor": "white",
            "linecolor": "white",
            "ticks": ""
           },
           "bgcolor": "#E5ECF6",
           "caxis": {
            "gridcolor": "white",
            "linecolor": "white",
            "ticks": ""
           }
          },
          "title": {
           "x": 0.05
          },
          "xaxis": {
           "automargin": true,
           "gridcolor": "white",
           "linecolor": "white",
           "ticks": "",
           "title": {
            "standoff": 15
           },
           "zerolinecolor": "white",
           "zerolinewidth": 2
          },
          "yaxis": {
           "automargin": true,
           "gridcolor": "white",
           "linecolor": "white",
           "ticks": "",
           "title": {
            "standoff": 15
           },
           "zerolinecolor": "white",
           "zerolinewidth": 2
          }
         }
        },
        "xaxis": {
         "anchor": "y",
         "domain": [
          0,
          1
         ],
         "title": {
          "text": "Runtime"
         }
        },
        "yaxis": {
         "anchor": "x",
         "domain": [
          0,
          1
         ]
        }
       }
      },
      "text/html": [
       "<div>                            <div id=\"e9ef665b-310e-430d-9a39-71ca4ef4602e\" class=\"plotly-graph-div\" style=\"height:525px; width:100%;\"></div>            <script type=\"text/javascript\">                require([\"plotly\"], function(Plotly) {                    window.PLOTLYENV=window.PLOTLYENV || {};                                    if (document.getElementById(\"e9ef665b-310e-430d-9a39-71ca4ef4602e\")) {                    Plotly.newPlot(                        \"e9ef665b-310e-430d-9a39-71ca4ef4602e\",                        [{\"alignmentgroup\": \"True\", \"customdata\": [[\"Enter the Anime\", \"English/Japanese\"], [\"Dark Forces\", \"Spanish\"], [\"The App\", \"Italian\"], [\"The Open House\", \"English\"], [\"Kaali Khuhi\", \"Hindi\"], [\"Drive\", \"Hindi\"], [\"Leyla Everlasting\", \"Turkish\"], [\"The Last Days of American Crime\", \"English\"], [\"Paradox\", \"English\"], [\"Sardar Ka Grandson\", \"Hindi\"], [\"Searching for Sheela\", \"English\"], [\"The Call\", \"Korean\"], [\"Whipped\", \"Indonesian\"], [\"All Because of You\", \"Malay\"], [\"Mercy\", \"English\"], [\"After the Raid\", \"Spanish\"], [\"Ghost Stories\", \"Hindi\"], [\"The Last Thing He Wanted\", \"English\"], [\"What Happened to Mr. Cha?\", \"Korean\"], [\"Death Note\", \"English\"], [\"Hello Privilege. It's Me, Chelsea\", \"English\"], [\"Secret Obsession\", \"English\"], [\"Sextuplets\", \"English\"], [\"The Girl on the Train\", \"Hindi\"], [\"Thunder Force\", \"English\"], [\"Fatal Affair\", \"English\"], [\"Just Say Yes\", \"Dutch\"], [\"Seriously Single\", \"English\"], [\"The Misadventures of Hedi and Cokeman\", \"French\"], [\"5 Star Christmas\", \"Italian\"], [\"After Maria\", \"English/Spanish\"], [\"I Am the Pretty Thing That Lives in the House\", \"English\"], [\"Paris Is Us\", \"French\"], [\"Porta dos Fundos: The First Temptation of Christ\", \"Portuguese\"], [\"Rattlesnake\", \"English\"], [\"The Players\", \"Italian\"], [\"We Are One\", \"French\"], [\"Finding Agnes\", \"Filipino\"], [\"IO\", \"English\"], [\"Sentinelle\", \"French\"], [\"Sol Levante\", \"English\"], [\"The Binding\", \"Italian\"], [\"We Can Be Heroes\", \"English\"], [\"Christmas Crossfire\", \"German\"], [\"Coin Heist\", \"English\"], [\"Mrs. Serial Killer\", \"Hindi\"], [\"Nobody Sleeps in the Woods Tonight\", \"Polish\"], [\"Take the 10\", \"English\"], [\"The Main Event\", \"English\"], [\"The Ridiculous 6\", \"English\"], [\"Earth and Blood\", \"French\"], [\"Fearless\", \"English\"], [\"Holiday Rush\", \"English\"], [\"The Day of the Lord\", \"Spanish\"], [\"Airplane Mode\", \"Portuguese\"], [\"How It Ends\", \"English\"], [\"Love Like the Falling Rain\", \"Indonesian\"], [\"Rebirth\", \"English\"], [\"Squared Love\", \"Polish\"], [\"Cadaver\", \"Norwegian\"], [\"Clinical\", \"English\"], [\"Coffee & Kareem\", \"English\"], [\"Dude\", \"English\"], [\"Geez & Ann\", \"Indonesian\"], [\"The Larva Island Movie\", \"English\"], [\"#REALITYHIGH\", \"English\"], [\"American Factory: A Conversation with the Obamas \", \"English\"], [\"Desperados\", \"English\"], [\"Dolly Parton's Christmas on the Square\", \"English\"], [\"Father of the Year\", \"English\"], [\"Firebrand\", \"Marathi\"], [\"Ghost Lab\", \"Thai\"], [\"Girlfriend's Day\", \"English\"], [\"Handsome: A Netflix Mystery Movie\", \"English\"], [\"Hubie Halloween\", \"English\"], [\"Ibiza\", \"English\"], [\"Rim of the World\", \"English\"], [\"Sandy Wexler\", \"English\"], [\"See You Yesterday\", \"English\"], [\"Still Laugh-In: The Stars Celebrate\", \"English\"], [\"Strip Down, Rise Up\", \"English\"], [\"Tall Girl\", \"English\"], [\"The Beast\", \"Italian\"], [\"The Week Of\", \"English\"], [\"A Christmas Prince: The Royal Wedding\", \"English\"], [\"Back to School\", \"French\"], [\"Dangerous Lies\", \"English\"], [\"Gunjan Saxena: The Kargil Girl\", \"Hindi\"], [\"Intuition\", \"Spanish\"], [\"The Most Assassinated Woman in the World\", \"French\"], [\"Things Heard & Seen\", \"English\"], [\"To Each, Her Own\", \"French\"], [\"Who Would You Take to a Deserted Island?\", \"Spanish\"], [\"XOXO\", \"English\"], [\"A Babysitter's Guide to Monster Hunting\", \"English\"], [\"A Christmas Prince: The Royal Baby\", \"English\"], [\"Despite Everything\", \"Spanish\"], [\"Dolly Kitty and Those Twinkling Stars\", \"Hindi\"], [\"Freaks: You're One of Us\", \"German\"], [\"Game Over, Man!\", \"English\"], [\"Guilty\", \"Hindi\"], [\"In the Tall Grass\", \"English\"], [\"Madame Claude\", \"French\"], [\"Naked\", \"English\"], [\"Outside the Wire\", \"English\"], [\"The Princess Switch: Switched Again\", \"English\"], [\"Under the Riccione Sun\", \"Italian\"], [\"A Very Murray Christmas\", \"English\"], [\"Been So Long\", \"English\"], [\"Dead Kids\", \"Filipino\"], [\"Get the Grift\", \"Portuguese\"], [\"Ghosts of Sugar Land\", \"English\"], [\"House Arrest\", \"Hindi\"], [\"Kevin Hart's Guide to Black History\", \"English\"], [\"Love Wedding Repeat\", \"English\"], [\"Mute\", \"English\"], [\"\\u00d2l\\u00f2t?r\\u00e9\", \"English\"], [\"Red Dot\", \"Swedish\"], [\"Ride or Die\", \"Japanese\"], [\"Step Sisters\", \"English\"], [\"The Cloverfield Paradox\", \"English\"], [\"The Knight Before Christmas\", \"English\"], [\"The Legacy of a Whitetail Deer Hunter\", \"English\"], [\"The Package\", \"English\"], [\"Unicorn Store\", \"English\"], [\"Wine Country\", \"English\"], [\"Bomb Scared\", \"Spanish/Basque\"], [\"Brahman Naman\", \"English\"], [\"Double Dad\", \"Portuguese\"], [\"Falling Inn Love\", \"English\"], [\"Hold the Dark\", \"English\"], [\"Love, Guaranteed\", \"English\"], [\"One-Way to Tomorrow\", \"Turkish\"], [\"Sarah Cooper: Everything's Fine\", \"English\"], [\"The Last Laugh\", \"English\"], [\"The Last Paradiso\", \"Italian\"], [\"The Midnight Sky\", \"English\"], [\"The Paramedic\", \"Spanish\"], [\"The Sleepover\", \"English\"], [\"Vampires vs. the Bronx\", \"English\"], [\"Why Did You Kill Me?\", \"English\"], [\"A Week Away\", \"English\"], [\"Caught by a Wave\", \"Italian\"], [\"Christmas Inheritance\", \"English\"], [\"Dad Wanted\", \"Spanish\"], [\"El Camino Christmas\", \"English\"], [\"Eli\", \"English\"], [\"Ginny Weds Sunny\", \"Hindi\"], [\"Good Sam\", \"English\"], [\"Lionheart\", \"English\"], [\"Little Evil\", \"English\"], [\"One Take\", \"Thai\"], [\"Out of Many, One\", \"English\"], [\"Point Blank\", \"English\"], [\"Prime Time\", \"Polish\"], [\"The Do-Over\", \"English\"], [\"The Holiday Calendar\", \"English\"], [\"The Woman in the Window\", \"English\"], [\"The Wrong Missy\", \"English\"], [\"Velvet Buzzsaw\", \"English\"], [\"Yes Day\", \"English\"], [\"15-Aug\", \"Marathi\"], [\"A California Christmas\", \"English\"], [\"A Christmas Prince\", \"English\"], [\"All Day and a Night\", \"English\"], [\"American Son\", \"English\"], [\"Barry\", \"English\"], [\"Candy Jar\", \"English\"], [\"Choked: Paisa Bolta Hai\", \"Hindi\"], [\"Class of '83\", \"Hindi\"], [\"Extinction\", \"English\"], [\"Happy Anniversary\", \"English\"], [\"I Am All Girls\", \"English\"], [\"Let It Snow\", \"English\"], [\"Mascots\", \"English\"], [\"Operation Christmas Drop\", \"English\"], [\"Rajma Chawal\", \"Hindi\"], [\"Rich in Love\", \"Portuguese\"], [\"Rising High\", \"German\"], [\"Rodney King\", \"English\"], [\"Sierra Burgess Is a Loser\", \"English\"], [\"Small Crimes\", \"English\"], [\"Special Correspondents\", \"English\"], [\"TAU\", \"English\"], [\"The After Party\", \"English\"], [\"The Babysitter: Killer Queen\", \"English\"], [\"The Claus Family\", \"Dutch\"], [\"The Kissing Booth 2\", \"English\"], [\"The Perfect Date\", \"English\"], [\"What We Wanted\", \"German\"], [\"You've Got This\", \"Spanish\"], [\"6 Balloons\", \"English\"], [\"A Fall from Grace\", \"English\"], [\"Amateur\", \"English\"], [\"Army of the Dead\", \"English\"], [\"Cam\", \"English\"], [\"Earthquake Bird\", \"English\"], [\"Frankenstein's Monster's Monster, Frankenstein\", \"English\"], [\"Horse Girl\", \"English\"], [\"Notes from Dunblane: Lesson from a School Shooting\", \"English\"], [\"Maska\", \"Hindi\"], [\"The Decline\", \"French\"], [\"The Minimalists: Less Is Now\", \"English\"], [\"The Polka King\", \"English\"], [\"The Prom\", \"English\"], [\"True Memoirs of an International Assassin\", \"English\"], [\"Ultras\", \"Italian\"], [\"Come Sunday\", \"English\"], [\"Forgive Us Our Debts\", \"Italian\"], [\"iBoy\", \"English\"], [\"Lovefucked\", \"Hindi\"], [\"Juanita\", \"English\"], [\"Murder Mystery\", \"English\"], [\"Project Power\", \"English\"], [\"Rebecca\", \"English\"], [\"The Christmas Chronicles: Part Two\", \"English\"], [\"The Kissing Booth\", \"English\"], [\"The Princess Switch\", \"English\"], [\"To All the Boys: P.S. I Still Love You\", \"English\"], [\"War Machine\", \"English\"], [\"6 Underground\", \"English\"], [\"Between Two Ferns: The Movie\", \"English\"], [\"Burning Sands\", \"English\"], [\"Casting JonBenet\", \"English\"], [\"Deidra & Laney Rob a Train\", \"English\"], [\"Finding 'Ohana\", \"English\"], [\"Holidate\", \"English\"], [\"Holiday in the Wild\", \"English\"], [\"Hot Girls Wanted\", \"English\"], [\"Like Father\", \"English\"], [\"Lost Girls\", \"English\"], [\"Otherhood\", \"English\"], [\"Pee-wee's Big Holiday\", \"English\"], [\"Rogue City\", \"French\"], [\"Sergio\", \"English\"], [\"Stuck Apart\", \"Turkish\"], [\"Tersanjung the Movie\", \"Indonesian\"], [\"The Killer\", \"Portuguese\"], [\"The Lovebirds\", \"English\"], [\"The Most Hated Woman in America\", \"English\"], [\"The Perfection\", \"English\"], [\"Tribhanga \\u0096 Tedhi Medhi Crazy\", \"Hindi\"], [\"Unknown Origins\", \"Spanish\"], [\"Work It\", \"English\"], [\"Alien Xmas\", \"English\"], [\"Baggio: The Divine Ponytail\", \"Italian\"], [\"Below Zero\", \"Spanish\"], [\"Citation\", \"English\"], [\"Crazy Awesome Teachers\", \"Indonesian\"], [\"Have You Ever Seen Fireflies?\", \"Turkish\"], [\"High Flying Bird\", \"English\"], [\"In the Shadow of the Moon\", \"English\"], [\"Lost Bullet\", \"French\"], [\"Octonauts & the Caves of Sac Actun\", \"English\"], [\"Offering to the Storm\", \"Spanish\"], [\"Roxanne Roxanne\", \"English\"], [\"Someone Great\", \"English\"], [\"Spenser Confidential\", \"English\"], [\"The Land of Steady Habits\", \"English\"], [\"The Rachel Divide\", \"English\"], [\"Voyuer \", \"English\"], [\"Win It All\", \"English\"], [\"1922\", \"English\"], [\"A Tale of Two Kitchens\", \"English/Spanish\"], [\"Alex Strangelove\", \"English\"], [\"Apostle\", \"English\"], [\"Benji\", \"English\"], [\"Bright\", \"English\"], [\"Cargo\", \"English\"], [\"Concrete Cowboy\", \"English\"], [\"Feel the Beat\", \"English\"], [\"Get the Goat\", \"Portuguese\"], [\"I Am Not an Easy Man\", \"French\"], [\"June & Kopi\", \"Indonesian\"], [\"Music Teacher\", \"Hindi\"], [\"Nail Bomber: Manhunt\", \"English\"], [\"Notes for My Son\", \"Spanish\"], [\"Polar\", \"English\"], [\"Porta dos Fundos: The Last Hangover\", \"Portuguese\"], [\"Sand Castle\", \"English\"], [\"Shimmer Lake\", \"English\"], [\"Spectral\", \"English\"], [\"The Babysitter\", \"English\"], [\"The Discovery\", \"English\"], [\"The Forest of Love\", \"Japanese\"], [\"The Laundromat\", \"English\"], [\"The Legend of Cocaine Island\", \"English\"], [\"The Outsider\", \"English/Japanese\"], [\"Time to Hunt\", \"Korean\"], [\"To All the Boys: Always and Forever\", \"English\"], [\"Travis Scott: Look Mom I Can Fly\", \"English\"], [\"Uncorked\", \"English\"], [\"Anelka: Misunderstood\", \"French\"], [\"Ariana Grande: Excuse Me, I Love You\", \"English\"], [\"ARQ\", \"English\"], [\"Birders\", \"English/Spanish\"], [\"Como Ca\\u00eddo del Cielo\", \"Spanish\"], [\"First Match\", \"English\"], [\"Fractured\", \"English\"], [\"Irreplaceable You\", \"English\"], [\"Isi & Ossi\", \"German\"], [\"John Was Trying to Contact Aliens\", \"English\"], [\"Layla Majnun\", \"Indonesian\"], [\"Murder to Mercy: The Cyntoia Brown Story\", \"English\"], [\"My Own Man\", \"English\"], [\"Nappily Ever After\", \"English\"], [\"Over the Moon\", \"English\"], [\"Street Flow\", \"French\"], [\"Strong Island\", \"English\"], [\"Sturgill Simpson Presents: Sound & Fury\", \"English\"], [\"Take Your Pills\", \"English\"], [\"The Heartbreak Club\", \"Indonesian\"], [\"The Mars Generation\", \"English\"], [\"The Occupant\", \"Spanish\"], [\"The Willoughbys\", \"English\"], [\"Triple Frontier\", \"English\"], [\"Two Catalonias\", \"Spanish/Catalan\"], [\"Walk. Ride. Rodeo.\", \"English\"], [\"Wheelman\", \"English\"], [\"When We First Met\", \"English\"], [\"A 3 Minute Hug\", \"English/Spanish\"], [\"All the Bright Places\", \"English\"], [\"All Together Now\", \"English\"], [\"Altered Carbon: Resleeved\", \"Japanese\"], [\"Antoine Griezmann: The Making of a Legend\", \"French\"], [\"Canvas \", \"English\"], [\"Chadwick Boseman: Portrait of an Artist\", \"English\"], [\"Chopsticks\", \"Hindi\"], [\"Da 5 Bloods\", \"English\"], [\"Dolly Parton: A MusiCares Tribute\", \"English\"], [\"Eurovision Song Contest: The Story of Fire Saga\", \"English\"], [\"Gerald's Game\", \"English\"], [\"His House\", \"English\"], [\"Jingle Jangle: A Christmas Journey\", \"English\"], [\"Life Overtakes Me\", \"English/Swedish\"], [\"Lust Stories\", \"Hindi\"], [\"Monster\", \"English\"], [\"Mowgli: Legend of the Jungle\", \"English\"], [\"Nobody Knows I'm Here\", \"Spanish\"], [\"Nobody Speak: Trials of the Free Press\", \"English\"], [\"Oxygen\", \"French\"], [\"Set It Up\", \"English\"], [\"The Incredible Jessica James\", \"English\"], [\"Tigertail\", \"English/Taiwanese/Mandarin\"], [\"Tramps\", \"English\"], [\"What Did Jack Do?\", \"English\"], [\"Bad Trip\", \"English\"], [\"Bird Box\", \"English\"], [\"Bulbbul\", \"Hindi\"], [\"Crazy About Her\", \"Spanish\"], [\"Elisa & Marcela\", \"Spanish\"], [\"I'll Sleep When I'm Dead\", \"English\"], [\"I'm Thinking of Ending Things\", \"English\"], [\"It Takes a Lunatic\", \"English\"], [\"Milestone\", \"Hindi\"], [\"Recovery Boys\", \"English\"], [\"ReMastered: Who Killed Jam Master Jay?\", \"English\"], [\"Shawn Mendes: In Wonder\", \"English\"], [\"Space Sweepers\", \"Korean\"], [\"The American Meme\", \"English\"], [\"The Angel\", \"English\"], [\"The Crimes That Bind\", \"Spanish\"], [\"The Red Sea Diving Resort\", \"English\"], [\"What Would Sophia Loren Do?\", \"English\"], [\"A Whisker Away\", \"Japanese\"], [\"Ajeeb Daastaans\", \"Hindi\"], [\"Arlo the Alligator Boy\", \"English\"], [\"Bikram: Yogi, Guru, Predator\", \"English\"], [\"Blame!\", \"Japanese\"], [\"Blue Miracle\", \"English\"], [\"CounterPunch \", \"English\"], [\"Crack: Cocaine, Corruption & Conspiracy\", \"English\"], [\"Extraction\", \"English\"], [\"Giving Voice\", \"English\"], [\"Hillbilly Elegy\", \"English\"], [\"Hope Frozen: A Quest to Live Twice\", \"Thia/English\"], [\"Imperial Dreams\", \"English\"], [\"Just Another Christmas\", \"Portuguese\"], [\"Little Miss Sumo\", \"Japanese\"], [\"Malcolm & Marie\", \"English\"], [\"Michael Bolton's Big, Sexy, Valentine's Day Special\", \"English\"], [\"Moxie\", \"English\"], [\"Night in Paradise\", \"Korean\"], [\"Paper Lives\", \"Turkish\"], [\"Parchis: The Documentary\", \"Spanish\"], [\"Tallulah\", \"English\"], [\"The Old Guard\", \"English\"], [\"Tony Robbins: I Am Not Your Guru\", \"English\"], [\"Upstarts\", \"Hindi\"], [\"22-Jul\", \"English\"], [\"7 a\\u00f1os\", \"Spanish\"], [\"A Futile and Stupid Gesture\", \"English\"], [\"A Life of Speed: The Juan Manuel Fangio Story\", \"Spanish\"], [\"A Love Song for Latasha\", \"English\"], [\"All in My Family\", \"English/Mandarin\"], [\"Always Be My Maybe\", \"English\"], [\"Becoming\", \"English\"], [\"Long Live Brij Mohan\", \"Hindi\"], [\"Calibre\", \"English\"], [\"Death to 2020\", \"English\"], [\"GIMS: On the Record\", \"French\"], [\"Have a Good Trip: Adventures in Psychedelics\", \"English\"], [\"Heroin(e) \", \"English\"], [\"Mercury 13\", \"English\"], [\"Saving Capitalism\", \"English\"], [\"Serious Men\", \"Hindi\"], [\"The Boys in the Band\", \"English\"], [\"The Boys in the Band: Something Personal\", \"English\"], [\"The Life Ahead\", \"Italian\"], [\"The Other Side of the Wind\", \"English\"], [\"The Trader\", \"Georgian\"], [\"To the Bone\", \"English\"], [\"Tony Parker: The Final Shot\", \"French\"], [\"AK vs AK\", \"Hindi\"], [\"Amanda Knox\", \"English\"], [\"Bigflo & Oil: Hip Hop Frenzy\", \"French\"], [\"Biggie: I Got a Story to Tell\", \"English\"], [\"Cops and Robbers\", \"English\"], [\"I Don't Feel at Home in This World Anymore\", \"English\"], [\"Laerte-se\", \"Portuguese\"], [\"Mank\", \"English\"], [\"Our Souls at Night\", \"English\"], [\"Outlaw King\", \"English\"], [\"Pagglait\", \"Hindi\"], [\"ReMastered: Who Shot the Sheriff?\", \"English\"], [\"Seeing Allred\", \"English\"], [\"Spelling the Dream\", \"English\"], [\"The Claudia Kishi Club\", \"English\"], [\"The Half of It\", \"English\"], [\"The Highwaymen\", \"English\"], [\"The Lonely Island Presents: The Unauthorized Bash Brothers Experience\", \"English\"], [\"The Meyerowitz Stories (New and Selected)\", \"English\"], [\"Feminists: What Were They Thinking?\", \"English\"], [\"Gaga: Five Foot Two\", \"English\"], [\"I'm No Longer Here: A Discussion with Guillermo del Toro and Alfonso Cuaron\", \"English\"], [\"Kingdom of Us\", \"English\"], [\"Lorena, Light-Footed Woman\", \"Spanish\"], [\"Los Tigres del Norte at Folsom Prison\", \"Spanish\"], [\"Ma Rainey's Black Bottom\", \"English\"], [\"Ma Rainey's Black Bottom: A Legacy Brought to Screen\", \"English\"], [\"Operation Varsity Blues: The College Admissions Scandal\", \"English\"], [\"Pele\", \"English\"], [\"ReMastered: Devil at the Crossroads\", \"English\"], [\"ReMastered: The Lion's Share\", \"English\"], [\"ReMastered: The Miami Showband Massacre\", \"English\"], [\"Resurface\", \"English\"], [\"Rocko's Modern Life: Static Cling\", \"English\"], [\"Rose Island\", \"Italian\"], [\"The Christmas Chronicles\", \"English\"], [\"The Dirt\", \"English\"], [\"The Night Comes for Us\", \"Indonesian\"], [\"13th: A Conversation with Oprah Winfrey & Ava DuVernay\", \"English\"], [\"Angela's Christmas\", \"English\"], [\"Angela's Christmas Wish\", \"English\"], [\"Beats\", \"English\"], [\"Circus of Books\", \"English\"], [\"Dance Dreams: Hot Chocolate Nutcracker\", \"English\"], [\"Derren Brown: Sacrifice\", \"English\"], [\"El Pepe: A Supreme Life\", \"Spanish\"], [\"End Game\", \"English\"], [\"Evelyn\", \"English\"], [\"Ferry\", \"Dutch\"], [\"Grass Is Greener\", \"English\"], [\"Guillermo Vilas: Settling the Score\", \"Spanish\"], [\"Joshua: Teenager vs. Superpower\", \"English\"], [\"Keith Richards: Under the Influence\", \"English\"], [\"Knock Down the House\", \"English\"], [\"Loudon Wainwright III: Surviving Twin\", \"English\"], [\"My Beautiful Broken Brain\", \"English\"], [\"One of Us\", \"English\"], [\"Pieces of a Woman\", \"English\"], [\"Ram Dass, Going Home\", \"English\"], [\"ReMastered: Tricky Dick & the Man in Black\", \"English\"], [\"Rooting for Roona\", \"Bengali\"], [\"The Devil All the Time\", \"English\"], [\"The Dig\", \"English\"], [\"The Great Hack\", \"English\"], [\"The White Tiger\", \"English\"], [\"To All the Boys I've Loved Before\", \"English\"], [\"American Murder: The Family Next Door\", \"English\"], [\"Audrie & Daisy\", \"English\"], [\"First They Killed My Father\", \"Khmer/English/French\"], [\"Fyre: The Greatest Party That Never Happened\", \"English\"], [\"Into the Inferno\", \"English\"], [\"LA Originals\", \"English\"], [\"Ladies First\", \"English/Hindi\"], [\"Love per Square Foot\", \"Hindi\"], [\"Paddleton\", \"English\"], [\"Private Life\", \"English\"], [\"Seventeen\", \"Spanish\"], [\"Sometimes\", \"Tamil\"], [\"Soni\", \"Hindi\"], [\"The 40-Year-Old Version\", \"English\"], [\"The Disciple\", \"Marathi\"], [\"The Edge of Democracy\", \"Portuguese\"], [\"The King\", \"English\"], [\"The Road to El Camino: A Breaking Bad Movie\", \"English\"], [\"The Siege of Jadotville\", \"English\"], [\"Zion \", \"English\"], [\"Dolemite Is My Name\", \"English\"], [\"El Camino: A Breaking Bad Movie\", \"English\"], [\"Extremis\", \"English\"], [\"Father Soldier Son\", \"English\"], [\"Get Me Roger Stone\", \"English\"], [\"I'm No Longer Here\", \"Spanish\"], [\"Mucho Mucho Amor: The Legend of Walter Mercado \", \"Spanish/English\"], [\"Octonauts & the Great Barrier Reef\", \"English\"], [\"Okja\", \"English/Korean\"], [\"On My Skin\", \"Italian\"], [\"Raat Akeli Hai\", \"Hindi\"], [\"ReMastered: Massacre at the Stadium\", \"English/Spanish\"], [\"ReMastered: The Two Killings of Sam Cooke\", \"English\"], [\"Secrets of the Saqqara Tomb\", \"English/Arabic\"], [\"Sitara: Let Girls Dream\", \"English\"], [\"Sky Ladder: The Art of Cai Guo-Qiang\", \"English/Mandarin\"], [\"Team Foxcatcher\", \"English/Russian\"], [\"The Ballad of Buster Scruggs\", \"English\"], [\"The Death and Life of Marsha P. Johnson\", \"English\"], [\"The Fundamentals of Caring\", \"English\"], [\"The Other One: The Long Strange Trip of Bob Weir\", \"English\"], [\"American Factory\", \"English\"], [\"Fire in Paradise\", \"English\"], [\"Long Shot\", \"English\"], [\"Miss Americana\", \"English\"], [\"Period. End of Sentence.\", \"English/Hindi\"], [\"Shawn Mendes: Live in Concert\", \"English\"], [\"Shirkers\", \"English\"], [\"The Black Godfather\", \"English\"], [\"The Irishman: In Conversation\", \"English\"], [\"The Speed Cubers\", \"English\"], [\"They'll Love Me When I'm Dead\", \"English\"], [\"Tig\", \"English\"], [\"Barbra: The Music, The Mem'ries, The Magic!\", \"English\"], [\"Blackpink: Light Up the Sky\", \"Korean\"], [\"City of Joy\", \"English\"], [\"Dick Johnson Is Dead\", \"English\"], [\"Homecoming: A Film by Beyonce \", \"English\"], [\"Invader Zim: Enter the Florpus\", \"English\"], [\"Joan Didion: The Center Will Not Hold\", \"English\"], [\"John Mulaney & the Sack Lunch Bunch\", \"English\"], [\"Reversing Roe\", \"English\"], [\"The White Helmets\", \"English\"], [\"Athlete A\", \"English\"], [\"Ludo\", \"Hindi\"], [\"Quincy\", \"English\"], [\"Rolling Thunder Revue: A bob Dylan Story by Martin Scorsere\", \"English\"], [\"Tell Me Who I Am\", \"English\"], [\"The Bleeding Edge\", \"English\"], [\"The Social Dilemma\", \"English\"], [\"The Two Popes\", \"English\"], [\"What Happened, Miss Simone?\", \"English\"], [\"Yeh Ballet\", \"Hindi\"], [\"Anima\", \"English\"], [\"Beasts of No Nation\", \"English/Akan\"], [\"Brene Brown: The Call to Courage\", \"English\"], [\"Crip Camp: A Disability Revolution\", \"English\"], [\"Jim & Andy: The Great Beyond - Featuring a Very Special, Contractually Obligated Mention of Tony Cliffton \", \"English\"], [\"Justin Timberlake + The Tennessee Kids\", \"English\"], [\"Road to Roma\", \"Spanish\"], [\"Roma\", \"Spanish\"], [\"If Anything Happens I Love You\", \"English\"], [\"The Irishman\", \"English\"], [\"The Trial of the Chicago 7\", \"English\"], [\"A Secret Love\", \"English\"], [\"Icarus\", \"English\"], [\"Marriage Story\", \"English\"], [\"The Ivory Game\", \"English\"], [\"Struggle: The Life and Lost Art of Szukaiski\", \"English\"], [\"Chasing Coral \", \"English\"], [\"My Octopus Teacher\", \"English\"], [\"Rising Phoenix\", \"English\"], [\"13th\", \"English\"], [\"Disclosure: Trans Lives on Screen\", \"English\"], [\"Klaus\", \"English\"], [\"Seaspiracy\", \"English\"], [\"The Three Deaths of Marisela Escobedo\", \"Spanish\"], [\"Cuba and the Cameraman \", \"English\"], [\"Dancing with the Birds\", \"English\"], [\"Ben Platt: Live from Radio City Music Hall\", \"English\"], [\"Taylor Swift: Reputation Stadium Tour\", \"English\"], [\"Winter on Fire: Ukraine's Fight for Freedom\", \"English/Ukranian/Russian\"], [\"Springsteen on Broadway\", \"English\"], [\"Emicida: AmarElo - It's All For Yesterday\", \"Portuguese\"], [\"David Attenborough: A Life on Our Planet\", \"English\"]], \"hovertemplate\": \"Runtime=%{x}<br>Title=%{customdata[0]}<br>Language=%{customdata[1]}<extra></extra>\", \"legendgroup\": \"\", \"marker\": {\"color\": \"#636efa\"}, \"name\": \"\", \"notched\": false, \"offsetgroup\": \"\", \"orientation\": \"h\", \"quartilemethod\": \"inclusive\", \"showlegend\": false, \"type\": \"box\", \"x\": [58, 81, 79, 94, 90, 147, 112, 149, 73, 139, 58, 112, 97, 101, 90, 25, 144, 115, 102, 100, 64, 97, 99, 120, 105, 89, 97, 107, 99, 95, 37, 89, 83, 46, 85, 88, 86, 105, 95, 80, 4, 93, 100, 106, 97, 106, 103, 80, 101, 119, 80, 89, 94, 93, 96, 113, 86, 100, 102, 86, 104, 88, 97, 105, 90, 99, 10, 106, 98, 94, 112, 117, 70, 81, 103, 94, 98, 131, 87, 60, 112, 102, 99, 116, 92, 83, 97, 112, 116, 102, 121, 95, 93, 92, 98, 85, 78, 120, 92, 101, 119, 101, 112, 96, 114, 97, 101, 56, 100, 94, 94, 21, 104, 63, 100, 126, 106, 86, 142, 108, 102, 92, 83, 94, 92, 103, 89, 95, 103, 97, 125, 91, 90, 49, 98, 107, 118, 94, 103, 86, 83, 97, 99, 104, 102, 89, 98, 125, 89, 94, 94, 85, 34, 86, 91, 108, 95, 100, 90, 112, 86, 124, 107, 92, 121, 90, 104, 92, 114, 98, 95, 78, 107, 92, 95, 96, 118, 105, 94, 52, 105, 95, 100, 97, 89, 102, 96, 131, 89, 93, 111, 75, 120, 96, 148, 94, 107, 32, 104, 23, 111, 83, 53, 95, 132, 98, 108, 106, 104, 90, 106, 90, 97, 113, 123, 115, 105, 101, 102, 122, 128, 82, 102, 80, 94, 123, 104, 85, 84, 103, 95, 100, 89, 116, 118, 96, 114, 99, 87, 92, 90, 95, 96, 93, 42, 92, 106, 151, 101, 114, 90, 115, 92, 72, 139, 98, 92, 111, 98, 104, 95, 88, 102, 30, 99, 129, 87, 117, 104, 111, 107, 97, 98, 90, 101, 72, 83, 118, 44, 113, 86, 108, 85, 102, 151, 98, 87, 120, 134, 109, 85, 103, 94, 97, 88, 37, 112, 102, 100, 96, 113, 16, 119, 97, 81, 98, 95, 96, 107, 41, 87, 101, 97, 103, 90, 125, 116, 99, 82, 97, 28, 108, 93, 74, 60, 9, 21, 100, 155, 55, 123, 103, 93, 119, 40, 120, 98, 104, 91, 95, 101, 105, 83, 91, 83, 17, 86, 124, 94, 102, 118, 79, 134, 126, 98, 89, 58, 83, 136, 98, 114, 99, 130, 32, 104, 142, 92, 86, 106, 95, 91, 89, 117, 90, 117, 80, 87, 101, 19, 106, 54, 111, 132, 97, 106, 111, 124, 116, 112, 144, 76, 101, 92, 19, 39, 102, 89, 105, 101, 70, 96, 85, 39, 79, 73, 114, 121, 28, 95, 122, 23, 107, 98, 108, 92, 100, 97, 7, 96, 100, 132, 103, 121, 114, 57, 95, 83, 17, 105, 131, 30, 112, 86, 100, 14, 109, 28, 64, 94, 31, 99, 108, 48, 84, 70, 27, 45, 117, 104, 108, 121, 36, 30, 47, 110, 92, 80, 49, 73, 40, 96, 106, 97, 94, 78, 81, 87, 91, 91, 95, 126, 31, 58, 41, 138, 112, 114, 125, 99, 82, 98, 136, 97, 107, 92, 39, 133, 89, 124, 99, 101, 97, 124, 129, 121, 140, 13, 108, 11, 118, 121, 24, 100, 101, 105, 96, 47, 121, 100, 149, 64, 64, 114, 15, 79, 90, 132, 105, 97, 83, 110, 39, 40, 85, 26, 87, 97, 118, 23, 40, 98, 80, 108, 79, 74, 90, 137, 71, 98, 70, 99, 40, 104, 149, 124, 144, 85, 100, 94, 125, 84, 117, 15, 136, 76, 108, 94, 90, 72, 135, 12, 209, 130, 82, 120, 136, 112, 105, 89, 85, 106, 100, 107, 97, 89, 109, 114, 51, 85, 125, 91, 153, 89, 83], \"x0\": \" \", \"xaxis\": \"x\", \"y0\": \" \", \"yaxis\": \"y\"}],                        {\"boxmode\": \"group\", \"legend\": {\"tracegroupgap\": 0}, \"margin\": {\"t\": 60}, \"template\": {\"data\": {\"bar\": [{\"error_x\": {\"color\": \"#2a3f5f\"}, \"error_y\": {\"color\": \"#2a3f5f\"}, \"marker\": {\"line\": {\"color\": \"#E5ECF6\", \"width\": 0.5}}, \"type\": \"bar\"}], \"barpolar\": [{\"marker\": {\"line\": {\"color\": \"#E5ECF6\", \"width\": 0.5}}, \"type\": \"barpolar\"}], \"carpet\": [{\"aaxis\": {\"endlinecolor\": \"#2a3f5f\", \"gridcolor\": \"white\", \"linecolor\": \"white\", \"minorgridcolor\": \"white\", \"startlinecolor\": \"#2a3f5f\"}, \"baxis\": {\"endlinecolor\": \"#2a3f5f\", \"gridcolor\": \"white\", \"linecolor\": \"white\", \"minorgridcolor\": \"white\", \"startlinecolor\": \"#2a3f5f\"}, \"type\": \"carpet\"}], \"choropleth\": [{\"colorbar\": {\"outlinewidth\": 0, \"ticks\": \"\"}, \"type\": \"choropleth\"}], \"contour\": [{\"colorbar\": {\"outlinewidth\": 0, \"ticks\": \"\"}, \"colorscale\": [[0.0, \"#0d0887\"], [0.1111111111111111, \"#46039f\"], [0.2222222222222222, \"#7201a8\"], [0.3333333333333333, \"#9c179e\"], [0.4444444444444444, \"#bd3786\"], [0.5555555555555556, \"#d8576b\"], [0.6666666666666666, \"#ed7953\"], [0.7777777777777778, \"#fb9f3a\"], [0.8888888888888888, \"#fdca26\"], [1.0, \"#f0f921\"]], \"type\": \"contour\"}], \"contourcarpet\": [{\"colorbar\": {\"outlinewidth\": 0, \"ticks\": \"\"}, \"type\": \"contourcarpet\"}], \"heatmap\": [{\"colorbar\": {\"outlinewidth\": 0, \"ticks\": \"\"}, \"colorscale\": [[0.0, \"#0d0887\"], [0.1111111111111111, \"#46039f\"], [0.2222222222222222, \"#7201a8\"], [0.3333333333333333, \"#9c179e\"], [0.4444444444444444, \"#bd3786\"], [0.5555555555555556, \"#d8576b\"], [0.6666666666666666, \"#ed7953\"], [0.7777777777777778, \"#fb9f3a\"], [0.8888888888888888, \"#fdca26\"], [1.0, \"#f0f921\"]], \"type\": \"heatmap\"}], \"heatmapgl\": [{\"colorbar\": {\"outlinewidth\": 0, \"ticks\": \"\"}, \"colorscale\": [[0.0, \"#0d0887\"], [0.1111111111111111, \"#46039f\"], [0.2222222222222222, \"#7201a8\"], [0.3333333333333333, \"#9c179e\"], [0.4444444444444444, \"#bd3786\"], [0.5555555555555556, \"#d8576b\"], [0.6666666666666666, \"#ed7953\"], [0.7777777777777778, \"#fb9f3a\"], [0.8888888888888888, \"#fdca26\"], [1.0, \"#f0f921\"]], \"type\": \"heatmapgl\"}], \"histogram\": [{\"marker\": {\"colorbar\": {\"outlinewidth\": 0, \"ticks\": \"\"}}, \"type\": \"histogram\"}], \"histogram2d\": [{\"colorbar\": {\"outlinewidth\": 0, \"ticks\": \"\"}, \"colorscale\": [[0.0, \"#0d0887\"], [0.1111111111111111, \"#46039f\"], [0.2222222222222222, \"#7201a8\"], [0.3333333333333333, \"#9c179e\"], [0.4444444444444444, \"#bd3786\"], [0.5555555555555556, \"#d8576b\"], [0.6666666666666666, \"#ed7953\"], [0.7777777777777778, \"#fb9f3a\"], [0.8888888888888888, \"#fdca26\"], [1.0, \"#f0f921\"]], \"type\": \"histogram2d\"}], \"histogram2dcontour\": [{\"colorbar\": {\"outlinewidth\": 0, \"ticks\": \"\"}, \"colorscale\": [[0.0, \"#0d0887\"], [0.1111111111111111, \"#46039f\"], [0.2222222222222222, \"#7201a8\"], [0.3333333333333333, \"#9c179e\"], [0.4444444444444444, \"#bd3786\"], [0.5555555555555556, \"#d8576b\"], [0.6666666666666666, \"#ed7953\"], [0.7777777777777778, \"#fb9f3a\"], [0.8888888888888888, \"#fdca26\"], [1.0, \"#f0f921\"]], \"type\": \"histogram2dcontour\"}], \"mesh3d\": [{\"colorbar\": {\"outlinewidth\": 0, \"ticks\": \"\"}, \"type\": \"mesh3d\"}], \"parcoords\": [{\"line\": {\"colorbar\": {\"outlinewidth\": 0, \"ticks\": \"\"}}, \"type\": \"parcoords\"}], \"pie\": [{\"automargin\": true, \"type\": \"pie\"}], \"scatter\": [{\"marker\": {\"colorbar\": {\"outlinewidth\": 0, \"ticks\": \"\"}}, \"type\": \"scatter\"}], \"scatter3d\": [{\"line\": {\"colorbar\": {\"outlinewidth\": 0, \"ticks\": \"\"}}, \"marker\": {\"colorbar\": {\"outlinewidth\": 0, \"ticks\": \"\"}}, \"type\": \"scatter3d\"}], \"scattercarpet\": [{\"marker\": {\"colorbar\": {\"outlinewidth\": 0, \"ticks\": \"\"}}, \"type\": \"scattercarpet\"}], \"scattergeo\": [{\"marker\": {\"colorbar\": {\"outlinewidth\": 0, \"ticks\": \"\"}}, \"type\": \"scattergeo\"}], \"scattergl\": [{\"marker\": {\"colorbar\": {\"outlinewidth\": 0, \"ticks\": \"\"}}, \"type\": \"scattergl\"}], \"scattermapbox\": [{\"marker\": {\"colorbar\": {\"outlinewidth\": 0, \"ticks\": \"\"}}, \"type\": \"scattermapbox\"}], \"scatterpolar\": [{\"marker\": {\"colorbar\": {\"outlinewidth\": 0, \"ticks\": \"\"}}, \"type\": \"scatterpolar\"}], \"scatterpolargl\": [{\"marker\": {\"colorbar\": {\"outlinewidth\": 0, \"ticks\": \"\"}}, \"type\": \"scatterpolargl\"}], \"scatterternary\": [{\"marker\": {\"colorbar\": {\"outlinewidth\": 0, \"ticks\": \"\"}}, \"type\": \"scatterternary\"}], \"surface\": [{\"colorbar\": {\"outlinewidth\": 0, \"ticks\": \"\"}, \"colorscale\": [[0.0, \"#0d0887\"], [0.1111111111111111, \"#46039f\"], [0.2222222222222222, \"#7201a8\"], [0.3333333333333333, \"#9c179e\"], [0.4444444444444444, \"#bd3786\"], [0.5555555555555556, \"#d8576b\"], [0.6666666666666666, \"#ed7953\"], [0.7777777777777778, \"#fb9f3a\"], [0.8888888888888888, \"#fdca26\"], [1.0, \"#f0f921\"]], \"type\": \"surface\"}], \"table\": [{\"cells\": {\"fill\": {\"color\": \"#EBF0F8\"}, \"line\": {\"color\": \"white\"}}, \"header\": {\"fill\": {\"color\": \"#C8D4E3\"}, \"line\": {\"color\": \"white\"}}, \"type\": \"table\"}]}, \"layout\": {\"annotationdefaults\": {\"arrowcolor\": \"#2a3f5f\", \"arrowhead\": 0, \"arrowwidth\": 1}, \"autotypenumbers\": \"strict\", \"coloraxis\": {\"colorbar\": {\"outlinewidth\": 0, \"ticks\": \"\"}}, \"colorscale\": {\"diverging\": [[0, \"#8e0152\"], [0.1, \"#c51b7d\"], [0.2, \"#de77ae\"], [0.3, \"#f1b6da\"], [0.4, \"#fde0ef\"], [0.5, \"#f7f7f7\"], [0.6, \"#e6f5d0\"], [0.7, \"#b8e186\"], [0.8, \"#7fbc41\"], [0.9, \"#4d9221\"], [1, \"#276419\"]], \"sequential\": [[0.0, \"#0d0887\"], [0.1111111111111111, \"#46039f\"], [0.2222222222222222, \"#7201a8\"], [0.3333333333333333, \"#9c179e\"], [0.4444444444444444, \"#bd3786\"], [0.5555555555555556, \"#d8576b\"], [0.6666666666666666, \"#ed7953\"], [0.7777777777777778, \"#fb9f3a\"], [0.8888888888888888, \"#fdca26\"], [1.0, \"#f0f921\"]], \"sequentialminus\": [[0.0, \"#0d0887\"], [0.1111111111111111, \"#46039f\"], [0.2222222222222222, \"#7201a8\"], [0.3333333333333333, \"#9c179e\"], [0.4444444444444444, \"#bd3786\"], [0.5555555555555556, \"#d8576b\"], [0.6666666666666666, \"#ed7953\"], [0.7777777777777778, \"#fb9f3a\"], [0.8888888888888888, \"#fdca26\"], [1.0, \"#f0f921\"]]}, \"colorway\": [\"#636efa\", \"#EF553B\", \"#00cc96\", \"#ab63fa\", \"#FFA15A\", \"#19d3f3\", \"#FF6692\", \"#B6E880\", \"#FF97FF\", \"#FECB52\"], \"font\": {\"color\": \"#2a3f5f\"}, \"geo\": {\"bgcolor\": \"white\", \"lakecolor\": \"white\", \"landcolor\": \"#E5ECF6\", \"showlakes\": true, \"showland\": true, \"subunitcolor\": \"white\"}, \"hoverlabel\": {\"align\": \"left\"}, \"hovermode\": \"closest\", \"mapbox\": {\"style\": \"light\"}, \"paper_bgcolor\": \"white\", \"plot_bgcolor\": \"#E5ECF6\", \"polar\": {\"angularaxis\": {\"gridcolor\": \"white\", \"linecolor\": \"white\", \"ticks\": \"\"}, \"bgcolor\": \"#E5ECF6\", \"radialaxis\": {\"gridcolor\": \"white\", \"linecolor\": \"white\", \"ticks\": \"\"}}, \"scene\": {\"xaxis\": {\"backgroundcolor\": \"#E5ECF6\", \"gridcolor\": \"white\", \"gridwidth\": 2, \"linecolor\": \"white\", \"showbackground\": true, \"ticks\": \"\", \"zerolinecolor\": \"white\"}, \"yaxis\": {\"backgroundcolor\": \"#E5ECF6\", \"gridcolor\": \"white\", \"gridwidth\": 2, \"linecolor\": \"white\", \"showbackground\": true, \"ticks\": \"\", \"zerolinecolor\": \"white\"}, \"zaxis\": {\"backgroundcolor\": \"#E5ECF6\", \"gridcolor\": \"white\", \"gridwidth\": 2, \"linecolor\": \"white\", \"showbackground\": true, \"ticks\": \"\", \"zerolinecolor\": \"white\"}}, \"shapedefaults\": {\"line\": {\"color\": \"#2a3f5f\"}}, \"ternary\": {\"aaxis\": {\"gridcolor\": \"white\", \"linecolor\": \"white\", \"ticks\": \"\"}, \"baxis\": {\"gridcolor\": \"white\", \"linecolor\": \"white\", \"ticks\": \"\"}, \"bgcolor\": \"#E5ECF6\", \"caxis\": {\"gridcolor\": \"white\", \"linecolor\": \"white\", \"ticks\": \"\"}}, \"title\": {\"x\": 0.05}, \"xaxis\": {\"automargin\": true, \"gridcolor\": \"white\", \"linecolor\": \"white\", \"ticks\": \"\", \"title\": {\"standoff\": 15}, \"zerolinecolor\": \"white\", \"zerolinewidth\": 2}, \"yaxis\": {\"automargin\": true, \"gridcolor\": \"white\", \"linecolor\": \"white\", \"ticks\": \"\", \"title\": {\"standoff\": 15}, \"zerolinecolor\": \"white\", \"zerolinewidth\": 2}}}, \"xaxis\": {\"anchor\": \"y\", \"domain\": [0.0, 1.0], \"title\": {\"text\": \"Runtime\"}}, \"yaxis\": {\"anchor\": \"x\", \"domain\": [0.0, 1.0]}},                        {\"responsive\": true}                    ).then(function(){\n",
       "                            \n",
       "var gd = document.getElementById('e9ef665b-310e-430d-9a39-71ca4ef4602e');\n",
       "var x = new MutationObserver(function (mutations, observer) {{\n",
       "        var display = window.getComputedStyle(gd).display;\n",
       "        if (!display || display === 'none') {{\n",
       "            console.log([gd, 'removed!']);\n",
       "            Plotly.purge(gd);\n",
       "            observer.disconnect();\n",
       "        }}\n",
       "}});\n",
       "\n",
       "// Listen for the removal of the full notebook cells\n",
       "var notebookContainer = gd.closest('#notebook-container');\n",
       "if (notebookContainer) {{\n",
       "    x.observe(notebookContainer, {childList: true});\n",
       "}}\n",
       "\n",
       "// Listen for the clearing of the current output cell\n",
       "var outputEl = gd.closest('.output');\n",
       "if (outputEl) {{\n",
       "    x.observe(outputEl, {childList: true});\n",
       "}}\n",
       "\n",
       "                        })                };                });            </script>        </div>"
      ]
     },
     "metadata": {},
     "output_type": "display_data"
    }
   ],
   "source": [
    "#Visulaize the output of data\n",
    "fig = px.box(netflix_orginal_df,x='Runtime', hover_data = netflix_orginal_df[['Title', 'Language']])\n",
    "fig.update_traces(quartilemethod=\"inclusive\")\n",
    "# fig.update_traces(fillcolor=\"green\")\n",
    "fig.show()"
   ]
  },
  {
   "cell_type": "markdown",
   "metadata": {},
   "source": [
    "# 2. IMDB values of movies shot in the \"Documentary' genre between January 2019 and june 2020"
   ]
  },
  {
   "cell_type": "code",
   "execution_count": 24,
   "metadata": {},
   "outputs": [
    {
     "data": {
      "text/html": [
       "<div>\n",
       "<style scoped>\n",
       "    .dataframe tbody tr th:only-of-type {\n",
       "        vertical-align: middle;\n",
       "    }\n",
       "\n",
       "    .dataframe tbody tr th {\n",
       "        vertical-align: top;\n",
       "    }\n",
       "\n",
       "    .dataframe thead th {\n",
       "        text-align: right;\n",
       "    }\n",
       "</style>\n",
       "<table border=\"1\" class=\"dataframe\">\n",
       "  <thead>\n",
       "    <tr style=\"text-align: right;\">\n",
       "      <th></th>\n",
       "      <th>Title</th>\n",
       "      <th>Genre</th>\n",
       "      <th>Premiere</th>\n",
       "      <th>Runtime</th>\n",
       "      <th>IMDB Score</th>\n",
       "      <th>Language</th>\n",
       "      <th>year</th>\n",
       "      <th>month</th>\n",
       "      <th>weekday</th>\n",
       "    </tr>\n",
       "  </thead>\n",
       "  <tbody>\n",
       "    <tr>\n",
       "      <th>0</th>\n",
       "      <td>Enter the Anime</td>\n",
       "      <td>Documentary</td>\n",
       "      <td>2019-08-05</td>\n",
       "      <td>58</td>\n",
       "      <td>2.5</td>\n",
       "      <td>English/Japanese</td>\n",
       "      <td>2019</td>\n",
       "      <td>August</td>\n",
       "      <td>Monday</td>\n",
       "    </tr>\n",
       "    <tr>\n",
       "      <th>15</th>\n",
       "      <td>After the Raid</td>\n",
       "      <td>Documentary</td>\n",
       "      <td>2019-12-19</td>\n",
       "      <td>25</td>\n",
       "      <td>4.3</td>\n",
       "      <td>Spanish</td>\n",
       "      <td>2019</td>\n",
       "      <td>December</td>\n",
       "      <td>Thursday</td>\n",
       "    </tr>\n",
       "    <tr>\n",
       "      <th>20</th>\n",
       "      <td>Hello Privilege. It's Me, Chelsea</td>\n",
       "      <td>Documentary</td>\n",
       "      <td>2019-09-13</td>\n",
       "      <td>64</td>\n",
       "      <td>4.4</td>\n",
       "      <td>English</td>\n",
       "      <td>2019</td>\n",
       "      <td>September</td>\n",
       "      <td>Friday</td>\n",
       "    </tr>\n",
       "    <tr>\n",
       "      <th>30</th>\n",
       "      <td>After Maria</td>\n",
       "      <td>Documentary</td>\n",
       "      <td>2019-05-24</td>\n",
       "      <td>37</td>\n",
       "      <td>4.6</td>\n",
       "      <td>English/Spanish</td>\n",
       "      <td>2019</td>\n",
       "      <td>May</td>\n",
       "      <td>Friday</td>\n",
       "    </tr>\n",
       "    <tr>\n",
       "      <th>111</th>\n",
       "      <td>Ghosts of Sugar Land</td>\n",
       "      <td>Documentary</td>\n",
       "      <td>2019-10-16</td>\n",
       "      <td>21</td>\n",
       "      <td>5.5</td>\n",
       "      <td>English</td>\n",
       "      <td>2019</td>\n",
       "      <td>October</td>\n",
       "      <td>Wednesday</td>\n",
       "    </tr>\n",
       "    <tr>\n",
       "      <th>151</th>\n",
       "      <td>One Take</td>\n",
       "      <td>Documentary</td>\n",
       "      <td>2020-06-18</td>\n",
       "      <td>85</td>\n",
       "      <td>5.7</td>\n",
       "      <td>Thai</td>\n",
       "      <td>2020</td>\n",
       "      <td>June</td>\n",
       "      <td>Thursday</td>\n",
       "    </tr>\n",
       "    <tr>\n",
       "      <th>263</th>\n",
       "      <td>A Tale of Two Kitchens</td>\n",
       "      <td>Documentary</td>\n",
       "      <td>2019-05-22</td>\n",
       "      <td>30</td>\n",
       "      <td>6.3</td>\n",
       "      <td>English/Spanish</td>\n",
       "      <td>2019</td>\n",
       "      <td>May</td>\n",
       "      <td>Wednesday</td>\n",
       "    </tr>\n",
       "    <tr>\n",
       "      <th>286</th>\n",
       "      <td>The Legend of Cocaine Island</td>\n",
       "      <td>Documentary</td>\n",
       "      <td>2019-03-29</td>\n",
       "      <td>87</td>\n",
       "      <td>6.3</td>\n",
       "      <td>English</td>\n",
       "      <td>2019</td>\n",
       "      <td>March</td>\n",
       "      <td>Friday</td>\n",
       "    </tr>\n",
       "    <tr>\n",
       "      <th>290</th>\n",
       "      <td>Travis Scott: Look Mom I Can Fly</td>\n",
       "      <td>Documentary</td>\n",
       "      <td>2019-08-28</td>\n",
       "      <td>85</td>\n",
       "      <td>6.3</td>\n",
       "      <td>English</td>\n",
       "      <td>2019</td>\n",
       "      <td>August</td>\n",
       "      <td>Wednesday</td>\n",
       "    </tr>\n",
       "    <tr>\n",
       "      <th>295</th>\n",
       "      <td>Birders</td>\n",
       "      <td>Documentary</td>\n",
       "      <td>2019-09-25</td>\n",
       "      <td>37</td>\n",
       "      <td>6.4</td>\n",
       "      <td>English/Spanish</td>\n",
       "      <td>2019</td>\n",
       "      <td>September</td>\n",
       "      <td>Wednesday</td>\n",
       "    </tr>\n",
       "    <tr>\n",
       "      <th>303</th>\n",
       "      <td>Murder to Mercy: The Cyntoia Brown Story</td>\n",
       "      <td>Documentary</td>\n",
       "      <td>2020-04-29</td>\n",
       "      <td>97</td>\n",
       "      <td>6.4</td>\n",
       "      <td>English</td>\n",
       "      <td>2020</td>\n",
       "      <td>April</td>\n",
       "      <td>Wednesday</td>\n",
       "    </tr>\n",
       "    <tr>\n",
       "      <th>320</th>\n",
       "      <td>A 3 Minute Hug</td>\n",
       "      <td>Documentary</td>\n",
       "      <td>2019-10-28</td>\n",
       "      <td>28</td>\n",
       "      <td>6.5</td>\n",
       "      <td>English/Spanish</td>\n",
       "      <td>2019</td>\n",
       "      <td>October</td>\n",
       "      <td>Monday</td>\n",
       "    </tr>\n",
       "    <tr>\n",
       "      <th>324</th>\n",
       "      <td>Antoine Griezmann: The Making of a Legend</td>\n",
       "      <td>Documentary</td>\n",
       "      <td>2019-03-21</td>\n",
       "      <td>60</td>\n",
       "      <td>6.5</td>\n",
       "      <td>French</td>\n",
       "      <td>2019</td>\n",
       "      <td>March</td>\n",
       "      <td>Thursday</td>\n",
       "    </tr>\n",
       "    <tr>\n",
       "      <th>334</th>\n",
       "      <td>Life Overtakes Me</td>\n",
       "      <td>Documentary</td>\n",
       "      <td>2019-06-14</td>\n",
       "      <td>40</td>\n",
       "      <td>6.5</td>\n",
       "      <td>English/Swedish</td>\n",
       "      <td>2019</td>\n",
       "      <td>June</td>\n",
       "      <td>Friday</td>\n",
       "    </tr>\n",
       "    <tr>\n",
       "      <th>353</th>\n",
       "      <td>It Takes a Lunatic</td>\n",
       "      <td>Documentary</td>\n",
       "      <td>2019-10-25</td>\n",
       "      <td>126</td>\n",
       "      <td>6.6</td>\n",
       "      <td>English</td>\n",
       "      <td>2019</td>\n",
       "      <td>October</td>\n",
       "      <td>Friday</td>\n",
       "    </tr>\n",
       "    <tr>\n",
       "      <th>367</th>\n",
       "      <td>Bikram: Yogi, Guru, Predator</td>\n",
       "      <td>Documentary</td>\n",
       "      <td>2019-11-20</td>\n",
       "      <td>86</td>\n",
       "      <td>6.7</td>\n",
       "      <td>English</td>\n",
       "      <td>2019</td>\n",
       "      <td>November</td>\n",
       "      <td>Wednesday</td>\n",
       "    </tr>\n",
       "    <tr>\n",
       "      <th>378</th>\n",
       "      <td>Little Miss Sumo</td>\n",
       "      <td>Documentary</td>\n",
       "      <td>2019-10-28</td>\n",
       "      <td>19</td>\n",
       "      <td>6.7</td>\n",
       "      <td>Japanese</td>\n",
       "      <td>2019</td>\n",
       "      <td>October</td>\n",
       "      <td>Monday</td>\n",
       "    </tr>\n",
       "    <tr>\n",
       "      <th>384</th>\n",
       "      <td>Parchis: The Documentary</td>\n",
       "      <td>Documentary</td>\n",
       "      <td>2019-07-10</td>\n",
       "      <td>106</td>\n",
       "      <td>6.7</td>\n",
       "      <td>Spanish</td>\n",
       "      <td>2019</td>\n",
       "      <td>July</td>\n",
       "      <td>Wednesday</td>\n",
       "    </tr>\n",
       "    <tr>\n",
       "      <th>392</th>\n",
       "      <td>A Life of Speed: The Juan Manuel Fangio Story</td>\n",
       "      <td>Documentary</td>\n",
       "      <td>2020-03-20</td>\n",
       "      <td>92</td>\n",
       "      <td>6.8</td>\n",
       "      <td>Spanish</td>\n",
       "      <td>2020</td>\n",
       "      <td>March</td>\n",
       "      <td>Friday</td>\n",
       "    </tr>\n",
       "    <tr>\n",
       "      <th>394</th>\n",
       "      <td>All in My Family</td>\n",
       "      <td>Documentary</td>\n",
       "      <td>2019-05-03</td>\n",
       "      <td>39</td>\n",
       "      <td>6.8</td>\n",
       "      <td>English/Mandarin</td>\n",
       "      <td>2019</td>\n",
       "      <td>May</td>\n",
       "      <td>Friday</td>\n",
       "    </tr>\n",
       "    <tr>\n",
       "      <th>396</th>\n",
       "      <td>Becoming</td>\n",
       "      <td>Documentary</td>\n",
       "      <td>2020-05-06</td>\n",
       "      <td>89</td>\n",
       "      <td>6.8</td>\n",
       "      <td>English</td>\n",
       "      <td>2020</td>\n",
       "      <td>May</td>\n",
       "      <td>Wednesday</td>\n",
       "    </tr>\n",
       "    <tr>\n",
       "      <th>401</th>\n",
       "      <td>Have a Good Trip: Adventures in Psychedelics</td>\n",
       "      <td>Documentary</td>\n",
       "      <td>2020-05-11</td>\n",
       "      <td>85</td>\n",
       "      <td>6.8</td>\n",
       "      <td>English</td>\n",
       "      <td>2020</td>\n",
       "      <td>May</td>\n",
       "      <td>Monday</td>\n",
       "    </tr>\n",
       "    <tr>\n",
       "      <th>426</th>\n",
       "      <td>Spelling the Dream</td>\n",
       "      <td>Documentary</td>\n",
       "      <td>2020-06-03</td>\n",
       "      <td>83</td>\n",
       "      <td>6.9</td>\n",
       "      <td>English</td>\n",
       "      <td>2020</td>\n",
       "      <td>June</td>\n",
       "      <td>Wednesday</td>\n",
       "    </tr>\n",
       "    <tr>\n",
       "      <th>436</th>\n",
       "      <td>Lorena, Light-Footed Woman</td>\n",
       "      <td>Documentary</td>\n",
       "      <td>2019-11-20</td>\n",
       "      <td>28</td>\n",
       "      <td>7.0</td>\n",
       "      <td>Spanish</td>\n",
       "      <td>2019</td>\n",
       "      <td>November</td>\n",
       "      <td>Wednesday</td>\n",
       "    </tr>\n",
       "    <tr>\n",
       "      <th>437</th>\n",
       "      <td>Los Tigres del Norte at Folsom Prison</td>\n",
       "      <td>Documentary</td>\n",
       "      <td>2019-09-15</td>\n",
       "      <td>64</td>\n",
       "      <td>7.0</td>\n",
       "      <td>Spanish</td>\n",
       "      <td>2019</td>\n",
       "      <td>September</td>\n",
       "      <td>Sunday</td>\n",
       "    </tr>\n",
       "    <tr>\n",
       "      <th>442</th>\n",
       "      <td>ReMastered: Devil at the Crossroads</td>\n",
       "      <td>Documentary</td>\n",
       "      <td>2019-04-26</td>\n",
       "      <td>48</td>\n",
       "      <td>7.0</td>\n",
       "      <td>English</td>\n",
       "      <td>2019</td>\n",
       "      <td>April</td>\n",
       "      <td>Friday</td>\n",
       "    </tr>\n",
       "    <tr>\n",
       "      <th>443</th>\n",
       "      <td>ReMastered: The Lion's Share</td>\n",
       "      <td>Documentary</td>\n",
       "      <td>2019-05-17</td>\n",
       "      <td>84</td>\n",
       "      <td>7.0</td>\n",
       "      <td>English</td>\n",
       "      <td>2019</td>\n",
       "      <td>May</td>\n",
       "      <td>Friday</td>\n",
       "    </tr>\n",
       "    <tr>\n",
       "      <th>444</th>\n",
       "      <td>ReMastered: The Miami Showband Massacre</td>\n",
       "      <td>Documentary</td>\n",
       "      <td>2019-03-22</td>\n",
       "      <td>70</td>\n",
       "      <td>7.0</td>\n",
       "      <td>English</td>\n",
       "      <td>2019</td>\n",
       "      <td>March</td>\n",
       "      <td>Friday</td>\n",
       "    </tr>\n",
       "    <tr>\n",
       "      <th>455</th>\n",
       "      <td>Circus of Books</td>\n",
       "      <td>Documentary</td>\n",
       "      <td>2020-04-22</td>\n",
       "      <td>92</td>\n",
       "      <td>7.1</td>\n",
       "      <td>English</td>\n",
       "      <td>2020</td>\n",
       "      <td>April</td>\n",
       "      <td>Wednesday</td>\n",
       "    </tr>\n",
       "    <tr>\n",
       "      <th>458</th>\n",
       "      <td>El Pepe: A Supreme Life</td>\n",
       "      <td>Documentary</td>\n",
       "      <td>2019-12-27</td>\n",
       "      <td>73</td>\n",
       "      <td>7.1</td>\n",
       "      <td>Spanish</td>\n",
       "      <td>2019</td>\n",
       "      <td>December</td>\n",
       "      <td>Friday</td>\n",
       "    </tr>\n",
       "    <tr>\n",
       "      <th>460</th>\n",
       "      <td>Evelyn</td>\n",
       "      <td>Documentary</td>\n",
       "      <td>2019-09-10</td>\n",
       "      <td>96</td>\n",
       "      <td>7.1</td>\n",
       "      <td>English</td>\n",
       "      <td>2019</td>\n",
       "      <td>September</td>\n",
       "      <td>Tuesday</td>\n",
       "    </tr>\n",
       "    <tr>\n",
       "      <th>462</th>\n",
       "      <td>Grass Is Greener</td>\n",
       "      <td>Documentary</td>\n",
       "      <td>2019-04-20</td>\n",
       "      <td>97</td>\n",
       "      <td>7.1</td>\n",
       "      <td>English</td>\n",
       "      <td>2019</td>\n",
       "      <td>April</td>\n",
       "      <td>Saturday</td>\n",
       "    </tr>\n",
       "    <tr>\n",
       "      <th>466</th>\n",
       "      <td>Knock Down the House</td>\n",
       "      <td>Documentary</td>\n",
       "      <td>2019-05-01</td>\n",
       "      <td>87</td>\n",
       "      <td>7.1</td>\n",
       "      <td>English</td>\n",
       "      <td>2019</td>\n",
       "      <td>May</td>\n",
       "      <td>Wednesday</td>\n",
       "    </tr>\n",
       "    <tr>\n",
       "      <th>476</th>\n",
       "      <td>The Great Hack</td>\n",
       "      <td>Documentary</td>\n",
       "      <td>2019-07-24</td>\n",
       "      <td>114</td>\n",
       "      <td>7.1</td>\n",
       "      <td>English</td>\n",
       "      <td>2019</td>\n",
       "      <td>July</td>\n",
       "      <td>Wednesday</td>\n",
       "    </tr>\n",
       "    <tr>\n",
       "      <th>482</th>\n",
       "      <td>Fyre: The Greatest Party That Never Happened</td>\n",
       "      <td>Documentary</td>\n",
       "      <td>2019-01-18</td>\n",
       "      <td>97</td>\n",
       "      <td>7.2</td>\n",
       "      <td>English</td>\n",
       "      <td>2019</td>\n",
       "      <td>January</td>\n",
       "      <td>Friday</td>\n",
       "    </tr>\n",
       "    <tr>\n",
       "      <th>484</th>\n",
       "      <td>LA Originals</td>\n",
       "      <td>Documentary</td>\n",
       "      <td>2020-04-10</td>\n",
       "      <td>92</td>\n",
       "      <td>7.2</td>\n",
       "      <td>English</td>\n",
       "      <td>2020</td>\n",
       "      <td>April</td>\n",
       "      <td>Friday</td>\n",
       "    </tr>\n",
       "    <tr>\n",
       "      <th>494</th>\n",
       "      <td>The Edge of Democracy</td>\n",
       "      <td>Documentary</td>\n",
       "      <td>2019-06-19</td>\n",
       "      <td>121</td>\n",
       "      <td>7.2</td>\n",
       "      <td>Portuguese</td>\n",
       "      <td>2019</td>\n",
       "      <td>June</td>\n",
       "      <td>Wednesday</td>\n",
       "    </tr>\n",
       "    <tr>\n",
       "      <th>510</th>\n",
       "      <td>ReMastered: Massacre at the Stadium</td>\n",
       "      <td>Documentary</td>\n",
       "      <td>2019-01-11</td>\n",
       "      <td>64</td>\n",
       "      <td>7.3</td>\n",
       "      <td>English/Spanish</td>\n",
       "      <td>2019</td>\n",
       "      <td>January</td>\n",
       "      <td>Friday</td>\n",
       "    </tr>\n",
       "    <tr>\n",
       "      <th>511</th>\n",
       "      <td>ReMastered: The Two Killings of Sam Cooke</td>\n",
       "      <td>Documentary</td>\n",
       "      <td>2019-02-08</td>\n",
       "      <td>64</td>\n",
       "      <td>7.3</td>\n",
       "      <td>English</td>\n",
       "      <td>2019</td>\n",
       "      <td>February</td>\n",
       "      <td>Friday</td>\n",
       "    </tr>\n",
       "    <tr>\n",
       "      <th>520</th>\n",
       "      <td>American Factory</td>\n",
       "      <td>Documentary</td>\n",
       "      <td>2019-08-21</td>\n",
       "      <td>110</td>\n",
       "      <td>7.4</td>\n",
       "      <td>English</td>\n",
       "      <td>2019</td>\n",
       "      <td>August</td>\n",
       "      <td>Wednesday</td>\n",
       "    </tr>\n",
       "    <tr>\n",
       "      <th>521</th>\n",
       "      <td>Fire in Paradise</td>\n",
       "      <td>Documentary</td>\n",
       "      <td>2019-11-01</td>\n",
       "      <td>39</td>\n",
       "      <td>7.4</td>\n",
       "      <td>English</td>\n",
       "      <td>2019</td>\n",
       "      <td>November</td>\n",
       "      <td>Friday</td>\n",
       "    </tr>\n",
       "    <tr>\n",
       "      <th>523</th>\n",
       "      <td>Miss Americana</td>\n",
       "      <td>Documentary</td>\n",
       "      <td>2020-01-31</td>\n",
       "      <td>85</td>\n",
       "      <td>7.4</td>\n",
       "      <td>English</td>\n",
       "      <td>2020</td>\n",
       "      <td>January</td>\n",
       "      <td>Friday</td>\n",
       "    </tr>\n",
       "    <tr>\n",
       "      <th>524</th>\n",
       "      <td>Period. End of Sentence.</td>\n",
       "      <td>Documentary</td>\n",
       "      <td>2019-02-12</td>\n",
       "      <td>26</td>\n",
       "      <td>7.4</td>\n",
       "      <td>English/Hindi</td>\n",
       "      <td>2019</td>\n",
       "      <td>February</td>\n",
       "      <td>Tuesday</td>\n",
       "    </tr>\n",
       "    <tr>\n",
       "      <th>527</th>\n",
       "      <td>The Black Godfather</td>\n",
       "      <td>Documentary</td>\n",
       "      <td>2019-06-07</td>\n",
       "      <td>118</td>\n",
       "      <td>7.4</td>\n",
       "      <td>English</td>\n",
       "      <td>2019</td>\n",
       "      <td>June</td>\n",
       "      <td>Friday</td>\n",
       "    </tr>\n",
       "    <tr>\n",
       "      <th>536</th>\n",
       "      <td>Homecoming: A Film by Beyonce</td>\n",
       "      <td>Documentary</td>\n",
       "      <td>2019-04-17</td>\n",
       "      <td>137</td>\n",
       "      <td>7.5</td>\n",
       "      <td>English</td>\n",
       "      <td>2019</td>\n",
       "      <td>April</td>\n",
       "      <td>Wednesday</td>\n",
       "    </tr>\n",
       "    <tr>\n",
       "      <th>542</th>\n",
       "      <td>Athlete A</td>\n",
       "      <td>Documentary</td>\n",
       "      <td>2020-06-24</td>\n",
       "      <td>104</td>\n",
       "      <td>7.6</td>\n",
       "      <td>English</td>\n",
       "      <td>2020</td>\n",
       "      <td>June</td>\n",
       "      <td>Wednesday</td>\n",
       "    </tr>\n",
       "    <tr>\n",
       "      <th>545</th>\n",
       "      <td>Rolling Thunder Revue: A bob Dylan Story by Ma...</td>\n",
       "      <td>Documentary</td>\n",
       "      <td>2019-06-12</td>\n",
       "      <td>144</td>\n",
       "      <td>7.6</td>\n",
       "      <td>English</td>\n",
       "      <td>2019</td>\n",
       "      <td>June</td>\n",
       "      <td>Wednesday</td>\n",
       "    </tr>\n",
       "    <tr>\n",
       "      <th>546</th>\n",
       "      <td>Tell Me Who I Am</td>\n",
       "      <td>Documentary</td>\n",
       "      <td>2019-10-18</td>\n",
       "      <td>85</td>\n",
       "      <td>7.6</td>\n",
       "      <td>English</td>\n",
       "      <td>2019</td>\n",
       "      <td>October</td>\n",
       "      <td>Friday</td>\n",
       "    </tr>\n",
       "    <tr>\n",
       "      <th>554</th>\n",
       "      <td>Brene Brown: The Call to Courage</td>\n",
       "      <td>Documentary</td>\n",
       "      <td>2019-04-19</td>\n",
       "      <td>76</td>\n",
       "      <td>7.7</td>\n",
       "      <td>English</td>\n",
       "      <td>2019</td>\n",
       "      <td>April</td>\n",
       "      <td>Friday</td>\n",
       "    </tr>\n",
       "    <tr>\n",
       "      <th>555</th>\n",
       "      <td>Crip Camp: A Disability Revolution</td>\n",
       "      <td>Documentary</td>\n",
       "      <td>2020-03-25</td>\n",
       "      <td>108</td>\n",
       "      <td>7.7</td>\n",
       "      <td>English</td>\n",
       "      <td>2020</td>\n",
       "      <td>March</td>\n",
       "      <td>Wednesday</td>\n",
       "    </tr>\n",
       "    <tr>\n",
       "      <th>563</th>\n",
       "      <td>A Secret Love</td>\n",
       "      <td>Documentary</td>\n",
       "      <td>2020-04-29</td>\n",
       "      <td>82</td>\n",
       "      <td>7.9</td>\n",
       "      <td>English</td>\n",
       "      <td>2020</td>\n",
       "      <td>April</td>\n",
       "      <td>Wednesday</td>\n",
       "    </tr>\n",
       "    <tr>\n",
       "      <th>572</th>\n",
       "      <td>Disclosure: Trans Lives on Screen</td>\n",
       "      <td>Documentary</td>\n",
       "      <td>2020-06-19</td>\n",
       "      <td>107</td>\n",
       "      <td>8.2</td>\n",
       "      <td>English</td>\n",
       "      <td>2020</td>\n",
       "      <td>June</td>\n",
       "      <td>Friday</td>\n",
       "    </tr>\n",
       "    <tr>\n",
       "      <th>577</th>\n",
       "      <td>Dancing with the Birds</td>\n",
       "      <td>Documentary</td>\n",
       "      <td>2019-10-23</td>\n",
       "      <td>51</td>\n",
       "      <td>8.3</td>\n",
       "      <td>English</td>\n",
       "      <td>2019</td>\n",
       "      <td>October</td>\n",
       "      <td>Wednesday</td>\n",
       "    </tr>\n",
       "  </tbody>\n",
       "</table>\n",
       "</div>"
      ],
      "text/plain": [
       "                                                 Title        Genre  \\\n",
       "0                                      Enter the Anime  Documentary   \n",
       "15                                      After the Raid  Documentary   \n",
       "20                   Hello Privilege. It's Me, Chelsea  Documentary   \n",
       "30                                         After Maria  Documentary   \n",
       "111                               Ghosts of Sugar Land  Documentary   \n",
       "151                                           One Take  Documentary   \n",
       "263                             A Tale of Two Kitchens  Documentary   \n",
       "286                       The Legend of Cocaine Island  Documentary   \n",
       "290                   Travis Scott: Look Mom I Can Fly  Documentary   \n",
       "295                                            Birders  Documentary   \n",
       "303           Murder to Mercy: The Cyntoia Brown Story  Documentary   \n",
       "320                                     A 3 Minute Hug  Documentary   \n",
       "324          Antoine Griezmann: The Making of a Legend  Documentary   \n",
       "334                                  Life Overtakes Me  Documentary   \n",
       "353                                 It Takes a Lunatic  Documentary   \n",
       "367                       Bikram: Yogi, Guru, Predator  Documentary   \n",
       "378                                   Little Miss Sumo  Documentary   \n",
       "384                           Parchis: The Documentary  Documentary   \n",
       "392      A Life of Speed: The Juan Manuel Fangio Story  Documentary   \n",
       "394                                   All in My Family  Documentary   \n",
       "396                                           Becoming  Documentary   \n",
       "401       Have a Good Trip: Adventures in Psychedelics  Documentary   \n",
       "426                                 Spelling the Dream  Documentary   \n",
       "436                         Lorena, Light-Footed Woman  Documentary   \n",
       "437              Los Tigres del Norte at Folsom Prison  Documentary   \n",
       "442                ReMastered: Devil at the Crossroads  Documentary   \n",
       "443                       ReMastered: The Lion's Share  Documentary   \n",
       "444            ReMastered: The Miami Showband Massacre  Documentary   \n",
       "455                                    Circus of Books  Documentary   \n",
       "458                            El Pepe: A Supreme Life  Documentary   \n",
       "460                                             Evelyn  Documentary   \n",
       "462                                   Grass Is Greener  Documentary   \n",
       "466                               Knock Down the House  Documentary   \n",
       "476                                     The Great Hack  Documentary   \n",
       "482       Fyre: The Greatest Party That Never Happened  Documentary   \n",
       "484                                       LA Originals  Documentary   \n",
       "494                              The Edge of Democracy  Documentary   \n",
       "510                ReMastered: Massacre at the Stadium  Documentary   \n",
       "511          ReMastered: The Two Killings of Sam Cooke  Documentary   \n",
       "520                                   American Factory  Documentary   \n",
       "521                                   Fire in Paradise  Documentary   \n",
       "523                                     Miss Americana  Documentary   \n",
       "524                           Period. End of Sentence.  Documentary   \n",
       "527                                The Black Godfather  Documentary   \n",
       "536                     Homecoming: A Film by Beyonce   Documentary   \n",
       "542                                          Athlete A  Documentary   \n",
       "545  Rolling Thunder Revue: A bob Dylan Story by Ma...  Documentary   \n",
       "546                                   Tell Me Who I Am  Documentary   \n",
       "554                   Brene Brown: The Call to Courage  Documentary   \n",
       "555                 Crip Camp: A Disability Revolution  Documentary   \n",
       "563                                      A Secret Love  Documentary   \n",
       "572                  Disclosure: Trans Lives on Screen  Documentary   \n",
       "577                             Dancing with the Birds  Documentary   \n",
       "\n",
       "      Premiere  Runtime  IMDB Score          Language  year      month  \\\n",
       "0   2019-08-05       58         2.5  English/Japanese  2019     August   \n",
       "15  2019-12-19       25         4.3           Spanish  2019   December   \n",
       "20  2019-09-13       64         4.4           English  2019  September   \n",
       "30  2019-05-24       37         4.6   English/Spanish  2019        May   \n",
       "111 2019-10-16       21         5.5           English  2019    October   \n",
       "151 2020-06-18       85         5.7              Thai  2020       June   \n",
       "263 2019-05-22       30         6.3   English/Spanish  2019        May   \n",
       "286 2019-03-29       87         6.3           English  2019      March   \n",
       "290 2019-08-28       85         6.3           English  2019     August   \n",
       "295 2019-09-25       37         6.4   English/Spanish  2019  September   \n",
       "303 2020-04-29       97         6.4           English  2020      April   \n",
       "320 2019-10-28       28         6.5   English/Spanish  2019    October   \n",
       "324 2019-03-21       60         6.5            French  2019      March   \n",
       "334 2019-06-14       40         6.5   English/Swedish  2019       June   \n",
       "353 2019-10-25      126         6.6           English  2019    October   \n",
       "367 2019-11-20       86         6.7           English  2019   November   \n",
       "378 2019-10-28       19         6.7          Japanese  2019    October   \n",
       "384 2019-07-10      106         6.7           Spanish  2019       July   \n",
       "392 2020-03-20       92         6.8           Spanish  2020      March   \n",
       "394 2019-05-03       39         6.8  English/Mandarin  2019        May   \n",
       "396 2020-05-06       89         6.8           English  2020        May   \n",
       "401 2020-05-11       85         6.8           English  2020        May   \n",
       "426 2020-06-03       83         6.9           English  2020       June   \n",
       "436 2019-11-20       28         7.0           Spanish  2019   November   \n",
       "437 2019-09-15       64         7.0           Spanish  2019  September   \n",
       "442 2019-04-26       48         7.0           English  2019      April   \n",
       "443 2019-05-17       84         7.0           English  2019        May   \n",
       "444 2019-03-22       70         7.0           English  2019      March   \n",
       "455 2020-04-22       92         7.1           English  2020      April   \n",
       "458 2019-12-27       73         7.1           Spanish  2019   December   \n",
       "460 2019-09-10       96         7.1           English  2019  September   \n",
       "462 2019-04-20       97         7.1           English  2019      April   \n",
       "466 2019-05-01       87         7.1           English  2019        May   \n",
       "476 2019-07-24      114         7.1           English  2019       July   \n",
       "482 2019-01-18       97         7.2           English  2019    January   \n",
       "484 2020-04-10       92         7.2           English  2020      April   \n",
       "494 2019-06-19      121         7.2        Portuguese  2019       June   \n",
       "510 2019-01-11       64         7.3   English/Spanish  2019    January   \n",
       "511 2019-02-08       64         7.3           English  2019   February   \n",
       "520 2019-08-21      110         7.4           English  2019     August   \n",
       "521 2019-11-01       39         7.4           English  2019   November   \n",
       "523 2020-01-31       85         7.4           English  2020    January   \n",
       "524 2019-02-12       26         7.4     English/Hindi  2019   February   \n",
       "527 2019-06-07      118         7.4           English  2019       June   \n",
       "536 2019-04-17      137         7.5           English  2019      April   \n",
       "542 2020-06-24      104         7.6           English  2020       June   \n",
       "545 2019-06-12      144         7.6           English  2019       June   \n",
       "546 2019-10-18       85         7.6           English  2019    October   \n",
       "554 2019-04-19       76         7.7           English  2019      April   \n",
       "555 2020-03-25      108         7.7           English  2020      March   \n",
       "563 2020-04-29       82         7.9           English  2020      April   \n",
       "572 2020-06-19      107         8.2           English  2020       June   \n",
       "577 2019-10-23       51         8.3           English  2019    October   \n",
       "\n",
       "       weekday  \n",
       "0       Monday  \n",
       "15    Thursday  \n",
       "20      Friday  \n",
       "30      Friday  \n",
       "111  Wednesday  \n",
       "151   Thursday  \n",
       "263  Wednesday  \n",
       "286     Friday  \n",
       "290  Wednesday  \n",
       "295  Wednesday  \n",
       "303  Wednesday  \n",
       "320     Monday  \n",
       "324   Thursday  \n",
       "334     Friday  \n",
       "353     Friday  \n",
       "367  Wednesday  \n",
       "378     Monday  \n",
       "384  Wednesday  \n",
       "392     Friday  \n",
       "394     Friday  \n",
       "396  Wednesday  \n",
       "401     Monday  \n",
       "426  Wednesday  \n",
       "436  Wednesday  \n",
       "437     Sunday  \n",
       "442     Friday  \n",
       "443     Friday  \n",
       "444     Friday  \n",
       "455  Wednesday  \n",
       "458     Friday  \n",
       "460    Tuesday  \n",
       "462   Saturday  \n",
       "466  Wednesday  \n",
       "476  Wednesday  \n",
       "482     Friday  \n",
       "484     Friday  \n",
       "494  Wednesday  \n",
       "510     Friday  \n",
       "511     Friday  \n",
       "520  Wednesday  \n",
       "521     Friday  \n",
       "523     Friday  \n",
       "524    Tuesday  \n",
       "527     Friday  \n",
       "536  Wednesday  \n",
       "542  Wednesday  \n",
       "545  Wednesday  \n",
       "546     Friday  \n",
       "554     Friday  \n",
       "555  Wednesday  \n",
       "563  Wednesday  \n",
       "572     Friday  \n",
       "577  Wednesday  "
      ]
     },
     "execution_count": 24,
     "metadata": {},
     "output_type": "execute_result"
    }
   ],
   "source": [
    "netflix_orginal_df_doc = netflix_orginal_df[ ((netflix_orginal_df[\"year\"]== 2019) |\n",
    "              ((netflix_orginal_df[\"year\"]== 2020) & ((netflix_orginal_df[\"month\"] ==(\"January\"))| (netflix_orginal_df[\"month\"] ==(\"February\"))| (netflix_orginal_df[\"month\"] ==(\"March\"))| (netflix_orginal_df[\"month\"] ==(\"April\")) | (netflix_orginal_df[\"month\"] ==(\"May\")) | (netflix_orginal_df[\"month\"] ==(\"June\")))) ) \n",
    "              & (netflix_orginal_df[\"Genre\"]== \"Documentary\")  ]\n",
    "netflix_orginal_df_doc"
   ]
  },
  {
   "cell_type": "code",
   "execution_count": 25,
   "metadata": {},
   "outputs": [
    {
     "data": {
      "application/vnd.plotly.v1+json": {
       "config": {
        "plotlyServerURL": "https://plot.ly"
       },
       "data": [
        {
         "hovertemplate": "month=August<br>year=%{x}<br>IMDB Score=%{y}<extra></extra>",
         "legendgroup": "August",
         "marker": {
          "color": "#636efa",
          "size": 10,
          "symbol": "circle"
         },
         "mode": "markers",
         "name": "August",
         "orientation": "v",
         "showlegend": true,
         "type": "scatter",
         "x": [
          2019,
          2019,
          2019
         ],
         "xaxis": "x",
         "y": [
          2.5,
          6.3,
          7.4
         ],
         "yaxis": "y"
        },
        {
         "hovertemplate": "month=December<br>year=%{x}<br>IMDB Score=%{y}<extra></extra>",
         "legendgroup": "December",
         "marker": {
          "color": "#EF553B",
          "size": 10,
          "symbol": "circle"
         },
         "mode": "markers",
         "name": "December",
         "orientation": "v",
         "showlegend": true,
         "type": "scatter",
         "x": [
          2019,
          2019
         ],
         "xaxis": "x",
         "y": [
          4.3,
          7.1
         ],
         "yaxis": "y"
        },
        {
         "hovertemplate": "month=September<br>year=%{x}<br>IMDB Score=%{y}<extra></extra>",
         "legendgroup": "September",
         "marker": {
          "color": "#00cc96",
          "size": 10,
          "symbol": "circle"
         },
         "mode": "markers",
         "name": "September",
         "orientation": "v",
         "showlegend": true,
         "type": "scatter",
         "x": [
          2019,
          2019,
          2019,
          2019
         ],
         "xaxis": "x",
         "y": [
          4.4,
          6.4,
          7,
          7.1
         ],
         "yaxis": "y"
        },
        {
         "hovertemplate": "month=May<br>year=%{x}<br>IMDB Score=%{y}<extra></extra>",
         "legendgroup": "May",
         "marker": {
          "color": "#ab63fa",
          "size": 10,
          "symbol": "circle"
         },
         "mode": "markers",
         "name": "May",
         "orientation": "v",
         "showlegend": true,
         "type": "scatter",
         "x": [
          2019,
          2019,
          2019,
          2020,
          2020,
          2019,
          2019
         ],
         "xaxis": "x",
         "y": [
          4.6,
          6.3,
          6.8,
          6.8,
          6.8,
          7,
          7.1
         ],
         "yaxis": "y"
        },
        {
         "hovertemplate": "month=October<br>year=%{x}<br>IMDB Score=%{y}<extra></extra>",
         "legendgroup": "October",
         "marker": {
          "color": "#FFA15A",
          "size": 10,
          "symbol": "circle"
         },
         "mode": "markers",
         "name": "October",
         "orientation": "v",
         "showlegend": true,
         "type": "scatter",
         "x": [
          2019,
          2019,
          2019,
          2019,
          2019,
          2019
         ],
         "xaxis": "x",
         "y": [
          5.5,
          6.5,
          6.6,
          6.7,
          7.6,
          8.3
         ],
         "yaxis": "y"
        },
        {
         "hovertemplate": "month=June<br>year=%{x}<br>IMDB Score=%{y}<extra></extra>",
         "legendgroup": "June",
         "marker": {
          "color": "#19d3f3",
          "size": 10,
          "symbol": "circle"
         },
         "mode": "markers",
         "name": "June",
         "orientation": "v",
         "showlegend": true,
         "type": "scatter",
         "x": [
          2020,
          2019,
          2020,
          2019,
          2019,
          2020,
          2019,
          2020
         ],
         "xaxis": "x",
         "y": [
          5.7,
          6.5,
          6.9,
          7.2,
          7.4,
          7.6,
          7.6,
          8.2
         ],
         "yaxis": "y"
        },
        {
         "hovertemplate": "month=March<br>year=%{x}<br>IMDB Score=%{y}<extra></extra>",
         "legendgroup": "March",
         "marker": {
          "color": "#FF6692",
          "size": 10,
          "symbol": "circle"
         },
         "mode": "markers",
         "name": "March",
         "orientation": "v",
         "showlegend": true,
         "type": "scatter",
         "x": [
          2019,
          2019,
          2020,
          2019,
          2020
         ],
         "xaxis": "x",
         "y": [
          6.3,
          6.5,
          6.8,
          7,
          7.7
         ],
         "yaxis": "y"
        },
        {
         "hovertemplate": "month=April<br>year=%{x}<br>IMDB Score=%{y}<extra></extra>",
         "legendgroup": "April",
         "marker": {
          "color": "#B6E880",
          "size": 10,
          "symbol": "circle"
         },
         "mode": "markers",
         "name": "April",
         "orientation": "v",
         "showlegend": true,
         "type": "scatter",
         "x": [
          2020,
          2019,
          2020,
          2019,
          2020,
          2019,
          2019,
          2020
         ],
         "xaxis": "x",
         "y": [
          6.4,
          7,
          7.1,
          7.1,
          7.2,
          7.5,
          7.7,
          7.9
         ],
         "yaxis": "y"
        },
        {
         "hovertemplate": "month=November<br>year=%{x}<br>IMDB Score=%{y}<extra></extra>",
         "legendgroup": "November",
         "marker": {
          "color": "#FF97FF",
          "size": 10,
          "symbol": "circle"
         },
         "mode": "markers",
         "name": "November",
         "orientation": "v",
         "showlegend": true,
         "type": "scatter",
         "x": [
          2019,
          2019,
          2019
         ],
         "xaxis": "x",
         "y": [
          6.7,
          7,
          7.4
         ],
         "yaxis": "y"
        },
        {
         "hovertemplate": "month=July<br>year=%{x}<br>IMDB Score=%{y}<extra></extra>",
         "legendgroup": "July",
         "marker": {
          "color": "#FECB52",
          "size": 10,
          "symbol": "circle"
         },
         "mode": "markers",
         "name": "July",
         "orientation": "v",
         "showlegend": true,
         "type": "scatter",
         "x": [
          2019,
          2019
         ],
         "xaxis": "x",
         "y": [
          6.7,
          7.1
         ],
         "yaxis": "y"
        },
        {
         "hovertemplate": "month=January<br>year=%{x}<br>IMDB Score=%{y}<extra></extra>",
         "legendgroup": "January",
         "marker": {
          "color": "#636efa",
          "size": 10,
          "symbol": "circle"
         },
         "mode": "markers",
         "name": "January",
         "orientation": "v",
         "showlegend": true,
         "type": "scatter",
         "x": [
          2019,
          2019,
          2020
         ],
         "xaxis": "x",
         "y": [
          7.2,
          7.3,
          7.4
         ],
         "yaxis": "y"
        },
        {
         "hovertemplate": "month=February<br>year=%{x}<br>IMDB Score=%{y}<extra></extra>",
         "legendgroup": "February",
         "marker": {
          "color": "#EF553B",
          "size": 10,
          "symbol": "circle"
         },
         "mode": "markers",
         "name": "February",
         "orientation": "v",
         "showlegend": true,
         "type": "scatter",
         "x": [
          2019,
          2019
         ],
         "xaxis": "x",
         "y": [
          7.3,
          7.4
         ],
         "yaxis": "y"
        }
       ],
       "layout": {
        "legend": {
         "title": {
          "text": "month"
         },
         "tracegroupgap": 0
        },
        "margin": {
         "t": 60
        },
        "template": {
         "data": {
          "bar": [
           {
            "error_x": {
             "color": "#2a3f5f"
            },
            "error_y": {
             "color": "#2a3f5f"
            },
            "marker": {
             "line": {
              "color": "#E5ECF6",
              "width": 0.5
             }
            },
            "type": "bar"
           }
          ],
          "barpolar": [
           {
            "marker": {
             "line": {
              "color": "#E5ECF6",
              "width": 0.5
             }
            },
            "type": "barpolar"
           }
          ],
          "carpet": [
           {
            "aaxis": {
             "endlinecolor": "#2a3f5f",
             "gridcolor": "white",
             "linecolor": "white",
             "minorgridcolor": "white",
             "startlinecolor": "#2a3f5f"
            },
            "baxis": {
             "endlinecolor": "#2a3f5f",
             "gridcolor": "white",
             "linecolor": "white",
             "minorgridcolor": "white",
             "startlinecolor": "#2a3f5f"
            },
            "type": "carpet"
           }
          ],
          "choropleth": [
           {
            "colorbar": {
             "outlinewidth": 0,
             "ticks": ""
            },
            "type": "choropleth"
           }
          ],
          "contour": [
           {
            "colorbar": {
             "outlinewidth": 0,
             "ticks": ""
            },
            "colorscale": [
             [
              0,
              "#0d0887"
             ],
             [
              0.1111111111111111,
              "#46039f"
             ],
             [
              0.2222222222222222,
              "#7201a8"
             ],
             [
              0.3333333333333333,
              "#9c179e"
             ],
             [
              0.4444444444444444,
              "#bd3786"
             ],
             [
              0.5555555555555556,
              "#d8576b"
             ],
             [
              0.6666666666666666,
              "#ed7953"
             ],
             [
              0.7777777777777778,
              "#fb9f3a"
             ],
             [
              0.8888888888888888,
              "#fdca26"
             ],
             [
              1,
              "#f0f921"
             ]
            ],
            "type": "contour"
           }
          ],
          "contourcarpet": [
           {
            "colorbar": {
             "outlinewidth": 0,
             "ticks": ""
            },
            "type": "contourcarpet"
           }
          ],
          "heatmap": [
           {
            "colorbar": {
             "outlinewidth": 0,
             "ticks": ""
            },
            "colorscale": [
             [
              0,
              "#0d0887"
             ],
             [
              0.1111111111111111,
              "#46039f"
             ],
             [
              0.2222222222222222,
              "#7201a8"
             ],
             [
              0.3333333333333333,
              "#9c179e"
             ],
             [
              0.4444444444444444,
              "#bd3786"
             ],
             [
              0.5555555555555556,
              "#d8576b"
             ],
             [
              0.6666666666666666,
              "#ed7953"
             ],
             [
              0.7777777777777778,
              "#fb9f3a"
             ],
             [
              0.8888888888888888,
              "#fdca26"
             ],
             [
              1,
              "#f0f921"
             ]
            ],
            "type": "heatmap"
           }
          ],
          "heatmapgl": [
           {
            "colorbar": {
             "outlinewidth": 0,
             "ticks": ""
            },
            "colorscale": [
             [
              0,
              "#0d0887"
             ],
             [
              0.1111111111111111,
              "#46039f"
             ],
             [
              0.2222222222222222,
              "#7201a8"
             ],
             [
              0.3333333333333333,
              "#9c179e"
             ],
             [
              0.4444444444444444,
              "#bd3786"
             ],
             [
              0.5555555555555556,
              "#d8576b"
             ],
             [
              0.6666666666666666,
              "#ed7953"
             ],
             [
              0.7777777777777778,
              "#fb9f3a"
             ],
             [
              0.8888888888888888,
              "#fdca26"
             ],
             [
              1,
              "#f0f921"
             ]
            ],
            "type": "heatmapgl"
           }
          ],
          "histogram": [
           {
            "marker": {
             "colorbar": {
              "outlinewidth": 0,
              "ticks": ""
             }
            },
            "type": "histogram"
           }
          ],
          "histogram2d": [
           {
            "colorbar": {
             "outlinewidth": 0,
             "ticks": ""
            },
            "colorscale": [
             [
              0,
              "#0d0887"
             ],
             [
              0.1111111111111111,
              "#46039f"
             ],
             [
              0.2222222222222222,
              "#7201a8"
             ],
             [
              0.3333333333333333,
              "#9c179e"
             ],
             [
              0.4444444444444444,
              "#bd3786"
             ],
             [
              0.5555555555555556,
              "#d8576b"
             ],
             [
              0.6666666666666666,
              "#ed7953"
             ],
             [
              0.7777777777777778,
              "#fb9f3a"
             ],
             [
              0.8888888888888888,
              "#fdca26"
             ],
             [
              1,
              "#f0f921"
             ]
            ],
            "type": "histogram2d"
           }
          ],
          "histogram2dcontour": [
           {
            "colorbar": {
             "outlinewidth": 0,
             "ticks": ""
            },
            "colorscale": [
             [
              0,
              "#0d0887"
             ],
             [
              0.1111111111111111,
              "#46039f"
             ],
             [
              0.2222222222222222,
              "#7201a8"
             ],
             [
              0.3333333333333333,
              "#9c179e"
             ],
             [
              0.4444444444444444,
              "#bd3786"
             ],
             [
              0.5555555555555556,
              "#d8576b"
             ],
             [
              0.6666666666666666,
              "#ed7953"
             ],
             [
              0.7777777777777778,
              "#fb9f3a"
             ],
             [
              0.8888888888888888,
              "#fdca26"
             ],
             [
              1,
              "#f0f921"
             ]
            ],
            "type": "histogram2dcontour"
           }
          ],
          "mesh3d": [
           {
            "colorbar": {
             "outlinewidth": 0,
             "ticks": ""
            },
            "type": "mesh3d"
           }
          ],
          "parcoords": [
           {
            "line": {
             "colorbar": {
              "outlinewidth": 0,
              "ticks": ""
             }
            },
            "type": "parcoords"
           }
          ],
          "pie": [
           {
            "automargin": true,
            "type": "pie"
           }
          ],
          "scatter": [
           {
            "marker": {
             "colorbar": {
              "outlinewidth": 0,
              "ticks": ""
             }
            },
            "type": "scatter"
           }
          ],
          "scatter3d": [
           {
            "line": {
             "colorbar": {
              "outlinewidth": 0,
              "ticks": ""
             }
            },
            "marker": {
             "colorbar": {
              "outlinewidth": 0,
              "ticks": ""
             }
            },
            "type": "scatter3d"
           }
          ],
          "scattercarpet": [
           {
            "marker": {
             "colorbar": {
              "outlinewidth": 0,
              "ticks": ""
             }
            },
            "type": "scattercarpet"
           }
          ],
          "scattergeo": [
           {
            "marker": {
             "colorbar": {
              "outlinewidth": 0,
              "ticks": ""
             }
            },
            "type": "scattergeo"
           }
          ],
          "scattergl": [
           {
            "marker": {
             "colorbar": {
              "outlinewidth": 0,
              "ticks": ""
             }
            },
            "type": "scattergl"
           }
          ],
          "scattermapbox": [
           {
            "marker": {
             "colorbar": {
              "outlinewidth": 0,
              "ticks": ""
             }
            },
            "type": "scattermapbox"
           }
          ],
          "scatterpolar": [
           {
            "marker": {
             "colorbar": {
              "outlinewidth": 0,
              "ticks": ""
             }
            },
            "type": "scatterpolar"
           }
          ],
          "scatterpolargl": [
           {
            "marker": {
             "colorbar": {
              "outlinewidth": 0,
              "ticks": ""
             }
            },
            "type": "scatterpolargl"
           }
          ],
          "scatterternary": [
           {
            "marker": {
             "colorbar": {
              "outlinewidth": 0,
              "ticks": ""
             }
            },
            "type": "scatterternary"
           }
          ],
          "surface": [
           {
            "colorbar": {
             "outlinewidth": 0,
             "ticks": ""
            },
            "colorscale": [
             [
              0,
              "#0d0887"
             ],
             [
              0.1111111111111111,
              "#46039f"
             ],
             [
              0.2222222222222222,
              "#7201a8"
             ],
             [
              0.3333333333333333,
              "#9c179e"
             ],
             [
              0.4444444444444444,
              "#bd3786"
             ],
             [
              0.5555555555555556,
              "#d8576b"
             ],
             [
              0.6666666666666666,
              "#ed7953"
             ],
             [
              0.7777777777777778,
              "#fb9f3a"
             ],
             [
              0.8888888888888888,
              "#fdca26"
             ],
             [
              1,
              "#f0f921"
             ]
            ],
            "type": "surface"
           }
          ],
          "table": [
           {
            "cells": {
             "fill": {
              "color": "#EBF0F8"
             },
             "line": {
              "color": "white"
             }
            },
            "header": {
             "fill": {
              "color": "#C8D4E3"
             },
             "line": {
              "color": "white"
             }
            },
            "type": "table"
           }
          ]
         },
         "layout": {
          "annotationdefaults": {
           "arrowcolor": "#2a3f5f",
           "arrowhead": 0,
           "arrowwidth": 1
          },
          "autotypenumbers": "strict",
          "coloraxis": {
           "colorbar": {
            "outlinewidth": 0,
            "ticks": ""
           }
          },
          "colorscale": {
           "diverging": [
            [
             0,
             "#8e0152"
            ],
            [
             0.1,
             "#c51b7d"
            ],
            [
             0.2,
             "#de77ae"
            ],
            [
             0.3,
             "#f1b6da"
            ],
            [
             0.4,
             "#fde0ef"
            ],
            [
             0.5,
             "#f7f7f7"
            ],
            [
             0.6,
             "#e6f5d0"
            ],
            [
             0.7,
             "#b8e186"
            ],
            [
             0.8,
             "#7fbc41"
            ],
            [
             0.9,
             "#4d9221"
            ],
            [
             1,
             "#276419"
            ]
           ],
           "sequential": [
            [
             0,
             "#0d0887"
            ],
            [
             0.1111111111111111,
             "#46039f"
            ],
            [
             0.2222222222222222,
             "#7201a8"
            ],
            [
             0.3333333333333333,
             "#9c179e"
            ],
            [
             0.4444444444444444,
             "#bd3786"
            ],
            [
             0.5555555555555556,
             "#d8576b"
            ],
            [
             0.6666666666666666,
             "#ed7953"
            ],
            [
             0.7777777777777778,
             "#fb9f3a"
            ],
            [
             0.8888888888888888,
             "#fdca26"
            ],
            [
             1,
             "#f0f921"
            ]
           ],
           "sequentialminus": [
            [
             0,
             "#0d0887"
            ],
            [
             0.1111111111111111,
             "#46039f"
            ],
            [
             0.2222222222222222,
             "#7201a8"
            ],
            [
             0.3333333333333333,
             "#9c179e"
            ],
            [
             0.4444444444444444,
             "#bd3786"
            ],
            [
             0.5555555555555556,
             "#d8576b"
            ],
            [
             0.6666666666666666,
             "#ed7953"
            ],
            [
             0.7777777777777778,
             "#fb9f3a"
            ],
            [
             0.8888888888888888,
             "#fdca26"
            ],
            [
             1,
             "#f0f921"
            ]
           ]
          },
          "colorway": [
           "#636efa",
           "#EF553B",
           "#00cc96",
           "#ab63fa",
           "#FFA15A",
           "#19d3f3",
           "#FF6692",
           "#B6E880",
           "#FF97FF",
           "#FECB52"
          ],
          "font": {
           "color": "#2a3f5f"
          },
          "geo": {
           "bgcolor": "white",
           "lakecolor": "white",
           "landcolor": "#E5ECF6",
           "showlakes": true,
           "showland": true,
           "subunitcolor": "white"
          },
          "hoverlabel": {
           "align": "left"
          },
          "hovermode": "closest",
          "mapbox": {
           "style": "light"
          },
          "paper_bgcolor": "white",
          "plot_bgcolor": "#E5ECF6",
          "polar": {
           "angularaxis": {
            "gridcolor": "white",
            "linecolor": "white",
            "ticks": ""
           },
           "bgcolor": "#E5ECF6",
           "radialaxis": {
            "gridcolor": "white",
            "linecolor": "white",
            "ticks": ""
           }
          },
          "scene": {
           "xaxis": {
            "backgroundcolor": "#E5ECF6",
            "gridcolor": "white",
            "gridwidth": 2,
            "linecolor": "white",
            "showbackground": true,
            "ticks": "",
            "zerolinecolor": "white"
           },
           "yaxis": {
            "backgroundcolor": "#E5ECF6",
            "gridcolor": "white",
            "gridwidth": 2,
            "linecolor": "white",
            "showbackground": true,
            "ticks": "",
            "zerolinecolor": "white"
           },
           "zaxis": {
            "backgroundcolor": "#E5ECF6",
            "gridcolor": "white",
            "gridwidth": 2,
            "linecolor": "white",
            "showbackground": true,
            "ticks": "",
            "zerolinecolor": "white"
           }
          },
          "shapedefaults": {
           "line": {
            "color": "#2a3f5f"
           }
          },
          "ternary": {
           "aaxis": {
            "gridcolor": "white",
            "linecolor": "white",
            "ticks": ""
           },
           "baxis": {
            "gridcolor": "white",
            "linecolor": "white",
            "ticks": ""
           },
           "bgcolor": "#E5ECF6",
           "caxis": {
            "gridcolor": "white",
            "linecolor": "white",
            "ticks": ""
           }
          },
          "title": {
           "x": 0.05
          },
          "xaxis": {
           "automargin": true,
           "gridcolor": "white",
           "linecolor": "white",
           "ticks": "",
           "title": {
            "standoff": 15
           },
           "zerolinecolor": "white",
           "zerolinewidth": 2
          },
          "yaxis": {
           "automargin": true,
           "gridcolor": "white",
           "linecolor": "white",
           "ticks": "",
           "title": {
            "standoff": 15
           },
           "zerolinecolor": "white",
           "zerolinewidth": 2
          }
         }
        },
        "xaxis": {
         "anchor": "y",
         "domain": [
          0,
          1
         ],
         "title": {
          "text": "year"
         }
        },
        "yaxis": {
         "anchor": "x",
         "domain": [
          0,
          1
         ],
         "title": {
          "text": "IMDB Score"
         }
        }
       }
      },
      "text/html": [
       "<div>                            <div id=\"b70e6d05-0963-44a8-8f3c-1e5c7c34efa8\" class=\"plotly-graph-div\" style=\"height:525px; width:100%;\"></div>            <script type=\"text/javascript\">                require([\"plotly\"], function(Plotly) {                    window.PLOTLYENV=window.PLOTLYENV || {};                                    if (document.getElementById(\"b70e6d05-0963-44a8-8f3c-1e5c7c34efa8\")) {                    Plotly.newPlot(                        \"b70e6d05-0963-44a8-8f3c-1e5c7c34efa8\",                        [{\"hovertemplate\": \"month=August<br>year=%{x}<br>IMDB Score=%{y}<extra></extra>\", \"legendgroup\": \"August\", \"marker\": {\"color\": \"#636efa\", \"size\": 10, \"symbol\": \"circle\"}, \"mode\": \"markers\", \"name\": \"August\", \"orientation\": \"v\", \"showlegend\": true, \"type\": \"scatter\", \"x\": [2019, 2019, 2019], \"xaxis\": \"x\", \"y\": [2.5, 6.3, 7.4], \"yaxis\": \"y\"}, {\"hovertemplate\": \"month=December<br>year=%{x}<br>IMDB Score=%{y}<extra></extra>\", \"legendgroup\": \"December\", \"marker\": {\"color\": \"#EF553B\", \"size\": 10, \"symbol\": \"circle\"}, \"mode\": \"markers\", \"name\": \"December\", \"orientation\": \"v\", \"showlegend\": true, \"type\": \"scatter\", \"x\": [2019, 2019], \"xaxis\": \"x\", \"y\": [4.3, 7.1], \"yaxis\": \"y\"}, {\"hovertemplate\": \"month=September<br>year=%{x}<br>IMDB Score=%{y}<extra></extra>\", \"legendgroup\": \"September\", \"marker\": {\"color\": \"#00cc96\", \"size\": 10, \"symbol\": \"circle\"}, \"mode\": \"markers\", \"name\": \"September\", \"orientation\": \"v\", \"showlegend\": true, \"type\": \"scatter\", \"x\": [2019, 2019, 2019, 2019], \"xaxis\": \"x\", \"y\": [4.4, 6.4, 7.0, 7.1], \"yaxis\": \"y\"}, {\"hovertemplate\": \"month=May<br>year=%{x}<br>IMDB Score=%{y}<extra></extra>\", \"legendgroup\": \"May\", \"marker\": {\"color\": \"#ab63fa\", \"size\": 10, \"symbol\": \"circle\"}, \"mode\": \"markers\", \"name\": \"May\", \"orientation\": \"v\", \"showlegend\": true, \"type\": \"scatter\", \"x\": [2019, 2019, 2019, 2020, 2020, 2019, 2019], \"xaxis\": \"x\", \"y\": [4.6, 6.3, 6.8, 6.8, 6.8, 7.0, 7.1], \"yaxis\": \"y\"}, {\"hovertemplate\": \"month=October<br>year=%{x}<br>IMDB Score=%{y}<extra></extra>\", \"legendgroup\": \"October\", \"marker\": {\"color\": \"#FFA15A\", \"size\": 10, \"symbol\": \"circle\"}, \"mode\": \"markers\", \"name\": \"October\", \"orientation\": \"v\", \"showlegend\": true, \"type\": \"scatter\", \"x\": [2019, 2019, 2019, 2019, 2019, 2019], \"xaxis\": \"x\", \"y\": [5.5, 6.5, 6.6, 6.7, 7.6, 8.3], \"yaxis\": \"y\"}, {\"hovertemplate\": \"month=June<br>year=%{x}<br>IMDB Score=%{y}<extra></extra>\", \"legendgroup\": \"June\", \"marker\": {\"color\": \"#19d3f3\", \"size\": 10, \"symbol\": \"circle\"}, \"mode\": \"markers\", \"name\": \"June\", \"orientation\": \"v\", \"showlegend\": true, \"type\": \"scatter\", \"x\": [2020, 2019, 2020, 2019, 2019, 2020, 2019, 2020], \"xaxis\": \"x\", \"y\": [5.7, 6.5, 6.9, 7.2, 7.4, 7.6, 7.6, 8.2], \"yaxis\": \"y\"}, {\"hovertemplate\": \"month=March<br>year=%{x}<br>IMDB Score=%{y}<extra></extra>\", \"legendgroup\": \"March\", \"marker\": {\"color\": \"#FF6692\", \"size\": 10, \"symbol\": \"circle\"}, \"mode\": \"markers\", \"name\": \"March\", \"orientation\": \"v\", \"showlegend\": true, \"type\": \"scatter\", \"x\": [2019, 2019, 2020, 2019, 2020], \"xaxis\": \"x\", \"y\": [6.3, 6.5, 6.8, 7.0, 7.7], \"yaxis\": \"y\"}, {\"hovertemplate\": \"month=April<br>year=%{x}<br>IMDB Score=%{y}<extra></extra>\", \"legendgroup\": \"April\", \"marker\": {\"color\": \"#B6E880\", \"size\": 10, \"symbol\": \"circle\"}, \"mode\": \"markers\", \"name\": \"April\", \"orientation\": \"v\", \"showlegend\": true, \"type\": \"scatter\", \"x\": [2020, 2019, 2020, 2019, 2020, 2019, 2019, 2020], \"xaxis\": \"x\", \"y\": [6.4, 7.0, 7.1, 7.1, 7.2, 7.5, 7.7, 7.9], \"yaxis\": \"y\"}, {\"hovertemplate\": \"month=November<br>year=%{x}<br>IMDB Score=%{y}<extra></extra>\", \"legendgroup\": \"November\", \"marker\": {\"color\": \"#FF97FF\", \"size\": 10, \"symbol\": \"circle\"}, \"mode\": \"markers\", \"name\": \"November\", \"orientation\": \"v\", \"showlegend\": true, \"type\": \"scatter\", \"x\": [2019, 2019, 2019], \"xaxis\": \"x\", \"y\": [6.7, 7.0, 7.4], \"yaxis\": \"y\"}, {\"hovertemplate\": \"month=July<br>year=%{x}<br>IMDB Score=%{y}<extra></extra>\", \"legendgroup\": \"July\", \"marker\": {\"color\": \"#FECB52\", \"size\": 10, \"symbol\": \"circle\"}, \"mode\": \"markers\", \"name\": \"July\", \"orientation\": \"v\", \"showlegend\": true, \"type\": \"scatter\", \"x\": [2019, 2019], \"xaxis\": \"x\", \"y\": [6.7, 7.1], \"yaxis\": \"y\"}, {\"hovertemplate\": \"month=January<br>year=%{x}<br>IMDB Score=%{y}<extra></extra>\", \"legendgroup\": \"January\", \"marker\": {\"color\": \"#636efa\", \"size\": 10, \"symbol\": \"circle\"}, \"mode\": \"markers\", \"name\": \"January\", \"orientation\": \"v\", \"showlegend\": true, \"type\": \"scatter\", \"x\": [2019, 2019, 2020], \"xaxis\": \"x\", \"y\": [7.2, 7.3, 7.4], \"yaxis\": \"y\"}, {\"hovertemplate\": \"month=February<br>year=%{x}<br>IMDB Score=%{y}<extra></extra>\", \"legendgroup\": \"February\", \"marker\": {\"color\": \"#EF553B\", \"size\": 10, \"symbol\": \"circle\"}, \"mode\": \"markers\", \"name\": \"February\", \"orientation\": \"v\", \"showlegend\": true, \"type\": \"scatter\", \"x\": [2019, 2019], \"xaxis\": \"x\", \"y\": [7.3, 7.4], \"yaxis\": \"y\"}],                        {\"legend\": {\"title\": {\"text\": \"month\"}, \"tracegroupgap\": 0}, \"margin\": {\"t\": 60}, \"template\": {\"data\": {\"bar\": [{\"error_x\": {\"color\": \"#2a3f5f\"}, \"error_y\": {\"color\": \"#2a3f5f\"}, \"marker\": {\"line\": {\"color\": \"#E5ECF6\", \"width\": 0.5}}, \"type\": \"bar\"}], \"barpolar\": [{\"marker\": {\"line\": {\"color\": \"#E5ECF6\", \"width\": 0.5}}, \"type\": \"barpolar\"}], \"carpet\": [{\"aaxis\": {\"endlinecolor\": \"#2a3f5f\", \"gridcolor\": \"white\", \"linecolor\": \"white\", \"minorgridcolor\": \"white\", \"startlinecolor\": \"#2a3f5f\"}, \"baxis\": {\"endlinecolor\": \"#2a3f5f\", \"gridcolor\": \"white\", \"linecolor\": \"white\", \"minorgridcolor\": \"white\", \"startlinecolor\": \"#2a3f5f\"}, \"type\": \"carpet\"}], \"choropleth\": [{\"colorbar\": {\"outlinewidth\": 0, \"ticks\": \"\"}, \"type\": \"choropleth\"}], \"contour\": [{\"colorbar\": {\"outlinewidth\": 0, \"ticks\": \"\"}, \"colorscale\": [[0.0, \"#0d0887\"], [0.1111111111111111, \"#46039f\"], [0.2222222222222222, \"#7201a8\"], [0.3333333333333333, \"#9c179e\"], [0.4444444444444444, \"#bd3786\"], [0.5555555555555556, \"#d8576b\"], [0.6666666666666666, \"#ed7953\"], [0.7777777777777778, \"#fb9f3a\"], [0.8888888888888888, \"#fdca26\"], [1.0, \"#f0f921\"]], \"type\": \"contour\"}], \"contourcarpet\": [{\"colorbar\": {\"outlinewidth\": 0, \"ticks\": \"\"}, \"type\": \"contourcarpet\"}], \"heatmap\": [{\"colorbar\": {\"outlinewidth\": 0, \"ticks\": \"\"}, \"colorscale\": [[0.0, \"#0d0887\"], [0.1111111111111111, \"#46039f\"], [0.2222222222222222, \"#7201a8\"], [0.3333333333333333, \"#9c179e\"], [0.4444444444444444, \"#bd3786\"], [0.5555555555555556, \"#d8576b\"], [0.6666666666666666, \"#ed7953\"], [0.7777777777777778, \"#fb9f3a\"], [0.8888888888888888, \"#fdca26\"], [1.0, \"#f0f921\"]], \"type\": \"heatmap\"}], \"heatmapgl\": [{\"colorbar\": {\"outlinewidth\": 0, \"ticks\": \"\"}, \"colorscale\": [[0.0, \"#0d0887\"], [0.1111111111111111, \"#46039f\"], [0.2222222222222222, \"#7201a8\"], [0.3333333333333333, \"#9c179e\"], [0.4444444444444444, \"#bd3786\"], [0.5555555555555556, \"#d8576b\"], [0.6666666666666666, \"#ed7953\"], [0.7777777777777778, \"#fb9f3a\"], [0.8888888888888888, \"#fdca26\"], [1.0, \"#f0f921\"]], \"type\": \"heatmapgl\"}], \"histogram\": [{\"marker\": {\"colorbar\": {\"outlinewidth\": 0, \"ticks\": \"\"}}, \"type\": \"histogram\"}], \"histogram2d\": [{\"colorbar\": {\"outlinewidth\": 0, \"ticks\": \"\"}, \"colorscale\": [[0.0, \"#0d0887\"], [0.1111111111111111, \"#46039f\"], [0.2222222222222222, \"#7201a8\"], [0.3333333333333333, \"#9c179e\"], [0.4444444444444444, \"#bd3786\"], [0.5555555555555556, \"#d8576b\"], [0.6666666666666666, \"#ed7953\"], [0.7777777777777778, \"#fb9f3a\"], [0.8888888888888888, \"#fdca26\"], [1.0, \"#f0f921\"]], \"type\": \"histogram2d\"}], \"histogram2dcontour\": [{\"colorbar\": {\"outlinewidth\": 0, \"ticks\": \"\"}, \"colorscale\": [[0.0, \"#0d0887\"], [0.1111111111111111, \"#46039f\"], [0.2222222222222222, \"#7201a8\"], [0.3333333333333333, \"#9c179e\"], [0.4444444444444444, \"#bd3786\"], [0.5555555555555556, \"#d8576b\"], [0.6666666666666666, \"#ed7953\"], [0.7777777777777778, \"#fb9f3a\"], [0.8888888888888888, \"#fdca26\"], [1.0, \"#f0f921\"]], \"type\": \"histogram2dcontour\"}], \"mesh3d\": [{\"colorbar\": {\"outlinewidth\": 0, \"ticks\": \"\"}, \"type\": \"mesh3d\"}], \"parcoords\": [{\"line\": {\"colorbar\": {\"outlinewidth\": 0, \"ticks\": \"\"}}, \"type\": \"parcoords\"}], \"pie\": [{\"automargin\": true, \"type\": \"pie\"}], \"scatter\": [{\"marker\": {\"colorbar\": {\"outlinewidth\": 0, \"ticks\": \"\"}}, \"type\": \"scatter\"}], \"scatter3d\": [{\"line\": {\"colorbar\": {\"outlinewidth\": 0, \"ticks\": \"\"}}, \"marker\": {\"colorbar\": {\"outlinewidth\": 0, \"ticks\": \"\"}}, \"type\": \"scatter3d\"}], \"scattercarpet\": [{\"marker\": {\"colorbar\": {\"outlinewidth\": 0, \"ticks\": \"\"}}, \"type\": \"scattercarpet\"}], \"scattergeo\": [{\"marker\": {\"colorbar\": {\"outlinewidth\": 0, \"ticks\": \"\"}}, \"type\": \"scattergeo\"}], \"scattergl\": [{\"marker\": {\"colorbar\": {\"outlinewidth\": 0, \"ticks\": \"\"}}, \"type\": \"scattergl\"}], \"scattermapbox\": [{\"marker\": {\"colorbar\": {\"outlinewidth\": 0, \"ticks\": \"\"}}, \"type\": \"scattermapbox\"}], \"scatterpolar\": [{\"marker\": {\"colorbar\": {\"outlinewidth\": 0, \"ticks\": \"\"}}, \"type\": \"scatterpolar\"}], \"scatterpolargl\": [{\"marker\": {\"colorbar\": {\"outlinewidth\": 0, \"ticks\": \"\"}}, \"type\": \"scatterpolargl\"}], \"scatterternary\": [{\"marker\": {\"colorbar\": {\"outlinewidth\": 0, \"ticks\": \"\"}}, \"type\": \"scatterternary\"}], \"surface\": [{\"colorbar\": {\"outlinewidth\": 0, \"ticks\": \"\"}, \"colorscale\": [[0.0, \"#0d0887\"], [0.1111111111111111, \"#46039f\"], [0.2222222222222222, \"#7201a8\"], [0.3333333333333333, \"#9c179e\"], [0.4444444444444444, \"#bd3786\"], [0.5555555555555556, \"#d8576b\"], [0.6666666666666666, \"#ed7953\"], [0.7777777777777778, \"#fb9f3a\"], [0.8888888888888888, \"#fdca26\"], [1.0, \"#f0f921\"]], \"type\": \"surface\"}], \"table\": [{\"cells\": {\"fill\": {\"color\": \"#EBF0F8\"}, \"line\": {\"color\": \"white\"}}, \"header\": {\"fill\": {\"color\": \"#C8D4E3\"}, \"line\": {\"color\": \"white\"}}, \"type\": \"table\"}]}, \"layout\": {\"annotationdefaults\": {\"arrowcolor\": \"#2a3f5f\", \"arrowhead\": 0, \"arrowwidth\": 1}, \"autotypenumbers\": \"strict\", \"coloraxis\": {\"colorbar\": {\"outlinewidth\": 0, \"ticks\": \"\"}}, \"colorscale\": {\"diverging\": [[0, \"#8e0152\"], [0.1, \"#c51b7d\"], [0.2, \"#de77ae\"], [0.3, \"#f1b6da\"], [0.4, \"#fde0ef\"], [0.5, \"#f7f7f7\"], [0.6, \"#e6f5d0\"], [0.7, \"#b8e186\"], [0.8, \"#7fbc41\"], [0.9, \"#4d9221\"], [1, \"#276419\"]], \"sequential\": [[0.0, \"#0d0887\"], [0.1111111111111111, \"#46039f\"], [0.2222222222222222, \"#7201a8\"], [0.3333333333333333, \"#9c179e\"], [0.4444444444444444, \"#bd3786\"], [0.5555555555555556, \"#d8576b\"], [0.6666666666666666, \"#ed7953\"], [0.7777777777777778, \"#fb9f3a\"], [0.8888888888888888, \"#fdca26\"], [1.0, \"#f0f921\"]], \"sequentialminus\": [[0.0, \"#0d0887\"], [0.1111111111111111, \"#46039f\"], [0.2222222222222222, \"#7201a8\"], [0.3333333333333333, \"#9c179e\"], [0.4444444444444444, \"#bd3786\"], [0.5555555555555556, \"#d8576b\"], [0.6666666666666666, \"#ed7953\"], [0.7777777777777778, \"#fb9f3a\"], [0.8888888888888888, \"#fdca26\"], [1.0, \"#f0f921\"]]}, \"colorway\": [\"#636efa\", \"#EF553B\", \"#00cc96\", \"#ab63fa\", \"#FFA15A\", \"#19d3f3\", \"#FF6692\", \"#B6E880\", \"#FF97FF\", \"#FECB52\"], \"font\": {\"color\": \"#2a3f5f\"}, \"geo\": {\"bgcolor\": \"white\", \"lakecolor\": \"white\", \"landcolor\": \"#E5ECF6\", \"showlakes\": true, \"showland\": true, \"subunitcolor\": \"white\"}, \"hoverlabel\": {\"align\": \"left\"}, \"hovermode\": \"closest\", \"mapbox\": {\"style\": \"light\"}, \"paper_bgcolor\": \"white\", \"plot_bgcolor\": \"#E5ECF6\", \"polar\": {\"angularaxis\": {\"gridcolor\": \"white\", \"linecolor\": \"white\", \"ticks\": \"\"}, \"bgcolor\": \"#E5ECF6\", \"radialaxis\": {\"gridcolor\": \"white\", \"linecolor\": \"white\", \"ticks\": \"\"}}, \"scene\": {\"xaxis\": {\"backgroundcolor\": \"#E5ECF6\", \"gridcolor\": \"white\", \"gridwidth\": 2, \"linecolor\": \"white\", \"showbackground\": true, \"ticks\": \"\", \"zerolinecolor\": \"white\"}, \"yaxis\": {\"backgroundcolor\": \"#E5ECF6\", \"gridcolor\": \"white\", \"gridwidth\": 2, \"linecolor\": \"white\", \"showbackground\": true, \"ticks\": \"\", \"zerolinecolor\": \"white\"}, \"zaxis\": {\"backgroundcolor\": \"#E5ECF6\", \"gridcolor\": \"white\", \"gridwidth\": 2, \"linecolor\": \"white\", \"showbackground\": true, \"ticks\": \"\", \"zerolinecolor\": \"white\"}}, \"shapedefaults\": {\"line\": {\"color\": \"#2a3f5f\"}}, \"ternary\": {\"aaxis\": {\"gridcolor\": \"white\", \"linecolor\": \"white\", \"ticks\": \"\"}, \"baxis\": {\"gridcolor\": \"white\", \"linecolor\": \"white\", \"ticks\": \"\"}, \"bgcolor\": \"#E5ECF6\", \"caxis\": {\"gridcolor\": \"white\", \"linecolor\": \"white\", \"ticks\": \"\"}}, \"title\": {\"x\": 0.05}, \"xaxis\": {\"automargin\": true, \"gridcolor\": \"white\", \"linecolor\": \"white\", \"ticks\": \"\", \"title\": {\"standoff\": 15}, \"zerolinecolor\": \"white\", \"zerolinewidth\": 2}, \"yaxis\": {\"automargin\": true, \"gridcolor\": \"white\", \"linecolor\": \"white\", \"ticks\": \"\", \"title\": {\"standoff\": 15}, \"zerolinecolor\": \"white\", \"zerolinewidth\": 2}}}, \"xaxis\": {\"anchor\": \"y\", \"domain\": [0.0, 1.0], \"title\": {\"text\": \"year\"}}, \"yaxis\": {\"anchor\": \"x\", \"domain\": [0.0, 1.0], \"title\": {\"text\": \"IMDB Score\"}}},                        {\"responsive\": true}                    ).then(function(){\n",
       "                            \n",
       "var gd = document.getElementById('b70e6d05-0963-44a8-8f3c-1e5c7c34efa8');\n",
       "var x = new MutationObserver(function (mutations, observer) {{\n",
       "        var display = window.getComputedStyle(gd).display;\n",
       "        if (!display || display === 'none') {{\n",
       "            console.log([gd, 'removed!']);\n",
       "            Plotly.purge(gd);\n",
       "            observer.disconnect();\n",
       "        }}\n",
       "}});\n",
       "\n",
       "// Listen for the removal of the full notebook cells\n",
       "var notebookContainer = gd.closest('#notebook-container');\n",
       "if (notebookContainer) {{\n",
       "    x.observe(notebookContainer, {childList: true});\n",
       "}}\n",
       "\n",
       "// Listen for the clearing of the current output cell\n",
       "var outputEl = gd.closest('.output');\n",
       "if (outputEl) {{\n",
       "    x.observe(outputEl, {childList: true});\n",
       "}}\n",
       "\n",
       "                        })                };                });            </script>        </div>"
      ]
     },
     "metadata": {},
     "output_type": "display_data"
    }
   ],
   "source": [
    "fig = px.scatter(netflix_orginal_df_doc, x='year', y='IMDB Score', color='month')\n",
    "fig.update_traces(marker_size=10)\n",
    "fig.show()"
   ]
  },
  {
   "cell_type": "markdown",
   "metadata": {},
   "source": [
    "# The highes Imbd rating among movies shot in english"
   ]
  },
  {
   "cell_type": "code",
   "execution_count": 26,
   "metadata": {},
   "outputs": [
    {
     "data": {
      "text/html": [
       "<div>\n",
       "<style scoped>\n",
       "    .dataframe tbody tr th:only-of-type {\n",
       "        vertical-align: middle;\n",
       "    }\n",
       "\n",
       "    .dataframe tbody tr th {\n",
       "        vertical-align: top;\n",
       "    }\n",
       "\n",
       "    .dataframe thead th {\n",
       "        text-align: right;\n",
       "    }\n",
       "</style>\n",
       "<table border=\"1\" class=\"dataframe\">\n",
       "  <thead>\n",
       "    <tr style=\"text-align: right;\">\n",
       "      <th></th>\n",
       "      <th></th>\n",
       "      <th></th>\n",
       "      <th>Runtime</th>\n",
       "      <th>IMDB Score</th>\n",
       "      <th>year</th>\n",
       "    </tr>\n",
       "    <tr>\n",
       "      <th>Language</th>\n",
       "      <th>Genre</th>\n",
       "      <th>Title</th>\n",
       "      <th></th>\n",
       "      <th></th>\n",
       "      <th></th>\n",
       "    </tr>\n",
       "  </thead>\n",
       "  <tbody>\n",
       "    <tr>\n",
       "      <th rowspan=\"10\" valign=\"top\">English</th>\n",
       "      <th>Documentary</th>\n",
       "      <th>David Attenborough: A Life on Our Planet</th>\n",
       "      <td>83</td>\n",
       "      <td>9.0</td>\n",
       "      <td>2020</td>\n",
       "    </tr>\n",
       "    <tr>\n",
       "      <th>One-man show</th>\n",
       "      <th>Springsteen on Broadway</th>\n",
       "      <td>153</td>\n",
       "      <td>8.5</td>\n",
       "      <td>2018</td>\n",
       "    </tr>\n",
       "    <tr>\n",
       "      <th rowspan=\"2\" valign=\"top\">Concert Film</th>\n",
       "      <th>Ben Platt: Live from Radio City Music Hall</th>\n",
       "      <td>85</td>\n",
       "      <td>8.4</td>\n",
       "      <td>2020</td>\n",
       "    </tr>\n",
       "    <tr>\n",
       "      <th>Taylor Swift: Reputation Stadium Tour</th>\n",
       "      <td>125</td>\n",
       "      <td>8.4</td>\n",
       "      <td>2018</td>\n",
       "    </tr>\n",
       "    <tr>\n",
       "      <th rowspan=\"3\" valign=\"top\">Documentary</th>\n",
       "      <th>Cuba and the Cameraman</th>\n",
       "      <td>114</td>\n",
       "      <td>8.3</td>\n",
       "      <td>2017</td>\n",
       "    </tr>\n",
       "    <tr>\n",
       "      <th>Dancing with the Birds</th>\n",
       "      <td>51</td>\n",
       "      <td>8.3</td>\n",
       "      <td>2019</td>\n",
       "    </tr>\n",
       "    <tr>\n",
       "      <th>Seaspiracy</th>\n",
       "      <td>89</td>\n",
       "      <td>8.2</td>\n",
       "      <td>2021</td>\n",
       "    </tr>\n",
       "    <tr>\n",
       "      <th>Animation/Christmas/Comedy/Adventure</th>\n",
       "      <th>Klaus</th>\n",
       "      <td>97</td>\n",
       "      <td>8.2</td>\n",
       "      <td>2019</td>\n",
       "    </tr>\n",
       "    <tr>\n",
       "      <th rowspan=\"2\" valign=\"top\">Documentary</th>\n",
       "      <th>Disclosure: Trans Lives on Screen</th>\n",
       "      <td>107</td>\n",
       "      <td>8.2</td>\n",
       "      <td>2020</td>\n",
       "    </tr>\n",
       "    <tr>\n",
       "      <th>13th</th>\n",
       "      <td>100</td>\n",
       "      <td>8.2</td>\n",
       "      <td>2016</td>\n",
       "    </tr>\n",
       "  </tbody>\n",
       "</table>\n",
       "</div>"
      ],
      "text/plain": [
       "                                                                                          Runtime  \\\n",
       "Language Genre                                Title                                                 \n",
       "English  Documentary                          David Attenborough: A Life on Our Planet         83   \n",
       "         One-man show                         Springsteen on Broadway                         153   \n",
       "         Concert Film                         Ben Platt: Live from Radio City Music Hall       85   \n",
       "                                              Taylor Swift: Reputation Stadium Tour           125   \n",
       "         Documentary                          Cuba and the Cameraman                          114   \n",
       "                                              Dancing with the Birds                           51   \n",
       "                                              Seaspiracy                                       89   \n",
       "         Animation/Christmas/Comedy/Adventure Klaus                                            97   \n",
       "         Documentary                          Disclosure: Trans Lives on Screen               107   \n",
       "                                              13th                                            100   \n",
       "\n",
       "                                                                                          IMDB Score  \\\n",
       "Language Genre                                Title                                                    \n",
       "English  Documentary                          David Attenborough: A Life on Our Planet           9.0   \n",
       "         One-man show                         Springsteen on Broadway                            8.5   \n",
       "         Concert Film                         Ben Platt: Live from Radio City Music Hall         8.4   \n",
       "                                              Taylor Swift: Reputation Stadium Tour              8.4   \n",
       "         Documentary                          Cuba and the Cameraman                             8.3   \n",
       "                                              Dancing with the Birds                             8.3   \n",
       "                                              Seaspiracy                                         8.2   \n",
       "         Animation/Christmas/Comedy/Adventure Klaus                                              8.2   \n",
       "         Documentary                          Disclosure: Trans Lives on Screen                  8.2   \n",
       "                                              13th                                               8.2   \n",
       "\n",
       "                                                                                          year  \n",
       "Language Genre                                Title                                             \n",
       "English  Documentary                          David Attenborough: A Life on Our Planet    2020  \n",
       "         One-man show                         Springsteen on Broadway                     2018  \n",
       "         Concert Film                         Ben Platt: Live from Radio City Music Hall  2020  \n",
       "                                              Taylor Swift: Reputation Stadium Tour       2018  \n",
       "         Documentary                          Cuba and the Cameraman                      2017  \n",
       "                                              Dancing with the Birds                      2019  \n",
       "                                              Seaspiracy                                  2021  \n",
       "         Animation/Christmas/Comedy/Adventure Klaus                                       2019  \n",
       "         Documentary                          Disclosure: Trans Lives on Screen           2020  \n",
       "                                              13th                                        2016  "
      ]
     },
     "execution_count": 26,
     "metadata": {},
     "output_type": "execute_result"
    }
   ],
   "source": [
    "top_imdb_english = netflix_orginal_df[netflix_orginal_df['Language'] == 'English']\n",
    "top_imdb_english = top_imdb_english.groupby(['Language', 'Genre', 'Title']).mean().sort_values(by=['IMDB Score'],ascending=False)[:10]\n",
    "top_imdb_english"
   ]
  },
  {
   "cell_type": "markdown",
   "metadata": {},
   "source": [
    "# What is the average 'runtime' of movies shot in \"Hindi\"?"
   ]
  },
  {
   "cell_type": "code",
   "execution_count": 27,
   "metadata": {},
   "outputs": [
    {
     "data": {
      "text/plain": [
       "115.78787878787878"
      ]
     },
     "execution_count": 27,
     "metadata": {},
     "output_type": "execute_result"
    }
   ],
   "source": [
    "netflix_orginal_df_Hindi = netflix_orginal_df[netflix_orginal_df['Language']=='Hindi']\n",
    "netflix_orginal_df.Runtime.value_counts()\n",
    "netflix_orginal_df_Hindi.Runtime.mean()"
   ]
  },
  {
   "cell_type": "markdown",
   "metadata": {},
   "source": [
    "# How many categories does the Genre Colun have and what are they? Visualize it"
   ]
  },
  {
   "cell_type": "code",
   "execution_count": 28,
   "metadata": {},
   "outputs": [],
   "source": [
    "#netflix_orginal_df['Genre'].value_counts()\n",
    "netflix_orginal_df['Genre'].value_counts().sum()\n",
    "genre= netflix_orginal_df['Genre'].value_counts()"
   ]
  },
  {
   "cell_type": "code",
   "execution_count": 30,
   "metadata": {},
   "outputs": [
    {
     "data": {
      "application/vnd.plotly.v1+json": {
       "config": {
        "plotlyServerURL": "https://plot.ly"
       },
       "data": [
        {
         "alignmentgroup": "True",
         "hovertemplate": "Genres=%{x}<br>Number of Movies from the Genre=%{y}<extra></extra>",
         "legendgroup": "",
         "marker": {
          "color": "#636efa"
         },
         "name": "",
         "offsetgroup": "",
         "orientation": "v",
         "showlegend": false,
         "textposition": "auto",
         "type": "bar",
         "x": [
          "Documentary",
          "Drama",
          "Comedy",
          "Romantic comedy",
          "Thriller",
          "Comedy-drama",
          "Crime drama",
          "Biopic",
          "Horror",
          "Action",
          "Romance",
          "Concert Film",
          "Aftershow / Interview",
          "Animation",
          "Action comedy",
          "Romantic drama",
          "Animation / Short",
          "Variety show",
          "Science fiction/Thriller",
          "Science fiction",
          "Psychological thriller",
          "Action-thriller",
          "Science fiction/Drama",
          "Sports-drama",
          "Western",
          "One-man show",
          "Horror thriller",
          "Mystery",
          "Adventure",
          "Mockumentary",
          "Spy thriller",
          "Satire",
          "Horror-thriller",
          "Making-of",
          "Musical",
          "Family film",
          "Musical comedy",
          "Dark comedy",
          "War drama",
          "Black comedy",
          "War",
          "Family",
          "Superhero",
          "Comedy / Musical",
          "Anime/Science fiction",
          "Christmas/Fantasy/Adventure/Comedy",
          "Christmas comedy",
          "Stop Motion",
          "Romantic teenage drama",
          "Drama / Short",
          "Science fiction adventure",
          "Drama-Comedy",
          "Animation/Musical/Adventure",
          "Animation / Science Fiction",
          "Historical drama",
          "Musical / Short",
          "Political thriller",
          "Animation/Superhero",
          "Hidden-camera prank comedy",
          "Variety Show",
          "Comedy mystery",
          "Animation/Christmas/Comedy/Adventure",
          "Action/Science fiction",
          "War-Comedy",
          "Family/Comedy-drama",
          "Romantic comedy/Holiday",
          "Drama/Horror",
          "Science fiction thriller",
          "Musical/Western/Fantasy",
          "Comedy/Horror",
          "Crime thriller",
          "Superhero-Comedy",
          "Teen comedy horror",
          "Zombie/Heist",
          "Action thriller",
          "Comedy/Fantasy/Family",
          "Superhero/Action",
          "Teen comedy-drama",
          "Science fiction/Mystery",
          "Supernatural drama",
          "Anime / Short",
          "Animation / Musicial",
          "Mentalism special",
          "Action/Comedy",
          "Horror comedy",
          "Animation/Comedy/Adventure",
          "Christian musical",
          "Adventure/Comedy",
          "Psychological horror",
          "Urban fantasy",
          "Fantasy",
          "Anthology/Dark comedy",
          "Heist",
          "Comedy horror",
          "Romantic teen drama",
          "Family/Christmas musical",
          "Action-adventure",
          "Romantic thriller",
          "Adventure-romance",
          "Historical-epic",
          "Dance comedy",
          "Horror/Crime drama",
          "Romantic comedy-drama",
          "Science fiction/Action",
          "Horror anthology",
          "Romance drama",
          "Anime/Fantasy",
          "Heist film/Thriller",
          "Biographical/Comedy",
          "Christmas musical",
          "Sports film",
          "Psychological thriller drama",
          "Animated musical comedy",
          "Animation / Comedy",
          "Coming-of-age comedy-drama"
         ],
         "xaxis": "x",
         "y": [
          159,
          77,
          49,
          39,
          33,
          14,
          11,
          9,
          9,
          7,
          6,
          6,
          6,
          5,
          5,
          5,
          4,
          4,
          4,
          4,
          4,
          3,
          3,
          3,
          3,
          3,
          3,
          2,
          2,
          2,
          2,
          2,
          2,
          2,
          2,
          2,
          2,
          2,
          2,
          2,
          2,
          2,
          2,
          2,
          2,
          1,
          1,
          1,
          1,
          1,
          1,
          1,
          1,
          1,
          1,
          1,
          1,
          1,
          1,
          1,
          1,
          1,
          1,
          1,
          1,
          1,
          1,
          1,
          1,
          1,
          1,
          1,
          1,
          1,
          1,
          1,
          1,
          1,
          1,
          1,
          1,
          1,
          1,
          1,
          1,
          1,
          1,
          1,
          1,
          1,
          1,
          1,
          1,
          1,
          1,
          1,
          1,
          1,
          1,
          1,
          1,
          1,
          1,
          1,
          1,
          1,
          1,
          1,
          1,
          1,
          1,
          1,
          1,
          1,
          1
         ],
         "yaxis": "y"
        }
       ],
       "layout": {
        "barmode": "relative",
        "legend": {
         "tracegroupgap": 0
        },
        "margin": {
         "t": 60
        },
        "template": {
         "data": {
          "bar": [
           {
            "error_x": {
             "color": "#2a3f5f"
            },
            "error_y": {
             "color": "#2a3f5f"
            },
            "marker": {
             "line": {
              "color": "#E5ECF6",
              "width": 0.5
             }
            },
            "type": "bar"
           }
          ],
          "barpolar": [
           {
            "marker": {
             "line": {
              "color": "#E5ECF6",
              "width": 0.5
             }
            },
            "type": "barpolar"
           }
          ],
          "carpet": [
           {
            "aaxis": {
             "endlinecolor": "#2a3f5f",
             "gridcolor": "white",
             "linecolor": "white",
             "minorgridcolor": "white",
             "startlinecolor": "#2a3f5f"
            },
            "baxis": {
             "endlinecolor": "#2a3f5f",
             "gridcolor": "white",
             "linecolor": "white",
             "minorgridcolor": "white",
             "startlinecolor": "#2a3f5f"
            },
            "type": "carpet"
           }
          ],
          "choropleth": [
           {
            "colorbar": {
             "outlinewidth": 0,
             "ticks": ""
            },
            "type": "choropleth"
           }
          ],
          "contour": [
           {
            "colorbar": {
             "outlinewidth": 0,
             "ticks": ""
            },
            "colorscale": [
             [
              0,
              "#0d0887"
             ],
             [
              0.1111111111111111,
              "#46039f"
             ],
             [
              0.2222222222222222,
              "#7201a8"
             ],
             [
              0.3333333333333333,
              "#9c179e"
             ],
             [
              0.4444444444444444,
              "#bd3786"
             ],
             [
              0.5555555555555556,
              "#d8576b"
             ],
             [
              0.6666666666666666,
              "#ed7953"
             ],
             [
              0.7777777777777778,
              "#fb9f3a"
             ],
             [
              0.8888888888888888,
              "#fdca26"
             ],
             [
              1,
              "#f0f921"
             ]
            ],
            "type": "contour"
           }
          ],
          "contourcarpet": [
           {
            "colorbar": {
             "outlinewidth": 0,
             "ticks": ""
            },
            "type": "contourcarpet"
           }
          ],
          "heatmap": [
           {
            "colorbar": {
             "outlinewidth": 0,
             "ticks": ""
            },
            "colorscale": [
             [
              0,
              "#0d0887"
             ],
             [
              0.1111111111111111,
              "#46039f"
             ],
             [
              0.2222222222222222,
              "#7201a8"
             ],
             [
              0.3333333333333333,
              "#9c179e"
             ],
             [
              0.4444444444444444,
              "#bd3786"
             ],
             [
              0.5555555555555556,
              "#d8576b"
             ],
             [
              0.6666666666666666,
              "#ed7953"
             ],
             [
              0.7777777777777778,
              "#fb9f3a"
             ],
             [
              0.8888888888888888,
              "#fdca26"
             ],
             [
              1,
              "#f0f921"
             ]
            ],
            "type": "heatmap"
           }
          ],
          "heatmapgl": [
           {
            "colorbar": {
             "outlinewidth": 0,
             "ticks": ""
            },
            "colorscale": [
             [
              0,
              "#0d0887"
             ],
             [
              0.1111111111111111,
              "#46039f"
             ],
             [
              0.2222222222222222,
              "#7201a8"
             ],
             [
              0.3333333333333333,
              "#9c179e"
             ],
             [
              0.4444444444444444,
              "#bd3786"
             ],
             [
              0.5555555555555556,
              "#d8576b"
             ],
             [
              0.6666666666666666,
              "#ed7953"
             ],
             [
              0.7777777777777778,
              "#fb9f3a"
             ],
             [
              0.8888888888888888,
              "#fdca26"
             ],
             [
              1,
              "#f0f921"
             ]
            ],
            "type": "heatmapgl"
           }
          ],
          "histogram": [
           {
            "marker": {
             "colorbar": {
              "outlinewidth": 0,
              "ticks": ""
             }
            },
            "type": "histogram"
           }
          ],
          "histogram2d": [
           {
            "colorbar": {
             "outlinewidth": 0,
             "ticks": ""
            },
            "colorscale": [
             [
              0,
              "#0d0887"
             ],
             [
              0.1111111111111111,
              "#46039f"
             ],
             [
              0.2222222222222222,
              "#7201a8"
             ],
             [
              0.3333333333333333,
              "#9c179e"
             ],
             [
              0.4444444444444444,
              "#bd3786"
             ],
             [
              0.5555555555555556,
              "#d8576b"
             ],
             [
              0.6666666666666666,
              "#ed7953"
             ],
             [
              0.7777777777777778,
              "#fb9f3a"
             ],
             [
              0.8888888888888888,
              "#fdca26"
             ],
             [
              1,
              "#f0f921"
             ]
            ],
            "type": "histogram2d"
           }
          ],
          "histogram2dcontour": [
           {
            "colorbar": {
             "outlinewidth": 0,
             "ticks": ""
            },
            "colorscale": [
             [
              0,
              "#0d0887"
             ],
             [
              0.1111111111111111,
              "#46039f"
             ],
             [
              0.2222222222222222,
              "#7201a8"
             ],
             [
              0.3333333333333333,
              "#9c179e"
             ],
             [
              0.4444444444444444,
              "#bd3786"
             ],
             [
              0.5555555555555556,
              "#d8576b"
             ],
             [
              0.6666666666666666,
              "#ed7953"
             ],
             [
              0.7777777777777778,
              "#fb9f3a"
             ],
             [
              0.8888888888888888,
              "#fdca26"
             ],
             [
              1,
              "#f0f921"
             ]
            ],
            "type": "histogram2dcontour"
           }
          ],
          "mesh3d": [
           {
            "colorbar": {
             "outlinewidth": 0,
             "ticks": ""
            },
            "type": "mesh3d"
           }
          ],
          "parcoords": [
           {
            "line": {
             "colorbar": {
              "outlinewidth": 0,
              "ticks": ""
             }
            },
            "type": "parcoords"
           }
          ],
          "pie": [
           {
            "automargin": true,
            "type": "pie"
           }
          ],
          "scatter": [
           {
            "marker": {
             "colorbar": {
              "outlinewidth": 0,
              "ticks": ""
             }
            },
            "type": "scatter"
           }
          ],
          "scatter3d": [
           {
            "line": {
             "colorbar": {
              "outlinewidth": 0,
              "ticks": ""
             }
            },
            "marker": {
             "colorbar": {
              "outlinewidth": 0,
              "ticks": ""
             }
            },
            "type": "scatter3d"
           }
          ],
          "scattercarpet": [
           {
            "marker": {
             "colorbar": {
              "outlinewidth": 0,
              "ticks": ""
             }
            },
            "type": "scattercarpet"
           }
          ],
          "scattergeo": [
           {
            "marker": {
             "colorbar": {
              "outlinewidth": 0,
              "ticks": ""
             }
            },
            "type": "scattergeo"
           }
          ],
          "scattergl": [
           {
            "marker": {
             "colorbar": {
              "outlinewidth": 0,
              "ticks": ""
             }
            },
            "type": "scattergl"
           }
          ],
          "scattermapbox": [
           {
            "marker": {
             "colorbar": {
              "outlinewidth": 0,
              "ticks": ""
             }
            },
            "type": "scattermapbox"
           }
          ],
          "scatterpolar": [
           {
            "marker": {
             "colorbar": {
              "outlinewidth": 0,
              "ticks": ""
             }
            },
            "type": "scatterpolar"
           }
          ],
          "scatterpolargl": [
           {
            "marker": {
             "colorbar": {
              "outlinewidth": 0,
              "ticks": ""
             }
            },
            "type": "scatterpolargl"
           }
          ],
          "scatterternary": [
           {
            "marker": {
             "colorbar": {
              "outlinewidth": 0,
              "ticks": ""
             }
            },
            "type": "scatterternary"
           }
          ],
          "surface": [
           {
            "colorbar": {
             "outlinewidth": 0,
             "ticks": ""
            },
            "colorscale": [
             [
              0,
              "#0d0887"
             ],
             [
              0.1111111111111111,
              "#46039f"
             ],
             [
              0.2222222222222222,
              "#7201a8"
             ],
             [
              0.3333333333333333,
              "#9c179e"
             ],
             [
              0.4444444444444444,
              "#bd3786"
             ],
             [
              0.5555555555555556,
              "#d8576b"
             ],
             [
              0.6666666666666666,
              "#ed7953"
             ],
             [
              0.7777777777777778,
              "#fb9f3a"
             ],
             [
              0.8888888888888888,
              "#fdca26"
             ],
             [
              1,
              "#f0f921"
             ]
            ],
            "type": "surface"
           }
          ],
          "table": [
           {
            "cells": {
             "fill": {
              "color": "#EBF0F8"
             },
             "line": {
              "color": "white"
             }
            },
            "header": {
             "fill": {
              "color": "#C8D4E3"
             },
             "line": {
              "color": "white"
             }
            },
            "type": "table"
           }
          ]
         },
         "layout": {
          "annotationdefaults": {
           "arrowcolor": "#2a3f5f",
           "arrowhead": 0,
           "arrowwidth": 1
          },
          "autotypenumbers": "strict",
          "coloraxis": {
           "colorbar": {
            "outlinewidth": 0,
            "ticks": ""
           }
          },
          "colorscale": {
           "diverging": [
            [
             0,
             "#8e0152"
            ],
            [
             0.1,
             "#c51b7d"
            ],
            [
             0.2,
             "#de77ae"
            ],
            [
             0.3,
             "#f1b6da"
            ],
            [
             0.4,
             "#fde0ef"
            ],
            [
             0.5,
             "#f7f7f7"
            ],
            [
             0.6,
             "#e6f5d0"
            ],
            [
             0.7,
             "#b8e186"
            ],
            [
             0.8,
             "#7fbc41"
            ],
            [
             0.9,
             "#4d9221"
            ],
            [
             1,
             "#276419"
            ]
           ],
           "sequential": [
            [
             0,
             "#0d0887"
            ],
            [
             0.1111111111111111,
             "#46039f"
            ],
            [
             0.2222222222222222,
             "#7201a8"
            ],
            [
             0.3333333333333333,
             "#9c179e"
            ],
            [
             0.4444444444444444,
             "#bd3786"
            ],
            [
             0.5555555555555556,
             "#d8576b"
            ],
            [
             0.6666666666666666,
             "#ed7953"
            ],
            [
             0.7777777777777778,
             "#fb9f3a"
            ],
            [
             0.8888888888888888,
             "#fdca26"
            ],
            [
             1,
             "#f0f921"
            ]
           ],
           "sequentialminus": [
            [
             0,
             "#0d0887"
            ],
            [
             0.1111111111111111,
             "#46039f"
            ],
            [
             0.2222222222222222,
             "#7201a8"
            ],
            [
             0.3333333333333333,
             "#9c179e"
            ],
            [
             0.4444444444444444,
             "#bd3786"
            ],
            [
             0.5555555555555556,
             "#d8576b"
            ],
            [
             0.6666666666666666,
             "#ed7953"
            ],
            [
             0.7777777777777778,
             "#fb9f3a"
            ],
            [
             0.8888888888888888,
             "#fdca26"
            ],
            [
             1,
             "#f0f921"
            ]
           ]
          },
          "colorway": [
           "#636efa",
           "#EF553B",
           "#00cc96",
           "#ab63fa",
           "#FFA15A",
           "#19d3f3",
           "#FF6692",
           "#B6E880",
           "#FF97FF",
           "#FECB52"
          ],
          "font": {
           "color": "#2a3f5f"
          },
          "geo": {
           "bgcolor": "white",
           "lakecolor": "white",
           "landcolor": "#E5ECF6",
           "showlakes": true,
           "showland": true,
           "subunitcolor": "white"
          },
          "hoverlabel": {
           "align": "left"
          },
          "hovermode": "closest",
          "mapbox": {
           "style": "light"
          },
          "paper_bgcolor": "white",
          "plot_bgcolor": "#E5ECF6",
          "polar": {
           "angularaxis": {
            "gridcolor": "white",
            "linecolor": "white",
            "ticks": ""
           },
           "bgcolor": "#E5ECF6",
           "radialaxis": {
            "gridcolor": "white",
            "linecolor": "white",
            "ticks": ""
           }
          },
          "scene": {
           "xaxis": {
            "backgroundcolor": "#E5ECF6",
            "gridcolor": "white",
            "gridwidth": 2,
            "linecolor": "white",
            "showbackground": true,
            "ticks": "",
            "zerolinecolor": "white"
           },
           "yaxis": {
            "backgroundcolor": "#E5ECF6",
            "gridcolor": "white",
            "gridwidth": 2,
            "linecolor": "white",
            "showbackground": true,
            "ticks": "",
            "zerolinecolor": "white"
           },
           "zaxis": {
            "backgroundcolor": "#E5ECF6",
            "gridcolor": "white",
            "gridwidth": 2,
            "linecolor": "white",
            "showbackground": true,
            "ticks": "",
            "zerolinecolor": "white"
           }
          },
          "shapedefaults": {
           "line": {
            "color": "#2a3f5f"
           }
          },
          "ternary": {
           "aaxis": {
            "gridcolor": "white",
            "linecolor": "white",
            "ticks": ""
           },
           "baxis": {
            "gridcolor": "white",
            "linecolor": "white",
            "ticks": ""
           },
           "bgcolor": "#E5ECF6",
           "caxis": {
            "gridcolor": "white",
            "linecolor": "white",
            "ticks": ""
           }
          },
          "title": {
           "x": 0.05
          },
          "xaxis": {
           "automargin": true,
           "gridcolor": "white",
           "linecolor": "white",
           "ticks": "",
           "title": {
            "standoff": 15
           },
           "zerolinecolor": "white",
           "zerolinewidth": 2
          },
          "yaxis": {
           "automargin": true,
           "gridcolor": "white",
           "linecolor": "white",
           "ticks": "",
           "title": {
            "standoff": 15
           },
           "zerolinecolor": "white",
           "zerolinewidth": 2
          }
         }
        },
        "xaxis": {
         "anchor": "y",
         "categoryorder": "total descending",
         "domain": [
          0,
          1
         ],
         "title": {
          "text": "Genres"
         }
        },
        "yaxis": {
         "anchor": "x",
         "domain": [
          0,
          1
         ],
         "title": {
          "text": "Number of Movies from the Genre"
         }
        }
       }
      },
      "text/html": [
       "<div>                            <div id=\"461286af-6626-4c6e-bc77-f2d3a69345a0\" class=\"plotly-graph-div\" style=\"height:525px; width:100%;\"></div>            <script type=\"text/javascript\">                require([\"plotly\"], function(Plotly) {                    window.PLOTLYENV=window.PLOTLYENV || {};                                    if (document.getElementById(\"461286af-6626-4c6e-bc77-f2d3a69345a0\")) {                    Plotly.newPlot(                        \"461286af-6626-4c6e-bc77-f2d3a69345a0\",                        [{\"alignmentgroup\": \"True\", \"hovertemplate\": \"Genres=%{x}<br>Number of Movies from the Genre=%{y}<extra></extra>\", \"legendgroup\": \"\", \"marker\": {\"color\": \"#636efa\"}, \"name\": \"\", \"offsetgroup\": \"\", \"orientation\": \"v\", \"showlegend\": false, \"textposition\": \"auto\", \"type\": \"bar\", \"x\": [\"Documentary\", \"Drama\", \"Comedy\", \"Romantic comedy\", \"Thriller\", \"Comedy-drama\", \"Crime drama\", \"Biopic\", \"Horror\", \"Action\", \"Romance\", \"Concert Film\", \"Aftershow / Interview\", \"Animation\", \"Action comedy\", \"Romantic drama\", \"Animation / Short\", \"Variety show\", \"Science fiction/Thriller\", \"Science fiction\", \"Psychological thriller\", \"Action-thriller\", \"Science fiction/Drama\", \"Sports-drama\", \"Western\", \"One-man show\", \"Horror thriller\", \"Mystery\", \"Adventure\", \"Mockumentary\", \"Spy thriller\", \"Satire\", \"Horror-thriller\", \"Making-of\", \"Musical\", \"Family film\", \"Musical comedy\", \"Dark comedy\", \"War drama\", \"Black comedy\", \"War\", \"Family\", \"Superhero\", \"Comedy / Musical\", \"Anime/Science fiction\", \"Christmas/Fantasy/Adventure/Comedy\", \"Christmas comedy\", \"Stop Motion\", \"Romantic teenage drama\", \"Drama / Short\", \"Science fiction adventure\", \"Drama-Comedy\", \"Animation/Musical/Adventure\", \"Animation / Science Fiction\", \"Historical drama\", \"Musical / Short\", \"Political thriller\", \"Animation/Superhero\", \"Hidden-camera prank comedy\", \"Variety Show\", \"Comedy mystery\", \"Animation/Christmas/Comedy/Adventure\", \"Action/Science fiction\", \"War-Comedy\", \"Family/Comedy-drama\", \"Romantic comedy/Holiday\", \"Drama/Horror\", \"Science fiction thriller\", \"Musical/Western/Fantasy\", \"Comedy/Horror\", \"Crime thriller\", \"Superhero-Comedy\", \"Teen comedy horror\", \"Zombie/Heist\", \"Action thriller\", \"Comedy/Fantasy/Family\", \"Superhero/Action\", \"Teen comedy-drama\", \"Science fiction/Mystery\", \"Supernatural drama\", \"Anime / Short\", \"Animation / Musicial\", \"Mentalism special\", \"Action/Comedy\", \"Horror comedy\", \"Animation/Comedy/Adventure\", \"Christian musical\", \"Adventure/Comedy\", \"Psychological horror\", \"Urban fantasy\", \"Fantasy\", \"Anthology/Dark comedy\", \"Heist\", \"Comedy horror\", \"Romantic teen drama\", \"Family/Christmas musical\", \"Action-adventure\", \"Romantic thriller\", \"Adventure-romance\", \"Historical-epic\", \"Dance comedy\", \"Horror/Crime drama\", \"Romantic comedy-drama\", \"Science fiction/Action\", \"Horror anthology\", \"Romance drama\", \"Anime/Fantasy\", \"Heist film/Thriller\", \"Biographical/Comedy\", \"Christmas musical\", \"Sports film\", \"Psychological thriller drama\", \"Animated musical comedy\", \"Animation / Comedy\", \"Coming-of-age comedy-drama\"], \"xaxis\": \"x\", \"y\": [159, 77, 49, 39, 33, 14, 11, 9, 9, 7, 6, 6, 6, 5, 5, 5, 4, 4, 4, 4, 4, 3, 3, 3, 3, 3, 3, 2, 2, 2, 2, 2, 2, 2, 2, 2, 2, 2, 2, 2, 2, 2, 2, 2, 2, 1, 1, 1, 1, 1, 1, 1, 1, 1, 1, 1, 1, 1, 1, 1, 1, 1, 1, 1, 1, 1, 1, 1, 1, 1, 1, 1, 1, 1, 1, 1, 1, 1, 1, 1, 1, 1, 1, 1, 1, 1, 1, 1, 1, 1, 1, 1, 1, 1, 1, 1, 1, 1, 1, 1, 1, 1, 1, 1, 1, 1, 1, 1, 1, 1, 1, 1, 1, 1, 1], \"yaxis\": \"y\"}],                        {\"barmode\": \"relative\", \"legend\": {\"tracegroupgap\": 0}, \"margin\": {\"t\": 60}, \"template\": {\"data\": {\"bar\": [{\"error_x\": {\"color\": \"#2a3f5f\"}, \"error_y\": {\"color\": \"#2a3f5f\"}, \"marker\": {\"line\": {\"color\": \"#E5ECF6\", \"width\": 0.5}}, \"type\": \"bar\"}], \"barpolar\": [{\"marker\": {\"line\": {\"color\": \"#E5ECF6\", \"width\": 0.5}}, \"type\": \"barpolar\"}], \"carpet\": [{\"aaxis\": {\"endlinecolor\": \"#2a3f5f\", \"gridcolor\": \"white\", \"linecolor\": \"white\", \"minorgridcolor\": \"white\", \"startlinecolor\": \"#2a3f5f\"}, \"baxis\": {\"endlinecolor\": \"#2a3f5f\", \"gridcolor\": \"white\", \"linecolor\": \"white\", \"minorgridcolor\": \"white\", \"startlinecolor\": \"#2a3f5f\"}, \"type\": \"carpet\"}], \"choropleth\": [{\"colorbar\": {\"outlinewidth\": 0, \"ticks\": \"\"}, \"type\": \"choropleth\"}], \"contour\": [{\"colorbar\": {\"outlinewidth\": 0, \"ticks\": \"\"}, \"colorscale\": [[0.0, \"#0d0887\"], [0.1111111111111111, \"#46039f\"], [0.2222222222222222, \"#7201a8\"], [0.3333333333333333, \"#9c179e\"], [0.4444444444444444, \"#bd3786\"], [0.5555555555555556, \"#d8576b\"], [0.6666666666666666, \"#ed7953\"], [0.7777777777777778, \"#fb9f3a\"], [0.8888888888888888, \"#fdca26\"], [1.0, \"#f0f921\"]], \"type\": \"contour\"}], \"contourcarpet\": [{\"colorbar\": {\"outlinewidth\": 0, \"ticks\": \"\"}, \"type\": \"contourcarpet\"}], \"heatmap\": [{\"colorbar\": {\"outlinewidth\": 0, \"ticks\": \"\"}, \"colorscale\": [[0.0, \"#0d0887\"], [0.1111111111111111, \"#46039f\"], [0.2222222222222222, \"#7201a8\"], [0.3333333333333333, \"#9c179e\"], [0.4444444444444444, \"#bd3786\"], [0.5555555555555556, \"#d8576b\"], [0.6666666666666666, \"#ed7953\"], [0.7777777777777778, \"#fb9f3a\"], [0.8888888888888888, \"#fdca26\"], [1.0, \"#f0f921\"]], \"type\": \"heatmap\"}], \"heatmapgl\": [{\"colorbar\": {\"outlinewidth\": 0, \"ticks\": \"\"}, \"colorscale\": [[0.0, \"#0d0887\"], [0.1111111111111111, \"#46039f\"], [0.2222222222222222, \"#7201a8\"], [0.3333333333333333, \"#9c179e\"], [0.4444444444444444, \"#bd3786\"], [0.5555555555555556, \"#d8576b\"], [0.6666666666666666, \"#ed7953\"], [0.7777777777777778, \"#fb9f3a\"], [0.8888888888888888, \"#fdca26\"], [1.0, \"#f0f921\"]], \"type\": \"heatmapgl\"}], \"histogram\": [{\"marker\": {\"colorbar\": {\"outlinewidth\": 0, \"ticks\": \"\"}}, \"type\": \"histogram\"}], \"histogram2d\": [{\"colorbar\": {\"outlinewidth\": 0, \"ticks\": \"\"}, \"colorscale\": [[0.0, \"#0d0887\"], [0.1111111111111111, \"#46039f\"], [0.2222222222222222, \"#7201a8\"], [0.3333333333333333, \"#9c179e\"], [0.4444444444444444, \"#bd3786\"], [0.5555555555555556, \"#d8576b\"], [0.6666666666666666, \"#ed7953\"], [0.7777777777777778, \"#fb9f3a\"], [0.8888888888888888, \"#fdca26\"], [1.0, \"#f0f921\"]], \"type\": \"histogram2d\"}], \"histogram2dcontour\": [{\"colorbar\": {\"outlinewidth\": 0, \"ticks\": \"\"}, \"colorscale\": [[0.0, \"#0d0887\"], [0.1111111111111111, \"#46039f\"], [0.2222222222222222, \"#7201a8\"], [0.3333333333333333, \"#9c179e\"], [0.4444444444444444, \"#bd3786\"], [0.5555555555555556, \"#d8576b\"], [0.6666666666666666, \"#ed7953\"], [0.7777777777777778, \"#fb9f3a\"], [0.8888888888888888, \"#fdca26\"], [1.0, \"#f0f921\"]], \"type\": \"histogram2dcontour\"}], \"mesh3d\": [{\"colorbar\": {\"outlinewidth\": 0, \"ticks\": \"\"}, \"type\": \"mesh3d\"}], \"parcoords\": [{\"line\": {\"colorbar\": {\"outlinewidth\": 0, \"ticks\": \"\"}}, \"type\": \"parcoords\"}], \"pie\": [{\"automargin\": true, \"type\": \"pie\"}], \"scatter\": [{\"marker\": {\"colorbar\": {\"outlinewidth\": 0, \"ticks\": \"\"}}, \"type\": \"scatter\"}], \"scatter3d\": [{\"line\": {\"colorbar\": {\"outlinewidth\": 0, \"ticks\": \"\"}}, \"marker\": {\"colorbar\": {\"outlinewidth\": 0, \"ticks\": \"\"}}, \"type\": \"scatter3d\"}], \"scattercarpet\": [{\"marker\": {\"colorbar\": {\"outlinewidth\": 0, \"ticks\": \"\"}}, \"type\": \"scattercarpet\"}], \"scattergeo\": [{\"marker\": {\"colorbar\": {\"outlinewidth\": 0, \"ticks\": \"\"}}, \"type\": \"scattergeo\"}], \"scattergl\": [{\"marker\": {\"colorbar\": {\"outlinewidth\": 0, \"ticks\": \"\"}}, \"type\": \"scattergl\"}], \"scattermapbox\": [{\"marker\": {\"colorbar\": {\"outlinewidth\": 0, \"ticks\": \"\"}}, \"type\": \"scattermapbox\"}], \"scatterpolar\": [{\"marker\": {\"colorbar\": {\"outlinewidth\": 0, \"ticks\": \"\"}}, \"type\": \"scatterpolar\"}], \"scatterpolargl\": [{\"marker\": {\"colorbar\": {\"outlinewidth\": 0, \"ticks\": \"\"}}, \"type\": \"scatterpolargl\"}], \"scatterternary\": [{\"marker\": {\"colorbar\": {\"outlinewidth\": 0, \"ticks\": \"\"}}, \"type\": \"scatterternary\"}], \"surface\": [{\"colorbar\": {\"outlinewidth\": 0, \"ticks\": \"\"}, \"colorscale\": [[0.0, \"#0d0887\"], [0.1111111111111111, \"#46039f\"], [0.2222222222222222, \"#7201a8\"], [0.3333333333333333, \"#9c179e\"], [0.4444444444444444, \"#bd3786\"], [0.5555555555555556, \"#d8576b\"], [0.6666666666666666, \"#ed7953\"], [0.7777777777777778, \"#fb9f3a\"], [0.8888888888888888, \"#fdca26\"], [1.0, \"#f0f921\"]], \"type\": \"surface\"}], \"table\": [{\"cells\": {\"fill\": {\"color\": \"#EBF0F8\"}, \"line\": {\"color\": \"white\"}}, \"header\": {\"fill\": {\"color\": \"#C8D4E3\"}, \"line\": {\"color\": \"white\"}}, \"type\": \"table\"}]}, \"layout\": {\"annotationdefaults\": {\"arrowcolor\": \"#2a3f5f\", \"arrowhead\": 0, \"arrowwidth\": 1}, \"autotypenumbers\": \"strict\", \"coloraxis\": {\"colorbar\": {\"outlinewidth\": 0, \"ticks\": \"\"}}, \"colorscale\": {\"diverging\": [[0, \"#8e0152\"], [0.1, \"#c51b7d\"], [0.2, \"#de77ae\"], [0.3, \"#f1b6da\"], [0.4, \"#fde0ef\"], [0.5, \"#f7f7f7\"], [0.6, \"#e6f5d0\"], [0.7, \"#b8e186\"], [0.8, \"#7fbc41\"], [0.9, \"#4d9221\"], [1, \"#276419\"]], \"sequential\": [[0.0, \"#0d0887\"], [0.1111111111111111, \"#46039f\"], [0.2222222222222222, \"#7201a8\"], [0.3333333333333333, \"#9c179e\"], [0.4444444444444444, \"#bd3786\"], [0.5555555555555556, \"#d8576b\"], [0.6666666666666666, \"#ed7953\"], [0.7777777777777778, \"#fb9f3a\"], [0.8888888888888888, \"#fdca26\"], [1.0, \"#f0f921\"]], \"sequentialminus\": [[0.0, \"#0d0887\"], [0.1111111111111111, \"#46039f\"], [0.2222222222222222, \"#7201a8\"], [0.3333333333333333, \"#9c179e\"], [0.4444444444444444, \"#bd3786\"], [0.5555555555555556, \"#d8576b\"], [0.6666666666666666, \"#ed7953\"], [0.7777777777777778, \"#fb9f3a\"], [0.8888888888888888, \"#fdca26\"], [1.0, \"#f0f921\"]]}, \"colorway\": [\"#636efa\", \"#EF553B\", \"#00cc96\", \"#ab63fa\", \"#FFA15A\", \"#19d3f3\", \"#FF6692\", \"#B6E880\", \"#FF97FF\", \"#FECB52\"], \"font\": {\"color\": \"#2a3f5f\"}, \"geo\": {\"bgcolor\": \"white\", \"lakecolor\": \"white\", \"landcolor\": \"#E5ECF6\", \"showlakes\": true, \"showland\": true, \"subunitcolor\": \"white\"}, \"hoverlabel\": {\"align\": \"left\"}, \"hovermode\": \"closest\", \"mapbox\": {\"style\": \"light\"}, \"paper_bgcolor\": \"white\", \"plot_bgcolor\": \"#E5ECF6\", \"polar\": {\"angularaxis\": {\"gridcolor\": \"white\", \"linecolor\": \"white\", \"ticks\": \"\"}, \"bgcolor\": \"#E5ECF6\", \"radialaxis\": {\"gridcolor\": \"white\", \"linecolor\": \"white\", \"ticks\": \"\"}}, \"scene\": {\"xaxis\": {\"backgroundcolor\": \"#E5ECF6\", \"gridcolor\": \"white\", \"gridwidth\": 2, \"linecolor\": \"white\", \"showbackground\": true, \"ticks\": \"\", \"zerolinecolor\": \"white\"}, \"yaxis\": {\"backgroundcolor\": \"#E5ECF6\", \"gridcolor\": \"white\", \"gridwidth\": 2, \"linecolor\": \"white\", \"showbackground\": true, \"ticks\": \"\", \"zerolinecolor\": \"white\"}, \"zaxis\": {\"backgroundcolor\": \"#E5ECF6\", \"gridcolor\": \"white\", \"gridwidth\": 2, \"linecolor\": \"white\", \"showbackground\": true, \"ticks\": \"\", \"zerolinecolor\": \"white\"}}, \"shapedefaults\": {\"line\": {\"color\": \"#2a3f5f\"}}, \"ternary\": {\"aaxis\": {\"gridcolor\": \"white\", \"linecolor\": \"white\", \"ticks\": \"\"}, \"baxis\": {\"gridcolor\": \"white\", \"linecolor\": \"white\", \"ticks\": \"\"}, \"bgcolor\": \"#E5ECF6\", \"caxis\": {\"gridcolor\": \"white\", \"linecolor\": \"white\", \"ticks\": \"\"}}, \"title\": {\"x\": 0.05}, \"xaxis\": {\"automargin\": true, \"gridcolor\": \"white\", \"linecolor\": \"white\", \"ticks\": \"\", \"title\": {\"standoff\": 15}, \"zerolinecolor\": \"white\", \"zerolinewidth\": 2}, \"yaxis\": {\"automargin\": true, \"gridcolor\": \"white\", \"linecolor\": \"white\", \"ticks\": \"\", \"title\": {\"standoff\": 15}, \"zerolinecolor\": \"white\", \"zerolinewidth\": 2}}}, \"xaxis\": {\"anchor\": \"y\", \"categoryorder\": \"total descending\", \"domain\": [0.0, 1.0], \"title\": {\"text\": \"Genres\"}}, \"yaxis\": {\"anchor\": \"x\", \"domain\": [0.0, 1.0], \"title\": {\"text\": \"Number of Movies from the Genre\"}}},                        {\"responsive\": true}                    ).then(function(){\n",
       "                            \n",
       "var gd = document.getElementById('461286af-6626-4c6e-bc77-f2d3a69345a0');\n",
       "var x = new MutationObserver(function (mutations, observer) {{\n",
       "        var display = window.getComputedStyle(gd).display;\n",
       "        if (!display || display === 'none') {{\n",
       "            console.log([gd, 'removed!']);\n",
       "            Plotly.purge(gd);\n",
       "            observer.disconnect();\n",
       "        }}\n",
       "}});\n",
       "\n",
       "// Listen for the removal of the full notebook cells\n",
       "var notebookContainer = gd.closest('#notebook-container');\n",
       "if (notebookContainer) {{\n",
       "    x.observe(notebookContainer, {childList: true});\n",
       "}}\n",
       "\n",
       "// Listen for the clearing of the current output cell\n",
       "var outputEl = gd.closest('.output');\n",
       "if (outputEl) {{\n",
       "    x.observe(outputEl, {childList: true});\n",
       "}}\n",
       "\n",
       "                        })                };                });            </script>        </div>"
      ]
     },
     "metadata": {},
     "output_type": "display_data"
    }
   ],
   "source": [
    "fig = px.bar(genre, x=genre.index, y=genre.values, labels={'y':'Number of Movies from the Genre','index':'Genres'})\n",
    "fig.update_layout(xaxis={'categoryorder':'total descending'})\n",
    "fig.show()"
   ]
  },
  {
   "cell_type": "markdown",
   "metadata": {},
   "source": [
    "# Find the 3 most used languages in the movies in the dataset"
   ]
  },
  {
   "cell_type": "code",
   "execution_count": 31,
   "metadata": {},
   "outputs": [
    {
     "data": {
      "text/plain": [
       "English                       401\n",
       "Hindi                          33\n",
       "Spanish                        31\n",
       "French                         20\n",
       "Italian                        14\n",
       "Portuguese                     12\n",
       "Indonesian                      9\n",
       "Korean                          6\n",
       "Japanese                        6\n",
       "German                          5\n",
       "Turkish                         5\n",
       "English/Spanish                 5\n",
       "Marathi                         3\n",
       "Dutch                           3\n",
       "Polish                          3\n",
       "Filipino                        2\n",
       "English/Hindi                   2\n",
       "Thai                            2\n",
       "English/Mandarin                2\n",
       "English/Japanese                2\n",
       "Spanish/English                 1\n",
       "Khmer/English/French            1\n",
       "English/Russian                 1\n",
       "Spanish/Catalan                 1\n",
       "Tamil                           1\n",
       "Malay                           1\n",
       "Georgian                        1\n",
       "English/Ukranian/Russian        1\n",
       "English/Arabic                  1\n",
       "Spanish/Basque                  1\n",
       "Swedish                         1\n",
       "English/Taiwanese/Mandarin      1\n",
       "Thia/English                    1\n",
       "English/Akan                    1\n",
       "Norwegian                       1\n",
       "English/Korean                  1\n",
       "English/Swedish                 1\n",
       "Bengali                         1\n",
       "Name: Language, dtype: int64"
      ]
     },
     "execution_count": 31,
     "metadata": {},
     "output_type": "execute_result"
    }
   ],
   "source": [
    "# print unique values of Language \n",
    "netflix_orginal_df.Language.unique()\n",
    "netflix_orginal_df.Language.value_counts()"
   ]
  },
  {
   "cell_type": "code",
   "execution_count": 32,
   "metadata": {},
   "outputs": [
    {
     "data": {
      "text/plain": [
       "English    401\n",
       "Hindi       33\n",
       "Spanish     31\n",
       "Name: Language, dtype: int64"
      ]
     },
     "execution_count": 32,
     "metadata": {},
     "output_type": "execute_result"
    }
   ],
   "source": [
    "netflix_original_df_top_language = netflix_orginal_df.Language.value_counts().nlargest(3)\n",
    "netflix_original_df_top_language\n",
    "                                                                                    "
   ]
  },
  {
   "cell_type": "code",
   "execution_count": 34,
   "metadata": {},
   "outputs": [
    {
     "data": {
      "image/png": "[encoded data removed]",
      "text/plain": [
       "<Figure size 864x576 with 1 Axes>"
      ]
     },
     "metadata": {
      "needs_background": "light"
     },
     "output_type": "display_data"
    }
   ],
   "source": [
    "# Plotting a bar graph for better visualization\n",
    "plt.figure(figsize=(12,8))\n",
    "sns.barplot(x=netflix_original_df_top_language.index, y=netflix_original_df_top_language.values,data=netflix_orginal_df, color='green')\n",
    "plt.xlabel('Top 3 languages in Movies')\n",
    "plt.xticks(rotation=90)\n",
    "plt.ylabel('Number')\n",
    "plt.show()"
   ]
  },
  {
   "cell_type": "markdown",
   "metadata": {},
   "source": [
    "# Top 10 movies with IMDB Ratings\n"
   ]
  },
  {
   "cell_type": "code",
   "execution_count": 35,
   "metadata": {},
   "outputs": [
    {
     "name": "stderr",
     "output_type": "stream",
     "text": [
      "posx and posy should be finite values\n",
      "posx and posy should be finite values\n",
      "posx and posy should be finite values\n",
      "posx and posy should be finite values\n",
      "posx and posy should be finite values\n",
      "posx and posy should be finite values\n",
      "posx and posy should be finite values\n",
      "posx and posy should be finite values\n",
      "posx and posy should be finite values\n",
      "posx and posy should be finite values\n",
      "posx and posy should be finite values\n",
      "posx and posy should be finite values\n",
      "posx and posy should be finite values\n",
      "posx and posy should be finite values\n",
      "posx and posy should be finite values\n",
      "posx and posy should be finite values\n",
      "posx and posy should be finite values\n",
      "posx and posy should be finite values\n",
      "posx and posy should be finite values\n",
      "posx and posy should be finite values\n",
      "posx and posy should be finite values\n",
      "posx and posy should be finite values\n",
      "posx and posy should be finite values\n",
      "posx and posy should be finite values\n",
      "posx and posy should be finite values\n",
      "posx and posy should be finite values\n",
      "posx and posy should be finite values\n",
      "posx and posy should be finite values\n",
      "posx and posy should be finite values\n",
      "posx and posy should be finite values\n",
      "posx and posy should be finite values\n",
      "posx and posy should be finite values\n",
      "posx and posy should be finite values\n",
      "posx and posy should be finite values\n",
      "posx and posy should be finite values\n",
      "posx and posy should be finite values\n",
      "posx and posy should be finite values\n",
      "posx and posy should be finite values\n",
      "posx and posy should be finite values\n",
      "posx and posy should be finite values\n",
      "posx and posy should be finite values\n",
      "posx and posy should be finite values\n",
      "posx and posy should be finite values\n",
      "posx and posy should be finite values\n",
      "posx and posy should be finite values\n",
      "posx and posy should be finite values\n",
      "posx and posy should be finite values\n",
      "posx and posy should be finite values\n",
      "posx and posy should be finite values\n",
      "posx and posy should be finite values\n",
      "posx and posy should be finite values\n",
      "posx and posy should be finite values\n",
      "posx and posy should be finite values\n",
      "posx and posy should be finite values\n",
      "posx and posy should be finite values\n",
      "posx and posy should be finite values\n",
      "posx and posy should be finite values\n",
      "posx and posy should be finite values\n",
      "posx and posy should be finite values\n",
      "posx and posy should be finite values\n",
      "posx and posy should be finite values\n",
      "posx and posy should be finite values\n",
      "posx and posy should be finite values\n",
      "posx and posy should be finite values\n",
      "posx and posy should be finite values\n",
      "posx and posy should be finite values\n",
      "posx and posy should be finite values\n",
      "posx and posy should be finite values\n",
      "posx and posy should be finite values\n",
      "posx and posy should be finite values\n",
      "posx and posy should be finite values\n",
      "posx and posy should be finite values\n",
      "posx and posy should be finite values\n",
      "posx and posy should be finite values\n",
      "posx and posy should be finite values\n",
      "posx and posy should be finite values\n",
      "posx and posy should be finite values\n",
      "posx and posy should be finite values\n"
     ]
    },
    {
     "data": {
      "image/png": "[encoded data removed]",
      "text/plain": [
       "<Figure size 1080x432 with 1 Axes>"
      ]
     },
     "metadata": {
      "needs_background": "light"
     },
     "output_type": "display_data"
    }
   ],
   "source": [
    "netflix_orginal_df_temp=netflix_orginal_df.sort_values(by='IMDB Score', ascending=False).reset_index().iloc[:13,:]\n",
    "fig, ax = plt.subplots(1,1, figsize=(15,6), constrained_layout = True)\n",
    "ax =sns.barplot(x='Title', y='IMDB Score', data = netflix_orginal_df_temp, hue='Genre')\n",
    "\n",
    "for i in ax.patches:    \n",
    "    ax.text(x = i.get_x() + i.get_width()/2, y = i.get_height()+0.1,\n",
    "            s = f\"{i.get_height()}\", \n",
    "            ha = 'center', size = 14, weight = 'bold', rotation = 0, color = 'white',\n",
    "            bbox=dict(boxstyle=\"circle,pad=0.5\", fc='lightblue', ec=\"lightblue\", lw=2));\n",
    "    \n",
    "ax.set_xlabel('Title', fontsize=14)\n",
    "ax.set_ylabel('Average IMDB Score', fontsize=14)\n",
    "ax.set_xticklabels([i[:15] for i in netflix_orginal_df_temp['Title'].unique()], fontsize=12, rotation = -30)\n",
    "plt.title('Top 10 movies by IMDB Score', fontsize=16)\n",
    "plt.legend(title='Gerne', bbox_to_anchor=(1.05, 1), loc='upper left');"
   ]
  },
  {
   "cell_type": "markdown",
   "metadata": {},
   "source": [
    "# What is the correlation between IMDB score and 'RUNtime'? Examine and visulize"
   ]
  },
  {
   "cell_type": "code",
   "execution_count": 36,
   "metadata": {},
   "outputs": [
    {
     "data": {
      "text/html": [
       "<div>\n",
       "<style scoped>\n",
       "    .dataframe tbody tr th:only-of-type {\n",
       "        vertical-align: middle;\n",
       "    }\n",
       "\n",
       "    .dataframe tbody tr th {\n",
       "        vertical-align: top;\n",
       "    }\n",
       "\n",
       "    .dataframe thead th {\n",
       "        text-align: right;\n",
       "    }\n",
       "</style>\n",
       "<table border=\"1\" class=\"dataframe\">\n",
       "  <thead>\n",
       "    <tr style=\"text-align: right;\">\n",
       "      <th></th>\n",
       "      <th>IMDB Score</th>\n",
       "      <th>Runtime</th>\n",
       "    </tr>\n",
       "  </thead>\n",
       "  <tbody>\n",
       "    <tr>\n",
       "      <th>IMDB Score</th>\n",
       "      <td>1.000000</td>\n",
       "      <td>-0.040896</td>\n",
       "    </tr>\n",
       "    <tr>\n",
       "      <th>Runtime</th>\n",
       "      <td>-0.040896</td>\n",
       "      <td>1.000000</td>\n",
       "    </tr>\n",
       "  </tbody>\n",
       "</table>\n",
       "</div>"
      ],
      "text/plain": [
       "            IMDB Score   Runtime\n",
       "IMDB Score    1.000000 -0.040896\n",
       "Runtime      -0.040896  1.000000"
      ]
     },
     "execution_count": 36,
     "metadata": {},
     "output_type": "execute_result"
    }
   ],
   "source": [
    "netflix_orginal_df[['IMDB Score', 'Runtime']].corr()"
   ]
  },
  {
   "cell_type": "code",
   "execution_count": 37,
   "metadata": {},
   "outputs": [
    {
     "data": {
      "application/vnd.plotly.v1+json": {
       "config": {
        "plotlyServerURL": "https://plot.ly"
       },
       "data": [
        {
         "hovertemplate": "IMDB Score=%{x}<br>Runtime=%{y}<extra></extra>",
         "legendgroup": "",
         "marker": {
          "color": "#636efa",
          "symbol": "circle"
         },
         "mode": "markers",
         "name": "",
         "orientation": "v",
         "showlegend": false,
         "type": "scatter",
         "x": [
          2.5,
          2.6,
          2.6,
          3.2,
          3.4,
          3.5,
          3.7,
          3.7,
          3.9,
          4.1,
          4.1,
          4.1,
          4.1,
          4.2,
          4.2,
          4.3,
          4.3,
          4.3,
          4.3,
          4.4,
          4.4,
          4.4,
          4.4,
          4.4,
          4.4,
          4.5,
          4.5,
          4.5,
          4.5,
          4.6,
          4.6,
          4.6,
          4.6,
          4.6,
          4.6,
          4.6,
          4.6,
          4.7,
          4.7,
          4.7,
          4.7,
          4.7,
          4.7,
          4.8,
          4.8,
          4.8,
          4.8,
          4.8,
          4.8,
          4.8,
          4.9,
          4.9,
          4.9,
          4.9,
          5,
          5,
          5,
          5,
          5,
          5.1,
          5.1,
          5.1,
          5.1,
          5.1,
          5.1,
          5.2,
          5.2,
          5.2,
          5.2,
          5.2,
          5.2,
          5.2,
          5.2,
          5.2,
          5.2,
          5.2,
          5.2,
          5.2,
          5.2,
          5.2,
          5.2,
          5.2,
          5.2,
          5.2,
          5.3,
          5.3,
          5.3,
          5.3,
          5.3,
          5.3,
          5.3,
          5.3,
          5.3,
          5.3,
          5.4,
          5.4,
          5.4,
          5.4,
          5.4,
          5.4,
          5.4,
          5.4,
          5.4,
          5.4,
          5.4,
          5.4,
          5.4,
          5.5,
          5.5,
          5.5,
          5.5,
          5.5,
          5.5,
          5.5,
          5.5,
          5.5,
          5.5,
          5.5,
          5.5,
          5.5,
          5.5,
          5.5,
          5.5,
          5.5,
          5.5,
          5.5,
          5.6,
          5.6,
          5.6,
          5.6,
          5.6,
          5.6,
          5.6,
          5.6,
          5.6,
          5.6,
          5.6,
          5.6,
          5.6,
          5.6,
          5.6,
          5.7,
          5.7,
          5.7,
          5.7,
          5.7,
          5.7,
          5.7,
          5.7,
          5.7,
          5.7,
          5.7,
          5.7,
          5.7,
          5.7,
          5.7,
          5.7,
          5.7,
          5.7,
          5.7,
          5.7,
          5.8,
          5.8,
          5.8,
          5.8,
          5.8,
          5.8,
          5.8,
          5.8,
          5.8,
          5.8,
          5.8,
          5.8,
          5.8,
          5.8,
          5.8,
          5.8,
          5.8,
          5.8,
          5.8,
          5.8,
          5.8,
          5.8,
          5.8,
          5.8,
          5.8,
          5.8,
          5.8,
          5.8,
          5.8,
          5.8,
          5.9,
          5.9,
          5.9,
          5.9,
          5.9,
          5.9,
          5.9,
          5.9,
          5.9,
          5.9,
          5.9,
          5.9,
          5.9,
          5.9,
          5.9,
          5.9,
          6,
          6,
          6,
          6,
          6,
          6,
          6,
          6,
          6,
          6,
          6,
          6,
          6,
          6.1,
          6.1,
          6.1,
          6.1,
          6.1,
          6.1,
          6.1,
          6.1,
          6.1,
          6.1,
          6.1,
          6.1,
          6.1,
          6.1,
          6.1,
          6.1,
          6.1,
          6.1,
          6.1,
          6.1,
          6.1,
          6.1,
          6.1,
          6.1,
          6.2,
          6.2,
          6.2,
          6.2,
          6.2,
          6.2,
          6.2,
          6.2,
          6.2,
          6.2,
          6.2,
          6.2,
          6.2,
          6.2,
          6.2,
          6.2,
          6.2,
          6.2,
          6.3,
          6.3,
          6.3,
          6.3,
          6.3,
          6.3,
          6.3,
          6.3,
          6.3,
          6.3,
          6.3,
          6.3,
          6.3,
          6.3,
          6.3,
          6.3,
          6.3,
          6.3,
          6.3,
          6.3,
          6.3,
          6.3,
          6.3,
          6.3,
          6.3,
          6.3,
          6.3,
          6.3,
          6.3,
          6.3,
          6.4,
          6.4,
          6.4,
          6.4,
          6.4,
          6.4,
          6.4,
          6.4,
          6.4,
          6.4,
          6.4,
          6.4,
          6.4,
          6.4,
          6.4,
          6.4,
          6.4,
          6.4,
          6.4,
          6.4,
          6.4,
          6.4,
          6.4,
          6.4,
          6.4,
          6.4,
          6.4,
          6.4,
          6.5,
          6.5,
          6.5,
          6.5,
          6.5,
          6.5,
          6.5,
          6.5,
          6.5,
          6.5,
          6.5,
          6.5,
          6.5,
          6.5,
          6.5,
          6.5,
          6.5,
          6.5,
          6.5,
          6.5,
          6.5,
          6.5,
          6.5,
          6.5,
          6.5,
          6.5,
          6.6,
          6.6,
          6.6,
          6.6,
          6.6,
          6.6,
          6.6,
          6.6,
          6.6,
          6.6,
          6.6,
          6.6,
          6.6,
          6.6,
          6.6,
          6.6,
          6.6,
          6.6,
          6.7,
          6.7,
          6.7,
          6.7,
          6.7,
          6.7,
          6.7,
          6.7,
          6.7,
          6.7,
          6.7,
          6.7,
          6.7,
          6.7,
          6.7,
          6.7,
          6.7,
          6.7,
          6.7,
          6.7,
          6.7,
          6.7,
          6.7,
          6.7,
          6.7,
          6.8,
          6.8,
          6.8,
          6.8,
          6.8,
          6.8,
          6.8,
          6.8,
          6.8,
          6.8,
          6.8,
          6.8,
          6.8,
          6.8,
          6.8,
          6.8,
          6.8,
          6.8,
          6.8,
          6.8,
          6.8,
          6.8,
          6.8,
          6.8,
          6.9,
          6.9,
          6.9,
          6.9,
          6.9,
          6.9,
          6.9,
          6.9,
          6.9,
          6.9,
          6.9,
          6.9,
          6.9,
          6.9,
          6.9,
          6.9,
          6.9,
          6.9,
          6.9,
          7,
          7,
          7,
          7,
          7,
          7,
          7,
          7,
          7,
          7,
          7,
          7,
          7,
          7,
          7,
          7,
          7,
          7,
          7,
          7.1,
          7.1,
          7.1,
          7.1,
          7.1,
          7.1,
          7.1,
          7.1,
          7.1,
          7.1,
          7.1,
          7.1,
          7.1,
          7.1,
          7.1,
          7.1,
          7.1,
          7.1,
          7.1,
          7.1,
          7.1,
          7.1,
          7.1,
          7.1,
          7.1,
          7.1,
          7.1,
          7.1,
          7.2,
          7.2,
          7.2,
          7.2,
          7.2,
          7.2,
          7.2,
          7.2,
          7.2,
          7.2,
          7.2,
          7.2,
          7.2,
          7.2,
          7.2,
          7.2,
          7.2,
          7.2,
          7.2,
          7.2,
          7.3,
          7.3,
          7.3,
          7.3,
          7.3,
          7.3,
          7.3,
          7.3,
          7.3,
          7.3,
          7.3,
          7.3,
          7.3,
          7.3,
          7.3,
          7.3,
          7.3,
          7.3,
          7.3,
          7.3,
          7.3,
          7.4,
          7.4,
          7.4,
          7.4,
          7.4,
          7.4,
          7.4,
          7.4,
          7.4,
          7.4,
          7.4,
          7.4,
          7.5,
          7.5,
          7.5,
          7.5,
          7.5,
          7.5,
          7.5,
          7.5,
          7.5,
          7.5,
          7.6,
          7.6,
          7.6,
          7.6,
          7.6,
          7.6,
          7.6,
          7.6,
          7.6,
          7.6,
          7.7,
          7.7,
          7.7,
          7.7,
          7.7,
          7.7,
          7.7,
          7.7,
          7.8,
          7.8,
          7.8,
          7.9,
          7.9,
          7.9,
          7.9,
          8,
          8.1,
          8.1,
          8.1,
          8.2,
          8.2,
          8.2,
          8.2,
          8.2,
          8.3,
          8.3,
          8.4,
          8.4,
          8.4,
          8.5,
          8.6,
          9
         ],
         "xaxis": "x",
         "y": [
          58,
          81,
          79,
          94,
          90,
          147,
          112,
          149,
          73,
          139,
          58,
          112,
          97,
          101,
          90,
          25,
          144,
          115,
          102,
          100,
          64,
          97,
          99,
          120,
          105,
          89,
          97,
          107,
          99,
          95,
          37,
          89,
          83,
          46,
          85,
          88,
          86,
          105,
          95,
          80,
          4,
          93,
          100,
          106,
          97,
          106,
          103,
          80,
          101,
          119,
          80,
          89,
          94,
          93,
          96,
          113,
          86,
          100,
          102,
          86,
          104,
          88,
          97,
          105,
          90,
          99,
          10,
          106,
          98,
          94,
          112,
          117,
          70,
          81,
          103,
          94,
          98,
          131,
          87,
          60,
          112,
          102,
          99,
          116,
          92,
          83,
          97,
          112,
          116,
          102,
          121,
          95,
          93,
          92,
          98,
          85,
          78,
          120,
          92,
          101,
          119,
          101,
          112,
          96,
          114,
          97,
          101,
          56,
          100,
          94,
          94,
          21,
          104,
          63,
          100,
          126,
          106,
          86,
          142,
          108,
          102,
          92,
          83,
          94,
          92,
          103,
          89,
          95,
          103,
          97,
          125,
          91,
          90,
          49,
          98,
          107,
          118,
          94,
          103,
          86,
          83,
          97,
          99,
          104,
          102,
          89,
          98,
          125,
          89,
          94,
          94,
          85,
          34,
          86,
          91,
          108,
          95,
          100,
          90,
          112,
          86,
          124,
          107,
          92,
          121,
          90,
          104,
          92,
          114,
          98,
          95,
          78,
          107,
          92,
          95,
          96,
          118,
          105,
          94,
          52,
          105,
          95,
          100,
          97,
          89,
          102,
          96,
          131,
          89,
          93,
          111,
          75,
          120,
          96,
          148,
          94,
          107,
          32,
          104,
          23,
          111,
          83,
          53,
          95,
          132,
          98,
          108,
          106,
          104,
          90,
          106,
          90,
          97,
          113,
          123,
          115,
          105,
          101,
          102,
          122,
          128,
          82,
          102,
          80,
          94,
          123,
          104,
          85,
          84,
          103,
          95,
          100,
          89,
          116,
          118,
          96,
          114,
          99,
          87,
          92,
          90,
          95,
          96,
          93,
          42,
          92,
          106,
          151,
          101,
          114,
          90,
          115,
          92,
          72,
          139,
          98,
          92,
          111,
          98,
          104,
          95,
          88,
          102,
          30,
          99,
          129,
          87,
          117,
          104,
          111,
          107,
          97,
          98,
          90,
          101,
          72,
          83,
          118,
          44,
          113,
          86,
          108,
          85,
          102,
          151,
          98,
          87,
          120,
          134,
          109,
          85,
          103,
          94,
          97,
          88,
          37,
          112,
          102,
          100,
          96,
          113,
          16,
          119,
          97,
          81,
          98,
          95,
          96,
          107,
          41,
          87,
          101,
          97,
          103,
          90,
          125,
          116,
          99,
          82,
          97,
          28,
          108,
          93,
          74,
          60,
          9,
          21,
          100,
          155,
          55,
          123,
          103,
          93,
          119,
          40,
          120,
          98,
          104,
          91,
          95,
          101,
          105,
          83,
          91,
          83,
          17,
          86,
          124,
          94,
          102,
          118,
          79,
          134,
          126,
          98,
          89,
          58,
          83,
          136,
          98,
          114,
          99,
          130,
          32,
          104,
          142,
          92,
          86,
          106,
          95,
          91,
          89,
          117,
          90,
          117,
          80,
          87,
          101,
          19,
          106,
          54,
          111,
          132,
          97,
          106,
          111,
          124,
          116,
          112,
          144,
          76,
          101,
          92,
          19,
          39,
          102,
          89,
          105,
          101,
          70,
          96,
          85,
          39,
          79,
          73,
          114,
          121,
          28,
          95,
          122,
          23,
          107,
          98,
          108,
          92,
          100,
          97,
          7,
          96,
          100,
          132,
          103,
          121,
          114,
          57,
          95,
          83,
          17,
          105,
          131,
          30,
          112,
          86,
          100,
          14,
          109,
          28,
          64,
          94,
          31,
          99,
          108,
          48,
          84,
          70,
          27,
          45,
          117,
          104,
          108,
          121,
          36,
          30,
          47,
          110,
          92,
          80,
          49,
          73,
          40,
          96,
          106,
          97,
          94,
          78,
          81,
          87,
          91,
          91,
          95,
          126,
          31,
          58,
          41,
          138,
          112,
          114,
          125,
          99,
          82,
          98,
          136,
          97,
          107,
          92,
          39,
          133,
          89,
          124,
          99,
          101,
          97,
          124,
          129,
          121,
          140,
          13,
          108,
          11,
          118,
          121,
          24,
          100,
          101,
          105,
          96,
          47,
          121,
          100,
          149,
          64,
          64,
          114,
          15,
          79,
          90,
          132,
          105,
          97,
          83,
          110,
          39,
          40,
          85,
          26,
          87,
          97,
          118,
          23,
          40,
          98,
          80,
          108,
          79,
          74,
          90,
          137,
          71,
          98,
          70,
          99,
          40,
          104,
          149,
          124,
          144,
          85,
          100,
          94,
          125,
          84,
          117,
          15,
          136,
          76,
          108,
          94,
          90,
          72,
          135,
          12,
          209,
          130,
          82,
          120,
          136,
          112,
          105,
          89,
          85,
          106,
          100,
          107,
          97,
          89,
          109,
          114,
          51,
          85,
          125,
          91,
          153,
          89,
          83
         ],
         "yaxis": "y"
        }
       ],
       "layout": {
        "legend": {
         "tracegroupgap": 0
        },
        "margin": {
         "t": 60
        },
        "template": {
         "data": {
          "bar": [
           {
            "error_x": {
             "color": "#2a3f5f"
            },
            "error_y": {
             "color": "#2a3f5f"
            },
            "marker": {
             "line": {
              "color": "#E5ECF6",
              "width": 0.5
             }
            },
            "type": "bar"
           }
          ],
          "barpolar": [
           {
            "marker": {
             "line": {
              "color": "#E5ECF6",
              "width": 0.5
             }
            },
            "type": "barpolar"
           }
          ],
          "carpet": [
           {
            "aaxis": {
             "endlinecolor": "#2a3f5f",
             "gridcolor": "white",
             "linecolor": "white",
             "minorgridcolor": "white",
             "startlinecolor": "#2a3f5f"
            },
            "baxis": {
             "endlinecolor": "#2a3f5f",
             "gridcolor": "white",
             "linecolor": "white",
             "minorgridcolor": "white",
             "startlinecolor": "#2a3f5f"
            },
            "type": "carpet"
           }
          ],
          "choropleth": [
           {
            "colorbar": {
             "outlinewidth": 0,
             "ticks": ""
            },
            "type": "choropleth"
           }
          ],
          "contour": [
           {
            "colorbar": {
             "outlinewidth": 0,
             "ticks": ""
            },
            "colorscale": [
             [
              0,
              "#0d0887"
             ],
             [
              0.1111111111111111,
              "#46039f"
             ],
             [
              0.2222222222222222,
              "#7201a8"
             ],
             [
              0.3333333333333333,
              "#9c179e"
             ],
             [
              0.4444444444444444,
              "#bd3786"
             ],
             [
              0.5555555555555556,
              "#d8576b"
             ],
             [
              0.6666666666666666,
              "#ed7953"
             ],
             [
              0.7777777777777778,
              "#fb9f3a"
             ],
             [
              0.8888888888888888,
              "#fdca26"
             ],
             [
              1,
              "#f0f921"
             ]
            ],
            "type": "contour"
           }
          ],
          "contourcarpet": [
           {
            "colorbar": {
             "outlinewidth": 0,
             "ticks": ""
            },
            "type": "contourcarpet"
           }
          ],
          "heatmap": [
           {
            "colorbar": {
             "outlinewidth": 0,
             "ticks": ""
            },
            "colorscale": [
             [
              0,
              "#0d0887"
             ],
             [
              0.1111111111111111,
              "#46039f"
             ],
             [
              0.2222222222222222,
              "#7201a8"
             ],
             [
              0.3333333333333333,
              "#9c179e"
             ],
             [
              0.4444444444444444,
              "#bd3786"
             ],
             [
              0.5555555555555556,
              "#d8576b"
             ],
             [
              0.6666666666666666,
              "#ed7953"
             ],
             [
              0.7777777777777778,
              "#fb9f3a"
             ],
             [
              0.8888888888888888,
              "#fdca26"
             ],
             [
              1,
              "#f0f921"
             ]
            ],
            "type": "heatmap"
           }
          ],
          "heatmapgl": [
           {
            "colorbar": {
             "outlinewidth": 0,
             "ticks": ""
            },
            "colorscale": [
             [
              0,
              "#0d0887"
             ],
             [
              0.1111111111111111,
              "#46039f"
             ],
             [
              0.2222222222222222,
              "#7201a8"
             ],
             [
              0.3333333333333333,
              "#9c179e"
             ],
             [
              0.4444444444444444,
              "#bd3786"
             ],
             [
              0.5555555555555556,
              "#d8576b"
             ],
             [
              0.6666666666666666,
              "#ed7953"
             ],
             [
              0.7777777777777778,
              "#fb9f3a"
             ],
             [
              0.8888888888888888,
              "#fdca26"
             ],
             [
              1,
              "#f0f921"
             ]
            ],
            "type": "heatmapgl"
           }
          ],
          "histogram": [
           {
            "marker": {
             "colorbar": {
              "outlinewidth": 0,
              "ticks": ""
             }
            },
            "type": "histogram"
           }
          ],
          "histogram2d": [
           {
            "colorbar": {
             "outlinewidth": 0,
             "ticks": ""
            },
            "colorscale": [
             [
              0,
              "#0d0887"
             ],
             [
              0.1111111111111111,
              "#46039f"
             ],
             [
              0.2222222222222222,
              "#7201a8"
             ],
             [
              0.3333333333333333,
              "#9c179e"
             ],
             [
              0.4444444444444444,
              "#bd3786"
             ],
             [
              0.5555555555555556,
              "#d8576b"
             ],
             [
              0.6666666666666666,
              "#ed7953"
             ],
             [
              0.7777777777777778,
              "#fb9f3a"
             ],
             [
              0.8888888888888888,
              "#fdca26"
             ],
             [
              1,
              "#f0f921"
             ]
            ],
            "type": "histogram2d"
           }
          ],
          "histogram2dcontour": [
           {
            "colorbar": {
             "outlinewidth": 0,
             "ticks": ""
            },
            "colorscale": [
             [
              0,
              "#0d0887"
             ],
             [
              0.1111111111111111,
              "#46039f"
             ],
             [
              0.2222222222222222,
              "#7201a8"
             ],
             [
              0.3333333333333333,
              "#9c179e"
             ],
             [
              0.4444444444444444,
              "#bd3786"
             ],
             [
              0.5555555555555556,
              "#d8576b"
             ],
             [
              0.6666666666666666,
              "#ed7953"
             ],
             [
              0.7777777777777778,
              "#fb9f3a"
             ],
             [
              0.8888888888888888,
              "#fdca26"
             ],
             [
              1,
              "#f0f921"
             ]
            ],
            "type": "histogram2dcontour"
           }
          ],
          "mesh3d": [
           {
            "colorbar": {
             "outlinewidth": 0,
             "ticks": ""
            },
            "type": "mesh3d"
           }
          ],
          "parcoords": [
           {
            "line": {
             "colorbar": {
              "outlinewidth": 0,
              "ticks": ""
             }
            },
            "type": "parcoords"
           }
          ],
          "pie": [
           {
            "automargin": true,
            "type": "pie"
           }
          ],
          "scatter": [
           {
            "marker": {
             "colorbar": {
              "outlinewidth": 0,
              "ticks": ""
             }
            },
            "type": "scatter"
           }
          ],
          "scatter3d": [
           {
            "line": {
             "colorbar": {
              "outlinewidth": 0,
              "ticks": ""
             }
            },
            "marker": {
             "colorbar": {
              "outlinewidth": 0,
              "ticks": ""
             }
            },
            "type": "scatter3d"
           }
          ],
          "scattercarpet": [
           {
            "marker": {
             "colorbar": {
              "outlinewidth": 0,
              "ticks": ""
             }
            },
            "type": "scattercarpet"
           }
          ],
          "scattergeo": [
           {
            "marker": {
             "colorbar": {
              "outlinewidth": 0,
              "ticks": ""
             }
            },
            "type": "scattergeo"
           }
          ],
          "scattergl": [
           {
            "marker": {
             "colorbar": {
              "outlinewidth": 0,
              "ticks": ""
             }
            },
            "type": "scattergl"
           }
          ],
          "scattermapbox": [
           {
            "marker": {
             "colorbar": {
              "outlinewidth": 0,
              "ticks": ""
             }
            },
            "type": "scattermapbox"
           }
          ],
          "scatterpolar": [
           {
            "marker": {
             "colorbar": {
              "outlinewidth": 0,
              "ticks": ""
             }
            },
            "type": "scatterpolar"
           }
          ],
          "scatterpolargl": [
           {
            "marker": {
             "colorbar": {
              "outlinewidth": 0,
              "ticks": ""
             }
            },
            "type": "scatterpolargl"
           }
          ],
          "scatterternary": [
           {
            "marker": {
             "colorbar": {
              "outlinewidth": 0,
              "ticks": ""
             }
            },
            "type": "scatterternary"
           }
          ],
          "surface": [
           {
            "colorbar": {
             "outlinewidth": 0,
             "ticks": ""
            },
            "colorscale": [
             [
              0,
              "#0d0887"
             ],
             [
              0.1111111111111111,
              "#46039f"
             ],
             [
              0.2222222222222222,
              "#7201a8"
             ],
             [
              0.3333333333333333,
              "#9c179e"
             ],
             [
              0.4444444444444444,
              "#bd3786"
             ],
             [
              0.5555555555555556,
              "#d8576b"
             ],
             [
              0.6666666666666666,
              "#ed7953"
             ],
             [
              0.7777777777777778,
              "#fb9f3a"
             ],
             [
              0.8888888888888888,
              "#fdca26"
             ],
             [
              1,
              "#f0f921"
             ]
            ],
            "type": "surface"
           }
          ],
          "table": [
           {
            "cells": {
             "fill": {
              "color": "#EBF0F8"
             },
             "line": {
              "color": "white"
             }
            },
            "header": {
             "fill": {
              "color": "#C8D4E3"
             },
             "line": {
              "color": "white"
             }
            },
            "type": "table"
           }
          ]
         },
         "layout": {
          "annotationdefaults": {
           "arrowcolor": "#2a3f5f",
           "arrowhead": 0,
           "arrowwidth": 1
          },
          "autotypenumbers": "strict",
          "coloraxis": {
           "colorbar": {
            "outlinewidth": 0,
            "ticks": ""
           }
          },
          "colorscale": {
           "diverging": [
            [
             0,
             "#8e0152"
            ],
            [
             0.1,
             "#c51b7d"
            ],
            [
             0.2,
             "#de77ae"
            ],
            [
             0.3,
             "#f1b6da"
            ],
            [
             0.4,
             "#fde0ef"
            ],
            [
             0.5,
             "#f7f7f7"
            ],
            [
             0.6,
             "#e6f5d0"
            ],
            [
             0.7,
             "#b8e186"
            ],
            [
             0.8,
             "#7fbc41"
            ],
            [
             0.9,
             "#4d9221"
            ],
            [
             1,
             "#276419"
            ]
           ],
           "sequential": [
            [
             0,
             "#0d0887"
            ],
            [
             0.1111111111111111,
             "#46039f"
            ],
            [
             0.2222222222222222,
             "#7201a8"
            ],
            [
             0.3333333333333333,
             "#9c179e"
            ],
            [
             0.4444444444444444,
             "#bd3786"
            ],
            [
             0.5555555555555556,
             "#d8576b"
            ],
            [
             0.6666666666666666,
             "#ed7953"
            ],
            [
             0.7777777777777778,
             "#fb9f3a"
            ],
            [
             0.8888888888888888,
             "#fdca26"
            ],
            [
             1,
             "#f0f921"
            ]
           ],
           "sequentialminus": [
            [
             0,
             "#0d0887"
            ],
            [
             0.1111111111111111,
             "#46039f"
            ],
            [
             0.2222222222222222,
             "#7201a8"
            ],
            [
             0.3333333333333333,
             "#9c179e"
            ],
            [
             0.4444444444444444,
             "#bd3786"
            ],
            [
             0.5555555555555556,
             "#d8576b"
            ],
            [
             0.6666666666666666,
             "#ed7953"
            ],
            [
             0.7777777777777778,
             "#fb9f3a"
            ],
            [
             0.8888888888888888,
             "#fdca26"
            ],
            [
             1,
             "#f0f921"
            ]
           ]
          },
          "colorway": [
           "#636efa",
           "#EF553B",
           "#00cc96",
           "#ab63fa",
           "#FFA15A",
           "#19d3f3",
           "#FF6692",
           "#B6E880",
           "#FF97FF",
           "#FECB52"
          ],
          "font": {
           "color": "#2a3f5f"
          },
          "geo": {
           "bgcolor": "white",
           "lakecolor": "white",
           "landcolor": "#E5ECF6",
           "showlakes": true,
           "showland": true,
           "subunitcolor": "white"
          },
          "hoverlabel": {
           "align": "left"
          },
          "hovermode": "closest",
          "mapbox": {
           "style": "light"
          },
          "paper_bgcolor": "white",
          "plot_bgcolor": "#E5ECF6",
          "polar": {
           "angularaxis": {
            "gridcolor": "white",
            "linecolor": "white",
            "ticks": ""
           },
           "bgcolor": "#E5ECF6",
           "radialaxis": {
            "gridcolor": "white",
            "linecolor": "white",
            "ticks": ""
           }
          },
          "scene": {
           "xaxis": {
            "backgroundcolor": "#E5ECF6",
            "gridcolor": "white",
            "gridwidth": 2,
            "linecolor": "white",
            "showbackground": true,
            "ticks": "",
            "zerolinecolor": "white"
           },
           "yaxis": {
            "backgroundcolor": "#E5ECF6",
            "gridcolor": "white",
            "gridwidth": 2,
            "linecolor": "white",
            "showbackground": true,
            "ticks": "",
            "zerolinecolor": "white"
           },
           "zaxis": {
            "backgroundcolor": "#E5ECF6",
            "gridcolor": "white",
            "gridwidth": 2,
            "linecolor": "white",
            "showbackground": true,
            "ticks": "",
            "zerolinecolor": "white"
           }
          },
          "shapedefaults": {
           "line": {
            "color": "#2a3f5f"
           }
          },
          "ternary": {
           "aaxis": {
            "gridcolor": "white",
            "linecolor": "white",
            "ticks": ""
           },
           "baxis": {
            "gridcolor": "white",
            "linecolor": "white",
            "ticks": ""
           },
           "bgcolor": "#E5ECF6",
           "caxis": {
            "gridcolor": "white",
            "linecolor": "white",
            "ticks": ""
           }
          },
          "title": {
           "x": 0.05
          },
          "xaxis": {
           "automargin": true,
           "gridcolor": "white",
           "linecolor": "white",
           "ticks": "",
           "title": {
            "standoff": 15
           },
           "zerolinecolor": "white",
           "zerolinewidth": 2
          },
          "yaxis": {
           "automargin": true,
           "gridcolor": "white",
           "linecolor": "white",
           "ticks": "",
           "title": {
            "standoff": 15
           },
           "zerolinecolor": "white",
           "zerolinewidth": 2
          }
         }
        },
        "xaxis": {
         "anchor": "y",
         "domain": [
          0,
          1
         ],
         "title": {
          "text": "IMDB Score"
         }
        },
        "yaxis": {
         "anchor": "x",
         "domain": [
          0,
          1
         ],
         "title": {
          "text": "Runtime"
         }
        }
       }
      },
      "text/html": [
       "<div>                            <div id=\"7526a4eb-83eb-41eb-95b8-e85368b5ef00\" class=\"plotly-graph-div\" style=\"height:525px; width:100%;\"></div>            <script type=\"text/javascript\">                require([\"plotly\"], function(Plotly) {                    window.PLOTLYENV=window.PLOTLYENV || {};                                    if (document.getElementById(\"7526a4eb-83eb-41eb-95b8-e85368b5ef00\")) {                    Plotly.newPlot(                        \"7526a4eb-83eb-41eb-95b8-e85368b5ef00\",                        [{\"hovertemplate\": \"IMDB Score=%{x}<br>Runtime=%{y}<extra></extra>\", \"legendgroup\": \"\", \"marker\": {\"color\": \"#636efa\", \"symbol\": \"circle\"}, \"mode\": \"markers\", \"name\": \"\", \"orientation\": \"v\", \"showlegend\": false, \"type\": \"scatter\", \"x\": [2.5, 2.6, 2.6, 3.2, 3.4, 3.5, 3.7, 3.7, 3.9, 4.1, 4.1, 4.1, 4.1, 4.2, 4.2, 4.3, 4.3, 4.3, 4.3, 4.4, 4.4, 4.4, 4.4, 4.4, 4.4, 4.5, 4.5, 4.5, 4.5, 4.6, 4.6, 4.6, 4.6, 4.6, 4.6, 4.6, 4.6, 4.7, 4.7, 4.7, 4.7, 4.7, 4.7, 4.8, 4.8, 4.8, 4.8, 4.8, 4.8, 4.8, 4.9, 4.9, 4.9, 4.9, 5.0, 5.0, 5.0, 5.0, 5.0, 5.1, 5.1, 5.1, 5.1, 5.1, 5.1, 5.2, 5.2, 5.2, 5.2, 5.2, 5.2, 5.2, 5.2, 5.2, 5.2, 5.2, 5.2, 5.2, 5.2, 5.2, 5.2, 5.2, 5.2, 5.2, 5.3, 5.3, 5.3, 5.3, 5.3, 5.3, 5.3, 5.3, 5.3, 5.3, 5.4, 5.4, 5.4, 5.4, 5.4, 5.4, 5.4, 5.4, 5.4, 5.4, 5.4, 5.4, 5.4, 5.5, 5.5, 5.5, 5.5, 5.5, 5.5, 5.5, 5.5, 5.5, 5.5, 5.5, 5.5, 5.5, 5.5, 5.5, 5.5, 5.5, 5.5, 5.5, 5.6, 5.6, 5.6, 5.6, 5.6, 5.6, 5.6, 5.6, 5.6, 5.6, 5.6, 5.6, 5.6, 5.6, 5.6, 5.7, 5.7, 5.7, 5.7, 5.7, 5.7, 5.7, 5.7, 5.7, 5.7, 5.7, 5.7, 5.7, 5.7, 5.7, 5.7, 5.7, 5.7, 5.7, 5.7, 5.8, 5.8, 5.8, 5.8, 5.8, 5.8, 5.8, 5.8, 5.8, 5.8, 5.8, 5.8, 5.8, 5.8, 5.8, 5.8, 5.8, 5.8, 5.8, 5.8, 5.8, 5.8, 5.8, 5.8, 5.8, 5.8, 5.8, 5.8, 5.8, 5.8, 5.9, 5.9, 5.9, 5.9, 5.9, 5.9, 5.9, 5.9, 5.9, 5.9, 5.9, 5.9, 5.9, 5.9, 5.9, 5.9, 6.0, 6.0, 6.0, 6.0, 6.0, 6.0, 6.0, 6.0, 6.0, 6.0, 6.0, 6.0, 6.0, 6.1, 6.1, 6.1, 6.1, 6.1, 6.1, 6.1, 6.1, 6.1, 6.1, 6.1, 6.1, 6.1, 6.1, 6.1, 6.1, 6.1, 6.1, 6.1, 6.1, 6.1, 6.1, 6.1, 6.1, 6.2, 6.2, 6.2, 6.2, 6.2, 6.2, 6.2, 6.2, 6.2, 6.2, 6.2, 6.2, 6.2, 6.2, 6.2, 6.2, 6.2, 6.2, 6.3, 6.3, 6.3, 6.3, 6.3, 6.3, 6.3, 6.3, 6.3, 6.3, 6.3, 6.3, 6.3, 6.3, 6.3, 6.3, 6.3, 6.3, 6.3, 6.3, 6.3, 6.3, 6.3, 6.3, 6.3, 6.3, 6.3, 6.3, 6.3, 6.3, 6.4, 6.4, 6.4, 6.4, 6.4, 6.4, 6.4, 6.4, 6.4, 6.4, 6.4, 6.4, 6.4, 6.4, 6.4, 6.4, 6.4, 6.4, 6.4, 6.4, 6.4, 6.4, 6.4, 6.4, 6.4, 6.4, 6.4, 6.4, 6.5, 6.5, 6.5, 6.5, 6.5, 6.5, 6.5, 6.5, 6.5, 6.5, 6.5, 6.5, 6.5, 6.5, 6.5, 6.5, 6.5, 6.5, 6.5, 6.5, 6.5, 6.5, 6.5, 6.5, 6.5, 6.5, 6.6, 6.6, 6.6, 6.6, 6.6, 6.6, 6.6, 6.6, 6.6, 6.6, 6.6, 6.6, 6.6, 6.6, 6.6, 6.6, 6.6, 6.6, 6.7, 6.7, 6.7, 6.7, 6.7, 6.7, 6.7, 6.7, 6.7, 6.7, 6.7, 6.7, 6.7, 6.7, 6.7, 6.7, 6.7, 6.7, 6.7, 6.7, 6.7, 6.7, 6.7, 6.7, 6.7, 6.8, 6.8, 6.8, 6.8, 6.8, 6.8, 6.8, 6.8, 6.8, 6.8, 6.8, 6.8, 6.8, 6.8, 6.8, 6.8, 6.8, 6.8, 6.8, 6.8, 6.8, 6.8, 6.8, 6.8, 6.9, 6.9, 6.9, 6.9, 6.9, 6.9, 6.9, 6.9, 6.9, 6.9, 6.9, 6.9, 6.9, 6.9, 6.9, 6.9, 6.9, 6.9, 6.9, 7.0, 7.0, 7.0, 7.0, 7.0, 7.0, 7.0, 7.0, 7.0, 7.0, 7.0, 7.0, 7.0, 7.0, 7.0, 7.0, 7.0, 7.0, 7.0, 7.1, 7.1, 7.1, 7.1, 7.1, 7.1, 7.1, 7.1, 7.1, 7.1, 7.1, 7.1, 7.1, 7.1, 7.1, 7.1, 7.1, 7.1, 7.1, 7.1, 7.1, 7.1, 7.1, 7.1, 7.1, 7.1, 7.1, 7.1, 7.2, 7.2, 7.2, 7.2, 7.2, 7.2, 7.2, 7.2, 7.2, 7.2, 7.2, 7.2, 7.2, 7.2, 7.2, 7.2, 7.2, 7.2, 7.2, 7.2, 7.3, 7.3, 7.3, 7.3, 7.3, 7.3, 7.3, 7.3, 7.3, 7.3, 7.3, 7.3, 7.3, 7.3, 7.3, 7.3, 7.3, 7.3, 7.3, 7.3, 7.3, 7.4, 7.4, 7.4, 7.4, 7.4, 7.4, 7.4, 7.4, 7.4, 7.4, 7.4, 7.4, 7.5, 7.5, 7.5, 7.5, 7.5, 7.5, 7.5, 7.5, 7.5, 7.5, 7.6, 7.6, 7.6, 7.6, 7.6, 7.6, 7.6, 7.6, 7.6, 7.6, 7.7, 7.7, 7.7, 7.7, 7.7, 7.7, 7.7, 7.7, 7.8, 7.8, 7.8, 7.9, 7.9, 7.9, 7.9, 8.0, 8.1, 8.1, 8.1, 8.2, 8.2, 8.2, 8.2, 8.2, 8.3, 8.3, 8.4, 8.4, 8.4, 8.5, 8.6, 9.0], \"xaxis\": \"x\", \"y\": [58, 81, 79, 94, 90, 147, 112, 149, 73, 139, 58, 112, 97, 101, 90, 25, 144, 115, 102, 100, 64, 97, 99, 120, 105, 89, 97, 107, 99, 95, 37, 89, 83, 46, 85, 88, 86, 105, 95, 80, 4, 93, 100, 106, 97, 106, 103, 80, 101, 119, 80, 89, 94, 93, 96, 113, 86, 100, 102, 86, 104, 88, 97, 105, 90, 99, 10, 106, 98, 94, 112, 117, 70, 81, 103, 94, 98, 131, 87, 60, 112, 102, 99, 116, 92, 83, 97, 112, 116, 102, 121, 95, 93, 92, 98, 85, 78, 120, 92, 101, 119, 101, 112, 96, 114, 97, 101, 56, 100, 94, 94, 21, 104, 63, 100, 126, 106, 86, 142, 108, 102, 92, 83, 94, 92, 103, 89, 95, 103, 97, 125, 91, 90, 49, 98, 107, 118, 94, 103, 86, 83, 97, 99, 104, 102, 89, 98, 125, 89, 94, 94, 85, 34, 86, 91, 108, 95, 100, 90, 112, 86, 124, 107, 92, 121, 90, 104, 92, 114, 98, 95, 78, 107, 92, 95, 96, 118, 105, 94, 52, 105, 95, 100, 97, 89, 102, 96, 131, 89, 93, 111, 75, 120, 96, 148, 94, 107, 32, 104, 23, 111, 83, 53, 95, 132, 98, 108, 106, 104, 90, 106, 90, 97, 113, 123, 115, 105, 101, 102, 122, 128, 82, 102, 80, 94, 123, 104, 85, 84, 103, 95, 100, 89, 116, 118, 96, 114, 99, 87, 92, 90, 95, 96, 93, 42, 92, 106, 151, 101, 114, 90, 115, 92, 72, 139, 98, 92, 111, 98, 104, 95, 88, 102, 30, 99, 129, 87, 117, 104, 111, 107, 97, 98, 90, 101, 72, 83, 118, 44, 113, 86, 108, 85, 102, 151, 98, 87, 120, 134, 109, 85, 103, 94, 97, 88, 37, 112, 102, 100, 96, 113, 16, 119, 97, 81, 98, 95, 96, 107, 41, 87, 101, 97, 103, 90, 125, 116, 99, 82, 97, 28, 108, 93, 74, 60, 9, 21, 100, 155, 55, 123, 103, 93, 119, 40, 120, 98, 104, 91, 95, 101, 105, 83, 91, 83, 17, 86, 124, 94, 102, 118, 79, 134, 126, 98, 89, 58, 83, 136, 98, 114, 99, 130, 32, 104, 142, 92, 86, 106, 95, 91, 89, 117, 90, 117, 80, 87, 101, 19, 106, 54, 111, 132, 97, 106, 111, 124, 116, 112, 144, 76, 101, 92, 19, 39, 102, 89, 105, 101, 70, 96, 85, 39, 79, 73, 114, 121, 28, 95, 122, 23, 107, 98, 108, 92, 100, 97, 7, 96, 100, 132, 103, 121, 114, 57, 95, 83, 17, 105, 131, 30, 112, 86, 100, 14, 109, 28, 64, 94, 31, 99, 108, 48, 84, 70, 27, 45, 117, 104, 108, 121, 36, 30, 47, 110, 92, 80, 49, 73, 40, 96, 106, 97, 94, 78, 81, 87, 91, 91, 95, 126, 31, 58, 41, 138, 112, 114, 125, 99, 82, 98, 136, 97, 107, 92, 39, 133, 89, 124, 99, 101, 97, 124, 129, 121, 140, 13, 108, 11, 118, 121, 24, 100, 101, 105, 96, 47, 121, 100, 149, 64, 64, 114, 15, 79, 90, 132, 105, 97, 83, 110, 39, 40, 85, 26, 87, 97, 118, 23, 40, 98, 80, 108, 79, 74, 90, 137, 71, 98, 70, 99, 40, 104, 149, 124, 144, 85, 100, 94, 125, 84, 117, 15, 136, 76, 108, 94, 90, 72, 135, 12, 209, 130, 82, 120, 136, 112, 105, 89, 85, 106, 100, 107, 97, 89, 109, 114, 51, 85, 125, 91, 153, 89, 83], \"yaxis\": \"y\"}],                        {\"legend\": {\"tracegroupgap\": 0}, \"margin\": {\"t\": 60}, \"template\": {\"data\": {\"bar\": [{\"error_x\": {\"color\": \"#2a3f5f\"}, \"error_y\": {\"color\": \"#2a3f5f\"}, \"marker\": {\"line\": {\"color\": \"#E5ECF6\", \"width\": 0.5}}, \"type\": \"bar\"}], \"barpolar\": [{\"marker\": {\"line\": {\"color\": \"#E5ECF6\", \"width\": 0.5}}, \"type\": \"barpolar\"}], \"carpet\": [{\"aaxis\": {\"endlinecolor\": \"#2a3f5f\", \"gridcolor\": \"white\", \"linecolor\": \"white\", \"minorgridcolor\": \"white\", \"startlinecolor\": \"#2a3f5f\"}, \"baxis\": {\"endlinecolor\": \"#2a3f5f\", \"gridcolor\": \"white\", \"linecolor\": \"white\", \"minorgridcolor\": \"white\", \"startlinecolor\": \"#2a3f5f\"}, \"type\": \"carpet\"}], \"choropleth\": [{\"colorbar\": {\"outlinewidth\": 0, \"ticks\": \"\"}, \"type\": \"choropleth\"}], \"contour\": [{\"colorbar\": {\"outlinewidth\": 0, \"ticks\": \"\"}, \"colorscale\": [[0.0, \"#0d0887\"], [0.1111111111111111, \"#46039f\"], [0.2222222222222222, \"#7201a8\"], [0.3333333333333333, \"#9c179e\"], [0.4444444444444444, \"#bd3786\"], [0.5555555555555556, \"#d8576b\"], [0.6666666666666666, \"#ed7953\"], [0.7777777777777778, \"#fb9f3a\"], [0.8888888888888888, \"#fdca26\"], [1.0, \"#f0f921\"]], \"type\": \"contour\"}], \"contourcarpet\": [{\"colorbar\": {\"outlinewidth\": 0, \"ticks\": \"\"}, \"type\": \"contourcarpet\"}], \"heatmap\": [{\"colorbar\": {\"outlinewidth\": 0, \"ticks\": \"\"}, \"colorscale\": [[0.0, \"#0d0887\"], [0.1111111111111111, \"#46039f\"], [0.2222222222222222, \"#7201a8\"], [0.3333333333333333, \"#9c179e\"], [0.4444444444444444, \"#bd3786\"], [0.5555555555555556, \"#d8576b\"], [0.6666666666666666, \"#ed7953\"], [0.7777777777777778, \"#fb9f3a\"], [0.8888888888888888, \"#fdca26\"], [1.0, \"#f0f921\"]], \"type\": \"heatmap\"}], \"heatmapgl\": [{\"colorbar\": {\"outlinewidth\": 0, \"ticks\": \"\"}, \"colorscale\": [[0.0, \"#0d0887\"], [0.1111111111111111, \"#46039f\"], [0.2222222222222222, \"#7201a8\"], [0.3333333333333333, \"#9c179e\"], [0.4444444444444444, \"#bd3786\"], [0.5555555555555556, \"#d8576b\"], [0.6666666666666666, \"#ed7953\"], [0.7777777777777778, \"#fb9f3a\"], [0.8888888888888888, \"#fdca26\"], [1.0, \"#f0f921\"]], \"type\": \"heatmapgl\"}], \"histogram\": [{\"marker\": {\"colorbar\": {\"outlinewidth\": 0, \"ticks\": \"\"}}, \"type\": \"histogram\"}], \"histogram2d\": [{\"colorbar\": {\"outlinewidth\": 0, \"ticks\": \"\"}, \"colorscale\": [[0.0, \"#0d0887\"], [0.1111111111111111, \"#46039f\"], [0.2222222222222222, \"#7201a8\"], [0.3333333333333333, \"#9c179e\"], [0.4444444444444444, \"#bd3786\"], [0.5555555555555556, \"#d8576b\"], [0.6666666666666666, \"#ed7953\"], [0.7777777777777778, \"#fb9f3a\"], [0.8888888888888888, \"#fdca26\"], [1.0, \"#f0f921\"]], \"type\": \"histogram2d\"}], \"histogram2dcontour\": [{\"colorbar\": {\"outlinewidth\": 0, \"ticks\": \"\"}, \"colorscale\": [[0.0, \"#0d0887\"], [0.1111111111111111, \"#46039f\"], [0.2222222222222222, \"#7201a8\"], [0.3333333333333333, \"#9c179e\"], [0.4444444444444444, \"#bd3786\"], [0.5555555555555556, \"#d8576b\"], [0.6666666666666666, \"#ed7953\"], [0.7777777777777778, \"#fb9f3a\"], [0.8888888888888888, \"#fdca26\"], [1.0, \"#f0f921\"]], \"type\": \"histogram2dcontour\"}], \"mesh3d\": [{\"colorbar\": {\"outlinewidth\": 0, \"ticks\": \"\"}, \"type\": \"mesh3d\"}], \"parcoords\": [{\"line\": {\"colorbar\": {\"outlinewidth\": 0, \"ticks\": \"\"}}, \"type\": \"parcoords\"}], \"pie\": [{\"automargin\": true, \"type\": \"pie\"}], \"scatter\": [{\"marker\": {\"colorbar\": {\"outlinewidth\": 0, \"ticks\": \"\"}}, \"type\": \"scatter\"}], \"scatter3d\": [{\"line\": {\"colorbar\": {\"outlinewidth\": 0, \"ticks\": \"\"}}, \"marker\": {\"colorbar\": {\"outlinewidth\": 0, \"ticks\": \"\"}}, \"type\": \"scatter3d\"}], \"scattercarpet\": [{\"marker\": {\"colorbar\": {\"outlinewidth\": 0, \"ticks\": \"\"}}, \"type\": \"scattercarpet\"}], \"scattergeo\": [{\"marker\": {\"colorbar\": {\"outlinewidth\": 0, \"ticks\": \"\"}}, \"type\": \"scattergeo\"}], \"scattergl\": [{\"marker\": {\"colorbar\": {\"outlinewidth\": 0, \"ticks\": \"\"}}, \"type\": \"scattergl\"}], \"scattermapbox\": [{\"marker\": {\"colorbar\": {\"outlinewidth\": 0, \"ticks\": \"\"}}, \"type\": \"scattermapbox\"}], \"scatterpolar\": [{\"marker\": {\"colorbar\": {\"outlinewidth\": 0, \"ticks\": \"\"}}, \"type\": \"scatterpolar\"}], \"scatterpolargl\": [{\"marker\": {\"colorbar\": {\"outlinewidth\": 0, \"ticks\": \"\"}}, \"type\": \"scatterpolargl\"}], \"scatterternary\": [{\"marker\": {\"colorbar\": {\"outlinewidth\": 0, \"ticks\": \"\"}}, \"type\": \"scatterternary\"}], \"surface\": [{\"colorbar\": {\"outlinewidth\": 0, \"ticks\": \"\"}, \"colorscale\": [[0.0, \"#0d0887\"], [0.1111111111111111, \"#46039f\"], [0.2222222222222222, \"#7201a8\"], [0.3333333333333333, \"#9c179e\"], [0.4444444444444444, \"#bd3786\"], [0.5555555555555556, \"#d8576b\"], [0.6666666666666666, \"#ed7953\"], [0.7777777777777778, \"#fb9f3a\"], [0.8888888888888888, \"#fdca26\"], [1.0, \"#f0f921\"]], \"type\": \"surface\"}], \"table\": [{\"cells\": {\"fill\": {\"color\": \"#EBF0F8\"}, \"line\": {\"color\": \"white\"}}, \"header\": {\"fill\": {\"color\": \"#C8D4E3\"}, \"line\": {\"color\": \"white\"}}, \"type\": \"table\"}]}, \"layout\": {\"annotationdefaults\": {\"arrowcolor\": \"#2a3f5f\", \"arrowhead\": 0, \"arrowwidth\": 1}, \"autotypenumbers\": \"strict\", \"coloraxis\": {\"colorbar\": {\"outlinewidth\": 0, \"ticks\": \"\"}}, \"colorscale\": {\"diverging\": [[0, \"#8e0152\"], [0.1, \"#c51b7d\"], [0.2, \"#de77ae\"], [0.3, \"#f1b6da\"], [0.4, \"#fde0ef\"], [0.5, \"#f7f7f7\"], [0.6, \"#e6f5d0\"], [0.7, \"#b8e186\"], [0.8, \"#7fbc41\"], [0.9, \"#4d9221\"], [1, \"#276419\"]], \"sequential\": [[0.0, \"#0d0887\"], [0.1111111111111111, \"#46039f\"], [0.2222222222222222, \"#7201a8\"], [0.3333333333333333, \"#9c179e\"], [0.4444444444444444, \"#bd3786\"], [0.5555555555555556, \"#d8576b\"], [0.6666666666666666, \"#ed7953\"], [0.7777777777777778, \"#fb9f3a\"], [0.8888888888888888, \"#fdca26\"], [1.0, \"#f0f921\"]], \"sequentialminus\": [[0.0, \"#0d0887\"], [0.1111111111111111, \"#46039f\"], [0.2222222222222222, \"#7201a8\"], [0.3333333333333333, \"#9c179e\"], [0.4444444444444444, \"#bd3786\"], [0.5555555555555556, \"#d8576b\"], [0.6666666666666666, \"#ed7953\"], [0.7777777777777778, \"#fb9f3a\"], [0.8888888888888888, \"#fdca26\"], [1.0, \"#f0f921\"]]}, \"colorway\": [\"#636efa\", \"#EF553B\", \"#00cc96\", \"#ab63fa\", \"#FFA15A\", \"#19d3f3\", \"#FF6692\", \"#B6E880\", \"#FF97FF\", \"#FECB52\"], \"font\": {\"color\": \"#2a3f5f\"}, \"geo\": {\"bgcolor\": \"white\", \"lakecolor\": \"white\", \"landcolor\": \"#E5ECF6\", \"showlakes\": true, \"showland\": true, \"subunitcolor\": \"white\"}, \"hoverlabel\": {\"align\": \"left\"}, \"hovermode\": \"closest\", \"mapbox\": {\"style\": \"light\"}, \"paper_bgcolor\": \"white\", \"plot_bgcolor\": \"#E5ECF6\", \"polar\": {\"angularaxis\": {\"gridcolor\": \"white\", \"linecolor\": \"white\", \"ticks\": \"\"}, \"bgcolor\": \"#E5ECF6\", \"radialaxis\": {\"gridcolor\": \"white\", \"linecolor\": \"white\", \"ticks\": \"\"}}, \"scene\": {\"xaxis\": {\"backgroundcolor\": \"#E5ECF6\", \"gridcolor\": \"white\", \"gridwidth\": 2, \"linecolor\": \"white\", \"showbackground\": true, \"ticks\": \"\", \"zerolinecolor\": \"white\"}, \"yaxis\": {\"backgroundcolor\": \"#E5ECF6\", \"gridcolor\": \"white\", \"gridwidth\": 2, \"linecolor\": \"white\", \"showbackground\": true, \"ticks\": \"\", \"zerolinecolor\": \"white\"}, \"zaxis\": {\"backgroundcolor\": \"#E5ECF6\", \"gridcolor\": \"white\", \"gridwidth\": 2, \"linecolor\": \"white\", \"showbackground\": true, \"ticks\": \"\", \"zerolinecolor\": \"white\"}}, \"shapedefaults\": {\"line\": {\"color\": \"#2a3f5f\"}}, \"ternary\": {\"aaxis\": {\"gridcolor\": \"white\", \"linecolor\": \"white\", \"ticks\": \"\"}, \"baxis\": {\"gridcolor\": \"white\", \"linecolor\": \"white\", \"ticks\": \"\"}, \"bgcolor\": \"#E5ECF6\", \"caxis\": {\"gridcolor\": \"white\", \"linecolor\": \"white\", \"ticks\": \"\"}}, \"title\": {\"x\": 0.05}, \"xaxis\": {\"automargin\": true, \"gridcolor\": \"white\", \"linecolor\": \"white\", \"ticks\": \"\", \"title\": {\"standoff\": 15}, \"zerolinecolor\": \"white\", \"zerolinewidth\": 2}, \"yaxis\": {\"automargin\": true, \"gridcolor\": \"white\", \"linecolor\": \"white\", \"ticks\": \"\", \"title\": {\"standoff\": 15}, \"zerolinecolor\": \"white\", \"zerolinewidth\": 2}}}, \"xaxis\": {\"anchor\": \"y\", \"domain\": [0.0, 1.0], \"title\": {\"text\": \"IMDB Score\"}}, \"yaxis\": {\"anchor\": \"x\", \"domain\": [0.0, 1.0], \"title\": {\"text\": \"Runtime\"}}},                        {\"responsive\": true}                    ).then(function(){\n",
       "                            \n",
       "var gd = document.getElementById('7526a4eb-83eb-41eb-95b8-e85368b5ef00');\n",
       "var x = new MutationObserver(function (mutations, observer) {{\n",
       "        var display = window.getComputedStyle(gd).display;\n",
       "        if (!display || display === 'none') {{\n",
       "            console.log([gd, 'removed!']);\n",
       "            Plotly.purge(gd);\n",
       "            observer.disconnect();\n",
       "        }}\n",
       "}});\n",
       "\n",
       "// Listen for the removal of the full notebook cells\n",
       "var notebookContainer = gd.closest('#notebook-container');\n",
       "if (notebookContainer) {{\n",
       "    x.observe(notebookContainer, {childList: true});\n",
       "}}\n",
       "\n",
       "// Listen for the clearing of the current output cell\n",
       "var outputEl = gd.closest('.output');\n",
       "if (outputEl) {{\n",
       "    x.observe(outputEl, {childList: true});\n",
       "}}\n",
       "\n",
       "                        })                };                });            </script>        </div>"
      ]
     },
     "metadata": {},
     "output_type": "display_data"
    }
   ],
   "source": [
    "fig = px.scatter(netflix_orginal_df, x='IMDB Score', y='Runtime')\n",
    "fig.show()"
   ]
  },
  {
   "cell_type": "markdown",
   "metadata": {},
   "source": [
    "# Top 10 Genre by IMDB Score"
   ]
  },
  {
   "cell_type": "code",
   "execution_count": 38,
   "metadata": {},
   "outputs": [
    {
     "data": {
      "image/png": "[encoded data removed]",
      "text/plain": [
       "<Figure size 720x432 with 1 Axes>"
      ]
     },
     "metadata": {
      "needs_background": "light"
     },
     "output_type": "display_data"
    }
   ],
   "source": [
    "netflix_orginal_df_temp=netflix_orginal_df.groupby(['Genre']).mean(['IMDB rating']).sort_values(by='IMDB Score', ascending=False).reset_index().iloc[:10,:]\n",
    "\n",
    "fig, ax = plt.subplots(1,1, figsize = (10, 6), constrained_layout = True)\n",
    "ax = sns.barplot(x = 'Genre', y = 'IMDB Score', data = netflix_orginal_df_temp, color = 'green')\n",
    "\n",
    "for i in ax.patches:    \n",
    "    ax.text(x = i.get_x() + i.get_width()/2, y = i.get_height()/2,\n",
    "            s = f\"{round(i.get_height(),1)}\", \n",
    "            ha = 'center', size = 14, weight = 'bold', rotation = 0, color = 'white',\n",
    "            bbox=dict(boxstyle=\"round,pad=0.5\", fc='blue', ec=\"blue\", lw=2))\n",
    "\n",
    "\n",
    "ax.set_xlabel('Genre', fontsize=14)\n",
    "ax.set_ylabel('Average IMDB Score', fontsize=14)\n",
    "ax.set_xticklabels([i[:15] for i in netflix_orginal_df_temp['Genre'].unique()], fontsize=12, rotation = -45 )\n",
    "plt.title('Top 10 Genre by IMDB Score', fontsize=16);"
   ]
  },
  {
   "cell_type": "markdown",
   "metadata": {},
   "source": [
    "# what are the top movies with the highest 'runtime'? visualize it"
   ]
  },
  {
   "cell_type": "code",
   "execution_count": 39,
   "metadata": {},
   "outputs": [
    {
     "data": {
      "image/png": "[encoded data removed]",
      "text/plain": [
       "<Figure size 864x576 with 1 Axes>"
      ]
     },
     "metadata": {
      "needs_background": "light"
     },
     "output_type": "display_data"
    }
   ],
   "source": [
    "netflix_orginal_df_temp = netflix_orginal_df.groupby(['Title']).mean(['Runtime rating']).sort_values(by='Runtime', ascending=False).reset_index().iloc[:10,:2]\n",
    "\n",
    "# plotting a bar graph for better visualisation\n",
    "plt.figure(figsize=(12,8))\n",
    "sns.barplot(x=netflix_orginal_df_temp['Title'], y=netflix_orginal_df_temp['Runtime'],data=netflix_orginal_df,palette='rainbow')\n",
    "plt.xlabel('Top 10 Highest Runtime Movies')\n",
    "plt.xticks(rotation=90)\n",
    "plt.ylabel('Number')\n",
    "plt.show()"
   ]
  },
  {
   "cell_type": "markdown",
   "metadata": {},
   "source": [
    "# In which year was the most movies released? Visualize it"
   ]
  },
  {
   "cell_type": "code",
   "execution_count": 77,
   "metadata": {},
   "outputs": [
    {
     "data": {
      "image/png": "[encoded data removed]",
      "text/plain": [
       "<Figure size 720x432 with 1 Axes>"
      ]
     },
     "metadata": {
      "needs_background": "light"
     },
     "output_type": "display_data"
    }
   ],
   "source": [
    "top_genres = netflix_orginal_df.loc[netflix_orginal_df['Genre'].isin(netflix_orginal_df.groupby('Genre').sum().sort_values(by='IMDB Score', ascending=False).reset_index()[:10]['Genre'])].groupby('Genre').mean().sort_values(by='IMDB Score',ascending=False).reset_index()['Genre']\n",
    "\n",
    "plt.figure(figsize = (10,6))\n",
    "\n",
    "\n",
    "sns.countplot(x = netflix_orginal_df.loc[netflix_orginal_df['Genre'].isin(top_genres)]['year'],\n",
    "             hue= netflix_orginal_df.loc[netflix_orginal_df['Genre'].isin(top_genres)]['Genre'])\n",
    "\n",
    "plt.legend(loc='upper left')\n",
    "plt.title('Released Genre per Year', size = 25)\n",
    "plt.xlabel(None)\n",
    "plt.xticks(size = 16)\n",
    "\n",
    "plt.show()\n",
    "\n"
   ]
  },
  {
   "cell_type": "code",
   "execution_count": 82,
   "metadata": {},
   "outputs": [
    {
     "data": {
      "image/png": "[encoded data removed]",
      "text/plain": [
       "<Figure size 1008x576 with 1 Axes>"
      ]
     },
     "metadata": {},
     "output_type": "display_data"
    }
   ],
   "source": [
    "sns.set(rc={'figure.figsize':(14, 8)})\n",
    "ax = sns.countplot(x = netflix_orginal_df['year'], palette='rainbow')\n",
    "ax.set_title('Number of new movies per year')\n",
    "plt.xlabel('Year')\n",
    "plt.ylabel('Number of movies')\n",
    "plt.show()"
   ]
  },
  {
   "cell_type": "markdown",
   "metadata": {},
   "source": [
    "# Which Language movies have the lowest average IMDB rating? Visualize it"
   ]
  },
  {
   "cell_type": "code",
   "execution_count": 94,
   "metadata": {},
   "outputs": [
    {
     "data": {
      "image/png": "[encoded data removed]",
      "text/plain": [
       "<Figure size 720x432 with 1 Axes>"
      ]
     },
     "metadata": {},
     "output_type": "display_data"
    }
   ],
   "source": [
    "netflix_orginal_df_temp = netflix_orginal_df.groupby(['Language']).mean(['IMDB rating']).sort_values(by='IMDB Score', ascending=False).reset_index().iloc[:10,:]\n",
    "\n",
    "fig, ax = plt.subplots(1,1, figsize = (10, 6), constrained_layout = True)\n",
    "ax = sns.barplot(x = 'Language', y = 'IMDB Score', data = netflix_orginal_df_temp, color = 'lightgreen')\n",
    "\n",
    "for i in ax.patches:\n",
    "    ax.text(x = i.get_x() + i.get_width()/2, y = i.get_height()/2,\n",
    "           s = f\"{round(i.get_height(), 1)}\",\n",
    "            ha = 'center', size = 14, weight = 'bold', rotation = 0, color = 'white',\n",
    "            bbox = dict(boxstyle = 'round, pad = 0.5', fc = 'pink', ec = 'pink', lw=2))\n",
    "\n",
    "ax.set_xlabel('Language', fontsize=14)\n",
    "ax.set_ylabel('Average IMDB Score', fontsize=14)\n",
    "ax.set_xticklabels([i[:15] for i in netflix_orginal_df_temp['Language'].unique()], fontsize=12, rotation = -45)\n",
    "plt.title('Top 10 Language by IMDB Score', fontsize=16);\n",
    "    "
   ]
  },
  {
   "cell_type": "markdown",
   "metadata": {},
   "source": [
    "# Whick year has the greates total runtime"
   ]
  },
  {
   "cell_type": "code",
   "execution_count": 103,
   "metadata": {},
   "outputs": [
    {
     "data": {
      "image/png": "[encoded data removed]",
      "text/plain": [
       "<Figure size 864x576 with 1 Axes>"
      ]
     },
     "metadata": {},
     "output_type": "display_data"
    }
   ],
   "source": [
    "# netflix_orginal_df_temp =  netflix_orginal_df.groupby(['year'].mean(['Runtime rating']).sort_values(by='Runtime', ascending=False).reset_index().iloc[:10,:2]\n",
    "    \n",
    "# # plotting a bar graph for bette visualisation\n",
    "# plt.figure(figsize=(12,8))\n",
    "# sns.barplot(x=netflix_orginal_df_temp['year'], y=netflix_orginal_df_temp['Runtime'], data = netflix_orginal_df, palette='rainbow')\n",
    "                            \n",
    "# plt.xlabel('Top 10 Year - Runtime movies')\n",
    "# plt.xticks(rotation=90)\n",
    "# plt.ylabel('Runtime')\n",
    "# plt.show()\n",
    "netflix_orginal_df_temp=netflix_orginal_df.groupby(['year']).mean(['Runtime rating']).sort_values(by='Runtime', ascending=False).reset_index().iloc[:10,:2]\n",
    "\n",
    "# plotting a bar graph for better visualisation\n",
    "plt.figure(figsize=(12,8))\n",
    "sns.barplot(x=netflix_orginal_df_temp[\"year\"],y=netflix_orginal_df_temp[\"Runtime\"],data=netflix_orginal_df,palette='rainbow')\n",
    "plt.xlabel('Top 10 Year - Runtime Movies')\n",
    "plt.xticks(rotation=90)\n",
    "plt.ylabel('Runtime')\n",
    "plt.show()"
   ]
  },
  {
   "cell_type": "code",
   "execution_count": 107,
   "metadata": {},
   "outputs": [
    {
     "data": {
      "text/plain": [
       "101.6056338028169"
      ]
     },
     "execution_count": 107,
     "metadata": {},
     "output_type": "execute_result"
    }
   ],
   "source": [
    "netflix_orginal_df_run=netflix_orginal_df[netflix_orginal_df['year']==2021]\n",
    "netflix_orginal_df_run.Runtime.mean()"
   ]
  },
  {
   "cell_type": "markdown",
   "metadata": {},
   "source": [
    "# What is the \"Genre\" where each language is used the most?"
   ]
  },
  {
   "cell_type": "code",
   "execution_count": 109,
   "metadata": {},
   "outputs": [],
   "source": [
    "genre_language = []\n",
    "\n",
    "for i in netflix_orginal_df.Language.unique():\n",
    "    netflix_orginal_df_language = netflix_orginal_df[netflix_orginal_df['Language']==i]\n",
    "    netflix_orginal_df_language_genre = netflix_orginal_df_language.Genre.value_counts().nlargest(1)\n",
    "    \n",
    "    genre_language.append((i,netflix_orginal_df_language_genre))\n"
   ]
  },
  {
   "cell_type": "code",
   "execution_count": 111,
   "metadata": {},
   "outputs": [
    {
     "data": {
      "text/html": [
       "<div>\n",
       "<style scoped>\n",
       "    .dataframe tbody tr th:only-of-type {\n",
       "        vertical-align: middle;\n",
       "    }\n",
       "\n",
       "    .dataframe tbody tr th {\n",
       "        vertical-align: top;\n",
       "    }\n",
       "\n",
       "    .dataframe thead th {\n",
       "        text-align: right;\n",
       "    }\n",
       "</style>\n",
       "<table border=\"1\" class=\"dataframe\">\n",
       "  <thead>\n",
       "    <tr style=\"text-align: right;\">\n",
       "      <th></th>\n",
       "      <th>Language</th>\n",
       "      <th>Genre</th>\n",
       "    </tr>\n",
       "  </thead>\n",
       "  <tbody>\n",
       "    <tr>\n",
       "      <th>0</th>\n",
       "      <td>Bengali</td>\n",
       "      <td>Documentary    1\n",
       "Name: Genre, dtype: int64</td>\n",
       "    </tr>\n",
       "    <tr>\n",
       "      <th>1</th>\n",
       "      <td>Dutch</td>\n",
       "      <td>Romantic comedy    1\n",
       "Name: Genre, dtype: int64</td>\n",
       "    </tr>\n",
       "    <tr>\n",
       "      <th>2</th>\n",
       "      <td>English</td>\n",
       "      <td>Documentary    120\n",
       "Name: Genre, dtype: int64</td>\n",
       "    </tr>\n",
       "    <tr>\n",
       "      <th>3</th>\n",
       "      <td>English/Akan</td>\n",
       "      <td>War drama    1\n",
       "Name: Genre, dtype: int64</td>\n",
       "    </tr>\n",
       "    <tr>\n",
       "      <th>4</th>\n",
       "      <td>English/Arabic</td>\n",
       "      <td>Documentary    1\n",
       "Name: Genre, dtype: int64</td>\n",
       "    </tr>\n",
       "    <tr>\n",
       "      <th>5</th>\n",
       "      <td>English/Hindi</td>\n",
       "      <td>Documentary    2\n",
       "Name: Genre, dtype: int64</td>\n",
       "    </tr>\n",
       "    <tr>\n",
       "      <th>6</th>\n",
       "      <td>English/Japanese</td>\n",
       "      <td>Documentary    1\n",
       "Name: Genre, dtype: int64</td>\n",
       "    </tr>\n",
       "    <tr>\n",
       "      <th>7</th>\n",
       "      <td>English/Korean</td>\n",
       "      <td>Action-adventure    1\n",
       "Name: Genre, dtype: int64</td>\n",
       "    </tr>\n",
       "    <tr>\n",
       "      <th>8</th>\n",
       "      <td>English/Mandarin</td>\n",
       "      <td>Documentary    2\n",
       "Name: Genre, dtype: int64</td>\n",
       "    </tr>\n",
       "    <tr>\n",
       "      <th>9</th>\n",
       "      <td>English/Russian</td>\n",
       "      <td>Documentary    1\n",
       "Name: Genre, dtype: int64</td>\n",
       "    </tr>\n",
       "    <tr>\n",
       "      <th>10</th>\n",
       "      <td>English/Spanish</td>\n",
       "      <td>Documentary    5\n",
       "Name: Genre, dtype: int64</td>\n",
       "    </tr>\n",
       "    <tr>\n",
       "      <th>11</th>\n",
       "      <td>English/Swedish</td>\n",
       "      <td>Documentary    1\n",
       "Name: Genre, dtype: int64</td>\n",
       "    </tr>\n",
       "    <tr>\n",
       "      <th>12</th>\n",
       "      <td>English/Taiwanese/Mandarin</td>\n",
       "      <td>Drama    1\n",
       "Name: Genre, dtype: int64</td>\n",
       "    </tr>\n",
       "    <tr>\n",
       "      <th>13</th>\n",
       "      <td>English/Ukranian/Russian</td>\n",
       "      <td>Documentary    1\n",
       "Name: Genre, dtype: int64</td>\n",
       "    </tr>\n",
       "    <tr>\n",
       "      <th>14</th>\n",
       "      <td>Filipino</td>\n",
       "      <td>Drama    1\n",
       "Name: Genre, dtype: int64</td>\n",
       "    </tr>\n",
       "    <tr>\n",
       "      <th>15</th>\n",
       "      <td>French</td>\n",
       "      <td>Documentary    6\n",
       "Name: Genre, dtype: int64</td>\n",
       "    </tr>\n",
       "    <tr>\n",
       "      <th>16</th>\n",
       "      <td>Georgian</td>\n",
       "      <td>Documentary    1\n",
       "Name: Genre, dtype: int64</td>\n",
       "    </tr>\n",
       "    <tr>\n",
       "      <th>17</th>\n",
       "      <td>German</td>\n",
       "      <td>Romantic comedy    1\n",
       "Name: Genre, dtype: int64</td>\n",
       "    </tr>\n",
       "    <tr>\n",
       "      <th>18</th>\n",
       "      <td>Hindi</td>\n",
       "      <td>Drama    13\n",
       "Name: Genre, dtype: int64</td>\n",
       "    </tr>\n",
       "    <tr>\n",
       "      <th>19</th>\n",
       "      <td>Indonesian</td>\n",
       "      <td>Drama    3\n",
       "Name: Genre, dtype: int64</td>\n",
       "    </tr>\n",
       "    <tr>\n",
       "      <th>20</th>\n",
       "      <td>Italian</td>\n",
       "      <td>Drama    4\n",
       "Name: Genre, dtype: int64</td>\n",
       "    </tr>\n",
       "    <tr>\n",
       "      <th>21</th>\n",
       "      <td>Japanese</td>\n",
       "      <td>Anime/Science fiction    2\n",
       "Name: Genre, dtype:...</td>\n",
       "    </tr>\n",
       "    <tr>\n",
       "      <th>22</th>\n",
       "      <td>Khmer/English/French</td>\n",
       "      <td>Drama    1\n",
       "Name: Genre, dtype: int64</td>\n",
       "    </tr>\n",
       "    <tr>\n",
       "      <th>23</th>\n",
       "      <td>Korean</td>\n",
       "      <td>Drama    2\n",
       "Name: Genre, dtype: int64</td>\n",
       "    </tr>\n",
       "    <tr>\n",
       "      <th>24</th>\n",
       "      <td>Malay</td>\n",
       "      <td>Action comedy    1\n",
       "Name: Genre, dtype: int64</td>\n",
       "    </tr>\n",
       "    <tr>\n",
       "      <th>25</th>\n",
       "      <td>Marathi</td>\n",
       "      <td>Drama    2\n",
       "Name: Genre, dtype: int64</td>\n",
       "    </tr>\n",
       "    <tr>\n",
       "      <th>26</th>\n",
       "      <td>Norwegian</td>\n",
       "      <td>Horror    1\n",
       "Name: Genre, dtype: int64</td>\n",
       "    </tr>\n",
       "    <tr>\n",
       "      <th>27</th>\n",
       "      <td>Polish</td>\n",
       "      <td>Horror    1\n",
       "Name: Genre, dtype: int64</td>\n",
       "    </tr>\n",
       "    <tr>\n",
       "      <th>28</th>\n",
       "      <td>Portuguese</td>\n",
       "      <td>Comedy    6\n",
       "Name: Genre, dtype: int64</td>\n",
       "    </tr>\n",
       "    <tr>\n",
       "      <th>29</th>\n",
       "      <td>Spanish</td>\n",
       "      <td>Documentary    8\n",
       "Name: Genre, dtype: int64</td>\n",
       "    </tr>\n",
       "    <tr>\n",
       "      <th>30</th>\n",
       "      <td>Spanish/Basque</td>\n",
       "      <td>Black comedy    1\n",
       "Name: Genre, dtype: int64</td>\n",
       "    </tr>\n",
       "    <tr>\n",
       "      <th>31</th>\n",
       "      <td>Spanish/Catalan</td>\n",
       "      <td>Documentary    1\n",
       "Name: Genre, dtype: int64</td>\n",
       "    </tr>\n",
       "    <tr>\n",
       "      <th>32</th>\n",
       "      <td>Spanish/English</td>\n",
       "      <td>Documentary    1\n",
       "Name: Genre, dtype: int64</td>\n",
       "    </tr>\n",
       "    <tr>\n",
       "      <th>33</th>\n",
       "      <td>Swedish</td>\n",
       "      <td>Thriller    1\n",
       "Name: Genre, dtype: int64</td>\n",
       "    </tr>\n",
       "    <tr>\n",
       "      <th>34</th>\n",
       "      <td>Tamil</td>\n",
       "      <td>Drama    1\n",
       "Name: Genre, dtype: int64</td>\n",
       "    </tr>\n",
       "    <tr>\n",
       "      <th>35</th>\n",
       "      <td>Thai</td>\n",
       "      <td>Horror    1\n",
       "Name: Genre, dtype: int64</td>\n",
       "    </tr>\n",
       "    <tr>\n",
       "      <th>36</th>\n",
       "      <td>Thia/English</td>\n",
       "      <td>Documentary    1\n",
       "Name: Genre, dtype: int64</td>\n",
       "    </tr>\n",
       "    <tr>\n",
       "      <th>37</th>\n",
       "      <td>Turkish</td>\n",
       "      <td>Comedy    2\n",
       "Name: Genre, dtype: int64</td>\n",
       "    </tr>\n",
       "  </tbody>\n",
       "</table>\n",
       "</div>"
      ],
      "text/plain": [
       "                      Language  \\\n",
       "0                      Bengali   \n",
       "1                        Dutch   \n",
       "2                      English   \n",
       "3                 English/Akan   \n",
       "4               English/Arabic   \n",
       "5                English/Hindi   \n",
       "6             English/Japanese   \n",
       "7               English/Korean   \n",
       "8             English/Mandarin   \n",
       "9              English/Russian   \n",
       "10             English/Spanish   \n",
       "11             English/Swedish   \n",
       "12  English/Taiwanese/Mandarin   \n",
       "13    English/Ukranian/Russian   \n",
       "14                    Filipino   \n",
       "15                      French   \n",
       "16                    Georgian   \n",
       "17                      German   \n",
       "18                       Hindi   \n",
       "19                  Indonesian   \n",
       "20                     Italian   \n",
       "21                    Japanese   \n",
       "22        Khmer/English/French   \n",
       "23                      Korean   \n",
       "24                       Malay   \n",
       "25                     Marathi   \n",
       "26                   Norwegian   \n",
       "27                      Polish   \n",
       "28                  Portuguese   \n",
       "29                     Spanish   \n",
       "30              Spanish/Basque   \n",
       "31             Spanish/Catalan   \n",
       "32             Spanish/English   \n",
       "33                     Swedish   \n",
       "34                       Tamil   \n",
       "35                        Thai   \n",
       "36                Thia/English   \n",
       "37                     Turkish   \n",
       "\n",
       "                                                Genre  \n",
       "0          Documentary    1\n",
       "Name: Genre, dtype: int64  \n",
       "1      Romantic comedy    1\n",
       "Name: Genre, dtype: int64  \n",
       "2        Documentary    120\n",
       "Name: Genre, dtype: int64  \n",
       "3            War drama    1\n",
       "Name: Genre, dtype: int64  \n",
       "4          Documentary    1\n",
       "Name: Genre, dtype: int64  \n",
       "5          Documentary    2\n",
       "Name: Genre, dtype: int64  \n",
       "6          Documentary    1\n",
       "Name: Genre, dtype: int64  \n",
       "7     Action-adventure    1\n",
       "Name: Genre, dtype: int64  \n",
       "8          Documentary    2\n",
       "Name: Genre, dtype: int64  \n",
       "9          Documentary    1\n",
       "Name: Genre, dtype: int64  \n",
       "10         Documentary    5\n",
       "Name: Genre, dtype: int64  \n",
       "11         Documentary    1\n",
       "Name: Genre, dtype: int64  \n",
       "12               Drama    1\n",
       "Name: Genre, dtype: int64  \n",
       "13         Documentary    1\n",
       "Name: Genre, dtype: int64  \n",
       "14               Drama    1\n",
       "Name: Genre, dtype: int64  \n",
       "15         Documentary    6\n",
       "Name: Genre, dtype: int64  \n",
       "16         Documentary    1\n",
       "Name: Genre, dtype: int64  \n",
       "17     Romantic comedy    1\n",
       "Name: Genre, dtype: int64  \n",
       "18              Drama    13\n",
       "Name: Genre, dtype: int64  \n",
       "19               Drama    3\n",
       "Name: Genre, dtype: int64  \n",
       "20               Drama    4\n",
       "Name: Genre, dtype: int64  \n",
       "21  Anime/Science fiction    2\n",
       "Name: Genre, dtype:...  \n",
       "22               Drama    1\n",
       "Name: Genre, dtype: int64  \n",
       "23               Drama    2\n",
       "Name: Genre, dtype: int64  \n",
       "24       Action comedy    1\n",
       "Name: Genre, dtype: int64  \n",
       "25               Drama    2\n",
       "Name: Genre, dtype: int64  \n",
       "26              Horror    1\n",
       "Name: Genre, dtype: int64  \n",
       "27              Horror    1\n",
       "Name: Genre, dtype: int64  \n",
       "28              Comedy    6\n",
       "Name: Genre, dtype: int64  \n",
       "29         Documentary    8\n",
       "Name: Genre, dtype: int64  \n",
       "30        Black comedy    1\n",
       "Name: Genre, dtype: int64  \n",
       "31         Documentary    1\n",
       "Name: Genre, dtype: int64  \n",
       "32         Documentary    1\n",
       "Name: Genre, dtype: int64  \n",
       "33            Thriller    1\n",
       "Name: Genre, dtype: int64  \n",
       "34               Drama    1\n",
       "Name: Genre, dtype: int64  \n",
       "35              Horror    1\n",
       "Name: Genre, dtype: int64  \n",
       "36         Documentary    1\n",
       "Name: Genre, dtype: int64  \n",
       "37              Comedy    2\n",
       "Name: Genre, dtype: int64  "
      ]
     },
     "execution_count": 111,
     "metadata": {},
     "output_type": "execute_result"
    }
   ],
   "source": [
    "netflix_orginal_df_language = pd.DataFrame(genre_language, columns = ['Language', 'Genre'])\n",
    "netflix_orginal_df_language.sort_values(by=['Language'],ignore_index=True)"
   ]
  },
  {
   "cell_type": "markdown",
   "metadata": {},
   "source": [
    "# is ther eany outlier data in the data set? Please explain\n",
    "Lets look the Runtime for detecting outlier. We can easily see one outlier with no doubt. The outlier of Runttime column is 'The Iirishman'"
   ]
  },
  {
   "cell_type": "code",
   "execution_count": 112,
   "metadata": {},
   "outputs": [
    {
     "data": {
      "application/vnd.plotly.v1+json": {
       "config": {
        "plotlyServerURL": "https://plot.ly"
       },
       "data": [
        {
         "hovertemplate": "x=%{x}<br>y=%{y}<extra></extra>",
         "legendgroup": "",
         "marker": {
          "color": "#636efa",
          "symbol": "circle"
         },
         "mode": "markers",
         "name": "",
         "orientation": "h",
         "showlegend": false,
         "type": "scatter",
         "x": [
          58,
          81,
          79,
          94,
          90,
          147,
          112,
          149,
          73,
          139,
          58,
          112,
          97,
          101,
          90,
          25,
          144,
          115,
          102,
          100,
          64,
          97,
          99,
          120,
          105,
          89,
          97,
          107,
          99,
          95,
          37,
          89,
          83,
          46,
          85,
          88,
          86,
          105,
          95,
          80,
          4,
          93,
          100,
          106,
          97,
          106,
          103,
          80,
          101,
          119,
          80,
          89,
          94,
          93,
          96,
          113,
          86,
          100,
          102,
          86,
          104,
          88,
          97,
          105,
          90,
          99,
          10,
          106,
          98,
          94,
          112,
          117,
          70,
          81,
          103,
          94,
          98,
          131,
          87,
          60,
          112,
          102,
          99,
          116,
          92,
          83,
          97,
          112,
          116,
          102,
          121,
          95,
          93,
          92,
          98,
          85,
          78,
          120,
          92,
          101,
          119,
          101,
          112,
          96,
          114,
          97,
          101,
          56,
          100,
          94,
          94,
          21,
          104,
          63,
          100,
          126,
          106,
          86,
          142,
          108,
          102,
          92,
          83,
          94,
          92,
          103,
          89,
          95,
          103,
          97,
          125,
          91,
          90,
          49,
          98,
          107,
          118,
          94,
          103,
          86,
          83,
          97,
          99,
          104,
          102,
          89,
          98,
          125,
          89,
          94,
          94,
          85,
          34,
          86,
          91,
          108,
          95,
          100,
          90,
          112,
          86,
          124,
          107,
          92,
          121,
          90,
          104,
          92,
          114,
          98,
          95,
          78,
          107,
          92,
          95,
          96,
          118,
          105,
          94,
          52,
          105,
          95,
          100,
          97,
          89,
          102,
          96,
          131,
          89,
          93,
          111,
          75,
          120,
          96,
          148,
          94,
          107,
          32,
          104,
          23,
          111,
          83,
          53,
          95,
          132,
          98,
          108,
          106,
          104,
          90,
          106,
          90,
          97,
          113,
          123,
          115,
          105,
          101,
          102,
          122,
          128,
          82,
          102,
          80,
          94,
          123,
          104,
          85,
          84,
          103,
          95,
          100,
          89,
          116,
          118,
          96,
          114,
          99,
          87,
          92,
          90,
          95,
          96,
          93,
          42,
          92,
          106,
          151,
          101,
          114,
          90,
          115,
          92,
          72,
          139,
          98,
          92,
          111,
          98,
          104,
          95,
          88,
          102,
          30,
          99,
          129,
          87,
          117,
          104,
          111,
          107,
          97,
          98,
          90,
          101,
          72,
          83,
          118,
          44,
          113,
          86,
          108,
          85,
          102,
          151,
          98,
          87,
          120,
          134,
          109,
          85,
          103,
          94,
          97,
          88,
          37,
          112,
          102,
          100,
          96,
          113,
          16,
          119,
          97,
          81,
          98,
          95,
          96,
          107,
          41,
          87,
          101,
          97,
          103,
          90,
          125,
          116,
          99,
          82,
          97,
          28,
          108,
          93,
          74,
          60,
          9,
          21,
          100,
          155,
          55,
          123,
          103,
          93,
          119,
          40,
          120,
          98,
          104,
          91,
          95,
          101,
          105,
          83,
          91,
          83,
          17,
          86,
          124,
          94,
          102,
          118,
          79,
          134,
          126,
          98,
          89,
          58,
          83,
          136,
          98,
          114,
          99,
          130,
          32,
          104,
          142,
          92,
          86,
          106,
          95,
          91,
          89,
          117,
          90,
          117,
          80,
          87,
          101,
          19,
          106,
          54,
          111,
          132,
          97,
          106,
          111,
          124,
          116,
          112,
          144,
          76,
          101,
          92,
          19,
          39,
          102,
          89,
          105,
          101,
          70,
          96,
          85,
          39,
          79,
          73,
          114,
          121,
          28,
          95,
          122,
          23,
          107,
          98,
          108,
          92,
          100,
          97,
          7,
          96,
          100,
          132,
          103,
          121,
          114,
          57,
          95,
          83,
          17,
          105,
          131,
          30,
          112,
          86,
          100,
          14,
          109,
          28,
          64,
          94,
          31,
          99,
          108,
          48,
          84,
          70,
          27,
          45,
          117,
          104,
          108,
          121,
          36,
          30,
          47,
          110,
          92,
          80,
          49,
          73,
          40,
          96,
          106,
          97,
          94,
          78,
          81,
          87,
          91,
          91,
          95,
          126,
          31,
          58,
          41,
          138,
          112,
          114,
          125,
          99,
          82,
          98,
          136,
          97,
          107,
          92,
          39,
          133,
          89,
          124,
          99,
          101,
          97,
          124,
          129,
          121,
          140,
          13,
          108,
          11,
          118,
          121,
          24,
          100,
          101,
          105,
          96,
          47,
          121,
          100,
          149,
          64,
          64,
          114,
          15,
          79,
          90,
          132,
          105,
          97,
          83,
          110,
          39,
          40,
          85,
          26,
          87,
          97,
          118,
          23,
          40,
          98,
          80,
          108,
          79,
          74,
          90,
          137,
          71,
          98,
          70,
          99,
          40,
          104,
          149,
          124,
          144,
          85,
          100,
          94,
          125,
          84,
          117,
          15,
          136,
          76,
          108,
          94,
          90,
          72,
          135,
          12,
          209,
          130,
          82,
          120,
          136,
          112,
          105,
          89,
          85,
          106,
          100,
          107,
          97,
          89,
          109,
          114,
          51,
          85,
          125,
          91,
          153,
          89,
          83
         ],
         "xaxis": "x",
         "y": [
          "Enter the Anime",
          "Dark Forces",
          "The App",
          "The Open House",
          "Kaali Khuhi",
          "Drive",
          "Leyla Everlasting",
          "The Last Days of American Crime",
          "Paradox",
          "Sardar Ka Grandson",
          "Searching for Sheela",
          "The Call",
          "Whipped",
          "All Because of You",
          "Mercy",
          "After the Raid",
          "Ghost Stories",
          "The Last Thing He Wanted",
          "What Happened to Mr. Cha?",
          "Death Note",
          "Hello Privilege. It's Me, Chelsea",
          "Secret Obsession",
          "Sextuplets",
          "The Girl on the Train",
          "Thunder Force",
          "Fatal Affair",
          "Just Say Yes",
          "Seriously Single",
          "The Misadventures of Hedi and Cokeman",
          "5 Star Christmas",
          "After Maria",
          "I Am the Pretty Thing That Lives in the House",
          "Paris Is Us",
          "Porta dos Fundos: The First Temptation of Christ",
          "Rattlesnake",
          "The Players",
          "We Are One",
          "Finding Agnes",
          "IO",
          "Sentinelle",
          "Sol Levante",
          "The Binding",
          "We Can Be Heroes",
          "Christmas Crossfire",
          "Coin Heist",
          "Mrs. Serial Killer",
          "Nobody Sleeps in the Woods Tonight",
          "Take the 10",
          "The Main Event",
          "The Ridiculous 6",
          "Earth and Blood",
          "Fearless",
          "Holiday Rush",
          "The Day of the Lord",
          "Airplane Mode",
          "How It Ends",
          "Love Like the Falling Rain",
          "Rebirth",
          "Squared Love",
          "Cadaver",
          "Clinical",
          "Coffee & Kareem",
          "Dude",
          "Geez & Ann",
          "The Larva Island Movie",
          "#REALITYHIGH",
          "American Factory: A Conversation with the Obamas ",
          "Desperados",
          "Dolly Parton's Christmas on the Square",
          "Father of the Year",
          "Firebrand",
          "Ghost Lab",
          "Girlfriend's Day",
          "Handsome: A Netflix Mystery Movie",
          "Hubie Halloween",
          "Ibiza",
          "Rim of the World",
          "Sandy Wexler",
          "See You Yesterday",
          "Still Laugh-In: The Stars Celebrate",
          "Strip Down, Rise Up",
          "Tall Girl",
          "The Beast",
          "The Week Of",
          "A Christmas Prince: The Royal Wedding",
          "Back to School",
          "Dangerous Lies",
          "Gunjan Saxena: The Kargil Girl",
          "Intuition",
          "The Most Assassinated Woman in the World",
          "Things Heard & Seen",
          "To Each, Her Own",
          "Who Would You Take to a Deserted Island?",
          "XOXO",
          "A Babysitter's Guide to Monster Hunting",
          "A Christmas Prince: The Royal Baby",
          "Despite Everything",
          "Dolly Kitty and Those Twinkling Stars",
          "Freaks: You're One of Us",
          "Game Over, Man!",
          "Guilty",
          "In the Tall Grass",
          "Madame Claude",
          "Naked",
          "Outside the Wire",
          "The Princess Switch: Switched Again",
          "Under the Riccione Sun",
          "A Very Murray Christmas",
          "Been So Long",
          "Dead Kids",
          "Get the Grift",
          "Ghosts of Sugar Land",
          "House Arrest",
          "Kevin Hart's Guide to Black History",
          "Love Wedding Repeat",
          "Mute",
          "Òlòt?ré",
          "Red Dot",
          "Ride or Die",
          "Step Sisters",
          "The Cloverfield Paradox",
          "The Knight Before Christmas",
          "The Legacy of a Whitetail Deer Hunter",
          "The Package",
          "Unicorn Store",
          "Wine Country",
          "Bomb Scared",
          "Brahman Naman",
          "Double Dad",
          "Falling Inn Love",
          "Hold the Dark",
          "Love, Guaranteed",
          "One-Way to Tomorrow",
          "Sarah Cooper: Everything's Fine",
          "The Last Laugh",
          "The Last Paradiso",
          "The Midnight Sky",
          "The Paramedic",
          "The Sleepover",
          "Vampires vs. the Bronx",
          "Why Did You Kill Me?",
          "A Week Away",
          "Caught by a Wave",
          "Christmas Inheritance",
          "Dad Wanted",
          "El Camino Christmas",
          "Eli",
          "Ginny Weds Sunny",
          "Good Sam",
          "Lionheart",
          "Little Evil",
          "One Take",
          "Out of Many, One",
          "Point Blank",
          "Prime Time",
          "The Do-Over",
          "The Holiday Calendar",
          "The Woman in the Window",
          "The Wrong Missy",
          "Velvet Buzzsaw",
          "Yes Day",
          "15-Aug",
          "A California Christmas",
          "A Christmas Prince",
          "All Day and a Night",
          "American Son",
          "Barry",
          "Candy Jar",
          "Choked: Paisa Bolta Hai",
          "Class of '83",
          "Extinction",
          "Happy Anniversary",
          "I Am All Girls",
          "Let It Snow",
          "Mascots",
          "Operation Christmas Drop",
          "Rajma Chawal",
          "Rich in Love",
          "Rising High",
          "Rodney King",
          "Sierra Burgess Is a Loser",
          "Small Crimes",
          "Special Correspondents",
          "TAU",
          "The After Party",
          "The Babysitter: Killer Queen",
          "The Claus Family",
          "The Kissing Booth 2",
          "The Perfect Date",
          "What We Wanted",
          "You've Got This",
          "6 Balloons",
          "A Fall from Grace",
          "Amateur",
          "Army of the Dead",
          "Cam",
          "Earthquake Bird",
          "Frankenstein's Monster's Monster, Frankenstein",
          "Horse Girl",
          "Notes from Dunblane: Lesson from a School Shooting",
          "Maska",
          "The Decline",
          "The Minimalists: Less Is Now",
          "The Polka King",
          "The Prom",
          "True Memoirs of an International Assassin",
          "Ultras",
          "Come Sunday",
          "Forgive Us Our Debts",
          "iBoy",
          "Lovefucked",
          "Juanita",
          "Murder Mystery",
          "Project Power",
          "Rebecca",
          "The Christmas Chronicles: Part Two",
          "The Kissing Booth",
          "The Princess Switch",
          "To All the Boys: P.S. I Still Love You",
          "War Machine",
          "6 Underground",
          "Between Two Ferns: The Movie",
          "Burning Sands",
          "Casting JonBenet",
          "Deidra & Laney Rob a Train",
          "Finding 'Ohana",
          "Holidate",
          "Holiday in the Wild",
          "Hot Girls Wanted",
          "Like Father",
          "Lost Girls",
          "Otherhood",
          "Pee-wee's Big Holiday",
          "Rogue City",
          "Sergio",
          "Stuck Apart",
          "Tersanjung the Movie",
          "The Killer",
          "The Lovebirds",
          "The Most Hated Woman in America",
          "The Perfection",
          "Tribhanga  Tedhi Medhi Crazy",
          "Unknown Origins",
          "Work It",
          "Alien Xmas",
          "Baggio: The Divine Ponytail",
          "Below Zero",
          "Citation",
          "Crazy Awesome Teachers",
          "Have You Ever Seen Fireflies?",
          "High Flying Bird",
          "In the Shadow of the Moon",
          "Lost Bullet",
          "Octonauts & the Caves of Sac Actun",
          "Offering to the Storm",
          "Roxanne Roxanne",
          "Someone Great",
          "Spenser Confidential",
          "The Land of Steady Habits",
          "The Rachel Divide",
          "Voyuer ",
          "Win It All",
          "1922",
          "A Tale of Two Kitchens",
          "Alex Strangelove",
          "Apostle",
          "Benji",
          "Bright",
          "Cargo",
          "Concrete Cowboy",
          "Feel the Beat",
          "Get the Goat",
          "I Am Not an Easy Man",
          "June & Kopi",
          "Music Teacher",
          "Nail Bomber: Manhunt",
          "Notes for My Son",
          "Polar",
          "Porta dos Fundos: The Last Hangover",
          "Sand Castle",
          "Shimmer Lake",
          "Spectral",
          "The Babysitter",
          "The Discovery",
          "The Forest of Love",
          "The Laundromat",
          "The Legend of Cocaine Island",
          "The Outsider",
          "Time to Hunt",
          "To All the Boys: Always and Forever",
          "Travis Scott: Look Mom I Can Fly",
          "Uncorked",
          "Anelka: Misunderstood",
          "Ariana Grande: Excuse Me, I Love You",
          "ARQ",
          "Birders",
          "Como Caído del Cielo",
          "First Match",
          "Fractured",
          "Irreplaceable You",
          "Isi & Ossi",
          "John Was Trying to Contact Aliens",
          "Layla Majnun",
          "Murder to Mercy: The Cyntoia Brown Story",
          "My Own Man",
          "Nappily Ever After",
          "Over the Moon",
          "Street Flow",
          "Strong Island",
          "Sturgill Simpson Presents: Sound & Fury",
          "Take Your Pills",
          "The Heartbreak Club",
          "The Mars Generation",
          "The Occupant",
          "The Willoughbys",
          "Triple Frontier",
          "Two Catalonias",
          "Walk. Ride. Rodeo.",
          "Wheelman",
          "When We First Met",
          "A 3 Minute Hug",
          "All the Bright Places",
          "All Together Now",
          "Altered Carbon: Resleeved",
          "Antoine Griezmann: The Making of a Legend",
          "Canvas ",
          "Chadwick Boseman: Portrait of an Artist",
          "Chopsticks",
          "Da 5 Bloods",
          "Dolly Parton: A MusiCares Tribute",
          "Eurovision Song Contest: The Story of Fire Saga",
          "Gerald's Game",
          "His House",
          "Jingle Jangle: A Christmas Journey",
          "Life Overtakes Me",
          "Lust Stories",
          "Monster",
          "Mowgli: Legend of the Jungle",
          "Nobody Knows I'm Here",
          "Nobody Speak: Trials of the Free Press",
          "Oxygen",
          "Set It Up",
          "The Incredible Jessica James",
          "Tigertail",
          "Tramps",
          "What Did Jack Do?",
          "Bad Trip",
          "Bird Box",
          "Bulbbul",
          "Crazy About Her",
          "Elisa & Marcela",
          "I'll Sleep When I'm Dead",
          "I'm Thinking of Ending Things",
          "It Takes a Lunatic",
          "Milestone",
          "Recovery Boys",
          "ReMastered: Who Killed Jam Master Jay?",
          "Shawn Mendes: In Wonder",
          "Space Sweepers",
          "The American Meme",
          "The Angel",
          "The Crimes That Bind",
          "The Red Sea Diving Resort",
          "What Would Sophia Loren Do?",
          "A Whisker Away",
          "Ajeeb Daastaans",
          "Arlo the Alligator Boy",
          "Bikram: Yogi, Guru, Predator",
          "Blame!",
          "Blue Miracle",
          "CounterPunch ",
          "Crack: Cocaine, Corruption & Conspiracy",
          "Extraction",
          "Giving Voice",
          "Hillbilly Elegy",
          "Hope Frozen: A Quest to Live Twice",
          "Imperial Dreams",
          "Just Another Christmas",
          "Little Miss Sumo",
          "Malcolm & Marie",
          "Michael Bolton's Big, Sexy, Valentine's Day Special",
          "Moxie",
          "Night in Paradise",
          "Paper Lives",
          "Parchis: The Documentary",
          "Tallulah",
          "The Old Guard",
          "Tony Robbins: I Am Not Your Guru",
          "Upstarts",
          "22-Jul",
          "7 años",
          "A Futile and Stupid Gesture",
          "A Life of Speed: The Juan Manuel Fangio Story",
          "A Love Song for Latasha",
          "All in My Family",
          "Always Be My Maybe",
          "Becoming",
          "Long Live Brij Mohan",
          "Calibre",
          "Death to 2020",
          "GIMS: On the Record",
          "Have a Good Trip: Adventures in Psychedelics",
          "Heroin(e) ",
          "Mercury 13",
          "Saving Capitalism",
          "Serious Men",
          "The Boys in the Band",
          "The Boys in the Band: Something Personal",
          "The Life Ahead",
          "The Other Side of the Wind",
          "The Trader",
          "To the Bone",
          "Tony Parker: The Final Shot",
          "AK vs AK",
          "Amanda Knox",
          "Bigflo & Oil: Hip Hop Frenzy",
          "Biggie: I Got a Story to Tell",
          "Cops and Robbers",
          "I Don't Feel at Home in This World Anymore",
          "Laerte-se",
          "Mank",
          "Our Souls at Night",
          "Outlaw King",
          "Pagglait",
          "ReMastered: Who Shot the Sheriff?",
          "Seeing Allred",
          "Spelling the Dream",
          "The Claudia Kishi Club",
          "The Half of It",
          "The Highwaymen",
          "The Lonely Island Presents: The Unauthorized Bash Brothers Experience",
          "The Meyerowitz Stories (New and Selected)",
          "Feminists: What Were They Thinking?",
          "Gaga: Five Foot Two",
          "I'm No Longer Here: A Discussion with Guillermo del Toro and Alfonso Cuaron",
          "Kingdom of Us",
          "Lorena, Light-Footed Woman",
          "Los Tigres del Norte at Folsom Prison",
          "Ma Rainey's Black Bottom",
          "Ma Rainey's Black Bottom: A Legacy Brought to Screen",
          "Operation Varsity Blues: The College Admissions Scandal",
          "Pele",
          "ReMastered: Devil at the Crossroads",
          "ReMastered: The Lion's Share",
          "ReMastered: The Miami Showband Massacre",
          "Resurface",
          "Rocko's Modern Life: Static Cling",
          "Rose Island",
          "The Christmas Chronicles",
          "The Dirt",
          "The Night Comes for Us",
          "13th: A Conversation with Oprah Winfrey & Ava DuVernay",
          "Angela's Christmas",
          "Angela's Christmas Wish",
          "Beats",
          "Circus of Books",
          "Dance Dreams: Hot Chocolate Nutcracker",
          "Derren Brown: Sacrifice",
          "El Pepe: A Supreme Life",
          "End Game",
          "Evelyn",
          "Ferry",
          "Grass Is Greener",
          "Guillermo Vilas: Settling the Score",
          "Joshua: Teenager vs. Superpower",
          "Keith Richards: Under the Influence",
          "Knock Down the House",
          "Loudon Wainwright III: Surviving Twin",
          "My Beautiful Broken Brain",
          "One of Us",
          "Pieces of a Woman",
          "Ram Dass, Going Home",
          "ReMastered: Tricky Dick & the Man in Black",
          "Rooting for Roona",
          "The Devil All the Time",
          "The Dig",
          "The Great Hack",
          "The White Tiger",
          "To All the Boys I've Loved Before",
          "American Murder: The Family Next Door",
          "Audrie & Daisy",
          "First They Killed My Father",
          "Fyre: The Greatest Party That Never Happened",
          "Into the Inferno",
          "LA Originals",
          "Ladies First",
          "Love per Square Foot",
          "Paddleton",
          "Private Life",
          "Seventeen",
          "Sometimes",
          "Soni",
          "The 40-Year-Old Version",
          "The Disciple",
          "The Edge of Democracy",
          "The King",
          "The Road to El Camino: A Breaking Bad Movie",
          "The Siege of Jadotville",
          "Zion ",
          "Dolemite Is My Name",
          "El Camino: A Breaking Bad Movie",
          "Extremis",
          "Father Soldier Son",
          "Get Me Roger Stone",
          "I'm No Longer Here",
          "Mucho Mucho Amor: The Legend of Walter Mercado ",
          "Octonauts & the Great Barrier Reef",
          "Okja",
          "On My Skin",
          "Raat Akeli Hai",
          "ReMastered: Massacre at the Stadium",
          "ReMastered: The Two Killings of Sam Cooke",
          "Secrets of the Saqqara Tomb",
          "Sitara: Let Girls Dream",
          "Sky Ladder: The Art of Cai Guo-Qiang",
          "Team Foxcatcher",
          "The Ballad of Buster Scruggs",
          "The Death and Life of Marsha P. Johnson",
          "The Fundamentals of Caring",
          "The Other One: The Long Strange Trip of Bob Weir",
          "American Factory",
          "Fire in Paradise",
          "Long Shot",
          "Miss Americana",
          "Period. End of Sentence.",
          "Shawn Mendes: Live in Concert",
          "Shirkers",
          "The Black Godfather",
          "The Irishman: In Conversation",
          "The Speed Cubers",
          "They'll Love Me When I'm Dead",
          "Tig",
          "Barbra: The Music, The Mem'ries, The Magic!",
          "Blackpink: Light Up the Sky",
          "City of Joy",
          "Dick Johnson Is Dead",
          "Homecoming: A Film by Beyonce ",
          "Invader Zim: Enter the Florpus",
          "Joan Didion: The Center Will Not Hold",
          "John Mulaney & the Sack Lunch Bunch",
          "Reversing Roe",
          "The White Helmets",
          "Athlete A",
          "Ludo",
          "Quincy",
          "Rolling Thunder Revue: A bob Dylan Story by Martin Scorsere",
          "Tell Me Who I Am",
          "The Bleeding Edge",
          "The Social Dilemma",
          "The Two Popes",
          "What Happened, Miss Simone?",
          "Yeh Ballet",
          "Anima",
          "Beasts of No Nation",
          "Brene Brown: The Call to Courage",
          "Crip Camp: A Disability Revolution",
          "Jim & Andy: The Great Beyond - Featuring a Very Special, Contractually Obligated Mention of Tony Cliffton ",
          "Justin Timberlake + The Tennessee Kids",
          "Road to Roma",
          "Roma",
          "If Anything Happens I Love You",
          "The Irishman",
          "The Trial of the Chicago 7",
          "A Secret Love",
          "Icarus",
          "Marriage Story",
          "The Ivory Game",
          "Struggle: The Life and Lost Art of Szukaiski",
          "Chasing Coral ",
          "My Octopus Teacher",
          "Rising Phoenix",
          "13th",
          "Disclosure: Trans Lives on Screen",
          "Klaus",
          "Seaspiracy",
          "The Three Deaths of Marisela Escobedo",
          "Cuba and the Cameraman ",
          "Dancing with the Birds",
          "Ben Platt: Live from Radio City Music Hall",
          "Taylor Swift: Reputation Stadium Tour",
          "Winter on Fire: Ukraine's Fight for Freedom",
          "Springsteen on Broadway",
          "Emicida: AmarElo - It's All For Yesterday",
          "David Attenborough: A Life on Our Planet"
         ],
         "yaxis": "y"
        }
       ],
       "layout": {
        "legend": {
         "tracegroupgap": 0
        },
        "margin": {
         "t": 60
        },
        "template": {
         "data": {
          "bar": [
           {
            "error_x": {
             "color": "#2a3f5f"
            },
            "error_y": {
             "color": "#2a3f5f"
            },
            "marker": {
             "line": {
              "color": "#E5ECF6",
              "width": 0.5
             }
            },
            "type": "bar"
           }
          ],
          "barpolar": [
           {
            "marker": {
             "line": {
              "color": "#E5ECF6",
              "width": 0.5
             }
            },
            "type": "barpolar"
           }
          ],
          "carpet": [
           {
            "aaxis": {
             "endlinecolor": "#2a3f5f",
             "gridcolor": "white",
             "linecolor": "white",
             "minorgridcolor": "white",
             "startlinecolor": "#2a3f5f"
            },
            "baxis": {
             "endlinecolor": "#2a3f5f",
             "gridcolor": "white",
             "linecolor": "white",
             "minorgridcolor": "white",
             "startlinecolor": "#2a3f5f"
            },
            "type": "carpet"
           }
          ],
          "choropleth": [
           {
            "colorbar": {
             "outlinewidth": 0,
             "ticks": ""
            },
            "type": "choropleth"
           }
          ],
          "contour": [
           {
            "colorbar": {
             "outlinewidth": 0,
             "ticks": ""
            },
            "colorscale": [
             [
              0,
              "#0d0887"
             ],
             [
              0.1111111111111111,
              "#46039f"
             ],
             [
              0.2222222222222222,
              "#7201a8"
             ],
             [
              0.3333333333333333,
              "#9c179e"
             ],
             [
              0.4444444444444444,
              "#bd3786"
             ],
             [
              0.5555555555555556,
              "#d8576b"
             ],
             [
              0.6666666666666666,
              "#ed7953"
             ],
             [
              0.7777777777777778,
              "#fb9f3a"
             ],
             [
              0.8888888888888888,
              "#fdca26"
             ],
             [
              1,
              "#f0f921"
             ]
            ],
            "type": "contour"
           }
          ],
          "contourcarpet": [
           {
            "colorbar": {
             "outlinewidth": 0,
             "ticks": ""
            },
            "type": "contourcarpet"
           }
          ],
          "heatmap": [
           {
            "colorbar": {
             "outlinewidth": 0,
             "ticks": ""
            },
            "colorscale": [
             [
              0,
              "#0d0887"
             ],
             [
              0.1111111111111111,
              "#46039f"
             ],
             [
              0.2222222222222222,
              "#7201a8"
             ],
             [
              0.3333333333333333,
              "#9c179e"
             ],
             [
              0.4444444444444444,
              "#bd3786"
             ],
             [
              0.5555555555555556,
              "#d8576b"
             ],
             [
              0.6666666666666666,
              "#ed7953"
             ],
             [
              0.7777777777777778,
              "#fb9f3a"
             ],
             [
              0.8888888888888888,
              "#fdca26"
             ],
             [
              1,
              "#f0f921"
             ]
            ],
            "type": "heatmap"
           }
          ],
          "heatmapgl": [
           {
            "colorbar": {
             "outlinewidth": 0,
             "ticks": ""
            },
            "colorscale": [
             [
              0,
              "#0d0887"
             ],
             [
              0.1111111111111111,
              "#46039f"
             ],
             [
              0.2222222222222222,
              "#7201a8"
             ],
             [
              0.3333333333333333,
              "#9c179e"
             ],
             [
              0.4444444444444444,
              "#bd3786"
             ],
             [
              0.5555555555555556,
              "#d8576b"
             ],
             [
              0.6666666666666666,
              "#ed7953"
             ],
             [
              0.7777777777777778,
              "#fb9f3a"
             ],
             [
              0.8888888888888888,
              "#fdca26"
             ],
             [
              1,
              "#f0f921"
             ]
            ],
            "type": "heatmapgl"
           }
          ],
          "histogram": [
           {
            "marker": {
             "colorbar": {
              "outlinewidth": 0,
              "ticks": ""
             }
            },
            "type": "histogram"
           }
          ],
          "histogram2d": [
           {
            "colorbar": {
             "outlinewidth": 0,
             "ticks": ""
            },
            "colorscale": [
             [
              0,
              "#0d0887"
             ],
             [
              0.1111111111111111,
              "#46039f"
             ],
             [
              0.2222222222222222,
              "#7201a8"
             ],
             [
              0.3333333333333333,
              "#9c179e"
             ],
             [
              0.4444444444444444,
              "#bd3786"
             ],
             [
              0.5555555555555556,
              "#d8576b"
             ],
             [
              0.6666666666666666,
              "#ed7953"
             ],
             [
              0.7777777777777778,
              "#fb9f3a"
             ],
             [
              0.8888888888888888,
              "#fdca26"
             ],
             [
              1,
              "#f0f921"
             ]
            ],
            "type": "histogram2d"
           }
          ],
          "histogram2dcontour": [
           {
            "colorbar": {
             "outlinewidth": 0,
             "ticks": ""
            },
            "colorscale": [
             [
              0,
              "#0d0887"
             ],
             [
              0.1111111111111111,
              "#46039f"
             ],
             [
              0.2222222222222222,
              "#7201a8"
             ],
             [
              0.3333333333333333,
              "#9c179e"
             ],
             [
              0.4444444444444444,
              "#bd3786"
             ],
             [
              0.5555555555555556,
              "#d8576b"
             ],
             [
              0.6666666666666666,
              "#ed7953"
             ],
             [
              0.7777777777777778,
              "#fb9f3a"
             ],
             [
              0.8888888888888888,
              "#fdca26"
             ],
             [
              1,
              "#f0f921"
             ]
            ],
            "type": "histogram2dcontour"
           }
          ],
          "mesh3d": [
           {
            "colorbar": {
             "outlinewidth": 0,
             "ticks": ""
            },
            "type": "mesh3d"
           }
          ],
          "parcoords": [
           {
            "line": {
             "colorbar": {
              "outlinewidth": 0,
              "ticks": ""
             }
            },
            "type": "parcoords"
           }
          ],
          "pie": [
           {
            "automargin": true,
            "type": "pie"
           }
          ],
          "scatter": [
           {
            "marker": {
             "colorbar": {
              "outlinewidth": 0,
              "ticks": ""
             }
            },
            "type": "scatter"
           }
          ],
          "scatter3d": [
           {
            "line": {
             "colorbar": {
              "outlinewidth": 0,
              "ticks": ""
             }
            },
            "marker": {
             "colorbar": {
              "outlinewidth": 0,
              "ticks": ""
             }
            },
            "type": "scatter3d"
           }
          ],
          "scattercarpet": [
           {
            "marker": {
             "colorbar": {
              "outlinewidth": 0,
              "ticks": ""
             }
            },
            "type": "scattercarpet"
           }
          ],
          "scattergeo": [
           {
            "marker": {
             "colorbar": {
              "outlinewidth": 0,
              "ticks": ""
             }
            },
            "type": "scattergeo"
           }
          ],
          "scattergl": [
           {
            "marker": {
             "colorbar": {
              "outlinewidth": 0,
              "ticks": ""
             }
            },
            "type": "scattergl"
           }
          ],
          "scattermapbox": [
           {
            "marker": {
             "colorbar": {
              "outlinewidth": 0,
              "ticks": ""
             }
            },
            "type": "scattermapbox"
           }
          ],
          "scatterpolar": [
           {
            "marker": {
             "colorbar": {
              "outlinewidth": 0,
              "ticks": ""
             }
            },
            "type": "scatterpolar"
           }
          ],
          "scatterpolargl": [
           {
            "marker": {
             "colorbar": {
              "outlinewidth": 0,
              "ticks": ""
             }
            },
            "type": "scatterpolargl"
           }
          ],
          "scatterternary": [
           {
            "marker": {
             "colorbar": {
              "outlinewidth": 0,
              "ticks": ""
             }
            },
            "type": "scatterternary"
           }
          ],
          "surface": [
           {
            "colorbar": {
             "outlinewidth": 0,
             "ticks": ""
            },
            "colorscale": [
             [
              0,
              "#0d0887"
             ],
             [
              0.1111111111111111,
              "#46039f"
             ],
             [
              0.2222222222222222,
              "#7201a8"
             ],
             [
              0.3333333333333333,
              "#9c179e"
             ],
             [
              0.4444444444444444,
              "#bd3786"
             ],
             [
              0.5555555555555556,
              "#d8576b"
             ],
             [
              0.6666666666666666,
              "#ed7953"
             ],
             [
              0.7777777777777778,
              "#fb9f3a"
             ],
             [
              0.8888888888888888,
              "#fdca26"
             ],
             [
              1,
              "#f0f921"
             ]
            ],
            "type": "surface"
           }
          ],
          "table": [
           {
            "cells": {
             "fill": {
              "color": "#EBF0F8"
             },
             "line": {
              "color": "white"
             }
            },
            "header": {
             "fill": {
              "color": "#C8D4E3"
             },
             "line": {
              "color": "white"
             }
            },
            "type": "table"
           }
          ]
         },
         "layout": {
          "annotationdefaults": {
           "arrowcolor": "#2a3f5f",
           "arrowhead": 0,
           "arrowwidth": 1
          },
          "autotypenumbers": "strict",
          "coloraxis": {
           "colorbar": {
            "outlinewidth": 0,
            "ticks": ""
           }
          },
          "colorscale": {
           "diverging": [
            [
             0,
             "#8e0152"
            ],
            [
             0.1,
             "#c51b7d"
            ],
            [
             0.2,
             "#de77ae"
            ],
            [
             0.3,
             "#f1b6da"
            ],
            [
             0.4,
             "#fde0ef"
            ],
            [
             0.5,
             "#f7f7f7"
            ],
            [
             0.6,
             "#e6f5d0"
            ],
            [
             0.7,
             "#b8e186"
            ],
            [
             0.8,
             "#7fbc41"
            ],
            [
             0.9,
             "#4d9221"
            ],
            [
             1,
             "#276419"
            ]
           ],
           "sequential": [
            [
             0,
             "#0d0887"
            ],
            [
             0.1111111111111111,
             "#46039f"
            ],
            [
             0.2222222222222222,
             "#7201a8"
            ],
            [
             0.3333333333333333,
             "#9c179e"
            ],
            [
             0.4444444444444444,
             "#bd3786"
            ],
            [
             0.5555555555555556,
             "#d8576b"
            ],
            [
             0.6666666666666666,
             "#ed7953"
            ],
            [
             0.7777777777777778,
             "#fb9f3a"
            ],
            [
             0.8888888888888888,
             "#fdca26"
            ],
            [
             1,
             "#f0f921"
            ]
           ],
           "sequentialminus": [
            [
             0,
             "#0d0887"
            ],
            [
             0.1111111111111111,
             "#46039f"
            ],
            [
             0.2222222222222222,
             "#7201a8"
            ],
            [
             0.3333333333333333,
             "#9c179e"
            ],
            [
             0.4444444444444444,
             "#bd3786"
            ],
            [
             0.5555555555555556,
             "#d8576b"
            ],
            [
             0.6666666666666666,
             "#ed7953"
            ],
            [
             0.7777777777777778,
             "#fb9f3a"
            ],
            [
             0.8888888888888888,
             "#fdca26"
            ],
            [
             1,
             "#f0f921"
            ]
           ]
          },
          "colorway": [
           "#636efa",
           "#EF553B",
           "#00cc96",
           "#ab63fa",
           "#FFA15A",
           "#19d3f3",
           "#FF6692",
           "#B6E880",
           "#FF97FF",
           "#FECB52"
          ],
          "font": {
           "color": "#2a3f5f"
          },
          "geo": {
           "bgcolor": "white",
           "lakecolor": "white",
           "landcolor": "#E5ECF6",
           "showlakes": true,
           "showland": true,
           "subunitcolor": "white"
          },
          "hoverlabel": {
           "align": "left"
          },
          "hovermode": "closest",
          "mapbox": {
           "style": "light"
          },
          "paper_bgcolor": "white",
          "plot_bgcolor": "#E5ECF6",
          "polar": {
           "angularaxis": {
            "gridcolor": "white",
            "linecolor": "white",
            "ticks": ""
           },
           "bgcolor": "#E5ECF6",
           "radialaxis": {
            "gridcolor": "white",
            "linecolor": "white",
            "ticks": ""
           }
          },
          "scene": {
           "xaxis": {
            "backgroundcolor": "#E5ECF6",
            "gridcolor": "white",
            "gridwidth": 2,
            "linecolor": "white",
            "showbackground": true,
            "ticks": "",
            "zerolinecolor": "white"
           },
           "yaxis": {
            "backgroundcolor": "#E5ECF6",
            "gridcolor": "white",
            "gridwidth": 2,
            "linecolor": "white",
            "showbackground": true,
            "ticks": "",
            "zerolinecolor": "white"
           },
           "zaxis": {
            "backgroundcolor": "#E5ECF6",
            "gridcolor": "white",
            "gridwidth": 2,
            "linecolor": "white",
            "showbackground": true,
            "ticks": "",
            "zerolinecolor": "white"
           }
          },
          "shapedefaults": {
           "line": {
            "color": "#2a3f5f"
           }
          },
          "ternary": {
           "aaxis": {
            "gridcolor": "white",
            "linecolor": "white",
            "ticks": ""
           },
           "baxis": {
            "gridcolor": "white",
            "linecolor": "white",
            "ticks": ""
           },
           "bgcolor": "#E5ECF6",
           "caxis": {
            "gridcolor": "white",
            "linecolor": "white",
            "ticks": ""
           }
          },
          "title": {
           "x": 0.05
          },
          "xaxis": {
           "automargin": true,
           "gridcolor": "white",
           "linecolor": "white",
           "ticks": "",
           "title": {
            "standoff": 15
           },
           "zerolinecolor": "white",
           "zerolinewidth": 2
          },
          "yaxis": {
           "automargin": true,
           "gridcolor": "white",
           "linecolor": "white",
           "ticks": "",
           "title": {
            "standoff": 15
           },
           "zerolinecolor": "white",
           "zerolinewidth": 2
          }
         }
        },
        "xaxis": {
         "anchor": "y",
         "domain": [
          0,
          1
         ],
         "title": {
          "text": "x"
         }
        },
        "yaxis": {
         "anchor": "x",
         "domain": [
          0,
          1
         ],
         "title": {
          "text": "y"
         }
        }
       }
      },
      "text/html": [
       "<div>                            <div id=\"a046e69f-a986-4a71-bf7b-2c4fda6f6a26\" class=\"plotly-graph-div\" style=\"height:525px; width:100%;\"></div>            <script type=\"text/javascript\">                require([\"plotly\"], function(Plotly) {                    window.PLOTLYENV=window.PLOTLYENV || {};                                    if (document.getElementById(\"a046e69f-a986-4a71-bf7b-2c4fda6f6a26\")) {                    Plotly.newPlot(                        \"a046e69f-a986-4a71-bf7b-2c4fda6f6a26\",                        [{\"hovertemplate\": \"x=%{x}<br>y=%{y}<extra></extra>\", \"legendgroup\": \"\", \"marker\": {\"color\": \"#636efa\", \"symbol\": \"circle\"}, \"mode\": \"markers\", \"name\": \"\", \"orientation\": \"h\", \"showlegend\": false, \"type\": \"scatter\", \"x\": [58, 81, 79, 94, 90, 147, 112, 149, 73, 139, 58, 112, 97, 101, 90, 25, 144, 115, 102, 100, 64, 97, 99, 120, 105, 89, 97, 107, 99, 95, 37, 89, 83, 46, 85, 88, 86, 105, 95, 80, 4, 93, 100, 106, 97, 106, 103, 80, 101, 119, 80, 89, 94, 93, 96, 113, 86, 100, 102, 86, 104, 88, 97, 105, 90, 99, 10, 106, 98, 94, 112, 117, 70, 81, 103, 94, 98, 131, 87, 60, 112, 102, 99, 116, 92, 83, 97, 112, 116, 102, 121, 95, 93, 92, 98, 85, 78, 120, 92, 101, 119, 101, 112, 96, 114, 97, 101, 56, 100, 94, 94, 21, 104, 63, 100, 126, 106, 86, 142, 108, 102, 92, 83, 94, 92, 103, 89, 95, 103, 97, 125, 91, 90, 49, 98, 107, 118, 94, 103, 86, 83, 97, 99, 104, 102, 89, 98, 125, 89, 94, 94, 85, 34, 86, 91, 108, 95, 100, 90, 112, 86, 124, 107, 92, 121, 90, 104, 92, 114, 98, 95, 78, 107, 92, 95, 96, 118, 105, 94, 52, 105, 95, 100, 97, 89, 102, 96, 131, 89, 93, 111, 75, 120, 96, 148, 94, 107, 32, 104, 23, 111, 83, 53, 95, 132, 98, 108, 106, 104, 90, 106, 90, 97, 113, 123, 115, 105, 101, 102, 122, 128, 82, 102, 80, 94, 123, 104, 85, 84, 103, 95, 100, 89, 116, 118, 96, 114, 99, 87, 92, 90, 95, 96, 93, 42, 92, 106, 151, 101, 114, 90, 115, 92, 72, 139, 98, 92, 111, 98, 104, 95, 88, 102, 30, 99, 129, 87, 117, 104, 111, 107, 97, 98, 90, 101, 72, 83, 118, 44, 113, 86, 108, 85, 102, 151, 98, 87, 120, 134, 109, 85, 103, 94, 97, 88, 37, 112, 102, 100, 96, 113, 16, 119, 97, 81, 98, 95, 96, 107, 41, 87, 101, 97, 103, 90, 125, 116, 99, 82, 97, 28, 108, 93, 74, 60, 9, 21, 100, 155, 55, 123, 103, 93, 119, 40, 120, 98, 104, 91, 95, 101, 105, 83, 91, 83, 17, 86, 124, 94, 102, 118, 79, 134, 126, 98, 89, 58, 83, 136, 98, 114, 99, 130, 32, 104, 142, 92, 86, 106, 95, 91, 89, 117, 90, 117, 80, 87, 101, 19, 106, 54, 111, 132, 97, 106, 111, 124, 116, 112, 144, 76, 101, 92, 19, 39, 102, 89, 105, 101, 70, 96, 85, 39, 79, 73, 114, 121, 28, 95, 122, 23, 107, 98, 108, 92, 100, 97, 7, 96, 100, 132, 103, 121, 114, 57, 95, 83, 17, 105, 131, 30, 112, 86, 100, 14, 109, 28, 64, 94, 31, 99, 108, 48, 84, 70, 27, 45, 117, 104, 108, 121, 36, 30, 47, 110, 92, 80, 49, 73, 40, 96, 106, 97, 94, 78, 81, 87, 91, 91, 95, 126, 31, 58, 41, 138, 112, 114, 125, 99, 82, 98, 136, 97, 107, 92, 39, 133, 89, 124, 99, 101, 97, 124, 129, 121, 140, 13, 108, 11, 118, 121, 24, 100, 101, 105, 96, 47, 121, 100, 149, 64, 64, 114, 15, 79, 90, 132, 105, 97, 83, 110, 39, 40, 85, 26, 87, 97, 118, 23, 40, 98, 80, 108, 79, 74, 90, 137, 71, 98, 70, 99, 40, 104, 149, 124, 144, 85, 100, 94, 125, 84, 117, 15, 136, 76, 108, 94, 90, 72, 135, 12, 209, 130, 82, 120, 136, 112, 105, 89, 85, 106, 100, 107, 97, 89, 109, 114, 51, 85, 125, 91, 153, 89, 83], \"xaxis\": \"x\", \"y\": [\"Enter the Anime\", \"Dark Forces\", \"The App\", \"The Open House\", \"Kaali Khuhi\", \"Drive\", \"Leyla Everlasting\", \"The Last Days of American Crime\", \"Paradox\", \"Sardar Ka Grandson\", \"Searching for Sheela\", \"The Call\", \"Whipped\", \"All Because of You\", \"Mercy\", \"After the Raid\", \"Ghost Stories\", \"The Last Thing He Wanted\", \"What Happened to Mr. Cha?\", \"Death Note\", \"Hello Privilege. It's Me, Chelsea\", \"Secret Obsession\", \"Sextuplets\", \"The Girl on the Train\", \"Thunder Force\", \"Fatal Affair\", \"Just Say Yes\", \"Seriously Single\", \"The Misadventures of Hedi and Cokeman\", \"5 Star Christmas\", \"After Maria\", \"I Am the Pretty Thing That Lives in the House\", \"Paris Is Us\", \"Porta dos Fundos: The First Temptation of Christ\", \"Rattlesnake\", \"The Players\", \"We Are One\", \"Finding Agnes\", \"IO\", \"Sentinelle\", \"Sol Levante\", \"The Binding\", \"We Can Be Heroes\", \"Christmas Crossfire\", \"Coin Heist\", \"Mrs. Serial Killer\", \"Nobody Sleeps in the Woods Tonight\", \"Take the 10\", \"The Main Event\", \"The Ridiculous 6\", \"Earth and Blood\", \"Fearless\", \"Holiday Rush\", \"The Day of the Lord\", \"Airplane Mode\", \"How It Ends\", \"Love Like the Falling Rain\", \"Rebirth\", \"Squared Love\", \"Cadaver\", \"Clinical\", \"Coffee & Kareem\", \"Dude\", \"Geez & Ann\", \"The Larva Island Movie\", \"#REALITYHIGH\", \"American Factory: A Conversation with the Obamas \", \"Desperados\", \"Dolly Parton's Christmas on the Square\", \"Father of the Year\", \"Firebrand\", \"Ghost Lab\", \"Girlfriend's Day\", \"Handsome: A Netflix Mystery Movie\", \"Hubie Halloween\", \"Ibiza\", \"Rim of the World\", \"Sandy Wexler\", \"See You Yesterday\", \"Still Laugh-In: The Stars Celebrate\", \"Strip Down, Rise Up\", \"Tall Girl\", \"The Beast\", \"The Week Of\", \"A Christmas Prince: The Royal Wedding\", \"Back to School\", \"Dangerous Lies\", \"Gunjan Saxena: The Kargil Girl\", \"Intuition\", \"The Most Assassinated Woman in the World\", \"Things Heard & Seen\", \"To Each, Her Own\", \"Who Would You Take to a Deserted Island?\", \"XOXO\", \"A Babysitter's Guide to Monster Hunting\", \"A Christmas Prince: The Royal Baby\", \"Despite Everything\", \"Dolly Kitty and Those Twinkling Stars\", \"Freaks: You're One of Us\", \"Game Over, Man!\", \"Guilty\", \"In the Tall Grass\", \"Madame Claude\", \"Naked\", \"Outside the Wire\", \"The Princess Switch: Switched Again\", \"Under the Riccione Sun\", \"A Very Murray Christmas\", \"Been So Long\", \"Dead Kids\", \"Get the Grift\", \"Ghosts of Sugar Land\", \"House Arrest\", \"Kevin Hart's Guide to Black History\", \"Love Wedding Repeat\", \"Mute\", \"\\u00d2l\\u00f2t?r\\u00e9\", \"Red Dot\", \"Ride or Die\", \"Step Sisters\", \"The Cloverfield Paradox\", \"The Knight Before Christmas\", \"The Legacy of a Whitetail Deer Hunter\", \"The Package\", \"Unicorn Store\", \"Wine Country\", \"Bomb Scared\", \"Brahman Naman\", \"Double Dad\", \"Falling Inn Love\", \"Hold the Dark\", \"Love, Guaranteed\", \"One-Way to Tomorrow\", \"Sarah Cooper: Everything's Fine\", \"The Last Laugh\", \"The Last Paradiso\", \"The Midnight Sky\", \"The Paramedic\", \"The Sleepover\", \"Vampires vs. the Bronx\", \"Why Did You Kill Me?\", \"A Week Away\", \"Caught by a Wave\", \"Christmas Inheritance\", \"Dad Wanted\", \"El Camino Christmas\", \"Eli\", \"Ginny Weds Sunny\", \"Good Sam\", \"Lionheart\", \"Little Evil\", \"One Take\", \"Out of Many, One\", \"Point Blank\", \"Prime Time\", \"The Do-Over\", \"The Holiday Calendar\", \"The Woman in the Window\", \"The Wrong Missy\", \"Velvet Buzzsaw\", \"Yes Day\", \"15-Aug\", \"A California Christmas\", \"A Christmas Prince\", \"All Day and a Night\", \"American Son\", \"Barry\", \"Candy Jar\", \"Choked: Paisa Bolta Hai\", \"Class of '83\", \"Extinction\", \"Happy Anniversary\", \"I Am All Girls\", \"Let It Snow\", \"Mascots\", \"Operation Christmas Drop\", \"Rajma Chawal\", \"Rich in Love\", \"Rising High\", \"Rodney King\", \"Sierra Burgess Is a Loser\", \"Small Crimes\", \"Special Correspondents\", \"TAU\", \"The After Party\", \"The Babysitter: Killer Queen\", \"The Claus Family\", \"The Kissing Booth 2\", \"The Perfect Date\", \"What We Wanted\", \"You've Got This\", \"6 Balloons\", \"A Fall from Grace\", \"Amateur\", \"Army of the Dead\", \"Cam\", \"Earthquake Bird\", \"Frankenstein's Monster's Monster, Frankenstein\", \"Horse Girl\", \"Notes from Dunblane: Lesson from a School Shooting\", \"Maska\", \"The Decline\", \"The Minimalists: Less Is Now\", \"The Polka King\", \"The Prom\", \"True Memoirs of an International Assassin\", \"Ultras\", \"Come Sunday\", \"Forgive Us Our Debts\", \"iBoy\", \"Lovefucked\", \"Juanita\", \"Murder Mystery\", \"Project Power\", \"Rebecca\", \"The Christmas Chronicles: Part Two\", \"The Kissing Booth\", \"The Princess Switch\", \"To All the Boys: P.S. I Still Love You\", \"War Machine\", \"6 Underground\", \"Between Two Ferns: The Movie\", \"Burning Sands\", \"Casting JonBenet\", \"Deidra & Laney Rob a Train\", \"Finding 'Ohana\", \"Holidate\", \"Holiday in the Wild\", \"Hot Girls Wanted\", \"Like Father\", \"Lost Girls\", \"Otherhood\", \"Pee-wee's Big Holiday\", \"Rogue City\", \"Sergio\", \"Stuck Apart\", \"Tersanjung the Movie\", \"The Killer\", \"The Lovebirds\", \"The Most Hated Woman in America\", \"The Perfection\", \"Tribhanga \\u0096 Tedhi Medhi Crazy\", \"Unknown Origins\", \"Work It\", \"Alien Xmas\", \"Baggio: The Divine Ponytail\", \"Below Zero\", \"Citation\", \"Crazy Awesome Teachers\", \"Have You Ever Seen Fireflies?\", \"High Flying Bird\", \"In the Shadow of the Moon\", \"Lost Bullet\", \"Octonauts & the Caves of Sac Actun\", \"Offering to the Storm\", \"Roxanne Roxanne\", \"Someone Great\", \"Spenser Confidential\", \"The Land of Steady Habits\", \"The Rachel Divide\", \"Voyuer \", \"Win It All\", \"1922\", \"A Tale of Two Kitchens\", \"Alex Strangelove\", \"Apostle\", \"Benji\", \"Bright\", \"Cargo\", \"Concrete Cowboy\", \"Feel the Beat\", \"Get the Goat\", \"I Am Not an Easy Man\", \"June & Kopi\", \"Music Teacher\", \"Nail Bomber: Manhunt\", \"Notes for My Son\", \"Polar\", \"Porta dos Fundos: The Last Hangover\", \"Sand Castle\", \"Shimmer Lake\", \"Spectral\", \"The Babysitter\", \"The Discovery\", \"The Forest of Love\", \"The Laundromat\", \"The Legend of Cocaine Island\", \"The Outsider\", \"Time to Hunt\", \"To All the Boys: Always and Forever\", \"Travis Scott: Look Mom I Can Fly\", \"Uncorked\", \"Anelka: Misunderstood\", \"Ariana Grande: Excuse Me, I Love You\", \"ARQ\", \"Birders\", \"Como Ca\\u00eddo del Cielo\", \"First Match\", \"Fractured\", \"Irreplaceable You\", \"Isi & Ossi\", \"John Was Trying to Contact Aliens\", \"Layla Majnun\", \"Murder to Mercy: The Cyntoia Brown Story\", \"My Own Man\", \"Nappily Ever After\", \"Over the Moon\", \"Street Flow\", \"Strong Island\", \"Sturgill Simpson Presents: Sound & Fury\", \"Take Your Pills\", \"The Heartbreak Club\", \"The Mars Generation\", \"The Occupant\", \"The Willoughbys\", \"Triple Frontier\", \"Two Catalonias\", \"Walk. Ride. Rodeo.\", \"Wheelman\", \"When We First Met\", \"A 3 Minute Hug\", \"All the Bright Places\", \"All Together Now\", \"Altered Carbon: Resleeved\", \"Antoine Griezmann: The Making of a Legend\", \"Canvas \", \"Chadwick Boseman: Portrait of an Artist\", \"Chopsticks\", \"Da 5 Bloods\", \"Dolly Parton: A MusiCares Tribute\", \"Eurovision Song Contest: The Story of Fire Saga\", \"Gerald's Game\", \"His House\", \"Jingle Jangle: A Christmas Journey\", \"Life Overtakes Me\", \"Lust Stories\", \"Monster\", \"Mowgli: Legend of the Jungle\", \"Nobody Knows I'm Here\", \"Nobody Speak: Trials of the Free Press\", \"Oxygen\", \"Set It Up\", \"The Incredible Jessica James\", \"Tigertail\", \"Tramps\", \"What Did Jack Do?\", \"Bad Trip\", \"Bird Box\", \"Bulbbul\", \"Crazy About Her\", \"Elisa & Marcela\", \"I'll Sleep When I'm Dead\", \"I'm Thinking of Ending Things\", \"It Takes a Lunatic\", \"Milestone\", \"Recovery Boys\", \"ReMastered: Who Killed Jam Master Jay?\", \"Shawn Mendes: In Wonder\", \"Space Sweepers\", \"The American Meme\", \"The Angel\", \"The Crimes That Bind\", \"The Red Sea Diving Resort\", \"What Would Sophia Loren Do?\", \"A Whisker Away\", \"Ajeeb Daastaans\", \"Arlo the Alligator Boy\", \"Bikram: Yogi, Guru, Predator\", \"Blame!\", \"Blue Miracle\", \"CounterPunch \", \"Crack: Cocaine, Corruption & Conspiracy\", \"Extraction\", \"Giving Voice\", \"Hillbilly Elegy\", \"Hope Frozen: A Quest to Live Twice\", \"Imperial Dreams\", \"Just Another Christmas\", \"Little Miss Sumo\", \"Malcolm & Marie\", \"Michael Bolton's Big, Sexy, Valentine's Day Special\", \"Moxie\", \"Night in Paradise\", \"Paper Lives\", \"Parchis: The Documentary\", \"Tallulah\", \"The Old Guard\", \"Tony Robbins: I Am Not Your Guru\", \"Upstarts\", \"22-Jul\", \"7 a\\u00f1os\", \"A Futile and Stupid Gesture\", \"A Life of Speed: The Juan Manuel Fangio Story\", \"A Love Song for Latasha\", \"All in My Family\", \"Always Be My Maybe\", \"Becoming\", \"Long Live Brij Mohan\", \"Calibre\", \"Death to 2020\", \"GIMS: On the Record\", \"Have a Good Trip: Adventures in Psychedelics\", \"Heroin(e) \", \"Mercury 13\", \"Saving Capitalism\", \"Serious Men\", \"The Boys in the Band\", \"The Boys in the Band: Something Personal\", \"The Life Ahead\", \"The Other Side of the Wind\", \"The Trader\", \"To the Bone\", \"Tony Parker: The Final Shot\", \"AK vs AK\", \"Amanda Knox\", \"Bigflo & Oil: Hip Hop Frenzy\", \"Biggie: I Got a Story to Tell\", \"Cops and Robbers\", \"I Don't Feel at Home in This World Anymore\", \"Laerte-se\", \"Mank\", \"Our Souls at Night\", \"Outlaw King\", \"Pagglait\", \"ReMastered: Who Shot the Sheriff?\", \"Seeing Allred\", \"Spelling the Dream\", \"The Claudia Kishi Club\", \"The Half of It\", \"The Highwaymen\", \"The Lonely Island Presents: The Unauthorized Bash Brothers Experience\", \"The Meyerowitz Stories (New and Selected)\", \"Feminists: What Were They Thinking?\", \"Gaga: Five Foot Two\", \"I'm No Longer Here: A Discussion with Guillermo del Toro and Alfonso Cuaron\", \"Kingdom of Us\", \"Lorena, Light-Footed Woman\", \"Los Tigres del Norte at Folsom Prison\", \"Ma Rainey's Black Bottom\", \"Ma Rainey's Black Bottom: A Legacy Brought to Screen\", \"Operation Varsity Blues: The College Admissions Scandal\", \"Pele\", \"ReMastered: Devil at the Crossroads\", \"ReMastered: The Lion's Share\", \"ReMastered: The Miami Showband Massacre\", \"Resurface\", \"Rocko's Modern Life: Static Cling\", \"Rose Island\", \"The Christmas Chronicles\", \"The Dirt\", \"The Night Comes for Us\", \"13th: A Conversation with Oprah Winfrey & Ava DuVernay\", \"Angela's Christmas\", \"Angela's Christmas Wish\", \"Beats\", \"Circus of Books\", \"Dance Dreams: Hot Chocolate Nutcracker\", \"Derren Brown: Sacrifice\", \"El Pepe: A Supreme Life\", \"End Game\", \"Evelyn\", \"Ferry\", \"Grass Is Greener\", \"Guillermo Vilas: Settling the Score\", \"Joshua: Teenager vs. Superpower\", \"Keith Richards: Under the Influence\", \"Knock Down the House\", \"Loudon Wainwright III: Surviving Twin\", \"My Beautiful Broken Brain\", \"One of Us\", \"Pieces of a Woman\", \"Ram Dass, Going Home\", \"ReMastered: Tricky Dick & the Man in Black\", \"Rooting for Roona\", \"The Devil All the Time\", \"The Dig\", \"The Great Hack\", \"The White Tiger\", \"To All the Boys I've Loved Before\", \"American Murder: The Family Next Door\", \"Audrie & Daisy\", \"First They Killed My Father\", \"Fyre: The Greatest Party That Never Happened\", \"Into the Inferno\", \"LA Originals\", \"Ladies First\", \"Love per Square Foot\", \"Paddleton\", \"Private Life\", \"Seventeen\", \"Sometimes\", \"Soni\", \"The 40-Year-Old Version\", \"The Disciple\", \"The Edge of Democracy\", \"The King\", \"The Road to El Camino: A Breaking Bad Movie\", \"The Siege of Jadotville\", \"Zion \", \"Dolemite Is My Name\", \"El Camino: A Breaking Bad Movie\", \"Extremis\", \"Father Soldier Son\", \"Get Me Roger Stone\", \"I'm No Longer Here\", \"Mucho Mucho Amor: The Legend of Walter Mercado \", \"Octonauts & the Great Barrier Reef\", \"Okja\", \"On My Skin\", \"Raat Akeli Hai\", \"ReMastered: Massacre at the Stadium\", \"ReMastered: The Two Killings of Sam Cooke\", \"Secrets of the Saqqara Tomb\", \"Sitara: Let Girls Dream\", \"Sky Ladder: The Art of Cai Guo-Qiang\", \"Team Foxcatcher\", \"The Ballad of Buster Scruggs\", \"The Death and Life of Marsha P. Johnson\", \"The Fundamentals of Caring\", \"The Other One: The Long Strange Trip of Bob Weir\", \"American Factory\", \"Fire in Paradise\", \"Long Shot\", \"Miss Americana\", \"Period. End of Sentence.\", \"Shawn Mendes: Live in Concert\", \"Shirkers\", \"The Black Godfather\", \"The Irishman: In Conversation\", \"The Speed Cubers\", \"They'll Love Me When I'm Dead\", \"Tig\", \"Barbra: The Music, The Mem'ries, The Magic!\", \"Blackpink: Light Up the Sky\", \"City of Joy\", \"Dick Johnson Is Dead\", \"Homecoming: A Film by Beyonce \", \"Invader Zim: Enter the Florpus\", \"Joan Didion: The Center Will Not Hold\", \"John Mulaney & the Sack Lunch Bunch\", \"Reversing Roe\", \"The White Helmets\", \"Athlete A\", \"Ludo\", \"Quincy\", \"Rolling Thunder Revue: A bob Dylan Story by Martin Scorsere\", \"Tell Me Who I Am\", \"The Bleeding Edge\", \"The Social Dilemma\", \"The Two Popes\", \"What Happened, Miss Simone?\", \"Yeh Ballet\", \"Anima\", \"Beasts of No Nation\", \"Brene Brown: The Call to Courage\", \"Crip Camp: A Disability Revolution\", \"Jim & Andy: The Great Beyond - Featuring a Very Special, Contractually Obligated Mention of Tony Cliffton \", \"Justin Timberlake + The Tennessee Kids\", \"Road to Roma\", \"Roma\", \"If Anything Happens I Love You\", \"The Irishman\", \"The Trial of the Chicago 7\", \"A Secret Love\", \"Icarus\", \"Marriage Story\", \"The Ivory Game\", \"Struggle: The Life and Lost Art of Szukaiski\", \"Chasing Coral \", \"My Octopus Teacher\", \"Rising Phoenix\", \"13th\", \"Disclosure: Trans Lives on Screen\", \"Klaus\", \"Seaspiracy\", \"The Three Deaths of Marisela Escobedo\", \"Cuba and the Cameraman \", \"Dancing with the Birds\", \"Ben Platt: Live from Radio City Music Hall\", \"Taylor Swift: Reputation Stadium Tour\", \"Winter on Fire: Ukraine's Fight for Freedom\", \"Springsteen on Broadway\", \"Emicida: AmarElo - It's All For Yesterday\", \"David Attenborough: A Life on Our Planet\"], \"yaxis\": \"y\"}],                        {\"legend\": {\"tracegroupgap\": 0}, \"margin\": {\"t\": 60}, \"template\": {\"data\": {\"bar\": [{\"error_x\": {\"color\": \"#2a3f5f\"}, \"error_y\": {\"color\": \"#2a3f5f\"}, \"marker\": {\"line\": {\"color\": \"#E5ECF6\", \"width\": 0.5}}, \"type\": \"bar\"}], \"barpolar\": [{\"marker\": {\"line\": {\"color\": \"#E5ECF6\", \"width\": 0.5}}, \"type\": \"barpolar\"}], \"carpet\": [{\"aaxis\": {\"endlinecolor\": \"#2a3f5f\", \"gridcolor\": \"white\", \"linecolor\": \"white\", \"minorgridcolor\": \"white\", \"startlinecolor\": \"#2a3f5f\"}, \"baxis\": {\"endlinecolor\": \"#2a3f5f\", \"gridcolor\": \"white\", \"linecolor\": \"white\", \"minorgridcolor\": \"white\", \"startlinecolor\": \"#2a3f5f\"}, \"type\": \"carpet\"}], \"choropleth\": [{\"colorbar\": {\"outlinewidth\": 0, \"ticks\": \"\"}, \"type\": \"choropleth\"}], \"contour\": [{\"colorbar\": {\"outlinewidth\": 0, \"ticks\": \"\"}, \"colorscale\": [[0.0, \"#0d0887\"], [0.1111111111111111, \"#46039f\"], [0.2222222222222222, \"#7201a8\"], [0.3333333333333333, \"#9c179e\"], [0.4444444444444444, \"#bd3786\"], [0.5555555555555556, \"#d8576b\"], [0.6666666666666666, \"#ed7953\"], [0.7777777777777778, \"#fb9f3a\"], [0.8888888888888888, \"#fdca26\"], [1.0, \"#f0f921\"]], \"type\": \"contour\"}], \"contourcarpet\": [{\"colorbar\": {\"outlinewidth\": 0, \"ticks\": \"\"}, \"type\": \"contourcarpet\"}], \"heatmap\": [{\"colorbar\": {\"outlinewidth\": 0, \"ticks\": \"\"}, \"colorscale\": [[0.0, \"#0d0887\"], [0.1111111111111111, \"#46039f\"], [0.2222222222222222, \"#7201a8\"], [0.3333333333333333, \"#9c179e\"], [0.4444444444444444, \"#bd3786\"], [0.5555555555555556, \"#d8576b\"], [0.6666666666666666, \"#ed7953\"], [0.7777777777777778, \"#fb9f3a\"], [0.8888888888888888, \"#fdca26\"], [1.0, \"#f0f921\"]], \"type\": \"heatmap\"}], \"heatmapgl\": [{\"colorbar\": {\"outlinewidth\": 0, \"ticks\": \"\"}, \"colorscale\": [[0.0, \"#0d0887\"], [0.1111111111111111, \"#46039f\"], [0.2222222222222222, \"#7201a8\"], [0.3333333333333333, \"#9c179e\"], [0.4444444444444444, \"#bd3786\"], [0.5555555555555556, \"#d8576b\"], [0.6666666666666666, \"#ed7953\"], [0.7777777777777778, \"#fb9f3a\"], [0.8888888888888888, \"#fdca26\"], [1.0, \"#f0f921\"]], \"type\": \"heatmapgl\"}], \"histogram\": [{\"marker\": {\"colorbar\": {\"outlinewidth\": 0, \"ticks\": \"\"}}, \"type\": \"histogram\"}], \"histogram2d\": [{\"colorbar\": {\"outlinewidth\": 0, \"ticks\": \"\"}, \"colorscale\": [[0.0, \"#0d0887\"], [0.1111111111111111, \"#46039f\"], [0.2222222222222222, \"#7201a8\"], [0.3333333333333333, \"#9c179e\"], [0.4444444444444444, \"#bd3786\"], [0.5555555555555556, \"#d8576b\"], [0.6666666666666666, \"#ed7953\"], [0.7777777777777778, \"#fb9f3a\"], [0.8888888888888888, \"#fdca26\"], [1.0, \"#f0f921\"]], \"type\": \"histogram2d\"}], \"histogram2dcontour\": [{\"colorbar\": {\"outlinewidth\": 0, \"ticks\": \"\"}, \"colorscale\": [[0.0, \"#0d0887\"], [0.1111111111111111, \"#46039f\"], [0.2222222222222222, \"#7201a8\"], [0.3333333333333333, \"#9c179e\"], [0.4444444444444444, \"#bd3786\"], [0.5555555555555556, \"#d8576b\"], [0.6666666666666666, \"#ed7953\"], [0.7777777777777778, \"#fb9f3a\"], [0.8888888888888888, \"#fdca26\"], [1.0, \"#f0f921\"]], \"type\": \"histogram2dcontour\"}], \"mesh3d\": [{\"colorbar\": {\"outlinewidth\": 0, \"ticks\": \"\"}, \"type\": \"mesh3d\"}], \"parcoords\": [{\"line\": {\"colorbar\": {\"outlinewidth\": 0, \"ticks\": \"\"}}, \"type\": \"parcoords\"}], \"pie\": [{\"automargin\": true, \"type\": \"pie\"}], \"scatter\": [{\"marker\": {\"colorbar\": {\"outlinewidth\": 0, \"ticks\": \"\"}}, \"type\": \"scatter\"}], \"scatter3d\": [{\"line\": {\"colorbar\": {\"outlinewidth\": 0, \"ticks\": \"\"}}, \"marker\": {\"colorbar\": {\"outlinewidth\": 0, \"ticks\": \"\"}}, \"type\": \"scatter3d\"}], \"scattercarpet\": [{\"marker\": {\"colorbar\": {\"outlinewidth\": 0, \"ticks\": \"\"}}, \"type\": \"scattercarpet\"}], \"scattergeo\": [{\"marker\": {\"colorbar\": {\"outlinewidth\": 0, \"ticks\": \"\"}}, \"type\": \"scattergeo\"}], \"scattergl\": [{\"marker\": {\"colorbar\": {\"outlinewidth\": 0, \"ticks\": \"\"}}, \"type\": \"scattergl\"}], \"scattermapbox\": [{\"marker\": {\"colorbar\": {\"outlinewidth\": 0, \"ticks\": \"\"}}, \"type\": \"scattermapbox\"}], \"scatterpolar\": [{\"marker\": {\"colorbar\": {\"outlinewidth\": 0, \"ticks\": \"\"}}, \"type\": \"scatterpolar\"}], \"scatterpolargl\": [{\"marker\": {\"colorbar\": {\"outlinewidth\": 0, \"ticks\": \"\"}}, \"type\": \"scatterpolargl\"}], \"scatterternary\": [{\"marker\": {\"colorbar\": {\"outlinewidth\": 0, \"ticks\": \"\"}}, \"type\": \"scatterternary\"}], \"surface\": [{\"colorbar\": {\"outlinewidth\": 0, \"ticks\": \"\"}, \"colorscale\": [[0.0, \"#0d0887\"], [0.1111111111111111, \"#46039f\"], [0.2222222222222222, \"#7201a8\"], [0.3333333333333333, \"#9c179e\"], [0.4444444444444444, \"#bd3786\"], [0.5555555555555556, \"#d8576b\"], [0.6666666666666666, \"#ed7953\"], [0.7777777777777778, \"#fb9f3a\"], [0.8888888888888888, \"#fdca26\"], [1.0, \"#f0f921\"]], \"type\": \"surface\"}], \"table\": [{\"cells\": {\"fill\": {\"color\": \"#EBF0F8\"}, \"line\": {\"color\": \"white\"}}, \"header\": {\"fill\": {\"color\": \"#C8D4E3\"}, \"line\": {\"color\": \"white\"}}, \"type\": \"table\"}]}, \"layout\": {\"annotationdefaults\": {\"arrowcolor\": \"#2a3f5f\", \"arrowhead\": 0, \"arrowwidth\": 1}, \"autotypenumbers\": \"strict\", \"coloraxis\": {\"colorbar\": {\"outlinewidth\": 0, \"ticks\": \"\"}}, \"colorscale\": {\"diverging\": [[0, \"#8e0152\"], [0.1, \"#c51b7d\"], [0.2, \"#de77ae\"], [0.3, \"#f1b6da\"], [0.4, \"#fde0ef\"], [0.5, \"#f7f7f7\"], [0.6, \"#e6f5d0\"], [0.7, \"#b8e186\"], [0.8, \"#7fbc41\"], [0.9, \"#4d9221\"], [1, \"#276419\"]], \"sequential\": [[0.0, \"#0d0887\"], [0.1111111111111111, \"#46039f\"], [0.2222222222222222, \"#7201a8\"], [0.3333333333333333, \"#9c179e\"], [0.4444444444444444, \"#bd3786\"], [0.5555555555555556, \"#d8576b\"], [0.6666666666666666, \"#ed7953\"], [0.7777777777777778, \"#fb9f3a\"], [0.8888888888888888, \"#fdca26\"], [1.0, \"#f0f921\"]], \"sequentialminus\": [[0.0, \"#0d0887\"], [0.1111111111111111, \"#46039f\"], [0.2222222222222222, \"#7201a8\"], [0.3333333333333333, \"#9c179e\"], [0.4444444444444444, \"#bd3786\"], [0.5555555555555556, \"#d8576b\"], [0.6666666666666666, \"#ed7953\"], [0.7777777777777778, \"#fb9f3a\"], [0.8888888888888888, \"#fdca26\"], [1.0, \"#f0f921\"]]}, \"colorway\": [\"#636efa\", \"#EF553B\", \"#00cc96\", \"#ab63fa\", \"#FFA15A\", \"#19d3f3\", \"#FF6692\", \"#B6E880\", \"#FF97FF\", \"#FECB52\"], \"font\": {\"color\": \"#2a3f5f\"}, \"geo\": {\"bgcolor\": \"white\", \"lakecolor\": \"white\", \"landcolor\": \"#E5ECF6\", \"showlakes\": true, \"showland\": true, \"subunitcolor\": \"white\"}, \"hoverlabel\": {\"align\": \"left\"}, \"hovermode\": \"closest\", \"mapbox\": {\"style\": \"light\"}, \"paper_bgcolor\": \"white\", \"plot_bgcolor\": \"#E5ECF6\", \"polar\": {\"angularaxis\": {\"gridcolor\": \"white\", \"linecolor\": \"white\", \"ticks\": \"\"}, \"bgcolor\": \"#E5ECF6\", \"radialaxis\": {\"gridcolor\": \"white\", \"linecolor\": \"white\", \"ticks\": \"\"}}, \"scene\": {\"xaxis\": {\"backgroundcolor\": \"#E5ECF6\", \"gridcolor\": \"white\", \"gridwidth\": 2, \"linecolor\": \"white\", \"showbackground\": true, \"ticks\": \"\", \"zerolinecolor\": \"white\"}, \"yaxis\": {\"backgroundcolor\": \"#E5ECF6\", \"gridcolor\": \"white\", \"gridwidth\": 2, \"linecolor\": \"white\", \"showbackground\": true, \"ticks\": \"\", \"zerolinecolor\": \"white\"}, \"zaxis\": {\"backgroundcolor\": \"#E5ECF6\", \"gridcolor\": \"white\", \"gridwidth\": 2, \"linecolor\": \"white\", \"showbackground\": true, \"ticks\": \"\", \"zerolinecolor\": \"white\"}}, \"shapedefaults\": {\"line\": {\"color\": \"#2a3f5f\"}}, \"ternary\": {\"aaxis\": {\"gridcolor\": \"white\", \"linecolor\": \"white\", \"ticks\": \"\"}, \"baxis\": {\"gridcolor\": \"white\", \"linecolor\": \"white\", \"ticks\": \"\"}, \"bgcolor\": \"#E5ECF6\", \"caxis\": {\"gridcolor\": \"white\", \"linecolor\": \"white\", \"ticks\": \"\"}}, \"title\": {\"x\": 0.05}, \"xaxis\": {\"automargin\": true, \"gridcolor\": \"white\", \"linecolor\": \"white\", \"ticks\": \"\", \"title\": {\"standoff\": 15}, \"zerolinecolor\": \"white\", \"zerolinewidth\": 2}, \"yaxis\": {\"automargin\": true, \"gridcolor\": \"white\", \"linecolor\": \"white\", \"ticks\": \"\", \"title\": {\"standoff\": 15}, \"zerolinecolor\": \"white\", \"zerolinewidth\": 2}}}, \"xaxis\": {\"anchor\": \"y\", \"domain\": [0.0, 1.0], \"title\": {\"text\": \"x\"}}, \"yaxis\": {\"anchor\": \"x\", \"domain\": [0.0, 1.0], \"title\": {\"text\": \"y\"}}},                        {\"responsive\": true}                    ).then(function(){\n",
       "                            \n",
       "var gd = document.getElementById('a046e69f-a986-4a71-bf7b-2c4fda6f6a26');\n",
       "var x = new MutationObserver(function (mutations, observer) {{\n",
       "        var display = window.getComputedStyle(gd).display;\n",
       "        if (!display || display === 'none') {{\n",
       "            console.log([gd, 'removed!']);\n",
       "            Plotly.purge(gd);\n",
       "            observer.disconnect();\n",
       "        }}\n",
       "}});\n",
       "\n",
       "// Listen for the removal of the full notebook cells\n",
       "var notebookContainer = gd.closest('#notebook-container');\n",
       "if (notebookContainer) {{\n",
       "    x.observe(notebookContainer, {childList: true});\n",
       "}}\n",
       "\n",
       "// Listen for the clearing of the current output cell\n",
       "var outputEl = gd.closest('.output');\n",
       "if (outputEl) {{\n",
       "    x.observe(outputEl, {childList: true});\n",
       "}}\n",
       "\n",
       "                        })                };                });            </script>        </div>"
      ]
     },
     "metadata": {},
     "output_type": "display_data"
    }
   ],
   "source": [
    "fig=px.scatter(x=netflix_orginal_df['Runtime'], y=netflix_orginal_df['Title'])\n",
    "fig.show()"
   ]
  },
  {
   "cell_type": "code",
   "execution_count": null,
   "metadata": {},
   "outputs": [],
   "source": []
  }
 ],
 "metadata": {
  "kernelspec": {
   "display_name": "Python 3",
   "language": "python",
   "name": "python3"
  },
  "language_info": {
   "codemirror_mode": {
    "name": "ipython",
    "version": 3
   },
   "file_extension": ".py",
   "mimetype": "text/x-python",
   "name": "python",
   "nbconvert_exporter": "python",
   "pygments_lexer": "ipython3",
   "version": "3.8.5"
  }
 },
 "nbformat": 4,
 "nbformat_minor": 4
}
